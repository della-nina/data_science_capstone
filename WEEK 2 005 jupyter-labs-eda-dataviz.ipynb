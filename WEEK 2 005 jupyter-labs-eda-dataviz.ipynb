{
  "cells": [
    {
      "cell_type": "markdown",
      "metadata": {
        "tags": []
      },
      "source": [
        "<p style=\"text-align:center\">\n",
        "    <a href=\"https://skills.network/?utm_medium=Exinfluencer&utm_source=Exinfluencer&utm_content=000026UJ&utm_term=10006555&utm_id=NA-SkillsNetwork-Channel-SkillsNetworkCoursesIBMDS0321ENSkillsNetwork865-2023-01-01\">\n",
        "    <img src=\"https://cf-courses-data.s3.us.cloud-object-storage.appdomain.cloud/assets/logos/SN_web_lightmode.png\" width=\"200\" alt=\"Skills Network Logo\"  />\n",
        "    </a>\n",
        "</p>\n"
      ],
      "id": "4df3726d"
    },
    {
      "cell_type": "markdown",
      "metadata": {
        "tags": []
      },
      "source": [
        "# **SpaceX  Falcon 9 First Stage Landing Prediction**\n"
      ],
      "id": "07ac7eaa"
    },
    {
      "cell_type": "markdown",
      "metadata": {
        "tags": []
      },
      "source": [
        " ## Assignment: Exploring and Preparing Data\n"
      ],
      "id": "48b0cc13"
    },
    {
      "cell_type": "markdown",
      "metadata": {
        "tags": []
      },
      "source": [
        "Estimated time needed: **70** minutes\n"
      ],
      "id": "a446afca"
    },
    {
      "cell_type": "markdown",
      "metadata": {
        "tags": []
      },
      "source": [
        "In this assignment, we will predict if the Falcon 9 first stage will land successfully. SpaceX advertises Falcon 9 rocket launches on its website with a cost of 62 million dollars; other providers cost upward of 165 million dollars each, much of the savings is due to the fact that SpaceX can reuse the first stage. \n",
        "\n",
        "In this lab, you will perform Exploratory Data Analysis and Feature Engineering.\n"
      ],
      "id": "6ace91c3"
    },
    {
      "cell_type": "markdown",
      "metadata": {
        "tags": []
      },
      "source": [
        "Falcon 9 first stage will land successfully\n"
      ],
      "id": "954270f9"
    },
    {
      "cell_type": "markdown",
      "metadata": {
        "tags": []
      },
      "source": [
        "![](https://cf-courses-data.s3.us.cloud-object-storage.appdomain.cloud/IBMDeveloperSkillsNetwork-DS0701EN-SkillsNetwork/api/Images/landing_1.gif)\n"
      ],
      "id": "0094de98"
    },
    {
      "cell_type": "markdown",
      "metadata": {
        "tags": []
      },
      "source": [
        "Several examples of an unsuccessful landing are shown here:\n"
      ],
      "id": "534fda63"
    },
    {
      "cell_type": "markdown",
      "metadata": {
        "tags": []
      },
      "source": [
        "![](https://cf-courses-data.s3.us.cloud-object-storage.appdomain.cloud/IBMDeveloperSkillsNetwork-DS0701EN-SkillsNetwork/api/Images/crash.gif)\n"
      ],
      "id": "88833608"
    },
    {
      "cell_type": "markdown",
      "metadata": {
        "tags": []
      },
      "source": [
        "Most unsuccessful landings are planned. Space X performs a controlled landing in the oceans. \n"
      ],
      "id": "dd9e4d0c"
    },
    {
      "cell_type": "markdown",
      "metadata": {
        "tags": []
      },
      "source": [
        "  ## Objectives\n",
        "Perform exploratory Data Analysis and Feature Engineering using `Pandas` and `Matplotlib`\n",
        "\n",
        "- Exploratory Data Analysis\n",
        "- Preparing Data  Feature Engineering \n"
      ],
      "id": "ff007e0b"
    },
    {
      "cell_type": "markdown",
      "metadata": {
        "tags": []
      },
      "source": [
        "----\n"
      ],
      "id": "030c2a40"
    },
    {
      "cell_type": "markdown",
      "metadata": {
        "tags": []
      },
      "source": [
        "### Import Libraries and Define Auxiliary Functions\n"
      ],
      "id": "bf952c50"
    },
    {
      "cell_type": "markdown",
      "metadata": {
        "tags": []
      },
      "source": [
        "We will import the following libraries the lab \n",
        "\n"
      ],
      "id": "542d58c1"
    },
    {
      "cell_type": "code",
      "execution_count": null,
      "metadata": {
        "noteable": {
          "output_collection_id": "efed250c-903c-42ee-8810-d1fcadb01f90"
        },
        "ExecuteTime": {
          "end_time": "2023-06-20T11:10:04.315929+00:00",
          "start_time": "2023-06-20T11:10:03.521980+00:00"
        },
        "tags": []
      },
      "outputs": [],
      "source": [
        "# andas is a software library written for the Python programming language for data manipulation and analysis.\n",
        "import pandas as pd\n",
        "#NumPy is a library for the Python programming language, adding support for large, multi-dimensional arrays and matrices, along with a large collection of high-level mathematical functions to operate on these arrays\n",
        "import numpy as np\n",
        "# Matplotlib is a plotting library for python and pyplot gives us a MatLab like plotting framework. We will use this in our plotter function to plot data.\n",
        "import matplotlib.pyplot as plt\n",
        "#Seaborn is a Python data visualization library based on matplotlib. It provides a high-level interface for drawing attractive and informative statistical graphics\n",
        "import seaborn as sns"
      ],
      "id": "40842f97"
    },
    {
      "cell_type": "markdown",
      "metadata": {
        "tags": []
      },
      "source": [
        "## Exploratory Data Analysis \n"
      ],
      "id": "a0975ec9"
    },
    {
      "cell_type": "markdown",
      "metadata": {
        "tags": []
      },
      "source": [
        "First, let's read the SpaceX dataset into a Pandas dataframe and print its summary\n"
      ],
      "id": "facf778c"
    },
    {
      "cell_type": "code",
      "execution_count": null,
      "metadata": {
        "tags": [],
        "noteable": {
          "output_collection_id": "07052004-e5d3-413c-855c-eaaa6f7f860b"
        },
        "ExecuteTime": {
          "end_time": "2023-06-20T11:10:56.843978+00:00",
          "start_time": "2023-06-20T11:10:56.492753+00:00"
        },
        "datalink": {
          "06506def-dff7-4e3c-9e85-b684eaab4bf7": {
            "applied_filters": [],
            "dataframe_info": {
              "default_index_used": true,
              "orig_num_cols": 18,
              "orig_num_rows": 5,
              "orig_size_bytes": 655,
              "truncated_num_cols": 18,
              "truncated_num_rows": 5,
              "truncated_size_bytes": 655,
              "truncated_string_columns": []
            },
            "display_id": "06506def-dff7-4e3c-9e85-b684eaab4bf7",
            "dx_settings": {
              "ALLOW_NOTEABLE_ATTRS": true,
              "COLUMN_SAMPLING_METHOD": "outer",
              "DB_LOCATION": ":memory:",
              "DEV_MODE": false,
              "DISPLAY_MAX_COLUMNS": 100,
              "DISPLAY_MAX_ROWS": 50000,
              "DISPLAY_MODE": "simple",
              "ENABLE_ASSIGNMENT": true,
              "ENABLE_DATALINK": true,
              "FLATTEN_COLUMN_VALUES": true,
              "FLATTEN_INDEX_VALUES": false,
              "GENERATE_DEX_METADATA": false,
              "HTML_TABLE_SCHEMA": false,
              "LOG_LEVEL": 30,
              "MAX_RENDER_SIZE_BYTES": 104857600,
              "MAX_STRING_LENGTH": 250,
              "NUM_PAST_SAMPLES_TRACKED": 3,
              "RANDOM_STATE": 12648430,
              "RESET_INDEX_VALUES": false,
              "ROW_SAMPLING_METHOD": "random",
              "SAMPLING_FACTOR": 0.1,
              "SAMPLING_METHOD": "random",
              "STRINGIFY_COLUMN_VALUES": true,
              "STRINGIFY_INDEX_VALUES": false
            },
            "sample_history": [],
            "sampling_time": "2023-06-20T11:10:56.683966",
            "user_variable_name": null,
            "variable_name": "unk_dataframe_89648cb3564a4a7691d668d2dc30cdc8"
          }
        }
      },
      "outputs": [],
      "source": [
        "df=pd.read_csv(\"https://cf-courses-data.s3.us.cloud-object-storage.appdomain.cloud/IBM-DS0321EN-SkillsNetwork/datasets/dataset_part_2.csv\")\n",
        "\n",
        "# If you were unable to complete the previous lab correctly you can uncomment and load this csv\n",
        "\n",
        "# df = pd.read_csv('https://cf-courses-data.s3.us.cloud-object-storage.appdomain.cloud/IBMDeveloperSkillsNetwork-DS0701EN-SkillsNetwork/api/dataset_part_2.csv')\n",
        "\n",
        "df.head(5)"
      ],
      "id": "e3bdaf20"
    },
    {
      "cell_type": "markdown",
      "metadata": {
        "tags": []
      },
      "source": [
        "First, let's try to see how the `FlightNumber` (indicating the continuous launch attempts.) and `Payload` variables would affect the launch outcome.\n",
        "\n",
        "We can plot out the <code>FlightNumber</code> vs. <code>PayloadMass</code>and overlay the outcome of the launch. We see that as the flight number increases, the first stage is more likely to land successfully. The payload mass is also important; it seems the more massive the payload, the less likely the first stage will return.\n"
      ],
      "id": "71b1138f"
    },
    {
      "cell_type": "code",
      "execution_count": null,
      "metadata": {
        "tags": [],
        "noteable": {
          "output_collection_id": "003303de-f318-42b9-bf2c-6235de7e6fd7"
        },
        "ExecuteTime": {
          "end_time": "2023-06-20T11:11:22.880441+00:00",
          "start_time": "2023-06-20T11:11:19.411384+00:00"
        }
      },
      "outputs": [],
      "source": [
        "sns.catplot(y=\"PayloadMass\", x=\"FlightNumber\", hue=\"Class\", data=df, aspect = 5)\n",
        "plt.xlabel(\"Flight Number\",fontsize=20)\n",
        "plt.ylabel(\"Pay load Mass (kg)\",fontsize=20)\n",
        "plt.show()"
      ],
      "id": "d28300ad"
    },
    {
      "cell_type": "markdown",
      "metadata": {
        "tags": []
      },
      "source": [
        "We see that different launch sites have different success rates.  <code>CCAFS LC-40</code>, has a success rate of 60 %, while  <code>KSC LC-39A</code> and <code>VAFB SLC 4E</code> has a success rate of 77%.\n"
      ],
      "id": "7d0da1d8"
    },
    {
      "cell_type": "markdown",
      "metadata": {
        "tags": []
      },
      "source": [
        "Next, let's drill down to each site visualize its detailed launch records.\n"
      ],
      "id": "ae7eb1ef"
    },
    {
      "cell_type": "markdown",
      "metadata": {
        "tags": []
      },
      "source": [
        "### TASK 1: Visualize the relationship between Flight Number and Launch Site\n"
      ],
      "id": "fd9696e7"
    },
    {
      "cell_type": "markdown",
      "metadata": {
        "tags": []
      },
      "source": [
        "Use the function <code>catplot</code> to plot <code>FlightNumber</code> vs <code>LaunchSite</code>, set the  parameter <code>x</code>  parameter to <code>FlightNumber</code>,set the  <code>y</code> to <code>Launch Site</code> and set the parameter <code>hue</code> to <code>'class'</code>\n"
      ],
      "id": "3183d766"
    },
    {
      "cell_type": "code",
      "execution_count": null,
      "metadata": {
        "tags": [],
        "noteable": {
          "output_collection_id": "72c4c86c-9c23-49d4-b7a6-f650df170317"
        },
        "ExecuteTime": {
          "end_time": "2023-06-20T11:13:31.789216+00:00",
          "start_time": "2023-06-20T11:13:31.297478+00:00"
        }
      },
      "outputs": [],
      "source": "# Plot a scatter point chart with x axis to be Flight Number and y axis to be the launch site, and hue to be the class value\nsns.scatterplot(x='FlightNumber', y='LaunchSite', hue='Class', data=df)\nplt.show()",
      "id": "183587f9"
    },
    {
      "cell_type": "markdown",
      "metadata": {
        "tags": []
      },
      "source": [
        "Now try to explain the patterns you found in the Flight Number vs. Launch Site scatter point plots.\n"
      ],
      "id": "c0e4f2e2"
    },
    {
      "cell_type": "markdown",
      "metadata": {
        "tags": []
      },
      "source": [
        "### TASK 2: Visualize the relationship between Payload and Launch Site\n"
      ],
      "id": "ee284eb0"
    },
    {
      "cell_type": "markdown",
      "metadata": {
        "tags": []
      },
      "source": [
        "We also want to observe if there is any relationship between launch sites and their payload mass.\n"
      ],
      "id": "3be07556"
    },
    {
      "cell_type": "code",
      "execution_count": null,
      "metadata": {
        "tags": [],
        "noteable": {
          "output_collection_id": "e4163ffd-8df3-49dc-89e0-7c2de84dbe19"
        },
        "ExecuteTime": {
          "end_time": "2023-06-20T11:15:53.589457+00:00",
          "start_time": "2023-06-20T11:15:53.095730+00:00"
        }
      },
      "outputs": [],
      "source": "# Plot a scatter point chart with x axis to be Pay Load Mass (kg) and y axis to be the launch site, and hue to be the class value\nsns.scatterplot(x='PayloadMass', y='LaunchSite', hue='Class', data=df)\nplt.show()",
      "id": "1129bcdd"
    },
    {
      "cell_type": "markdown",
      "metadata": {
        "tags": []
      },
      "source": [
        "Now if you observe Payload Vs. Launch Site scatter point chart you will find for the VAFB-SLC  launchsite there are no  rockets  launched for  heavypayload mass(greater than 10000).\n"
      ],
      "id": "b9ee543a"
    },
    {
      "cell_type": "markdown",
      "metadata": {
        "tags": []
      },
      "source": [
        "### TASK  3: Visualize the relationship between success rate of each orbit type\n"
      ],
      "id": "39e72953"
    },
    {
      "cell_type": "markdown",
      "metadata": {
        "tags": []
      },
      "source": [
        "Next, we want to visually check if there are any relationship between success rate and orbit type.\n"
      ],
      "id": "b91c5972"
    },
    {
      "cell_type": "markdown",
      "metadata": {
        "tags": []
      },
      "source": [
        "Let's create a `bar chart` for the sucess rate of each orbit\n"
      ],
      "id": "387960e1"
    },
    {
      "cell_type": "code",
      "execution_count": null,
      "metadata": {
        "tags": [],
        "noteable": {
          "output_collection_id": "d17e8613-e2a7-4a53-a7c5-6dfab28a0524"
        },
        "ExecuteTime": {
          "end_time": "2023-06-20T11:18:27.529200+00:00",
          "start_time": "2023-06-20T11:18:26.981223+00:00"
        }
      },
      "outputs": [],
      "source": "# HINT use groupby method on Orbit column and get the mean of Class column\norbit_success_rate = df.groupby('Orbit')['Class'].mean()\norbit_success_rate.plot(kind='bar', figsize=(10, 6))\nplt.ylabel('Success Rate')\nplt.title('Success Rate for Each Orbit')\nplt.show()",
      "id": "2928b2a4"
    },
    {
      "cell_type": "markdown",
      "metadata": {
        "tags": []
      },
      "source": [
        "Analyze the ploted bar chart try to find which orbits have high sucess rate.\n"
      ],
      "id": "34323645"
    },
    {
      "cell_type": "markdown",
      "metadata": {
        "tags": []
      },
      "source": [
        "### TASK  4: Visualize the relationship between FlightNumber and Orbit type\n"
      ],
      "id": "241d6299"
    },
    {
      "cell_type": "markdown",
      "metadata": {
        "tags": []
      },
      "source": [
        "For each orbit, we want to see if there is any relationship between FlightNumber and Orbit type.\n"
      ],
      "id": "e76fbb40"
    },
    {
      "cell_type": "code",
      "execution_count": null,
      "metadata": {
        "tags": [],
        "noteable": {
          "output_collection_id": "94aa7e98-a709-44f5-9d68-57c386d27811"
        },
        "ExecuteTime": {
          "end_time": "2023-06-20T11:20:47.802957+00:00",
          "start_time": "2023-06-20T11:20:47.196503+00:00"
        }
      },
      "outputs": [],
      "source": "# Plot a scatter point chart with x axis to be FlightNumber and y axis to be the Orbit, and hue to be the class value\nsns.scatterplot(x='FlightNumber', y='Orbit', hue='Class', data=df)\nplt.show()",
      "id": "c171c55c"
    },
    {
      "cell_type": "markdown",
      "metadata": {
        "tags": []
      },
      "source": [
        "You should see that in the LEO orbit the Success appears related to the number of flights; on the other hand, there seems to be no relationship between flight number when in GTO orbit.\n"
      ],
      "id": "d641a5bc"
    },
    {
      "cell_type": "markdown",
      "metadata": {
        "tags": []
      },
      "source": [
        "### TASK  5: Visualize the relationship between Payload and Orbit type\n"
      ],
      "id": "08bc6d9b"
    },
    {
      "cell_type": "markdown",
      "metadata": {
        "tags": []
      },
      "source": [
        "Similarly, we can plot the Payload vs. Orbit scatter point charts to reveal the relationship between Payload and Orbit type\n"
      ],
      "id": "ccd3ee3d"
    },
    {
      "cell_type": "code",
      "execution_count": null,
      "metadata": {
        "tags": [],
        "noteable": {
          "output_collection_id": "51c68eaf-29ff-4193-bfe1-c7e9224a818f"
        },
        "ExecuteTime": {
          "end_time": "2023-06-20T11:21:49.918073+00:00",
          "start_time": "2023-06-20T11:21:49.396984+00:00"
        }
      },
      "outputs": [],
      "source": "# Plot a scatter point chart with x axis to be Payload and y axis to be the Orbit, and hue to be the class value\nsns.scatterplot(x='PayloadMass', y='Orbit', hue='Class', data=df)\nplt.show()",
      "id": "ef17e89b"
    },
    {
      "cell_type": "markdown",
      "metadata": {
        "tags": []
      },
      "source": [
        "With heavy payloads the successful landing or positive landing rate are more for Polar,LEO and ISS.   \n",
        "\n",
        "However for GTO we cannot distinguish this well as both positive landing rate and negative landing(unsuccessful mission) are both there here.\n",
        "\n",
        "\n"
      ],
      "id": "4e5fad01"
    },
    {
      "cell_type": "markdown",
      "metadata": {
        "tags": []
      },
      "source": [
        "### TASK  6: Visualize the launch success yearly trend\n"
      ],
      "id": "2d296747"
    },
    {
      "cell_type": "markdown",
      "metadata": {
        "tags": []
      },
      "source": [
        "You can plot a line chart with x axis to be <code>Year</code> and y axis to be average success rate, to get the average launch success trend. \n"
      ],
      "id": "250831bb"
    },
    {
      "cell_type": "markdown",
      "metadata": {
        "tags": []
      },
      "source": [
        "The function will help you get the year from the date:\n"
      ],
      "id": "c2d10797"
    },
    {
      "cell_type": "code",
      "execution_count": null,
      "metadata": {
        "tags": [],
        "noteable": {
          "output_collection_id": "7c293f5c-73f4-4c05-8581-52cd023ec7c8"
        },
        "ExecuteTime": {
          "end_time": "2023-06-20T11:22:22.752274+00:00",
          "start_time": "2023-06-20T11:22:22.595818+00:00"
        }
      },
      "outputs": [],
      "source": [
        "# A function to Extract years from the date \n",
        "year=[]\n",
        "def Extract_year(date):\n",
        "    for i in df[\"Date\"]:\n",
        "        year.append(i.split(\"-\")[0])\n",
        "    return year\n",
        "    "
      ],
      "id": "a7382098"
    },
    {
      "cell_type": "code",
      "execution_count": null,
      "metadata": {
        "tags": [],
        "noteable": {
          "output_collection_id": "d9ebbe6d-2b11-49ec-ad2c-ba18eb8b8e4b"
        },
        "ExecuteTime": {
          "end_time": "2023-06-20T11:29:48.606202+00:00",
          "start_time": "2023-06-20T11:29:48.158710+00:00"
        }
      },
      "outputs": [],
      "source": "# Plot a line chart with x axis to be the extracted year and y axis to be the success rate\nsuccess_rate_by_year = df.groupby('Year')['Class'].mean()\nsuccess_rate_by_year.plot(kind='line', figsize=(10, 6))\nplt.ylabel('Success Rate')\nplt.title('Success Rate by Year')\nplt.show()",
      "id": "3432d7a0"
    },
    {
      "cell_type": "markdown",
      "metadata": {
        "tags": []
      },
      "source": [
        "you can observe that the sucess rate since 2013 kept increasing till 2020\n"
      ],
      "id": "466267dc"
    },
    {
      "cell_type": "markdown",
      "metadata": {
        "tags": []
      },
      "source": [
        "## Features Engineering \n"
      ],
      "id": "3b94e28c"
    },
    {
      "cell_type": "markdown",
      "metadata": {
        "tags": []
      },
      "source": [
        "By now, you should obtain some preliminary insights about how each important variable would affect the success rate, we will select the features that will be used in success prediction in the future module.\n"
      ],
      "id": "95b6ab1d"
    },
    {
      "cell_type": "code",
      "execution_count": null,
      "metadata": {
        "tags": [],
        "noteable": {
          "output_collection_id": "79c47fc8-9109-4edb-9167-ee127b5b0391"
        },
        "ExecuteTime": {
          "end_time": "2023-06-20T11:30:03.022469+00:00",
          "start_time": "2023-06-20T11:30:02.797465+00:00"
        },
        "datalink": {
          "f12d50d3-e317-4bd3-9671-ef227b897a4c": {
            "applied_filters": [],
            "dataframe_info": {
              "default_index_used": true,
              "orig_num_cols": 12,
              "orig_num_rows": 5,
              "orig_size_bytes": 415,
              "truncated_num_cols": 12,
              "truncated_num_rows": 5,
              "truncated_size_bytes": 415,
              "truncated_string_columns": []
            },
            "display_id": "f12d50d3-e317-4bd3-9671-ef227b897a4c",
            "dx_settings": {
              "ALLOW_NOTEABLE_ATTRS": true,
              "COLUMN_SAMPLING_METHOD": "outer",
              "DB_LOCATION": ":memory:",
              "DEV_MODE": false,
              "DISPLAY_MAX_COLUMNS": 100,
              "DISPLAY_MAX_ROWS": 50000,
              "DISPLAY_MODE": "simple",
              "ENABLE_ASSIGNMENT": true,
              "ENABLE_DATALINK": true,
              "FLATTEN_COLUMN_VALUES": true,
              "FLATTEN_INDEX_VALUES": false,
              "GENERATE_DEX_METADATA": false,
              "HTML_TABLE_SCHEMA": false,
              "LOG_LEVEL": 30,
              "MAX_RENDER_SIZE_BYTES": 104857600,
              "MAX_STRING_LENGTH": 250,
              "NUM_PAST_SAMPLES_TRACKED": 3,
              "RANDOM_STATE": 12648430,
              "RESET_INDEX_VALUES": false,
              "ROW_SAMPLING_METHOD": "random",
              "SAMPLING_FACTOR": 0.1,
              "SAMPLING_METHOD": "random",
              "STRINGIFY_COLUMN_VALUES": true,
              "STRINGIFY_INDEX_VALUES": false
            },
            "sample_history": [],
            "sampling_time": "2023-06-20T11:30:02.863914",
            "user_variable_name": null,
            "variable_name": "unk_dataframe_2a0f7c8df62c4f5c9b0b72b1e80a32cb"
          }
        }
      },
      "outputs": [],
      "source": [
        "features = df[['FlightNumber', 'PayloadMass', 'Orbit', 'LaunchSite', 'Flights', 'GridFins', 'Reused', 'Legs', 'LandingPad', 'Block', 'ReusedCount', 'Serial']]\n",
        "features.head()"
      ],
      "id": "04e0b4ed"
    },
    {
      "cell_type": "markdown",
      "metadata": {
        "tags": []
      },
      "source": [
        " ### TASK  7: Create dummy variables to categorical columns\n"
      ],
      "id": "e7ffa7bb"
    },
    {
      "cell_type": "markdown",
      "metadata": {
        "tags": []
      },
      "source": [
        "Use the function <code>get_dummies</code> and <code>features</code> dataframe to apply OneHotEncoder to the column <code>Orbits</code>, <code>LaunchSite</code>, <code>LandingPad</code>, and <code>Serial</code>. Assign the value to the variable <code>features_one_hot</code>, display the results using the method head. Your result dataframe must include all features including the encoded ones.\n"
      ],
      "id": "95aa9b52"
    },
    {
      "cell_type": "code",
      "execution_count": null,
      "metadata": {
        "tags": [],
        "noteable": {
          "output_collection_id": "c92295a5-50fb-4187-992d-c9b97ad4606e"
        },
        "ExecuteTime": {
          "end_time": "2023-06-20T11:34:44.752665+00:00",
          "start_time": "2023-06-20T11:34:44.396090+00:00"
        },
        "datalink": {
          "f5b19f13-5843-41b2-a18d-b9a535b4b19e": {
            "applied_filters": [],
            "dataframe_info": {
              "default_index_used": true,
              "orig_num_cols": 80,
              "orig_num_rows": 5,
              "orig_size_bytes": 615,
              "truncated_num_cols": 80,
              "truncated_num_rows": 5,
              "truncated_size_bytes": 615,
              "truncated_string_columns": []
            },
            "display_id": "f5b19f13-5843-41b2-a18d-b9a535b4b19e",
            "dx_settings": {
              "ALLOW_NOTEABLE_ATTRS": true,
              "COLUMN_SAMPLING_METHOD": "outer",
              "DB_LOCATION": ":memory:",
              "DEV_MODE": false,
              "DISPLAY_MAX_COLUMNS": 100,
              "DISPLAY_MAX_ROWS": 50000,
              "DISPLAY_MODE": "simple",
              "ENABLE_ASSIGNMENT": true,
              "ENABLE_DATALINK": true,
              "FLATTEN_COLUMN_VALUES": true,
              "FLATTEN_INDEX_VALUES": false,
              "GENERATE_DEX_METADATA": false,
              "HTML_TABLE_SCHEMA": false,
              "LOG_LEVEL": 30,
              "MAX_RENDER_SIZE_BYTES": 104857600,
              "MAX_STRING_LENGTH": 250,
              "NUM_PAST_SAMPLES_TRACKED": 3,
              "RANDOM_STATE": 12648430,
              "RESET_INDEX_VALUES": false,
              "ROW_SAMPLING_METHOD": "random",
              "SAMPLING_FACTOR": 0.1,
              "SAMPLING_METHOD": "random",
              "STRINGIFY_COLUMN_VALUES": true,
              "STRINGIFY_INDEX_VALUES": false
            },
            "sample_history": [],
            "sampling_time": "2023-06-20T11:34:44.584742",
            "user_variable_name": null,
            "variable_name": "unk_dataframe_e2950cffa6fd4c9cb2354458f42e2718"
          }
        }
      },
      "outputs": [],
      "source": "# HINT: Use get_dummies() function on the categorical columns\nfeatures_one_hot = pd.get_dummies(features, columns=['Orbit', 'LaunchSite', 'LandingPad', 'Serial'])\nfeatures_one_hot.head()\n",
      "id": "4f845227"
    },
    {
      "cell_type": "markdown",
      "metadata": {
        "tags": []
      },
      "source": [
        "### TASK  8: Cast all numeric columns to `float64`\n"
      ],
      "id": "5137772b"
    },
    {
      "cell_type": "markdown",
      "metadata": {
        "tags": []
      },
      "source": [
        "Now that our <code>features_one_hot</code> dataframe only contains numbers cast the entire dataframe to variable type <code>float64</code>\n"
      ],
      "id": "d3c96d6d"
    },
    {
      "cell_type": "code",
      "execution_count": null,
      "metadata": {
        "tags": []
      },
      "outputs": [],
      "source": [
        "# HINT: use astype function\n"
      ],
      "id": "81d73256"
    },
    {
      "cell_type": "markdown",
      "metadata": {
        "tags": []
      },
      "source": [
        "We can now export it to a <b>CSV</b> for the next section,but to make the answers consistent, in the next lab we will provide data in a pre-selected date range. \n"
      ],
      "id": "66e9b00c"
    },
    {
      "cell_type": "markdown",
      "metadata": {
        "tags": []
      },
      "source": [
        "<code>features_one_hot.to_csv('dataset_part_3.csv', index=False)</code>\n"
      ],
      "id": "5e36609f"
    },
    {
      "cell_type": "markdown",
      "metadata": {
        "tags": []
      },
      "source": [
        "## Authors\n"
      ],
      "id": "af4e1676"
    },
    {
      "cell_type": "markdown",
      "metadata": {
        "tags": []
      },
      "source": [
        "<a href=\"https://www.linkedin.com/in/joseph-s-50398b136/?utm_medium=Exinfluencer&utm_source=Exinfluencer&utm_content=000026UJ&utm_term=10006555&utm_id=NA-SkillsNetwork-Channel-SkillsNetworkCoursesIBMDS0321ENSkillsNetwork865-2023-01-01\">Joseph Santarcangelo</a> has a PhD in Electrical Engineering, his research focused on using machine learning, signal processing, and computer vision to determine how videos impact human cognition. Joseph has been working for IBM since he completed his PhD.\n"
      ],
      "id": "9eeb69be"
    },
    {
      "cell_type": "markdown",
      "metadata": {
        "tags": []
      },
      "source": [
        "<a href=\"https://www.linkedin.com/in/nayefaboutayoun/?utm_medium=Exinfluencer&utm_source=Exinfluencer&utm_content=000026UJ&utm_term=10006555&utm_id=NA-SkillsNetwork-Channel-SkillsNetworkCoursesIBMDS0321ENSkillsNetwork865-2023-01-01\">Nayef Abou Tayoun</a> is a Data Scientist at IBM and pursuing a Master of Management in Artificial intelligence degree at Queen's University.\n"
      ],
      "id": "993fbc6a"
    },
    {
      "cell_type": "markdown",
      "metadata": {
        "tags": []
      },
      "source": [
        "## Change Log\n"
      ],
      "id": "a3a12f70"
    },
    {
      "cell_type": "markdown",
      "metadata": {
        "tags": []
      },
      "source": [
        "| Date (YYYY-MM-DD) | Version | Changed By | Change Description      |\n",
        "| ----------------- | ------- | ---------- | ----------------------- |\n",
        "| 2021-10-12        | 1.1     | Lakshmi Holla     | Modified markdown |\n",
        "| 2020-09-20        | 1.0     | Joseph     | Modified Multiple Areas |\n",
        "| 2020-11-10       | 1.1    | Nayef      | updating the input data |\n"
      ],
      "id": "147c1077"
    },
    {
      "cell_type": "markdown",
      "metadata": {
        "tags": []
      },
      "source": [
        "Copyright © 2020 IBM Corporation. All rights reserved.\n"
      ],
      "id": "c163a373"
    }
  ],
  "metadata": {
    "kernelspec": {
      "display_name": "Python",
      "language": "python",
      "name": "conda-env-python-py"
    },
    "language_info": {
      "name": ""
    },
    "noteable": {
      "last_transaction_id": "70b0521a-5206-43ad-b3ff-703a186dbd49"
    },
    "display_mode": "default"
  },
  "nbformat": 4,
  "nbformat_minor": 5
}