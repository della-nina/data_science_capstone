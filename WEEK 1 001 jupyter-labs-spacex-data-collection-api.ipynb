{
  "cells": [
    {
      "cell_type": "markdown",
      "metadata": {},
      "source": [
        "<p style=\"text-align:center\">\n",
        "    <a href=\"https://skills.network/?utm_medium=Exinfluencer&utm_source=Exinfluencer&utm_content=000026UJ&utm_term=10006555&utm_id=NA-SkillsNetwork-Channel-SkillsNetworkCoursesIBMDS0321ENSkillsNetwork865-2022-01-01\" target=\"_blank\">\n",
        "    <img src=\"https://cf-courses-data.s3.us.cloud-object-storage.appdomain.cloud/assets/logos/SN_web_lightmode.png\" width=\"200\" alt=\"Skills Network Logo\"  />\n",
        "    </a>\n",
        "</p>\n"
      ],
      "id": "96e18941"
    },
    {
      "cell_type": "markdown",
      "metadata": {},
      "source": [
        "# **SpaceX  Falcon 9 first stage Landing Prediction**\n"
      ],
      "id": "07e34d9c"
    },
    {
      "cell_type": "markdown",
      "metadata": {},
      "source": [
        "# Lab 1: Collecting the data\n"
      ],
      "id": "dff36538"
    },
    {
      "cell_type": "markdown",
      "metadata": {},
      "source": [
        "Estimated time needed: **45** minutes\n"
      ],
      "id": "a6ae6b0c"
    },
    {
      "cell_type": "markdown",
      "metadata": {},
      "source": [
        "In this capstone, we will predict if the Falcon 9 first stage will land successfully. SpaceX advertises Falcon 9 rocket launches on its website with a cost of 62 million dollars; other providers cost upward of 165 million dollars each, much of the savings is because SpaceX can reuse the first stage. Therefore if we can determine if the first stage will land, we can determine the cost of a launch. This information can be used if an alternate company wants to bid against SpaceX for a rocket launch. In this lab, you will collect and make sure the data is in the correct format from an API. The following is an example of a successful and launch.\n"
      ],
      "id": "e6896403"
    },
    {
      "cell_type": "markdown",
      "metadata": {},
      "source": [
        "![](https://cf-courses-data.s3.us.cloud-object-storage.appdomain.cloud/IBMDeveloperSkillsNetwork-DS0701EN-SkillsNetwork/lab_v2/images/landing_1.gif)\n"
      ],
      "id": "55a8ed29"
    },
    {
      "cell_type": "markdown",
      "metadata": {},
      "source": [
        "Several examples of an unsuccessful landing are shown here:\n"
      ],
      "id": "efa797a5"
    },
    {
      "cell_type": "markdown",
      "metadata": {},
      "source": [
        "![](https://cf-courses-data.s3.us.cloud-object-storage.appdomain.cloud/IBMDeveloperSkillsNetwork-DS0701EN-SkillsNetwork/lab_v2/images/crash.gif)\n"
      ],
      "id": "498a3b92"
    },
    {
      "cell_type": "markdown",
      "metadata": {},
      "source": [
        "Most unsuccessful landings are planned. Space X performs a controlled landing in the oceans. \n"
      ],
      "id": "832231c4"
    },
    {
      "cell_type": "markdown",
      "metadata": {},
      "source": [
        "## Objectives\n"
      ],
      "id": "6495b680"
    },
    {
      "cell_type": "markdown",
      "metadata": {},
      "source": [
        "In this lab, you will make a get request to the SpaceX API. You will also do some basic data wrangling and formating. \n",
        "\n",
        "- Request to the SpaceX API\n",
        "- Clean the requested data\n"
      ],
      "id": "4b7685ac"
    },
    {
      "cell_type": "markdown",
      "metadata": {},
      "source": [
        "----\n"
      ],
      "id": "dc766460"
    },
    {
      "cell_type": "markdown",
      "metadata": {},
      "source": [
        "## Import Libraries and Define Auxiliary Functions\n"
      ],
      "id": "a2ff05ca"
    },
    {
      "cell_type": "markdown",
      "metadata": {},
      "source": [
        "We will import the following libraries into the lab\n"
      ],
      "id": "c5fd2312"
    },
    {
      "cell_type": "code",
      "execution_count": null,
      "metadata": {
        "noteable": {
          "output_collection_id": "80dbf093-5ea6-4c5e-ac80-29491300b8ae"
        },
        "ExecuteTime": {
          "end_time": "2023-06-15T16:25:53.698803+00:00",
          "start_time": "2023-06-15T16:25:53.540724+00:00"
        },
        "jupyter": {
          "outputs_hidden": false
        }
      },
      "outputs": [],
      "source": [
        "# Requests allows us to make HTTP requests which we will use to get data from an API\n",
        "import requests\n",
        "# Pandas is a software library written for the Python programming language for data manipulation and analysis.\n",
        "import pandas as pd\n",
        "# NumPy is a library for the Python programming language, adding support for large, multi-dimensional arrays and matrices, along with a large collection of high-level mathematical functions to operate on these arrays\n",
        "import numpy as np\n",
        "# Datetime is a library that allows us to represent dates\n",
        "import datetime\n",
        "\n",
        "# Setting this option will print all collumns of a dataframe\n",
        "pd.set_option('display.max_columns', None)\n",
        "# Setting this option will print all of the data in a feature\n",
        "pd.set_option('display.max_colwidth', None)"
      ],
      "id": "2ba07b2c"
    },
    {
      "cell_type": "markdown",
      "metadata": {},
      "source": [
        "Below we will define a series of helper functions that will help us use the API to extract information using identification numbers in the launch data.\n",
        "\n",
        "From the <code>rocket</code> column we would like to learn the booster name.\n"
      ],
      "id": "0a0c8cc6"
    },
    {
      "cell_type": "code",
      "execution_count": null,
      "metadata": {
        "noteable": {
          "output_collection_id": "b7a1a49b-7f5a-4078-95ee-1668ea195948"
        },
        "ExecuteTime": {
          "end_time": "2023-06-15T16:26:01.121359+00:00",
          "start_time": "2023-06-15T16:26:00.964676+00:00"
        }
      },
      "outputs": [],
      "source": [
        "# Takes the dataset and uses the rocket column to call the API and append the data to the list\n",
        "def getBoosterVersion(data):\n",
        "    for x in data['rocket']:\n",
        "       if x:\n",
        "        response = requests.get(\"https://api.spacexdata.com/v4/rockets/\"+str(x)).json()\n",
        "        BoosterVersion.append(response['name'])"
      ],
      "id": "040156cf"
    },
    {
      "cell_type": "markdown",
      "metadata": {},
      "source": [
        "From the <code>launchpad</code> we would like to know the name of the launch site being used, the logitude, and the latitude.\n"
      ],
      "id": "4e4bf4b6"
    },
    {
      "cell_type": "code",
      "execution_count": null,
      "metadata": {
        "noteable": {
          "output_collection_id": "bc90ba17-4777-413a-946b-e3b664587aa1"
        },
        "ExecuteTime": {
          "end_time": "2023-06-15T16:26:09.999871+00:00",
          "start_time": "2023-06-15T16:26:09.842677+00:00"
        }
      },
      "outputs": [],
      "source": [
        "# Takes the dataset and uses the launchpad column to call the API and append the data to the list\n",
        "def getLaunchSite(data):\n",
        "    for x in data['launchpad']:\n",
        "       if x:\n",
        "         response = requests.get(\"https://api.spacexdata.com/v4/launchpads/\"+str(x)).json()\n",
        "         Longitude.append(response['longitude'])\n",
        "         Latitude.append(response['latitude'])\n",
        "         LaunchSite.append(response['name'])"
      ],
      "id": "36c6e332"
    },
    {
      "cell_type": "markdown",
      "metadata": {},
      "source": [
        "From the <code>payload</code> we would like to learn the mass of the payload and the orbit that it is going to.\n"
      ],
      "id": "26592416"
    },
    {
      "cell_type": "code",
      "execution_count": null,
      "metadata": {
        "noteable": {
          "output_collection_id": "466673f9-579f-4c93-9432-1362456910a7"
        },
        "ExecuteTime": {
          "end_time": "2023-06-15T16:26:14.859891+00:00",
          "start_time": "2023-06-15T16:26:14.702613+00:00"
        }
      },
      "outputs": [],
      "source": [
        "# Takes the dataset and uses the payloads column to call the API and append the data to the lists\n",
        "def getPayloadData(data):\n",
        "    for load in data['payloads']:\n",
        "       if load:\n",
        "        response = requests.get(\"https://api.spacexdata.com/v4/payloads/\"+load).json()\n",
        "        PayloadMass.append(response['mass_kg'])\n",
        "        Orbit.append(response['orbit'])"
      ],
      "id": "00a936a2"
    },
    {
      "cell_type": "markdown",
      "metadata": {},
      "source": [
        "From <code>cores</code> we would like to learn the outcome of the landing, the type of the landing, number of flights with that core, whether gridfins were used, wheter the core is reused, wheter legs were used, the landing pad used, the block of the core which is a number used to seperate version of cores, the number of times this specific core has been reused, and the serial of the core.\n"
      ],
      "id": "8b84805f"
    },
    {
      "cell_type": "code",
      "execution_count": null,
      "metadata": {
        "noteable": {
          "output_collection_id": "2f2122c6-a097-427d-b2b3-b9598f7353c7"
        },
        "ExecuteTime": {
          "end_time": "2023-06-15T16:26:21.795218+00:00",
          "start_time": "2023-06-15T16:26:21.635747+00:00"
        }
      },
      "outputs": [],
      "source": [
        "# Takes the dataset and uses the cores column to call the API and append the data to the lists\n",
        "def getCoreData(data):\n",
        "    for core in data['cores']:\n",
        "            if core['core'] != None:\n",
        "                response = requests.get(\"https://api.spacexdata.com/v4/cores/\"+core['core']).json()\n",
        "                Block.append(response['block'])\n",
        "                ReusedCount.append(response['reuse_count'])\n",
        "                Serial.append(response['serial'])\n",
        "            else:\n",
        "                Block.append(None)\n",
        "                ReusedCount.append(None)\n",
        "                Serial.append(None)\n",
        "            Outcome.append(str(core['landing_success'])+' '+str(core['landing_type']))\n",
        "            Flights.append(core['flight'])\n",
        "            GridFins.append(core['gridfins'])\n",
        "            Reused.append(core['reused'])\n",
        "            Legs.append(core['legs'])\n",
        "            LandingPad.append(core['landpad'])"
      ],
      "id": "6a84cd81"
    },
    {
      "cell_type": "markdown",
      "metadata": {},
      "source": [
        "Now let's start requesting rocket launch data from SpaceX API with the following URL:\n"
      ],
      "id": "12601427"
    },
    {
      "cell_type": "code",
      "execution_count": null,
      "metadata": {
        "noteable": {
          "output_collection_id": "587f798a-57cf-466c-8289-f7005a113e58"
        },
        "ExecuteTime": {
          "end_time": "2023-06-15T16:26:28.617028+00:00",
          "start_time": "2023-06-15T16:26:28.461677+00:00"
        }
      },
      "outputs": [],
      "source": [
        "spacex_url=\"https://api.spacexdata.com/v4/launches/past\""
      ],
      "id": "1a1792b7"
    },
    {
      "cell_type": "code",
      "execution_count": null,
      "metadata": {
        "noteable": {
          "output_collection_id": "5fb3bc99-7f47-4c6f-8a0b-14b2f2e98b3a"
        },
        "ExecuteTime": {
          "end_time": "2023-06-15T16:26:32.141985+00:00",
          "start_time": "2023-06-15T16:26:31.889919+00:00"
        }
      },
      "outputs": [],
      "source": [
        "response = requests.get(spacex_url)"
      ],
      "id": "038afc73"
    },
    {
      "cell_type": "markdown",
      "metadata": {},
      "source": [
        "Check the content of the response\n"
      ],
      "id": "bbaccf05"
    },
    {
      "cell_type": "code",
      "execution_count": null,
      "metadata": {
        "noteable": {
          "output_collection_id": "e66b80aa-5403-4e00-8826-69d96b00e637"
        },
        "ExecuteTime": {
          "end_time": "2023-06-15T16:26:39.636679+00:00",
          "start_time": "2023-06-15T16:26:39.471004+00:00"
        }
      },
      "outputs": [],
      "source": [
        "print(response.content)"
      ],
      "id": "366c92dc"
    },
    {
      "cell_type": "markdown",
      "metadata": {},
      "source": [
        "You should see the response contains massive information about SpaceX launches. Next, let's try to discover some more relevant information for this project.\n"
      ],
      "id": "cef8b854"
    },
    {
      "cell_type": "markdown",
      "metadata": {},
      "source": [
        "### Task 1: Request and parse the SpaceX launch data using the GET request\n"
      ],
      "id": "f489bcaa"
    },
    {
      "cell_type": "markdown",
      "metadata": {},
      "source": [
        "To make the requested JSON results more consistent, we will use the following static response object for this project:\n"
      ],
      "id": "9e82df6f"
    },
    {
      "cell_type": "code",
      "execution_count": null,
      "metadata": {
        "noteable": {
          "output_collection_id": "5d9bef99-fa90-41ba-a7aa-c578c70a6934"
        },
        "ExecuteTime": {
          "end_time": "2023-06-15T16:27:18.480585+00:00",
          "start_time": "2023-06-15T16:27:18.324985+00:00"
        }
      },
      "outputs": [],
      "source": [
        "static_json_url='https://cf-courses-data.s3.us.cloud-object-storage.appdomain.cloud/IBM-DS0321EN-SkillsNetwork/datasets/API_call_spacex_api.json'"
      ],
      "id": "759c7877"
    },
    {
      "cell_type": "markdown",
      "metadata": {},
      "source": [
        "We should see that the request was successfull with the 200 status response code\n"
      ],
      "id": "0df8bf25"
    },
    {
      "cell_type": "code",
      "execution_count": null,
      "metadata": {
        "noteable": {
          "output_collection_id": "15ee74e3-7c3b-4407-a980-e61635364653"
        },
        "ExecuteTime": {
          "end_time": "2023-06-15T16:27:22.472313+00:00",
          "start_time": "2023-06-15T16:27:22.311934+00:00"
        }
      },
      "outputs": [],
      "source": [
        "response.status_code"
      ],
      "id": "25a242f2"
    },
    {
      "cell_type": "markdown",
      "metadata": {},
      "source": [
        "Now we decode the response content as a Json using <code>.json()</code> and turn it into a Pandas dataframe using <code>.json_normalize()</code>\n"
      ],
      "id": "a22ed8e9"
    },
    {
      "cell_type": "code",
      "execution_count": null,
      "metadata": {
        "noteable": {
          "output_collection_id": "1befa1fb-3eb0-40b9-9abc-0dc0e4adbf59"
        },
        "ExecuteTime": {
          "end_time": "2023-06-15T16:40:03.032239+00:00",
          "start_time": "2023-06-15T16:40:02.856829+00:00"
        }
      },
      "outputs": [],
      "source": "# Use json_normalize meethod to convert the json result into a dataframe\nimport pandas as pd\nimport json\nfrom pandas import json_normalize\n\n# Assuming `response` is the response object from your API call\nresponse_content = response.json()\n\n# Convert the JSON response to a DataFrame\ndata = json_normalize(response_content)",
      "id": "7c5be727"
    },
    {
      "cell_type": "markdown",
      "metadata": {},
      "source": [
        "Using the dataframe <code>data</code> print the first 5 rows\n"
      ],
      "id": "0493939f"
    },
    {
      "cell_type": "code",
      "execution_count": null,
      "metadata": {
        "noteable": {
          "output_collection_id": "ef1f3a68-0a77-4b2c-8725-d3ee4e4fcbf9"
        },
        "ExecuteTime": {
          "end_time": "2023-06-15T16:40:14.259987+00:00",
          "start_time": "2023-06-15T16:40:13.797544+00:00"
        },
        "datalink": {
          "d4130e37-5c9c-43d2-b7b3-44e621460095": {
            "applied_filters": [],
            "dataframe_info": {
              "default_index_used": true,
              "orig_num_cols": 43,
              "orig_num_rows": 5,
              "orig_size_bytes": 1620,
              "truncated_num_cols": 43,
              "truncated_num_rows": 5,
              "truncated_size_bytes": 1620,
              "truncated_string_columns": []
            },
            "display_id": "d4130e37-5c9c-43d2-b7b3-44e621460095",
            "dx_settings": {
              "ALLOW_NOTEABLE_ATTRS": true,
              "COLUMN_SAMPLING_METHOD": "outer",
              "DB_LOCATION": ":memory:",
              "DEV_MODE": false,
              "DISPLAY_MAX_COLUMNS": 100,
              "DISPLAY_MAX_ROWS": 50000,
              "DISPLAY_MODE": "simple",
              "ENABLE_ASSIGNMENT": true,
              "ENABLE_DATALINK": true,
              "FLATTEN_COLUMN_VALUES": true,
              "FLATTEN_INDEX_VALUES": false,
              "GENERATE_DEX_METADATA": false,
              "HTML_TABLE_SCHEMA": false,
              "LOG_LEVEL": 30,
              "MAX_RENDER_SIZE_BYTES": 104857600,
              "MAX_STRING_LENGTH": 250,
              "NUM_PAST_SAMPLES_TRACKED": 3,
              "RANDOM_STATE": 12648430,
              "RESET_INDEX_VALUES": false,
              "ROW_SAMPLING_METHOD": "random",
              "SAMPLING_FACTOR": 0.1,
              "SAMPLING_METHOD": "random",
              "STRINGIFY_COLUMN_VALUES": true,
              "STRINGIFY_INDEX_VALUES": false
            },
            "sample_history": [],
            "sampling_time": "2023-06-15T16:40:14.092463",
            "user_variable_name": null,
            "variable_name": "unk_dataframe_5f239e17f1844c459aa90cbcb65b9917"
          }
        }
      },
      "outputs": [],
      "source": "# Get the head of the dataframe\ndata.head()",
      "id": "037abac6"
    },
    {
      "cell_type": "markdown",
      "metadata": {},
      "source": [
        "You will notice that a lot of the data are IDs. For example the rocket column has no information about the rocket just an identification number.\n",
        "\n",
        "We will now use the API again to get information about the launches using the IDs given for each launch. Specifically we will be using columns <code>rocket</code>, <code>payloads</code>, <code>launchpad</code>, and <code>cores</code>.\n"
      ],
      "id": "5e38f4ba"
    },
    {
      "cell_type": "code",
      "execution_count": null,
      "metadata": {
        "noteable": {
          "output_collection_id": "56b618a1-3b33-4536-9187-0575d99b5e25"
        },
        "ExecuteTime": {
          "end_time": "2023-06-15T16:41:34.862125+00:00",
          "start_time": "2023-06-15T16:41:34.697185+00:00"
        }
      },
      "outputs": [],
      "source": [
        "# Lets take a subset of our dataframe keeping only the features we want and the flight number, and date_utc.\n",
        "data = data[['rocket', 'payloads', 'launchpad', 'cores', 'flight_number', 'date_utc']]\n",
        "\n",
        "# We will remove rows with multiple cores because those are falcon rockets with 2 extra rocket boosters and rows that have multiple payloads in a single rocket.\n",
        "data = data[data['cores'].map(len)==1]\n",
        "data = data[data['payloads'].map(len)==1]\n",
        "\n",
        "# Since payloads and cores are lists of size 1 we will also extract the single value in the list and replace the feature.\n",
        "data['cores'] = data['cores'].map(lambda x : x[0])\n",
        "data['payloads'] = data['payloads'].map(lambda x : x[0])\n",
        "\n",
        "# We also want to convert the date_utc to a datetime datatype and then extracting the date leaving the time\n",
        "data['date'] = pd.to_datetime(data['date_utc']).dt.date\n",
        "\n",
        "# Using the date we will restrict the dates of the launches\n",
        "data = data[data['date'] <= datetime.date(2020, 11, 13)]"
      ],
      "id": "964548af"
    },
    {
      "cell_type": "markdown",
      "metadata": {},
      "source": [
        "* From the <code>rocket</code> we would like to learn the booster name\n",
        "\n",
        "* From the <code>payload</code> we would like to learn the mass of the payload and the orbit that it is going to\n",
        "\n",
        "* From the <code>launchpad</code> we would like to know the name of the launch site being used, the longitude, and the latitude.\n",
        "\n",
        "* From <code>cores</code> we would like to learn the outcome of the landing, the type of the landing, number of flights with that core, whether gridfins were used, whether the core is reused, whether legs were used, the landing pad used, the block of the core which is a number used to seperate version of cores, the number of times this specific core has been reused, and the serial of the core.\n",
        "\n",
        "The data from these requests will be stored in lists and will be used to create a new dataframe.\n"
      ],
      "id": "3c727b81"
    },
    {
      "cell_type": "code",
      "execution_count": null,
      "metadata": {
        "noteable": {
          "output_collection_id": "4d669482-51f2-447d-9df1-2fb8cb587783"
        },
        "ExecuteTime": {
          "end_time": "2023-06-15T16:41:47.879509+00:00",
          "start_time": "2023-06-15T16:41:47.722620+00:00"
        }
      },
      "outputs": [],
      "source": [
        "#Global variables \n",
        "BoosterVersion = []\n",
        "PayloadMass = []\n",
        "Orbit = []\n",
        "LaunchSite = []\n",
        "Outcome = []\n",
        "Flights = []\n",
        "GridFins = []\n",
        "Reused = []\n",
        "Legs = []\n",
        "LandingPad = []\n",
        "Block = []\n",
        "ReusedCount = []\n",
        "Serial = []\n",
        "Longitude = []\n",
        "Latitude = []"
      ],
      "id": "8090ca33"
    },
    {
      "cell_type": "markdown",
      "metadata": {},
      "source": [
        "These functions will apply the outputs globally to the above variables. Let's take a looks at <code>BoosterVersion</code> variable. Before we apply  <code>getBoosterVersion</code> the list is empty:\n"
      ],
      "id": "3b16b825"
    },
    {
      "cell_type": "code",
      "execution_count": null,
      "metadata": {
        "noteable": {
          "output_collection_id": "4c105b5a-1113-48db-a66a-802a6cf8b569"
        },
        "ExecuteTime": {
          "end_time": "2023-06-15T16:41:54.489154+00:00",
          "start_time": "2023-06-15T16:41:54.331017+00:00"
        }
      },
      "outputs": [],
      "source": [
        "BoosterVersion"
      ],
      "id": "4e644ed2"
    },
    {
      "cell_type": "markdown",
      "metadata": {},
      "source": [
        "Now, let's apply <code> getBoosterVersion</code> function method to get the booster version\n"
      ],
      "id": "635cd9f9"
    },
    {
      "cell_type": "code",
      "execution_count": null,
      "metadata": {
        "noteable": {
          "output_collection_id": "eb74da3e-b2b6-4f5c-84db-0258a2ef41ef"
        },
        "ExecuteTime": {
          "end_time": "2023-06-15T16:42:09.327487+00:00",
          "start_time": "2023-06-15T16:42:02.851895+00:00"
        }
      },
      "outputs": [],
      "source": [
        "# Call getBoosterVersion\n",
        "getBoosterVersion(data)"
      ],
      "id": "0b79b28b"
    },
    {
      "cell_type": "markdown",
      "metadata": {},
      "source": [
        "the list has now been update \n"
      ],
      "id": "2c1938ec"
    },
    {
      "cell_type": "code",
      "execution_count": null,
      "metadata": {
        "noteable": {
          "output_collection_id": "e3c9c3d5-ff55-4847-9ec1-6cf5e5499ffb"
        },
        "ExecuteTime": {
          "end_time": "2023-06-15T16:42:12.572138+00:00",
          "start_time": "2023-06-15T16:42:12.413823+00:00"
        }
      },
      "outputs": [],
      "source": [
        "BoosterVersion[0:5]"
      ],
      "id": "1907c8e1"
    },
    {
      "cell_type": "markdown",
      "metadata": {},
      "source": [
        "we can apply the rest of the  functions here:\n"
      ],
      "id": "6519e889"
    },
    {
      "cell_type": "code",
      "execution_count": null,
      "metadata": {
        "noteable": {
          "output_collection_id": "4c59afaa-f5dd-4e6f-80c0-b0540b5b6475"
        },
        "ExecuteTime": {
          "end_time": "2023-06-15T16:42:25.328458+00:00",
          "start_time": "2023-06-15T16:42:18.840213+00:00"
        }
      },
      "outputs": [],
      "source": [
        "# Call getLaunchSite\n",
        "getLaunchSite(data)"
      ],
      "id": "f39aed13"
    },
    {
      "cell_type": "code",
      "execution_count": null,
      "metadata": {
        "noteable": {
          "output_collection_id": "f0fc6d5b-d436-48b8-ae1c-be5d89c633f2"
        },
        "ExecuteTime": {
          "end_time": "2023-06-15T16:42:34.651137+00:00",
          "start_time": "2023-06-15T16:42:28.384909+00:00"
        }
      },
      "outputs": [],
      "source": [
        "# Call getPayloadData\n",
        "getPayloadData(data)"
      ],
      "id": "3b0ce301"
    },
    {
      "cell_type": "code",
      "execution_count": null,
      "metadata": {
        "noteable": {
          "output_collection_id": "93eba237-852a-49e4-834e-08aaf1419639"
        },
        "ExecuteTime": {
          "end_time": "2023-06-15T16:42:45.188929+00:00",
          "start_time": "2023-06-15T16:42:38.975433+00:00"
        }
      },
      "outputs": [],
      "source": [
        "# Call getCoreData\n",
        "getCoreData(data)"
      ],
      "id": "c47d0295"
    },
    {
      "cell_type": "markdown",
      "metadata": {},
      "source": [
        "Finally lets construct our dataset using the data we have obtained. We we combine the columns into a dictionary.\n"
      ],
      "id": "4fc4804a"
    },
    {
      "cell_type": "code",
      "execution_count": null,
      "metadata": {
        "noteable": {
          "output_collection_id": "e4fc520b-ebb5-49fb-a2cc-b10ae624209c"
        },
        "ExecuteTime": {
          "end_time": "2023-06-15T16:42:48.470741+00:00",
          "start_time": "2023-06-15T16:42:48.313456+00:00"
        }
      },
      "outputs": [],
      "source": [
        "launch_dict = {'FlightNumber': list(data['flight_number']),\n",
        "'Date': list(data['date']),\n",
        "'BoosterVersion':BoosterVersion,\n",
        "'PayloadMass':PayloadMass,\n",
        "'Orbit':Orbit,\n",
        "'LaunchSite':LaunchSite,\n",
        "'Outcome':Outcome,\n",
        "'Flights':Flights,\n",
        "'GridFins':GridFins,\n",
        "'Reused':Reused,\n",
        "'Legs':Legs,\n",
        "'LandingPad':LandingPad,\n",
        "'Block':Block,\n",
        "'ReusedCount':ReusedCount,\n",
        "'Serial':Serial,\n",
        "'Longitude': Longitude,\n",
        "'Latitude': Latitude}\n"
      ],
      "id": "b2867e24"
    },
    {
      "cell_type": "markdown",
      "metadata": {},
      "source": [
        "Then, we need to create a Pandas data frame from the dictionary launch_dict.\n"
      ],
      "id": "5a2eb540"
    },
    {
      "cell_type": "code",
      "execution_count": null,
      "metadata": {
        "noteable": {
          "output_collection_id": "c9cf1821-4242-412f-b61a-51c3d6a80424"
        },
        "ExecuteTime": {
          "end_time": "2023-06-15T16:45:17.392799+00:00",
          "start_time": "2023-06-15T16:45:17.234271+00:00"
        }
      },
      "outputs": [],
      "source": "# Create a data from launch_dict\ndf = pd.DataFrame(launch_dict)",
      "id": "6306378f"
    },
    {
      "cell_type": "markdown",
      "metadata": {},
      "source": [
        "Show the summary of the dataframe\n"
      ],
      "id": "80cccd3d"
    },
    {
      "cell_type": "code",
      "execution_count": null,
      "metadata": {
        "noteable": {
          "output_collection_id": "02540890-1c60-49cd-8d39-1bf652acd743"
        },
        "ExecuteTime": {
          "end_time": "2023-06-15T16:45:32.500780+00:00",
          "start_time": "2023-06-15T16:45:32.252852+00:00"
        },
        "datalink": {
          "c96e805f-ed83-4a84-b5e7-0e8a85c92221": {
            "applied_filters": [],
            "dataframe_info": {
              "default_index_used": true,
              "orig_num_cols": 17,
              "orig_num_rows": 5,
              "orig_size_bytes": 615,
              "truncated_num_cols": 17,
              "truncated_num_rows": 5,
              "truncated_size_bytes": 615,
              "truncated_string_columns": []
            },
            "display_id": "c96e805f-ed83-4a84-b5e7-0e8a85c92221",
            "dx_settings": {
              "ALLOW_NOTEABLE_ATTRS": true,
              "COLUMN_SAMPLING_METHOD": "outer",
              "DB_LOCATION": ":memory:",
              "DEV_MODE": false,
              "DISPLAY_MAX_COLUMNS": 100,
              "DISPLAY_MAX_ROWS": 50000,
              "DISPLAY_MODE": "simple",
              "ENABLE_ASSIGNMENT": true,
              "ENABLE_DATALINK": true,
              "FLATTEN_COLUMN_VALUES": true,
              "FLATTEN_INDEX_VALUES": false,
              "GENERATE_DEX_METADATA": false,
              "HTML_TABLE_SCHEMA": false,
              "LOG_LEVEL": 30,
              "MAX_RENDER_SIZE_BYTES": 104857600,
              "MAX_STRING_LENGTH": 250,
              "NUM_PAST_SAMPLES_TRACKED": 3,
              "RANDOM_STATE": 12648430,
              "RESET_INDEX_VALUES": false,
              "ROW_SAMPLING_METHOD": "random",
              "SAMPLING_FACTOR": 0.1,
              "SAMPLING_METHOD": "random",
              "STRINGIFY_COLUMN_VALUES": true,
              "STRINGIFY_INDEX_VALUES": false
            },
            "sample_history": [],
            "sampling_time": "2023-06-15T16:45:32.339512",
            "user_variable_name": null,
            "variable_name": "unk_dataframe_426f76aa07f54da79b4f7e27a5af5eb6"
          }
        }
      },
      "outputs": [],
      "source": "# Show the head of the dataframe\ndf.head()",
      "id": "212be1fb"
    },
    {
      "cell_type": "markdown",
      "metadata": {},
      "source": [
        "### Task 2: Filter the dataframe to only include `Falcon 9` launches\n"
      ],
      "id": "5925629d"
    },
    {
      "cell_type": "markdown",
      "metadata": {},
      "source": [
        "Finally we will remove the Falcon 1 launches keeping only the Falcon 9 launches. Filter the data dataframe using the <code>BoosterVersion</code> column to only keep the Falcon 9 launches. Save the filtered data to a new dataframe called <code>data_falcon9</code>.\n"
      ],
      "id": "e78cbe38"
    },
    {
      "cell_type": "code",
      "execution_count": null,
      "metadata": {
        "noteable": {
          "output_collection_id": "b7265fea-2429-4581-b711-4b8b7f1218eb"
        },
        "ExecuteTime": {
          "end_time": "2023-06-15T16:51:16.281909+00:00",
          "start_time": "2023-06-15T16:51:16.125027+00:00"
        }
      },
      "outputs": [],
      "source": "# Hint data['BoosterVersion']!='Falcon 1'\ndata_falcon9 = df[df['BoosterVersion']!='Falcon 1']",
      "id": "e9dee11f"
    },
    {
      "cell_type": "markdown",
      "metadata": {},
      "source": [
        "Now that we have removed some values we should reset the FlgihtNumber column\n"
      ],
      "id": "216ce44b"
    },
    {
      "cell_type": "code",
      "execution_count": null,
      "metadata": {
        "noteable": {
          "output_collection_id": "c15eb817-7bcb-4a06-bd3e-8e03545d0d73"
        },
        "ExecuteTime": {
          "end_time": "2023-06-15T16:51:23.889336+00:00",
          "start_time": "2023-06-15T16:51:23.614239+00:00"
        },
        "datalink": {
          "4b8db5ac-fbf9-426d-ada7-9adc57e68d5b": {
            "applied_filters": [],
            "dataframe_info": {
              "default_index_used": true,
              "orig_num_cols": 17,
              "orig_num_rows": 90,
              "orig_size_bytes": 11070,
              "truncated_num_cols": 17,
              "truncated_num_rows": 90,
              "truncated_size_bytes": 11070,
              "truncated_string_columns": []
            },
            "display_id": "4b8db5ac-fbf9-426d-ada7-9adc57e68d5b",
            "dx_settings": {
              "ALLOW_NOTEABLE_ATTRS": true,
              "COLUMN_SAMPLING_METHOD": "outer",
              "DB_LOCATION": ":memory:",
              "DEV_MODE": false,
              "DISPLAY_MAX_COLUMNS": 100,
              "DISPLAY_MAX_ROWS": 50000,
              "DISPLAY_MODE": "simple",
              "ENABLE_ASSIGNMENT": true,
              "ENABLE_DATALINK": true,
              "FLATTEN_COLUMN_VALUES": true,
              "FLATTEN_INDEX_VALUES": false,
              "GENERATE_DEX_METADATA": false,
              "HTML_TABLE_SCHEMA": false,
              "LOG_LEVEL": 30,
              "MAX_RENDER_SIZE_BYTES": 104857600,
              "MAX_STRING_LENGTH": 250,
              "NUM_PAST_SAMPLES_TRACKED": 3,
              "RANDOM_STATE": 12648430,
              "RESET_INDEX_VALUES": false,
              "ROW_SAMPLING_METHOD": "random",
              "SAMPLING_FACTOR": 0.1,
              "SAMPLING_METHOD": "random",
              "STRINGIFY_COLUMN_VALUES": true,
              "STRINGIFY_INDEX_VALUES": false
            },
            "sample_history": [],
            "sampling_time": "2023-06-15T16:51:23.720078",
            "user_variable_name": "data_falcon9",
            "variable_name": "data_falcon9"
          }
        }
      },
      "outputs": [],
      "source": [
        "data_falcon9.loc[:,'FlightNumber'] = list(range(1, data_falcon9.shape[0]+1))\n",
        "data_falcon9"
      ],
      "id": "25d51a85"
    },
    {
      "cell_type": "markdown",
      "metadata": {},
      "source": [
        "## Data Wrangling\n"
      ],
      "id": "3035268a"
    },
    {
      "cell_type": "markdown",
      "metadata": {},
      "source": [
        "We can see below that some of the rows are missing values in our dataset.\n"
      ],
      "id": "4f49dc7a"
    },
    {
      "cell_type": "code",
      "execution_count": null,
      "metadata": {
        "noteable": {
          "output_collection_id": "dbb019ac-544d-49e6-9358-7b5a7e2bb76d"
        },
        "ExecuteTime": {
          "end_time": "2023-06-15T16:51:43.133560+00:00",
          "start_time": "2023-06-15T16:51:42.918251+00:00"
        },
        "datalink": {
          "09a8150f-74f6-4a4d-8681-5dc50b4a6ac9": {
            "applied_filters": [],
            "dataframe_info": {
              "default_index_used": false,
              "orig_num_cols": 1,
              "orig_num_rows": 17,
              "orig_size_bytes": 272,
              "truncated_num_cols": 1,
              "truncated_num_rows": 17,
              "truncated_size_bytes": 272,
              "truncated_string_columns": []
            },
            "display_id": "09a8150f-74f6-4a4d-8681-5dc50b4a6ac9",
            "dx_settings": {
              "ALLOW_NOTEABLE_ATTRS": true,
              "COLUMN_SAMPLING_METHOD": "outer",
              "DB_LOCATION": ":memory:",
              "DEV_MODE": false,
              "DISPLAY_MAX_COLUMNS": 100,
              "DISPLAY_MAX_ROWS": 50000,
              "DISPLAY_MODE": "simple",
              "ENABLE_ASSIGNMENT": true,
              "ENABLE_DATALINK": true,
              "FLATTEN_COLUMN_VALUES": true,
              "FLATTEN_INDEX_VALUES": false,
              "GENERATE_DEX_METADATA": false,
              "HTML_TABLE_SCHEMA": false,
              "LOG_LEVEL": 30,
              "MAX_RENDER_SIZE_BYTES": 104857600,
              "MAX_STRING_LENGTH": 250,
              "NUM_PAST_SAMPLES_TRACKED": 3,
              "RANDOM_STATE": 12648430,
              "RESET_INDEX_VALUES": false,
              "ROW_SAMPLING_METHOD": "random",
              "SAMPLING_FACTOR": 0.1,
              "SAMPLING_METHOD": "random",
              "STRINGIFY_COLUMN_VALUES": true,
              "STRINGIFY_INDEX_VALUES": false
            },
            "sample_history": [],
            "sampling_time": "2023-06-15T16:51:42.977085",
            "user_variable_name": null,
            "variable_name": "unk_dataframe_a7a99c001a074c3fb537315feb2748ed"
          }
        }
      },
      "outputs": [],
      "source": [
        "data_falcon9.isnull().sum()"
      ],
      "id": "5a9f893b"
    },
    {
      "cell_type": "markdown",
      "metadata": {},
      "source": [
        "Before we can continue we must deal with these missing values. The <code>LandingPad</code> column will retain None values to represent when landing pads were not used.\n"
      ],
      "id": "1681b99f"
    },
    {
      "cell_type": "markdown",
      "metadata": {},
      "source": [
        "### Task 3: Dealing with Missing Values\n"
      ],
      "id": "5ef455b2"
    },
    {
      "cell_type": "markdown",
      "metadata": {},
      "source": [
        "Calculate below the mean for the <code>PayloadMass</code> using the <code>.mean()</code>. Then use the mean and the <code>.replace()</code> function to replace `np.nan` values in the data with the mean you calculated.\n"
      ],
      "id": "ea30dc28"
    },
    {
      "cell_type": "code",
      "execution_count": null,
      "metadata": {
        "noteable": {
          "output_collection_id": "77cb2c58-a8a3-431d-8344-aff7927e682e"
        },
        "ExecuteTime": {
          "end_time": "2023-06-15T16:54:18.984965+00:00",
          "start_time": "2023-06-15T16:54:18.827866+00:00"
        }
      },
      "outputs": [],
      "source": "# Calculate the mean value of PayloadMass column\npayload_mean = data_falcon9['PayloadMass'].mean()\n\n# Replace the np.nan values with its mean value\ndata_falcon9['PayloadMass'] = data_falcon9['PayloadMass'].replace(np.nan, payload_mean)",
      "id": "91b9923c"
    },
    {
      "cell_type": "markdown",
      "metadata": {},
      "source": [
        "You should see the number of missing values of the <code>PayLoadMass</code> change to zero.\n"
      ],
      "id": "f018a1ff"
    },
    {
      "id": "1583a9ea-e44b-4c43-86b0-57c8f7beeead",
      "cell_type": "code",
      "metadata": {
        "noteable": {
          "cell_type": "python",
          "output_collection_id": "4c291d8d-ec33-4a35-a10c-2e8d7c965544"
        },
        "ExecuteTime": {
          "end_time": "2023-06-15T16:54:59.315523+00:00",
          "start_time": "2023-06-15T16:54:59.113846+00:00"
        },
        "datalink": {
          "e80dd969-dc28-4602-992c-c9d5bae7a259": {
            "applied_filters": [],
            "dataframe_info": {
              "default_index_used": false,
              "orig_num_cols": 1,
              "orig_num_rows": 17,
              "orig_size_bytes": 272,
              "truncated_num_cols": 1,
              "truncated_num_rows": 17,
              "truncated_size_bytes": 272,
              "truncated_string_columns": []
            },
            "display_id": "e80dd969-dc28-4602-992c-c9d5bae7a259",
            "dx_settings": {
              "ALLOW_NOTEABLE_ATTRS": true,
              "COLUMN_SAMPLING_METHOD": "outer",
              "DB_LOCATION": ":memory:",
              "DEV_MODE": false,
              "DISPLAY_MAX_COLUMNS": 100,
              "DISPLAY_MAX_ROWS": 50000,
              "DISPLAY_MODE": "simple",
              "ENABLE_ASSIGNMENT": true,
              "ENABLE_DATALINK": true,
              "FLATTEN_COLUMN_VALUES": true,
              "FLATTEN_INDEX_VALUES": false,
              "GENERATE_DEX_METADATA": false,
              "HTML_TABLE_SCHEMA": false,
              "LOG_LEVEL": 30,
              "MAX_RENDER_SIZE_BYTES": 104857600,
              "MAX_STRING_LENGTH": 250,
              "NUM_PAST_SAMPLES_TRACKED": 3,
              "RANDOM_STATE": 12648430,
              "RESET_INDEX_VALUES": false,
              "ROW_SAMPLING_METHOD": "random",
              "SAMPLING_FACTOR": 0.1,
              "SAMPLING_METHOD": "random",
              "STRINGIFY_COLUMN_VALUES": true,
              "STRINGIFY_INDEX_VALUES": false
            },
            "sample_history": [],
            "sampling_time": "2023-06-15T16:54:59.159928",
            "user_variable_name": null,
            "variable_name": "unk_dataframe_2ddae344465b4c50964a6e65bcb352f5"
          }
        }
      },
      "execution_count": null,
      "source": "data_falcon9.isnull().sum()",
      "outputs": []
    },
    {
      "cell_type": "markdown",
      "metadata": {},
      "source": [
        "Now we should have no missing values in our dataset except for in <code>LandingPad</code>.\n"
      ],
      "id": "a2b93e2a"
    },
    {
      "cell_type": "markdown",
      "metadata": {},
      "source": [
        "We can now export it to a <b>CSV</b> for the next section,but to make the answers consistent, in the next lab we will provide data in a pre-selected date range. \n"
      ],
      "id": "9725e3b5"
    },
    {
      "cell_type": "markdown",
      "metadata": {},
      "source": [
        "<code>data_falcon9.to_csv('dataset_part_1.csv', index=False)</code>\n"
      ],
      "id": "3322d6a4"
    },
    {
      "cell_type": "markdown",
      "metadata": {},
      "source": [
        "## Authors\n"
      ],
      "id": "6b442340"
    },
    {
      "cell_type": "markdown",
      "metadata": {},
      "source": [
        "<a href=\"https://www.linkedin.com/in/joseph-s-50398b136/?utm_medium=Exinfluencer&utm_source=Exinfluencer&utm_content=000026UJ&utm_term=10006555&utm_id=NA-SkillsNetwork-Channel-SkillsNetworkCoursesIBMDS0321ENSkillsNetwork865-2022-01-01\">Joseph Santarcangelo</a> has a PhD in Electrical Engineering, his research focused on using machine learning, signal processing, and computer vision to determine how videos impact human cognition. Joseph has been working for IBM since he completed his PhD. \n"
      ],
      "id": "66c57b18"
    },
    {
      "cell_type": "markdown",
      "metadata": {},
      "source": [
        "## Change Log\n"
      ],
      "id": "6572ff9f"
    },
    {
      "cell_type": "markdown",
      "metadata": {},
      "source": [
        "|Date (YYYY-MM-DD)|Version|Changed By|Change Description|\n",
        "|-|-|-|-|\n",
        "|2020-09-20|1.1|Joseph|get result each time you run|\n",
        "|2020-09-20|1.1|Azim |Created Part 1 Lab using SpaceX API|\n",
        "|2020-09-20|1.0|Joseph |Modified Multiple Areas|\n"
      ],
      "id": "e1916274"
    },
    {
      "cell_type": "markdown",
      "metadata": {},
      "source": [
        "Copyright © 2021 IBM Corporation. All rights reserved.\n"
      ],
      "id": "6b7f980a"
    }
  ],
  "metadata": {
    "kernelspec": {
      "display_name": "Python",
      "language": "python",
      "name": "conda-env-python-py"
    },
    "language_info": {
      "name": ""
    },
    "noteable": {
      "last_transaction_id": "ca0bf9d4-f02c-49ba-8690-ac9698092c3d"
    }
  },
  "nbformat": 4,
  "nbformat_minor": 5
}