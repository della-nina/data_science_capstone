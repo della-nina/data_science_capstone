{
  "metadata": {
    "language_info": {
      "codemirror_mode": {
        "name": "python",
        "version": 3
      },
      "file_extension": ".py",
      "mimetype": "text/x-python",
      "name": "python",
      "nbconvert_exporter": "python",
      "pygments_lexer": "ipython3",
      "version": "3.8"
    },
    "kernelspec": {
      "name": "python",
      "display_name": "Pyolite",
      "language": "python"
    },
    "noteable": {
      "last_transaction_id": "c8fed261-1ae3-4153-8540-1f514bb04923"
    }
  },
  "nbformat_minor": 5,
  "nbformat": 4,
  "cells": [
    {
      "cell_type": "markdown",
      "source": "<p style=\"text-align:center\">\n    <a href=\"https://skills.network/?utm_medium=Exinfluencer&utm_source=Exinfluencer&utm_content=000026UJ&utm_term=10006555&utm_id=NA-SkillsNetwork-Channel-SkillsNetworkCoursesIBMDS0321ENSkillsNetwork26802033-2022-01-01\">\n    <img src=\"https://cf-courses-data.s3.us.cloud-object-storage.appdomain.cloud/assets/logos/SN_web_lightmode.png\" width=\"200\" alt=\"Skills Network Logo\"  />\n    </a>\n</p>\n",
      "metadata": {},
      "id": "66cf8320"
    },
    {
      "cell_type": "markdown",
      "source": "# **Space X  Falcon 9 First Stage Landing Prediction**\n",
      "metadata": {},
      "id": "f5f9078a"
    },
    {
      "cell_type": "markdown",
      "source": "## Assignment:  Machine Learning Prediction\n",
      "metadata": {},
      "id": "2d14e2f0"
    },
    {
      "cell_type": "markdown",
      "source": "Estimated time needed: **60** minutes\n",
      "metadata": {},
      "id": "502ae619"
    },
    {
      "cell_type": "markdown",
      "source": "Space X advertises Falcon 9 rocket launches on its website with a cost of 62 million dollars; other providers cost upward of 165 million dollars each, much of the savings is because Space X can reuse the first stage. Therefore if we can determine if the first stage will land, we can determine the cost of a launch. This information can be used if an alternate company wants to bid against space X for a rocket launch.   In this lab, you will create a machine learning pipeline  to predict if the first stage will land given the data from the preceding labs.\n",
      "metadata": {},
      "id": "f678ad57"
    },
    {
      "cell_type": "markdown",
      "source": "![](https://cf-courses-data.s3.us.cloud-object-storage.appdomain.cloud/IBMDeveloperSkillsNetwork-DS0701EN-SkillsNetwork/api/Images/landing_1.gif)\n",
      "metadata": {},
      "id": "2311dac7"
    },
    {
      "cell_type": "markdown",
      "source": "Several examples of an unsuccessful landing are shown here:\n",
      "metadata": {},
      "id": "75087892"
    },
    {
      "cell_type": "markdown",
      "source": "![](https://cf-courses-data.s3.us.cloud-object-storage.appdomain.cloud/IBMDeveloperSkillsNetwork-DS0701EN-SkillsNetwork/api/Images/crash.gif)\n",
      "metadata": {},
      "id": "6da70722"
    },
    {
      "cell_type": "markdown",
      "source": "Most unsuccessful landings are planed. Space X; performs a controlled landing in the oceans.\n",
      "metadata": {},
      "id": "e6070065"
    },
    {
      "cell_type": "markdown",
      "source": "## Objectives\n",
      "metadata": {},
      "id": "ad7f00ab"
    },
    {
      "cell_type": "markdown",
      "source": "Perform exploratory  Data Analysis and determine Training Labels\n\n*   create a column for the class\n*   Standardize the data\n*   Split into training data and test data\n\n\\-Find best Hyperparameter for SVM, Classification Trees and Logistic Regression\n\n*   Find the method performs best using test data\n",
      "metadata": {},
      "id": "691dce63"
    },
    {
      "cell_type": "markdown",
      "source": "## Import Libraries and Define Auxiliary Functions\n",
      "metadata": {},
      "id": "264394e1"
    },
    {
      "cell_type": "code",
      "source": "!pip install numpy\n!pip install pandas\n!pip install seaborn",
      "metadata": {
        "trusted": true,
        "noteable": {
          "output_collection_id": "15d1dc17-d3aa-498f-9c5d-e395d22be419"
        },
        "ExecuteTime": {
          "end_time": "2023-06-23T13:37:12.562562+00:00",
          "start_time": "2023-06-23T13:36:59.854516+00:00"
        },
        "jupyter": {
          "outputs_hidden": true
        }
      },
      "execution_count": 1,
      "outputs": [],
      "id": "8140a46c"
    },
    {
      "cell_type": "markdown",
      "source": "We will import the following libraries for the lab\n",
      "metadata": {},
      "id": "4065f1b0"
    },
    {
      "cell_type": "code",
      "source": "# Pandas is a software library written for the Python programming language for data manipulation and analysis.\nimport pandas as pd\n# NumPy is a library for the Python programming language, adding support for large, multi-dimensional arrays and matrices, along with a large collection of high-level mathematical functions to operate on these arrays\nimport numpy as np\n# Matplotlib is a plotting library for python and pyplot gives us a MatLab like plotting framework. We will use this in our plotter function to plot data.\nimport matplotlib.pyplot as plt\n#Seaborn is a Python data visualization library based on matplotlib. It provides a high-level interface for drawing attractive and informative statistical graphics\nimport seaborn as sns\n# Preprocessing allows us to standarsize our data\nfrom sklearn import preprocessing\n# Allows us to split our data into training and testing data\nfrom sklearn.model_selection import train_test_split\n# Allows us to test parameters of classification algorithms and find the best one\nfrom sklearn.model_selection import GridSearchCV\n# Logistic Regression classification algorithm\nfrom sklearn.linear_model import LogisticRegression\n# Support Vector Machine classification algorithm\nfrom sklearn.svm import SVC\n# Decision Tree classification algorithm\nfrom sklearn.tree import DecisionTreeClassifier\n# K Nearest Neighbors classification algorithm\nfrom sklearn.neighbors import KNeighborsClassifier",
      "metadata": {
        "trusted": true,
        "noteable": {
          "output_collection_id": "999b068a-67f2-4e7e-a0c8-32c099652bcf"
        },
        "ExecuteTime": {
          "end_time": "2023-06-23T13:37:24.714830+00:00",
          "start_time": "2023-06-23T13:37:23.745909+00:00"
        },
        "jupyter": {
          "source_hidden": false
        }
      },
      "execution_count": 2,
      "outputs": [],
      "id": "9c7290ea"
    },
    {
      "cell_type": "markdown",
      "source": "This function is to plot the confusion matrix.\n",
      "metadata": {},
      "id": "bd19bf5b"
    },
    {
      "cell_type": "code",
      "source": "def plot_confusion_matrix(y,y_predict):\n    \"this function plots the confusion matrix\"\n    from sklearn.metrics import confusion_matrix\n\n    cm = confusion_matrix(y, y_predict)\n    ax= plt.subplot()\n    sns.heatmap(cm, annot=True, ax = ax); #annot=True to annotate cells\n    ax.set_xlabel('Predicted labels')\n    ax.set_ylabel('True labels')\n    ax.set_title('Confusion Matrix'); \n    ax.xaxis.set_ticklabels(['did not land', 'land']); ax.yaxis.set_ticklabels(['did not land', 'landed']) \n    plt.show() ",
      "metadata": {
        "trusted": true,
        "noteable": {
          "output_collection_id": "bf62f02d-416d-4578-83d7-9048e7480047"
        },
        "ExecuteTime": {
          "end_time": "2023-06-23T13:37:31.140841+00:00",
          "start_time": "2023-06-23T13:37:30.983600+00:00"
        },
        "jupyter": {
          "source_hidden": false
        }
      },
      "execution_count": 3,
      "outputs": [],
      "id": "abeeea33"
    },
    {
      "cell_type": "markdown",
      "source": "## Load the dataframe\n",
      "metadata": {},
      "id": "e2693abe"
    },
    {
      "cell_type": "markdown",
      "source": "Load the data\n",
      "metadata": {},
      "id": "7d172c18"
    },
    {
      "cell_type": "code",
      "source": "# from js import fetch\nimport io\n\n# URL1 = \"https://cf-courses-data.s3.us.cloud-object-storage.appdomain.cloud/IBM-DS0321EN-SkillsNetwork/datasets/dataset_part_2.csv\"\n# resp1 = await fetch(URL1)\n# text1 = io.BytesIO((await resp1.arrayBuffer()).to_py())\n# data = pd.read_csv(text1)\n\nimport requests\n\nURL1 = \"https://cf-courses-data.s3.us.cloud-object-storage.appdomain.cloud/IBM-DS0321EN-SkillsNetwork/datasets/dataset_part_2.csv\"\nresp1 = requests.get(URL1)\ndata = pd.read_csv(io.BytesIO(resp1.content))",
      "metadata": {
        "trusted": true,
        "noteable": {
          "output_collection_id": "5326f536-9a2d-4aef-9ebe-77b68c629ee6"
        },
        "ExecuteTime": {
          "end_time": "2023-06-23T13:37:39.857798+00:00",
          "start_time": "2023-06-23T13:37:39.508141+00:00"
        }
      },
      "execution_count": 4,
      "outputs": [],
      "id": "03885684"
    },
    {
      "cell_type": "code",
      "source": "data.head()",
      "metadata": {
        "trusted": true,
        "noteable": {
          "output_collection_id": "c995a843-02f2-4087-b3c0-06f9fa4f7443"
        },
        "ExecuteTime": {
          "end_time": "2023-06-23T13:37:42.917145+00:00",
          "start_time": "2023-06-23T13:37:42.675530+00:00"
        },
        "datalink": {
          "caf67a6f-ec54-473a-8cb9-171aa858d707": {
            "applied_filters": [],
            "dataframe_info": {
              "default_index_used": true,
              "orig_num_cols": 18,
              "orig_num_rows": 5,
              "orig_size_bytes": 655,
              "truncated_num_cols": 18,
              "truncated_num_rows": 5,
              "truncated_size_bytes": 655,
              "truncated_string_columns": []
            },
            "display_id": "caf67a6f-ec54-473a-8cb9-171aa858d707",
            "dx_settings": {
              "ALLOW_NOTEABLE_ATTRS": true,
              "COLUMN_SAMPLING_METHOD": "outer",
              "DB_LOCATION": ":memory:",
              "DEV_MODE": false,
              "DISPLAY_MAX_COLUMNS": 100,
              "DISPLAY_MAX_ROWS": 50000,
              "DISPLAY_MODE": "simple",
              "ENABLE_ASSIGNMENT": true,
              "ENABLE_DATALINK": true,
              "FLATTEN_COLUMN_VALUES": true,
              "FLATTEN_INDEX_VALUES": false,
              "GENERATE_DEX_METADATA": false,
              "HTML_TABLE_SCHEMA": false,
              "LOG_LEVEL": 30,
              "MAX_RENDER_SIZE_BYTES": 104857600,
              "MAX_STRING_LENGTH": 250,
              "NUM_PAST_SAMPLES_TRACKED": 3,
              "RANDOM_STATE": 12648430,
              "RESET_INDEX_VALUES": false,
              "ROW_SAMPLING_METHOD": "random",
              "SAMPLING_FACTOR": 0.1,
              "SAMPLING_METHOD": "random",
              "STRINGIFY_COLUMN_VALUES": true,
              "STRINGIFY_INDEX_VALUES": false
            },
            "sample_history": [],
            "sampling_time": "2023-06-23T11:48:28.545254",
            "user_variable_name": null,
            "variable_name": "unk_dataframe_1236641e87ab4c579bf75b908d9c80ff"
          },
          "ce0896e3-3882-4e40-bff5-3f7432cc01b8": {
            "applied_filters": [],
            "dataframe_info": {
              "default_index_used": true,
              "orig_num_cols": 18,
              "orig_num_rows": 5,
              "orig_size_bytes": 655,
              "truncated_num_cols": 18,
              "truncated_num_rows": 5,
              "truncated_size_bytes": 655,
              "truncated_string_columns": []
            },
            "display_id": "ce0896e3-3882-4e40-bff5-3f7432cc01b8",
            "dx_settings": {
              "ALLOW_NOTEABLE_ATTRS": true,
              "COLUMN_SAMPLING_METHOD": "outer",
              "DB_LOCATION": ":memory:",
              "DEV_MODE": false,
              "DISPLAY_MAX_COLUMNS": 100,
              "DISPLAY_MAX_ROWS": 50000,
              "DISPLAY_MODE": "simple",
              "ENABLE_ASSIGNMENT": true,
              "ENABLE_DATALINK": true,
              "FLATTEN_COLUMN_VALUES": true,
              "FLATTEN_INDEX_VALUES": false,
              "GENERATE_DEX_METADATA": false,
              "HTML_TABLE_SCHEMA": false,
              "LOG_LEVEL": 30,
              "MAX_RENDER_SIZE_BYTES": 104857600,
              "MAX_STRING_LENGTH": 250,
              "NUM_PAST_SAMPLES_TRACKED": 3,
              "RANDOM_STATE": 12648430,
              "RESET_INDEX_VALUES": false,
              "ROW_SAMPLING_METHOD": "random",
              "SAMPLING_FACTOR": 0.1,
              "SAMPLING_METHOD": "random",
              "STRINGIFY_COLUMN_VALUES": true,
              "STRINGIFY_INDEX_VALUES": false
            },
            "sample_history": [],
            "sampling_time": "2023-06-23T11:50:05.035151",
            "user_variable_name": null,
            "variable_name": "unk_dataframe_0e3b5229fe004bdf959fcd5ea966b9ff"
          },
          "c0b69f36-71c0-4af3-ad75-fc6cc13f9c20": {
            "applied_filters": [],
            "dataframe_info": {
              "default_index_used": true,
              "orig_num_cols": 18,
              "orig_num_rows": 5,
              "orig_size_bytes": 655,
              "truncated_num_cols": 18,
              "truncated_num_rows": 5,
              "truncated_size_bytes": 655,
              "truncated_string_columns": []
            },
            "display_id": "c0b69f36-71c0-4af3-ad75-fc6cc13f9c20",
            "dx_settings": {
              "ALLOW_NOTEABLE_ATTRS": true,
              "COLUMN_SAMPLING_METHOD": "outer",
              "DB_LOCATION": ":memory:",
              "DEV_MODE": false,
              "DISPLAY_MAX_COLUMNS": 100,
              "DISPLAY_MAX_ROWS": 50000,
              "DISPLAY_MODE": "simple",
              "ENABLE_ASSIGNMENT": true,
              "ENABLE_DATALINK": true,
              "FLATTEN_COLUMN_VALUES": true,
              "FLATTEN_INDEX_VALUES": false,
              "GENERATE_DEX_METADATA": false,
              "HTML_TABLE_SCHEMA": false,
              "LOG_LEVEL": 30,
              "MAX_RENDER_SIZE_BYTES": 104857600,
              "MAX_STRING_LENGTH": 250,
              "NUM_PAST_SAMPLES_TRACKED": 3,
              "RANDOM_STATE": 12648430,
              "RESET_INDEX_VALUES": false,
              "ROW_SAMPLING_METHOD": "random",
              "SAMPLING_FACTOR": 0.1,
              "SAMPLING_METHOD": "random",
              "STRINGIFY_COLUMN_VALUES": true,
              "STRINGIFY_INDEX_VALUES": false
            },
            "sample_history": [],
            "sampling_time": "2023-06-23T11:57:14.947642",
            "user_variable_name": null,
            "variable_name": "unk_dataframe_d4ba945ed3bd4f4ab9c5a6d3b1ddfcd9"
          },
          "e15f5d30-03f3-4e6c-afa1-f78f202ebdad": {
            "applied_filters": [],
            "dataframe_info": {
              "default_index_used": true,
              "orig_num_cols": 18,
              "orig_num_rows": 5,
              "orig_size_bytes": 655,
              "truncated_num_cols": 18,
              "truncated_num_rows": 5,
              "truncated_size_bytes": 655,
              "truncated_string_columns": []
            },
            "display_id": "e15f5d30-03f3-4e6c-afa1-f78f202ebdad",
            "dx_settings": {
              "ALLOW_NOTEABLE_ATTRS": true,
              "COLUMN_SAMPLING_METHOD": "outer",
              "DB_LOCATION": ":memory:",
              "DEV_MODE": false,
              "DISPLAY_MAX_COLUMNS": 100,
              "DISPLAY_MAX_ROWS": 50000,
              "DISPLAY_MODE": "simple",
              "ENABLE_ASSIGNMENT": true,
              "ENABLE_DATALINK": true,
              "FLATTEN_COLUMN_VALUES": true,
              "FLATTEN_INDEX_VALUES": false,
              "GENERATE_DEX_METADATA": false,
              "HTML_TABLE_SCHEMA": false,
              "LOG_LEVEL": 30,
              "MAX_RENDER_SIZE_BYTES": 104857600,
              "MAX_STRING_LENGTH": 250,
              "NUM_PAST_SAMPLES_TRACKED": 3,
              "RANDOM_STATE": 12648430,
              "RESET_INDEX_VALUES": false,
              "ROW_SAMPLING_METHOD": "random",
              "SAMPLING_FACTOR": 0.1,
              "SAMPLING_METHOD": "random",
              "STRINGIFY_COLUMN_VALUES": true,
              "STRINGIFY_INDEX_VALUES": false
            },
            "sample_history": [],
            "sampling_time": "2023-06-23T13:37:42.755968",
            "user_variable_name": null,
            "variable_name": "unk_dataframe_3dea1095530c4602887f2521931b1542"
          }
        }
      },
      "execution_count": 5,
      "outputs": [],
      "id": "7f01b910"
    },
    {
      "cell_type": "code",
      "source": "URL2 = 'https://cf-courses-data.s3.us.cloud-object-storage.appdomain.cloud/IBM-DS0321EN-SkillsNetwork/datasets/dataset_part_3.csv'\n# resp2 = await fetch(URL2)\n# text2 = io.BytesIO((await resp2.arrayBuffer()).to_py())\n# X = pd.read_csv(text2)\n\nresp2 = requests.get(URL2)\nX = pd.read_csv(io.BytesIO(resp2.content))",
      "metadata": {
        "trusted": true,
        "noteable": {
          "output_collection_id": "0af83f1e-a4c7-4048-a9d3-db73fbaa2041"
        },
        "ExecuteTime": {
          "end_time": "2023-06-23T13:37:49.665148+00:00",
          "start_time": "2023-06-23T13:37:49.048628+00:00"
        }
      },
      "execution_count": 6,
      "outputs": [],
      "id": "2361d219"
    },
    {
      "cell_type": "code",
      "source": "X.head(100)",
      "metadata": {
        "trusted": true,
        "noteable": {
          "output_collection_id": "006ed19e-9708-442b-a4ad-897256be26d2"
        },
        "ExecuteTime": {
          "end_time": "2023-06-23T13:37:53.626121+00:00",
          "start_time": "2023-06-23T13:37:53.179940+00:00"
        },
        "datalink": {
          "2e022e2d-e145-46da-87fd-8f27f40b3806": {
            "applied_filters": [],
            "dataframe_info": {
              "default_index_used": true,
              "orig_num_cols": 83,
              "orig_num_rows": 90,
              "orig_size_bytes": 60480,
              "truncated_num_cols": 83,
              "truncated_num_rows": 90,
              "truncated_size_bytes": 60480,
              "truncated_string_columns": []
            },
            "display_id": "2e022e2d-e145-46da-87fd-8f27f40b3806",
            "dx_settings": {
              "ALLOW_NOTEABLE_ATTRS": true,
              "COLUMN_SAMPLING_METHOD": "outer",
              "DB_LOCATION": ":memory:",
              "DEV_MODE": false,
              "DISPLAY_MAX_COLUMNS": 100,
              "DISPLAY_MAX_ROWS": 50000,
              "DISPLAY_MODE": "simple",
              "ENABLE_ASSIGNMENT": true,
              "ENABLE_DATALINK": true,
              "FLATTEN_COLUMN_VALUES": true,
              "FLATTEN_INDEX_VALUES": false,
              "GENERATE_DEX_METADATA": false,
              "HTML_TABLE_SCHEMA": false,
              "LOG_LEVEL": 30,
              "MAX_RENDER_SIZE_BYTES": 104857600,
              "MAX_STRING_LENGTH": 250,
              "NUM_PAST_SAMPLES_TRACKED": 3,
              "RANDOM_STATE": 12648430,
              "RESET_INDEX_VALUES": false,
              "ROW_SAMPLING_METHOD": "random",
              "SAMPLING_FACTOR": 0.1,
              "SAMPLING_METHOD": "random",
              "STRINGIFY_COLUMN_VALUES": true,
              "STRINGIFY_INDEX_VALUES": false
            },
            "sample_history": [],
            "sampling_time": "2023-06-23T11:50:42.738223",
            "user_variable_name": "data",
            "variable_name": "data"
          },
          "ce9e9c67-3e06-4a91-b908-8abc8584017b": {
            "applied_filters": [],
            "dataframe_info": {
              "default_index_used": true,
              "orig_num_cols": 83,
              "orig_num_rows": 90,
              "orig_size_bytes": 60480,
              "truncated_num_cols": 83,
              "truncated_num_rows": 90,
              "truncated_size_bytes": 60480,
              "truncated_string_columns": []
            },
            "display_id": "ce9e9c67-3e06-4a91-b908-8abc8584017b",
            "dx_settings": {
              "ALLOW_NOTEABLE_ATTRS": true,
              "COLUMN_SAMPLING_METHOD": "outer",
              "DB_LOCATION": ":memory:",
              "DEV_MODE": false,
              "DISPLAY_MAX_COLUMNS": 100,
              "DISPLAY_MAX_ROWS": 50000,
              "DISPLAY_MODE": "simple",
              "ENABLE_ASSIGNMENT": true,
              "ENABLE_DATALINK": true,
              "FLATTEN_COLUMN_VALUES": true,
              "FLATTEN_INDEX_VALUES": false,
              "GENERATE_DEX_METADATA": false,
              "HTML_TABLE_SCHEMA": false,
              "LOG_LEVEL": 30,
              "MAX_RENDER_SIZE_BYTES": 104857600,
              "MAX_STRING_LENGTH": 250,
              "NUM_PAST_SAMPLES_TRACKED": 3,
              "RANDOM_STATE": 12648430,
              "RESET_INDEX_VALUES": false,
              "ROW_SAMPLING_METHOD": "random",
              "SAMPLING_FACTOR": 0.1,
              "SAMPLING_METHOD": "random",
              "STRINGIFY_COLUMN_VALUES": true,
              "STRINGIFY_INDEX_VALUES": false
            },
            "sample_history": [],
            "sampling_time": "2023-06-23T11:57:24.398675",
            "user_variable_name": "X",
            "variable_name": "X"
          },
          "2650a2dc-6d79-4d77-a5b1-22206b04d9fb": {
            "applied_filters": [],
            "dataframe_info": {
              "default_index_used": true,
              "orig_num_cols": 83,
              "orig_num_rows": 90,
              "orig_size_bytes": 60480,
              "truncated_num_cols": 83,
              "truncated_num_rows": 90,
              "truncated_size_bytes": 60480,
              "truncated_string_columns": []
            },
            "display_id": "2650a2dc-6d79-4d77-a5b1-22206b04d9fb",
            "dx_settings": {
              "ALLOW_NOTEABLE_ATTRS": true,
              "COLUMN_SAMPLING_METHOD": "outer",
              "DB_LOCATION": ":memory:",
              "DEV_MODE": false,
              "DISPLAY_MAX_COLUMNS": 100,
              "DISPLAY_MAX_ROWS": 50000,
              "DISPLAY_MODE": "simple",
              "ENABLE_ASSIGNMENT": true,
              "ENABLE_DATALINK": true,
              "FLATTEN_COLUMN_VALUES": true,
              "FLATTEN_INDEX_VALUES": false,
              "GENERATE_DEX_METADATA": false,
              "HTML_TABLE_SCHEMA": false,
              "LOG_LEVEL": 30,
              "MAX_RENDER_SIZE_BYTES": 104857600,
              "MAX_STRING_LENGTH": 250,
              "NUM_PAST_SAMPLES_TRACKED": 3,
              "RANDOM_STATE": 12648430,
              "RESET_INDEX_VALUES": false,
              "ROW_SAMPLING_METHOD": "random",
              "SAMPLING_FACTOR": 0.1,
              "SAMPLING_METHOD": "random",
              "STRINGIFY_COLUMN_VALUES": true,
              "STRINGIFY_INDEX_VALUES": false
            },
            "sample_history": [],
            "sampling_time": "2023-06-23T13:37:53.446980",
            "user_variable_name": "X",
            "variable_name": "X"
          }
        }
      },
      "execution_count": 7,
      "outputs": [],
      "id": "bdbd7a42"
    },
    {
      "cell_type": "markdown",
      "source": "## TASK  1\n",
      "metadata": {},
      "id": "c7ce58b1"
    },
    {
      "cell_type": "markdown",
      "source": "Create a NumPy array from the column <code>Class</code> in <code>data</code>, by applying the method <code>to_numpy()</code>  then\nassign it  to the variable <code>Y</code>,make sure the output is a  Pandas series (only one bracket df\\['name of  column']).\n",
      "metadata": {},
      "id": "85542e63"
    },
    {
      "cell_type": "code",
      "source": "# Create a Pandas Series from the 'Class' column\nY = data['Class']\n\n# Convert the Pandas Series to a NumPy array\nY = Y.to_numpy()\n\n# Check the type of Y\nprint(type(Y))",
      "metadata": {
        "trusted": true,
        "noteable": {
          "output_collection_id": "818cd553-c001-48a4-ad0b-d668e3a00f0c"
        },
        "ExecuteTime": {
          "end_time": "2023-06-23T13:38:00.424023+00:00",
          "start_time": "2023-06-23T13:38:00.267233+00:00"
        }
      },
      "execution_count": 8,
      "outputs": [],
      "id": "1f773421"
    },
    {
      "cell_type": "markdown",
      "source": "## TASK  2\n",
      "metadata": {},
      "id": "cee38531"
    },
    {
      "cell_type": "markdown",
      "source": "Standardize the data in <code>X</code> then reassign it to the variable  <code>X</code> using the transform provided below.\n",
      "metadata": {},
      "id": "01055c05"
    },
    {
      "cell_type": "code",
      "source": "# students get this \ntransform = preprocessing.StandardScaler()\n\n# Standardize the data in X\nX = transform.fit_transform(X)\n",
      "metadata": {
        "trusted": true,
        "noteable": {
          "output_collection_id": "9c724082-3c41-4e70-bf88-74e43b09be62"
        },
        "ExecuteTime": {
          "end_time": "2023-06-23T13:39:14.082423+00:00",
          "start_time": "2023-06-23T13:39:13.920877+00:00"
        }
      },
      "execution_count": 9,
      "outputs": [],
      "id": "e1bc42aa"
    },
    {
      "cell_type": "markdown",
      "source": "We split the data into training and testing data using the  function  <code>train_test_split</code>.   The training data is divided into validation data, a second set used for training  data; then the models are trained and hyperparameters are selected using the function <code>GridSearchCV</code>.\n",
      "metadata": {},
      "id": "b5cf3194"
    },
    {
      "cell_type": "markdown",
      "source": "## TASK  3\n",
      "metadata": {},
      "id": "58d49a6f"
    },
    {
      "cell_type": "markdown",
      "source": "Use the function train_test_split to split the data X and Y into training and test data. Set the parameter test_size to  0.2 and random_state to 2. The training data and test data should be assigned to the following labels.\n",
      "metadata": {},
      "id": "6f358360"
    },
    {
      "cell_type": "markdown",
      "source": "<code>X_train, X_test, Y_train, Y_test</code>\n",
      "metadata": {},
      "id": "d8bf3cf5"
    },
    {
      "cell_type": "code",
      "source": "# Split the data into training and test datasets\nX_train, X_test, Y_train, Y_test = train_test_split(X, Y, test_size=0.2, random_state=2)\n\n# Check the shapes of the training and test datasets\nprint(\"Training data - X_train shape:\", X_train.shape)\nprint(\"Training data - Y_train shape:\", Y_train.shape)\nprint(\"Test data - X_test shape:\", X_test.shape)\nprint(\"Test data - Y_test shape:\", Y_test.shape)",
      "metadata": {
        "trusted": true,
        "noteable": {
          "output_collection_id": "cdcd0eb4-cc9b-4bd7-a72e-25af45435da0"
        },
        "ExecuteTime": {
          "end_time": "2023-06-23T13:39:25.207480+00:00",
          "start_time": "2023-06-23T13:39:25.047711+00:00"
        }
      },
      "execution_count": 10,
      "outputs": [],
      "id": "804ae782"
    },
    {
      "cell_type": "markdown",
      "source": "we can see we only have 18 test samples.\n",
      "metadata": {},
      "id": "a4169be4"
    },
    {
      "cell_type": "code",
      "source": "Y_test.shape",
      "metadata": {
        "trusted": true,
        "noteable": {
          "output_collection_id": "8e85da5b-ba04-4114-a2ab-612aef54c46f"
        },
        "ExecuteTime": {
          "end_time": "2023-06-23T13:39:30.321714+00:00",
          "start_time": "2023-06-23T13:39:30.160623+00:00"
        }
      },
      "execution_count": 11,
      "outputs": [],
      "id": "2ab6a3e5"
    },
    {
      "cell_type": "markdown",
      "source": "## TASK  4\n",
      "metadata": {},
      "id": "58ac9ce3"
    },
    {
      "cell_type": "markdown",
      "source": "Create a logistic regression object  then create a  GridSearchCV object  <code>logreg_cv</code> with cv = 10.  Fit the object to find the best parameters from the dictionary <code>parameters</code>.\n",
      "metadata": {},
      "id": "638721a8"
    },
    {
      "cell_type": "code",
      "source": "parameters ={'C':[0.01,0.1,1],\n             'penalty':['l2'],\n             'solver':['lbfgs']}",
      "metadata": {
        "trusted": true,
        "noteable": {
          "output_collection_id": "fe95065e-e1f9-4d2a-a171-6daca1e81ca7"
        },
        "ExecuteTime": {
          "end_time": "2023-06-23T13:39:33.977707+00:00",
          "start_time": "2023-06-23T13:39:33.822155+00:00"
        }
      },
      "execution_count": 23,
      "outputs": [],
      "id": "5b1da6eb"
    },
    {
      "cell_type": "code",
      "source": "parameters ={\"C\":[0.01,0.1,1],'penalty':['l2'], 'solver':['lbfgs']}# l1 lasso l2 ridge\nlr=LogisticRegression(max_iter=1000)\n# Create a GridSearchCV object\nlogreg_cv = GridSearchCV(lr, parameters, cv=10)\nlogreg_cv.fit(X_train, Y_train)",
      "metadata": {
        "trusted": true,
        "noteable": {
          "output_collection_id": "1c34ec75-c8ff-4bbb-a9e4-fc4c6943cc39"
        },
        "ExecuteTime": {
          "end_time": "2023-06-23T13:39:37.516095+00:00",
          "start_time": "2023-06-23T13:39:37.191118+00:00"
        }
      },
      "execution_count": 27,
      "outputs": [],
      "id": "d823a399"
    },
    {
      "cell_type": "markdown",
      "source": "We output the <code>GridSearchCV</code> object for logistic regression. We display the best parameters using the data attribute <code>best_params\\_</code> and the accuracy on the validation data using the data attribute <code>best_score\\_</code>.\n",
      "metadata": {},
      "id": "367f75c1"
    },
    {
      "cell_type": "code",
      "source": "print(\"tuned hpyerparameters :(best parameters) \",logreg_cv.best_params_)\nprint(\"accuracy :\",logreg_cv.best_score_)",
      "metadata": {
        "trusted": true,
        "noteable": {
          "output_collection_id": "76785fbf-1472-4de4-b326-10b3e0f15b0a"
        },
        "ExecuteTime": {
          "end_time": "2023-06-23T13:39:41.269643+00:00",
          "start_time": "2023-06-23T13:39:41.112686+00:00"
        }
      },
      "execution_count": 28,
      "outputs": [],
      "id": "28f6bb3c"
    },
    {
      "cell_type": "markdown",
      "source": "## TASK  5\n",
      "metadata": {},
      "id": "f562bcac"
    },
    {
      "cell_type": "markdown",
      "source": "Calculate the accuracy on the test data using the method <code>score</code>:\n",
      "metadata": {},
      "id": "e456758d"
    },
    {
      "cell_type": "code",
      "source": "# Calculate the accuracy on the test data\naccuracy = logreg_cv.score(X_test, Y_test)\n\n# Print the accuracy\nprint(\"Accuracy on test data:\", accuracy)",
      "metadata": {
        "trusted": true,
        "noteable": {
          "output_collection_id": "51b5fb62-7e0f-46f1-847a-eb39f89eddec"
        },
        "ExecuteTime": {
          "end_time": "2023-06-23T13:39:46.793050+00:00",
          "start_time": "2023-06-23T13:39:46.635740+00:00"
        }
      },
      "execution_count": 29,
      "outputs": [],
      "id": "80fb3ab4"
    },
    {
      "cell_type": "markdown",
      "source": "Lets look at the confusion matrix:\n",
      "metadata": {},
      "id": "99638afa"
    },
    {
      "cell_type": "code",
      "source": "yhat=logreg_cv.predict(X_test)\nplot_confusion_matrix(Y_test,yhat)",
      "metadata": {
        "trusted": true,
        "noteable": {
          "output_collection_id": "17cb3b79-ba54-4654-8385-b0df1639d8c2"
        },
        "ExecuteTime": {
          "end_time": "2023-06-23T13:39:51.282686+00:00",
          "start_time": "2023-06-23T13:39:50.691627+00:00"
        }
      },
      "execution_count": 30,
      "outputs": [],
      "id": "f0322f83"
    },
    {
      "cell_type": "markdown",
      "source": "Examining the confusion matrix, we see that logistic regression can distinguish between the different classes.  We see that the major problem is false positives.\n",
      "metadata": {},
      "id": "2f9cc434"
    },
    {
      "cell_type": "markdown",
      "source": "## TASK  6\n",
      "metadata": {},
      "id": "42e81fc3"
    },
    {
      "cell_type": "markdown",
      "source": "Create a support vector machine object then  create a  <code>GridSearchCV</code> object  <code>svm_cv</code> with cv - 10.  Fit the object to find the best parameters from the dictionary <code>parameters</code>.\n",
      "metadata": {},
      "id": "9c120bac"
    },
    {
      "cell_type": "code",
      "source": "parameters = {'kernel':('linear', 'rbf','poly','rbf', 'sigmoid'),\n              'C': np.logspace(-3, 3, 5),\n              'gamma':np.logspace(-3, 3, 5)}\nsvm = SVC()",
      "metadata": {
        "trusted": true,
        "noteable": {
          "output_collection_id": "65c93804-69be-4667-b8e0-1cfc7f4a17c6"
        },
        "ExecuteTime": {
          "end_time": "2023-06-23T13:39:59.641898+00:00",
          "start_time": "2023-06-23T13:39:59.485361+00:00"
        }
      },
      "execution_count": null,
      "outputs": [],
      "id": "648f10a9"
    },
    {
      "cell_type": "code",
      "source": "# Create a GridSearchCV object\nsvm_cv = GridSearchCV(svm, parameters, cv=10)\n\n# Fit the GridSearchCV object to find the best parameters\nsvm_cv.fit(X_train, Y_train)",
      "metadata": {
        "trusted": true,
        "noteable": {
          "output_collection_id": "72fa152e-5a39-4d2b-83ea-c2e4afc33251"
        },
        "ExecuteTime": {
          "end_time": "2023-06-23T13:40:06.130250+00:00",
          "start_time": "2023-06-23T13:40:03.928684+00:00"
        }
      },
      "execution_count": null,
      "outputs": [],
      "id": "c098fbbc"
    },
    {
      "cell_type": "code",
      "source": "print(\"tuned hpyerparameters :(best parameters) \",svm_cv.best_params_)\n# print(\"accuracy :\",svm_cv.best_score_)",
      "metadata": {
        "trusted": true,
        "noteable": {
          "output_collection_id": "5fb05ea2-5267-469e-a274-ca1baf75b4c7"
        },
        "ExecuteTime": {
          "end_time": "2023-06-23T13:40:11.644903+00:00",
          "start_time": "2023-06-23T13:40:11.488683+00:00"
        }
      },
      "execution_count": null,
      "outputs": [],
      "id": "3a15890e"
    },
    {
      "cell_type": "markdown",
      "source": "## TASK  7\n",
      "metadata": {},
      "id": "e974f036"
    },
    {
      "cell_type": "markdown",
      "source": "Calculate the accuracy on the test data using the method <code>score</code>:\n",
      "metadata": {},
      "id": "3a74894a"
    },
    {
      "cell_type": "code",
      "source": "# Calculate the accuracy on the test data\naccuracy = svm_cv.score(X_test, Y_test)\n\n# Print the accuracy\nprint(\"Accuracy on test data:\", accuracy)",
      "metadata": {
        "noteable": {
          "output_collection_id": "ab1c2e3e-457c-4828-b71f-e5946e554d4a"
        },
        "ExecuteTime": {
          "end_time": "2023-06-23T13:40:18.106261+00:00",
          "start_time": "2023-06-23T13:40:17.947906+00:00"
        }
      },
      "execution_count": null,
      "outputs": [],
      "id": "c4bbac57"
    },
    {
      "cell_type": "markdown",
      "source": "We can plot the confusion matrix\n",
      "metadata": {},
      "id": "2437d600"
    },
    {
      "cell_type": "code",
      "source": "yhat=svm_cv.predict(X_test)\nplot_confusion_matrix(Y_test,yhat)",
      "metadata": {
        "noteable": {
          "output_collection_id": "9e488e73-e110-47f7-b5a5-ce3b94179f14"
        },
        "ExecuteTime": {
          "end_time": "2023-06-23T13:40:23.741249+00:00",
          "start_time": "2023-06-23T13:40:23.284948+00:00"
        }
      },
      "execution_count": null,
      "outputs": [],
      "id": "1a8f0e4c"
    },
    {
      "cell_type": "markdown",
      "source": "## TASK  8\n",
      "metadata": {},
      "id": "99e661f1"
    },
    {
      "cell_type": "markdown",
      "source": "Create a decision tree classifier object then  create a  <code>GridSearchCV</code> object  <code>tree_cv</code> with cv = 10.  Fit the object to find the best parameters from the dictionary <code>parameters</code>.\n",
      "metadata": {},
      "id": "7c03e7ae"
    },
    {
      "cell_type": "code",
      "source": "parameters = {'criterion': ['gini', 'entropy'],\n     'splitter': ['best', 'random'],\n     'max_depth': [2*n for n in range(1,10)],\n     'max_features': ['auto', 'sqrt'],\n     'min_samples_leaf': [1, 2, 4],\n     'min_samples_split': [2, 5, 10]}\n\ntree = DecisionTreeClassifier()",
      "metadata": {
        "noteable": {
          "output_collection_id": "1d534d36-b902-421e-846b-f1b9675f4bf0"
        },
        "ExecuteTime": {
          "end_time": "2023-06-23T13:41:18.946076+00:00",
          "start_time": "2023-06-23T13:41:18.789543+00:00"
        }
      },
      "execution_count": null,
      "outputs": [],
      "id": "01e32025"
    },
    {
      "cell_type": "code",
      "source": "# Create a GridSearchCV object\ntree_cv = GridSearchCV(tree, parameters, cv=10)\n\n# Fit the object to find the best parameters\ntree_cv.fit(X, Y)\n",
      "metadata": {
        "noteable": {
          "output_collection_id": "833714c5-73fa-4531-afac-e2e8c9ee048e"
        },
        "ExecuteTime": {
          "end_time": "2023-06-23T13:44:49.787258+00:00",
          "start_time": "2023-06-23T13:44:42.314567+00:00"
        }
      },
      "execution_count": null,
      "outputs": [],
      "id": "3dec1ac4"
    },
    {
      "cell_type": "code",
      "source": "print(\"tuned hpyerparameters :(best parameters) \",tree_cv.best_params_)\nprint(\"accuracy :\",tree_cv.best_score_)",
      "metadata": {
        "noteable": {
          "output_collection_id": "5efb900e-dc12-4574-9c1f-c3235aed3185"
        },
        "ExecuteTime": {
          "end_time": "2023-06-23T13:44:55.903942+00:00",
          "start_time": "2023-06-23T13:44:55.746554+00:00"
        }
      },
      "execution_count": null,
      "outputs": [],
      "id": "1870ac81"
    },
    {
      "cell_type": "markdown",
      "source": "## TASK  9\n",
      "metadata": {},
      "id": "586f48ce"
    },
    {
      "cell_type": "markdown",
      "source": "Calculate the accuracy of tree_cv on the test data using the method <code>score</code>:\n",
      "metadata": {},
      "id": "5add1d41"
    },
    {
      "cell_type": "code",
      "source": "# Calculate the accuracy on the test data\naccuracy = tree_cv.score(X_test, Y_test)\n\n# Print the accuracy\nprint(\"Accuracy on test data:\", accuracy)",
      "metadata": {
        "noteable": {
          "output_collection_id": "624ef36c-df65-4a12-bee9-241361f32773"
        },
        "ExecuteTime": {
          "end_time": "2023-06-23T13:45:40.090907+00:00",
          "start_time": "2023-06-23T13:45:39.933856+00:00"
        }
      },
      "execution_count": null,
      "outputs": [],
      "id": "74f9d22b"
    },
    {
      "cell_type": "markdown",
      "source": "We can plot the confusion matrix\n",
      "metadata": {},
      "id": "633be6b1"
    },
    {
      "cell_type": "code",
      "source": "yhat = tree_cv.predict(X_test)\nplot_confusion_matrix(Y_test,yhat)",
      "metadata": {
        "noteable": {
          "output_collection_id": "7311a590-4796-4a2b-8948-79ab299e3644"
        },
        "ExecuteTime": {
          "end_time": "2023-06-23T13:45:44.994992+00:00",
          "start_time": "2023-06-23T13:45:44.546563+00:00"
        }
      },
      "execution_count": null,
      "outputs": [],
      "id": "1c9266d5"
    },
    {
      "cell_type": "markdown",
      "source": "## TASK  10\n",
      "metadata": {},
      "id": "81633dc4"
    },
    {
      "cell_type": "markdown",
      "source": "Create a k nearest neighbors object then  create a  <code>GridSearchCV</code> object  <code>knn_cv</code> with cv = 10.  Fit the object to find the best parameters from the dictionary <code>parameters</code>.\n",
      "metadata": {},
      "id": "21f2d166"
    },
    {
      "cell_type": "code",
      "source": "parameters = {'n_neighbors': [1, 2, 3, 4, 5, 6, 7, 8, 9, 10],\n              'algorithm': ['auto', 'ball_tree', 'kd_tree', 'brute'],\n              'p': [1,2]}\n\nKNN = KNeighborsClassifier()",
      "metadata": {
        "noteable": {
          "output_collection_id": "4678387c-9488-4894-a25d-f8cd41739d30"
        },
        "ExecuteTime": {
          "end_time": "2023-06-23T13:47:40.037583+00:00",
          "start_time": "2023-06-23T13:47:39.881069+00:00"
        }
      },
      "execution_count": null,
      "outputs": [],
      "id": "a29fe8e0"
    },
    {
      "cell_type": "code",
      "source": "# Create a GridSearchCV object\nknn_cv = GridSearchCV(KNN, parameters, cv=10)\n\n# Fit the object to find the best parameters\nknn_cv.fit(X, Y)\n",
      "metadata": {
        "noteable": {
          "output_collection_id": "4aeebc47-11db-4d98-ab4a-a9b8f58cb06c"
        },
        "ExecuteTime": {
          "end_time": "2023-06-23T13:47:45.263282+00:00",
          "start_time": "2023-06-23T13:47:43.036765+00:00"
        }
      },
      "execution_count": null,
      "outputs": [],
      "id": "77fb8c5b"
    },
    {
      "cell_type": "code",
      "source": "print(\"tuned hpyerparameters :(best parameters) \",knn_cv.best_params_)\nprint(\"accuracy :\",knn_cv.best_score_)",
      "metadata": {
        "noteable": {
          "output_collection_id": "292c3077-bf91-4043-95d4-d3c3497499ae"
        },
        "ExecuteTime": {
          "end_time": "2023-06-23T13:47:48.903719+00:00",
          "start_time": "2023-06-23T13:47:48.747033+00:00"
        }
      },
      "execution_count": null,
      "outputs": [],
      "id": "cadaccc2"
    },
    {
      "cell_type": "markdown",
      "source": "## TASK  11\n",
      "metadata": {},
      "id": "5a8ab831"
    },
    {
      "cell_type": "markdown",
      "source": "Calculate the accuracy of knn_cv on the test data using the method <code>score</code>:\n",
      "metadata": {},
      "id": "450bd11b"
    },
    {
      "cell_type": "code",
      "source": "# Calculate the accuracy on the test data\naccuracy = knn_cv.score(X_test, Y_test)\n\n# Print the accuracy\nprint(\"Accuracy on test data:\", accuracy)",
      "metadata": {
        "noteable": {
          "output_collection_id": "ccaee994-fb40-4cf9-9164-08faf29c63f4"
        },
        "ExecuteTime": {
          "end_time": "2023-06-23T13:49:42.462821+00:00",
          "start_time": "2023-06-23T13:49:42.303850+00:00"
        }
      },
      "execution_count": null,
      "outputs": [],
      "id": "ab824fc8"
    },
    {
      "cell_type": "markdown",
      "source": "We can plot the confusion matrix\n",
      "metadata": {},
      "id": "ad250364"
    },
    {
      "cell_type": "code",
      "source": "yhat = knn_cv.predict(X_test)\nplot_confusion_matrix(Y_test,yhat)",
      "metadata": {
        "noteable": {
          "output_collection_id": "eb1b9fcb-97a0-48eb-866a-a3797cbe70e2"
        },
        "ExecuteTime": {
          "end_time": "2023-06-23T13:49:47.702756+00:00",
          "start_time": "2023-06-23T13:49:47.247753+00:00"
        }
      },
      "execution_count": null,
      "outputs": [],
      "id": "bf8ec9b9"
    },
    {
      "cell_type": "markdown",
      "source": "## TASK  12\n",
      "metadata": {},
      "id": "e35fa8da"
    },
    {
      "cell_type": "markdown",
      "source": "Find the method performs best:\n",
      "metadata": {},
      "id": "51baad81"
    },
    {
      "cell_type": "code",
      "source": "# Find the method that performs best\nmethods = {'Logistic Regression': logreg_cv.best_score_, 'SVM': svm_cv.best_score_, 'Decision Tree': tree_cv.best_score_, 'KNN': knn_cv.best_score_}\nbest_method = max(methods, key=methods.get)\n\nprint('The method that performs best is:', best_method)",
      "metadata": {
        "noteable": {
          "output_collection_id": "86d6fcc7-55d1-4740-9cdb-5cc8b578be38"
        },
        "ExecuteTime": {
          "end_time": "2023-06-23T13:51:28.169040+00:00",
          "start_time": "2023-06-23T13:51:28.012338+00:00"
        }
      },
      "execution_count": null,
      "outputs": [],
      "id": "b4d198a1"
    },
    {
      "cell_type": "markdown",
      "source": "## Authors\n",
      "metadata": {},
      "id": "122ad55f"
    },
    {
      "cell_type": "markdown",
      "source": "[Pratiksha Verma](https://www.linkedin.com/in/pratiksha-verma-6487561b1/?utm_medium=Exinfluencer&utm_source=Exinfluencer&utm_content=000026UJ&utm_term=10006555&utm_id=NA-SkillsNetwork-Channel-SkillsNetworkCoursesIBMDS0321ENSkillsNetwork865-2023-01-01)\n",
      "metadata": {},
      "id": "5dcf5f4c"
    },
    {
      "cell_type": "markdown",
      "source": "## Change Log\n",
      "metadata": {},
      "id": "f32e96b7"
    },
    {
      "cell_type": "markdown",
      "source": "| Date (YYYY-MM-DD) | Version | Changed By      | Change Description      |\n| ----------------- | ------- | -------------   | ----------------------- |\n| 2022-11-09        | 1.0     | Pratiksha Verma | Converted initial version to Jupyterlite|\n",
      "metadata": {},
      "id": "01f903d8"
    },
    {
      "cell_type": "markdown",
      "source": "### <h3 align=\"center\"> IBM Corporation 2022. All rights reserved. <h3/>\n",
      "metadata": {},
      "id": "45c46479"
    },
    {
      "id": "7863ade9-5611-4a68-b0c0-6217861735fc",
      "cell_type": "code",
      "metadata": {
        "noteable": {
          "cell_type": "code"
        }
      },
      "execution_count": null,
      "source": "# Find the method that performs best\nmethods = {'Logistic Regression': logreg_cv.best_score_, 'SVM': svm_cv.best_score_, 'Decision Tree': tree_cv.best_score_, 'KNN': knn_cv.best_score_}\nbest_method = max(methods, key=methods.get)\n\nprint('The method that performs best is:', best_method)",
      "outputs": []
    }
  ]
}