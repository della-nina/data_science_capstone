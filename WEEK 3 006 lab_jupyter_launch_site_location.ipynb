{
  "cells": [
    {
      "cell_type": "markdown",
      "source": [
        "<p style=\"text-align:center\">\n",
        "    <a href=\"https://skills.network/?utm_medium=Exinfluencer&utm_source=Exinfluencer&utm_content=000026UJ&utm_term=10006555&utm_id=NA-SkillsNetwork-Channel-SkillsNetworkCoursesIBMDS0321ENSkillsNetwork865-2023-01-01\">\n",
        "    <img src=\"https://cf-courses-data.s3.us.cloud-object-storage.appdomain.cloud/assets/logos/SN_web_lightmode.png\" width=\"200\" alt=\"Skills Network Logo\"  />\n",
        "    </a>\n",
        "</p>\n"
      ],
      "metadata": {
        "id": "3n3ltmfnrqpi",
        "outputId": "a2d4f52a-2fb7-4668-f5f0-fe862aab8eb0",
        "papermill": {
          "duration": 1.489571,
          "end_time": "2020-09-19T06:26:57.168979",
          "exception": false,
          "start_time": "2020-09-19T06:26:55.679408",
          "status": "completed"
        },
        "tags": []
      },
      "id": "01ae067d"
    },
    {
      "cell_type": "markdown",
      "source": [
        "# **Launch Sites Locations Analysis with Folium**\n"
      ],
      "metadata": {},
      "id": "8cfe80d2"
    },
    {
      "cell_type": "markdown",
      "source": [
        "Estimated time needed: **40** minutes\n"
      ],
      "metadata": {},
      "id": "a239ef08"
    },
    {
      "cell_type": "markdown",
      "source": [
        "The launch success rate may depend on many factors such as payload mass, orbit type, and so on. It may also depend on the location and proximities of a launch site, i.e., the initial position of rocket trajectories. Finding an optimal location for building a launch site certainly involves many factors and hopefully we could discover some of the factors by analyzing the existing launch site locations.\n"
      ],
      "metadata": {},
      "id": "c50b6223"
    },
    {
      "cell_type": "markdown",
      "source": [
        "In the previous exploratory data analysis labs, you have visualized the SpaceX launch dataset using `matplotlib` and `seaborn` and discovered some preliminary correlations between the launch site and success rates. In this lab, you will be performing more interactive visual analytics using `Folium`.\n"
      ],
      "metadata": {},
      "id": "7813e69a"
    },
    {
      "cell_type": "markdown",
      "source": [
        "## Objectives\n"
      ],
      "metadata": {},
      "id": "ae5c420e"
    },
    {
      "cell_type": "markdown",
      "source": [
        "This lab contains the following tasks:\n",
        "- **TASK 1:** Mark all launch sites on a map\n",
        "- **TASK 2:** Mark the success/failed launches for each site on the map\n",
        "- **TASK 3:** Calculate the distances between a launch site to its proximities\n",
        "\n",
        "After completed the above tasks, you should be able to find some geographical patterns about launch sites.\n"
      ],
      "metadata": {},
      "id": "f7c02da2"
    },
    {
      "cell_type": "markdown",
      "source": [
        "Let's first import required Python packages for this lab:\n"
      ],
      "metadata": {},
      "id": "c8cdcc48"
    },
    {
      "cell_type": "code",
      "source": [
        "!pip install folium\n",
        "!pip install wget"
      ],
      "outputs": [
        {
          "output_type": "stream",
          "name": "stdout",
          "text": [
            "Requirement already satisfied: folium in /opt/conda/lib/python3.9/site-packages (0.14.0)\r\n",
            "Requirement already satisfied: numpy in /opt/conda/lib/python3.9/site-packages (from folium) (1.23.5)\r\n",
            "Requirement already satisfied: requests in /opt/conda/lib/python3.9/site-packages (from folium) (2.28.2)\r\n",
            "Requirement already satisfied: jinja2>=2.9 in /opt/conda/lib/python3.9/site-packages (from folium) (3.1.2)\r\n",
            "Requirement already satisfied: branca>=0.6.0 in /opt/conda/lib/python3.9/site-packages (from folium) (0.6.0)\r\n",
            "Requirement already satisfied: MarkupSafe>=2.0 in /opt/conda/lib/python3.9/site-packages (from jinja2>=2.9->folium) (2.1.2)\r\n"
          ]
        },
        {
          "output_type": "stream",
          "name": "stdout",
          "text": [
            "Requirement already satisfied: urllib3<1.27,>=1.21.1 in /opt/conda/lib/python3.9/site-packages (from requests->folium) (1.26.15)\r\n",
            "Requirement already satisfied: charset-normalizer<4,>=2 in /opt/conda/lib/python3.9/site-packages (from requests->folium) (2.1.1)\r\n",
            "Requirement already satisfied: certifi>=2017.4.17 in /opt/conda/lib/python3.9/site-packages (from requests->folium) (2023.5.7)\r\n",
            "Requirement already satisfied: idna<4,>=2.5 in /opt/conda/lib/python3.9/site-packages (from requests->folium) (3.4)\r\n"
          ]
        },
        {
          "output_type": "stream",
          "name": "stdout",
          "text": [
            "Collecting wget\r\n"
          ]
        },
        {
          "output_type": "stream",
          "name": "stdout",
          "text": [
            "  Downloading wget-3.2.zip (10 kB)\r\n"
          ]
        },
        {
          "output_type": "stream",
          "name": "stdout",
          "text": [
            "  Preparing metadata (setup.py) ... \u001b[?25ldone\r\n",
            "\u001b[?25hBuilding wheels for collected packages: wget\r\n"
          ]
        },
        {
          "output_type": "stream",
          "name": "stdout",
          "text": [
            "  Building wheel for wget (setup.py) ... \u001b[?25l-"
          ]
        },
        {
          "output_type": "stream",
          "name": "stdout",
          "text": [
            "\b \bdone\r\n",
            "\u001b[?25h  Created wheel for wget: filename=wget-3.2-py3-none-any.whl size=9657 sha256=5dc4f583240830ffbcce8b9d4e6a8bc8839721bc8d8408d57fa12a4866ecffe7\r\n",
            "  Stored in directory: /home/noteable/.cache/pip/wheels/04/5f/3e/46cc37c5d698415694d83f607f833f83f0149e49b3af9d0f38\r\n"
          ]
        },
        {
          "output_type": "stream",
          "name": "stdout",
          "text": [
            "Successfully built wget\r\n"
          ]
        },
        {
          "output_type": "stream",
          "name": "stdout",
          "text": [
            "Installing collected packages: wget\r\n"
          ]
        },
        {
          "output_type": "stream",
          "name": "stdout",
          "text": [
            "Successfully installed wget-3.2\r\n"
          ]
        }
      ],
      "execution_count": null,
      "metadata": {
        "noteable": {},
        "ExecuteTime": {
          "start_time": "2023-07-03T11:16:48.226634+00:00",
          "end_time": "2023-07-03T11:16:58.631009+00:00"
        }
      },
      "id": "ea95d1c3"
    },
    {
      "cell_type": "code",
      "source": [
        "import folium\n",
        "import wget\n",
        "import pandas as pd"
      ],
      "outputs": [],
      "execution_count": null,
      "metadata": {
        "noteable": {},
        "ExecuteTime": {
          "start_time": "2023-07-03T11:16:58.642462+00:00",
          "end_time": "2023-07-03T11:16:58.801190+00:00"
        }
      },
      "id": "e9d344a1"
    },
    {
      "cell_type": "code",
      "source": [
        "# Import folium MarkerCluster plugin\n",
        "from folium.plugins import MarkerCluster\n",
        "# Import folium MousePosition plugin\n",
        "from folium.plugins import MousePosition\n",
        "# Import folium DivIcon plugin\n",
        "from folium.features import DivIcon"
      ],
      "outputs": [],
      "execution_count": null,
      "metadata": {
        "noteable": {},
        "ExecuteTime": {
          "start_time": "2023-07-03T11:17:02.154162+00:00",
          "end_time": "2023-07-03T11:17:02.532120+00:00"
        }
      },
      "id": "5c2c7ff2"
    },
    {
      "cell_type": "markdown",
      "source": [
        "If you need to refresh your memory about folium, you may download and refer to this previous folium lab:\n"
      ],
      "metadata": {},
      "id": "80546282"
    },
    {
      "cell_type": "markdown",
      "source": [
        "[Generating Maps with Python](https://cf-courses-data.s3.us.cloud-object-storage.appdomain.cloud/IBM-DS0321EN-SkillsNetwork/labs/module_3/DV0101EN-3-5-1-Generating-Maps-in-Python-py-v2.0.ipynb)\n"
      ],
      "metadata": {},
      "id": "fb85735e"
    },
    {
      "cell_type": "markdown",
      "source": [
        "## Task 1: Mark all launch sites on a map\n"
      ],
      "metadata": {},
      "id": "25d55e5f"
    },
    {
      "cell_type": "markdown",
      "source": [
        "First, let's try to add each site's location on a map using site's latitude and longitude coordinates\n"
      ],
      "metadata": {},
      "id": "55ada216"
    },
    {
      "cell_type": "markdown",
      "source": [
        "The following dataset with the name `spacex_launch_geo.csv` is an augmented dataset with latitude and longitude added for each site. \n"
      ],
      "metadata": {},
      "id": "b5ba3050"
    },
    {
      "cell_type": "code",
      "source": [
        "# Download and read the `spacex_launch_geo.csv`\n",
        "spacex_csv_file = wget.download('https://cf-courses-data.s3.us.cloud-object-storage.appdomain.cloud/IBM-DS0321EN-SkillsNetwork/datasets/spacex_launch_geo.csv')\n",
        "spacex_df=pd.read_csv(spacex_csv_file)"
      ],
      "outputs": [],
      "execution_count": null,
      "metadata": {
        "noteable": {},
        "ExecuteTime": {
          "start_time": "2023-07-03T11:17:07.295674+00:00",
          "end_time": "2023-07-03T11:17:07.706348+00:00"
        }
      },
      "id": "ddebf86f"
    },
    {
      "cell_type": "markdown",
      "source": [
        "Now, you can take a look at what are the coordinates for each site.\n"
      ],
      "metadata": {},
      "id": "405fe4e1"
    },
    {
      "cell_type": "code",
      "source": [
        "# Select relevant sub-columns: `Launch Site`, `Lat(Latitude)`, `Long(Longitude)`, `class`\n",
        "spacex_df = spacex_df[['Launch Site', 'Lat', 'Long', 'class']]\n",
        "launch_sites_df = spacex_df.groupby(['Launch Site'], as_index=False).first()\n",
        "launch_sites_df = launch_sites_df[['Launch Site', 'Lat', 'Long']]\n",
        "launch_sites_df"
      ],
      "outputs": [
        {
          "output_type": "display_data",
          "data": {
            "application/vnd.dataresource+json": {
              "schema": {
                "fields": [
                  {
                    "name": "index",
                    "type": "integer"
                  },
                  {
                    "name": "Launch Site",
                    "type": "string"
                  },
                  {
                    "name": "Lat",
                    "type": "number"
                  },
                  {
                    "name": "Long",
                    "type": "number"
                  }
                ],
                "primaryKey": [
                  "index"
                ],
                "pandas_version": "1.4.0"
              },
              "data": [
                {
                  "index": 0,
                  "Launch Site": "CCAFS LC-40",
                  "Lat": 28.56230197,
                  "Long": -80.57735648
                },
                {
                  "index": 1,
                  "Launch Site": "CCAFS SLC-40",
                  "Lat": 28.56319718,
                  "Long": -80.57682003
                },
                {
                  "index": 2,
                  "Launch Site": "KSC LC-39A",
                  "Lat": 28.57325457,
                  "Long": -80.64689529
                },
                {
                  "index": 3,
                  "Launch Site": "VAFB SLC-4E",
                  "Lat": 34.63283416,
                  "Long": -120.6107455
                }
              ],
              "datalink": {
                "display_id": "a8ce5424-ab35-4f47-9a02-47baa2e4d404"
              }
            }
          },
          "metadata": {
            "application/vnd.dataresource+json": {
              "datalink": {
                "dataframe_info": {
                  "default_index_used": true,
                  "orig_size_bytes": 128,
                  "orig_num_rows": 4,
                  "orig_num_cols": 3,
                  "truncated_string_columns": [],
                  "truncated_size_bytes": 128,
                  "truncated_num_rows": 4,
                  "truncated_num_cols": 3
                },
                "dx_settings": {
                  "NUM_PAST_SAMPLES_TRACKED": 3,
                  "ENABLE_DATALINK": true,
                  "DISPLAY_MODE": "simple",
                  "GENERATE_DEX_METADATA": false,
                  "STRINGIFY_INDEX_VALUES": false,
                  "ALLOW_NOTEABLE_ATTRS": true,
                  "DISPLAY_MAX_COLUMNS": 100,
                  "HTML_TABLE_SCHEMA": false,
                  "SAMPLING_FACTOR": 0.1,
                  "LOG_LEVEL": 30,
                  "ENABLE_ASSIGNMENT": true,
                  "FLATTEN_INDEX_VALUES": false,
                  "DEV_MODE": false,
                  "COLUMN_SAMPLING_METHOD": "outer",
                  "FLATTEN_COLUMN_VALUES": true,
                  "DISPLAY_MAX_ROWS": 50000,
                  "ROW_SAMPLING_METHOD": "random",
                  "RANDOM_STATE": 12648430,
                  "DB_LOCATION": ":memory:",
                  "STRINGIFY_COLUMN_VALUES": true,
                  "SAMPLING_METHOD": "random",
                  "MAX_STRING_LENGTH": 250,
                  "MAX_RENDER_SIZE_BYTES": 104857600,
                  "RESET_INDEX_VALUES": false
                },
                "display_id": "a8ce5424-ab35-4f47-9a02-47baa2e4d404",
                "applied_filters": [],
                "sample_history": [],
                "sampling_time": "2023-07-03T11:17:10.396017",
                "variable_name": "launch_sites_df",
                "user_variable_name": "launch_sites_df"
              },
              "display_id": "a8ce5424-ab35-4f47-9a02-47baa2e4d404"
            }
          }
        }
      ],
      "execution_count": null,
      "metadata": {
        "noteable": {},
        "ExecuteTime": {
          "start_time": "2023-07-03T11:17:10.353445+00:00",
          "end_time": "2023-07-03T11:17:10.552848+00:00"
        },
        "datalink": {
          "ced2cda7-025b-4495-a5e1-632c45530e8f": {
            "dataframe_info": {
              "default_index_used": true,
              "orig_size_bytes": 128,
              "orig_num_rows": 4,
              "orig_num_cols": 3,
              "truncated_string_columns": [],
              "truncated_size_bytes": 128,
              "truncated_num_rows": 4,
              "truncated_num_cols": 3
            },
            "dx_settings": {
              "LOG_LEVEL": 30,
              "DEV_MODE": false,
              "DISPLAY_MAX_ROWS": 50000,
              "DISPLAY_MAX_COLUMNS": 100,
              "HTML_TABLE_SCHEMA": false,
              "MAX_RENDER_SIZE_BYTES": 104857600,
              "MAX_STRING_LENGTH": 250,
              "SAMPLING_FACTOR": 0.1,
              "DISPLAY_MODE": "simple",
              "SAMPLING_METHOD": "random",
              "COLUMN_SAMPLING_METHOD": "outer",
              "ROW_SAMPLING_METHOD": "random",
              "RANDOM_STATE": 12648430,
              "RESET_INDEX_VALUES": false,
              "FLATTEN_INDEX_VALUES": false,
              "FLATTEN_COLUMN_VALUES": true,
              "STRINGIFY_INDEX_VALUES": false,
              "STRINGIFY_COLUMN_VALUES": true,
              "ENABLE_DATALINK": true,
              "ENABLE_ASSIGNMENT": true,
              "NUM_PAST_SAMPLES_TRACKED": 3,
              "DB_LOCATION": ":memory:",
              "GENERATE_DEX_METADATA": false,
              "ALLOW_NOTEABLE_ATTRS": true
            },
            "display_id": "ced2cda7-025b-4495-a5e1-632c45530e8f",
            "applied_filters": [],
            "sample_history": [],
            "sampling_time": "2023-06-30T20:31:21.869835",
            "variable_name": "launch_sites_df",
            "user_variable_name": "launch_sites_df"
          },
          "ef7433df-7a88-4cf7-bbc2-621e039ff31a": {
            "dataframe_info": {
              "default_index_used": true,
              "orig_size_bytes": 128,
              "orig_num_rows": 4,
              "orig_num_cols": 3,
              "truncated_string_columns": [],
              "truncated_size_bytes": 128,
              "truncated_num_rows": 4,
              "truncated_num_cols": 3
            },
            "dx_settings": {
              "LOG_LEVEL": 30,
              "DEV_MODE": false,
              "DISPLAY_MAX_ROWS": 50000,
              "DISPLAY_MAX_COLUMNS": 100,
              "HTML_TABLE_SCHEMA": false,
              "MAX_RENDER_SIZE_BYTES": 104857600,
              "MAX_STRING_LENGTH": 250,
              "SAMPLING_FACTOR": 0.1,
              "DISPLAY_MODE": "simple",
              "SAMPLING_METHOD": "random",
              "COLUMN_SAMPLING_METHOD": "outer",
              "ROW_SAMPLING_METHOD": "random",
              "RANDOM_STATE": 12648430,
              "RESET_INDEX_VALUES": false,
              "FLATTEN_INDEX_VALUES": false,
              "FLATTEN_COLUMN_VALUES": true,
              "STRINGIFY_INDEX_VALUES": false,
              "STRINGIFY_COLUMN_VALUES": true,
              "ENABLE_DATALINK": true,
              "ENABLE_ASSIGNMENT": true,
              "NUM_PAST_SAMPLES_TRACKED": 3,
              "DB_LOCATION": ":memory:",
              "GENERATE_DEX_METADATA": false,
              "ALLOW_NOTEABLE_ATTRS": true
            },
            "display_id": "ef7433df-7a88-4cf7-bbc2-621e039ff31a",
            "applied_filters": [],
            "sample_history": [],
            "sampling_time": "2023-06-30T21:11:51.071588",
            "variable_name": "launch_sites_df",
            "user_variable_name": "launch_sites_df"
          },
          "8e00153f-9a6d-4756-95a3-bcd2a79d23f7": {
            "dataframe_info": {
              "default_index_used": true,
              "orig_size_bytes": 128,
              "orig_num_rows": 4,
              "orig_num_cols": 3,
              "truncated_string_columns": [],
              "truncated_size_bytes": 128,
              "truncated_num_rows": 4,
              "truncated_num_cols": 3
            },
            "dx_settings": {
              "LOG_LEVEL": 30,
              "DEV_MODE": false,
              "DISPLAY_MAX_ROWS": 50000,
              "DISPLAY_MAX_COLUMNS": 100,
              "HTML_TABLE_SCHEMA": false,
              "MAX_RENDER_SIZE_BYTES": 104857600,
              "MAX_STRING_LENGTH": 250,
              "SAMPLING_FACTOR": 0.1,
              "DISPLAY_MODE": "simple",
              "SAMPLING_METHOD": "random",
              "COLUMN_SAMPLING_METHOD": "outer",
              "ROW_SAMPLING_METHOD": "random",
              "RANDOM_STATE": 12648430,
              "RESET_INDEX_VALUES": false,
              "FLATTEN_INDEX_VALUES": false,
              "FLATTEN_COLUMN_VALUES": true,
              "STRINGIFY_INDEX_VALUES": false,
              "STRINGIFY_COLUMN_VALUES": true,
              "ENABLE_DATALINK": true,
              "ENABLE_ASSIGNMENT": true,
              "NUM_PAST_SAMPLES_TRACKED": 3,
              "DB_LOCATION": ":memory:",
              "GENERATE_DEX_METADATA": false,
              "ALLOW_NOTEABLE_ATTRS": true
            },
            "display_id": "8e00153f-9a6d-4756-95a3-bcd2a79d23f7",
            "applied_filters": [],
            "sample_history": [],
            "sampling_time": "2023-07-03T10:37:28.567699",
            "variable_name": "launch_sites_df",
            "user_variable_name": "launch_sites_df"
          },
          "a8ce5424-ab35-4f47-9a02-47baa2e4d404": {
            "dataframe_info": {
              "default_index_used": true,
              "orig_size_bytes": 128,
              "orig_num_rows": 4,
              "orig_num_cols": 3,
              "truncated_string_columns": [],
              "truncated_size_bytes": 128,
              "truncated_num_rows": 4,
              "truncated_num_cols": 3
            },
            "dx_settings": {
              "LOG_LEVEL": 30,
              "DEV_MODE": false,
              "DISPLAY_MAX_ROWS": 50000,
              "DISPLAY_MAX_COLUMNS": 100,
              "HTML_TABLE_SCHEMA": false,
              "MAX_RENDER_SIZE_BYTES": 104857600,
              "MAX_STRING_LENGTH": 250,
              "SAMPLING_FACTOR": 0.1,
              "DISPLAY_MODE": "simple",
              "SAMPLING_METHOD": "random",
              "COLUMN_SAMPLING_METHOD": "outer",
              "ROW_SAMPLING_METHOD": "random",
              "RANDOM_STATE": 12648430,
              "RESET_INDEX_VALUES": false,
              "FLATTEN_INDEX_VALUES": false,
              "FLATTEN_COLUMN_VALUES": true,
              "STRINGIFY_INDEX_VALUES": false,
              "STRINGIFY_COLUMN_VALUES": true,
              "ENABLE_DATALINK": true,
              "ENABLE_ASSIGNMENT": true,
              "NUM_PAST_SAMPLES_TRACKED": 3,
              "DB_LOCATION": ":memory:",
              "GENERATE_DEX_METADATA": false,
              "ALLOW_NOTEABLE_ATTRS": true
            },
            "display_id": "a8ce5424-ab35-4f47-9a02-47baa2e4d404",
            "applied_filters": [],
            "sample_history": [],
            "sampling_time": "2023-07-03T11:17:10.396017",
            "variable_name": "launch_sites_df",
            "user_variable_name": "launch_sites_df"
          }
        }
      },
      "id": "954a0613"
    },
    {
      "cell_type": "markdown",
      "source": [
        "Above coordinates are just plain numbers that can not give you any intuitive insights about where are those launch sites. If you are very good at geography, you can interpret those numbers directly in your mind. If not, that's fine too. Let's visualize those locations by pinning them on a map.\n"
      ],
      "metadata": {},
      "id": "fccd67ef"
    },
    {
      "cell_type": "markdown",
      "source": [
        "We first need to create a folium `Map` object, with an initial center location to be NASA Johnson Space Center at Houston, Texas.\n"
      ],
      "metadata": {},
      "id": "db209941"
    },
    {
      "cell_type": "code",
      "source": [
        "# Start location is NASA Johnson Space Center\n",
        "nasa_coordinate = [29.559684888503615, -95.0830971930759]\n",
        "site_map = folium.Map(location=nasa_coordinate, zoom_start=10)"
      ],
      "outputs": [],
      "execution_count": null,
      "metadata": {
        "noteable": {},
        "ExecuteTime": {
          "start_time": "2023-07-03T11:17:14.625939+00:00",
          "end_time": "2023-07-03T11:17:14.785512+00:00"
        }
      },
      "id": "b8f636dc"
    },
    {
      "cell_type": "markdown",
      "source": [
        "We could use `folium.Circle` to add a highlighted circle area with a text label on a specific coordinate. For example, \n"
      ],
      "metadata": {},
      "id": "7987ff68"
    },
    {
      "cell_type": "code",
      "source": [
        "# Create a blue circle at NASA Johnson Space Center's coordinate with a popup label showing its name\n",
        "circle = folium.Circle(nasa_coordinate, radius=1000, color='#d35400', fill=True).add_child(folium.Popup('NASA Johnson Space Center'))\n",
        "# Create a blue circle at NASA Johnson Space Center's coordinate with a icon showing its name\n",
        "marker = folium.map.Marker(\n",
        "    nasa_coordinate,\n",
        "    # Create an icon as a text label\n",
        "    icon=DivIcon(\n",
        "        icon_size=(20,20),\n",
        "        icon_anchor=(0,0),\n",
        "        html='<div style=\"font-size: 12; color:#d35400;\"><b>%s</b></div>' % 'NASA JSC',\n",
        "        )\n",
        "    )\n",
        "site_map.add_child(circle)\n",
        "site_map.add_child(marker)"
      ],
      "outputs": [
        {
          "output_type": "execute_result",
          "execution_count": null,
          "data": {
            "text/html": "<div style=\"width:100%;\"><div style=\"position:relative;width:100%;height:0;padding-bottom:60%;\"><span style=\"color:#565656\">Make this Notebook Trusted to load map: File -> Trust Notebook</span><iframe srcdoc=\"&lt;!DOCTYPE html&gt;\n&lt;html&gt;\n&lt;head&gt;\n    \n    &lt;meta http-equiv=&quot;content-type&quot; content=&quot;text/html; charset=UTF-8&quot; /&gt;\n    \n        &lt;script&gt;\n            L_NO_TOUCH = false;\n            L_DISABLE_3D = false;\n        &lt;/script&gt;\n    \n    &lt;style&gt;html, body {width: 100%;height: 100%;margin: 0;padding: 0;}&lt;/style&gt;\n    &lt;style&gt;#map {position:absolute;top:0;bottom:0;right:0;left:0;}&lt;/style&gt;\n    &lt;script src=&quot;https://cdn.jsdelivr.net/npm/leaflet@1.9.3/dist/leaflet.js&quot;&gt;&lt;/script&gt;\n    &lt;script src=&quot;https://code.jquery.com/jquery-1.12.4.min.js&quot;&gt;&lt;/script&gt;\n    &lt;script src=&quot;https://cdn.jsdelivr.net/npm/bootstrap@5.2.2/dist/js/bootstrap.bundle.min.js&quot;&gt;&lt;/script&gt;\n    &lt;script src=&quot;https://cdnjs.cloudflare.com/ajax/libs/Leaflet.awesome-markers/2.0.2/leaflet.awesome-markers.js&quot;&gt;&lt;/script&gt;\n    &lt;link rel=&quot;stylesheet&quot; href=&quot;https://cdn.jsdelivr.net/npm/leaflet@1.9.3/dist/leaflet.css&quot;/&gt;\n    &lt;link rel=&quot;stylesheet&quot; href=&quot;https://cdn.jsdelivr.net/npm/bootstrap@5.2.2/dist/css/bootstrap.min.css&quot;/&gt;\n    &lt;link rel=&quot;stylesheet&quot; href=&quot;https://netdna.bootstrapcdn.com/bootstrap/3.0.0/css/bootstrap.min.css&quot;/&gt;\n    &lt;link rel=&quot;stylesheet&quot; href=&quot;https://cdn.jsdelivr.net/npm/@fortawesome/fontawesome-free@6.2.0/css/all.min.css&quot;/&gt;\n    &lt;link rel=&quot;stylesheet&quot; href=&quot;https://cdnjs.cloudflare.com/ajax/libs/Leaflet.awesome-markers/2.0.2/leaflet.awesome-markers.css&quot;/&gt;\n    &lt;link rel=&quot;stylesheet&quot; href=&quot;https://cdn.jsdelivr.net/gh/python-visualization/folium/folium/templates/leaflet.awesome.rotate.min.css&quot;/&gt;\n    \n            &lt;meta name=&quot;viewport&quot; content=&quot;width=device-width,\n                initial-scale=1.0, maximum-scale=1.0, user-scalable=no&quot; /&gt;\n            &lt;style&gt;\n                #map_12ad83ac086510c82696f43d8f57f4b8 {\n                    position: relative;\n                    width: 100.0%;\n                    height: 100.0%;\n                    left: 0.0%;\n                    top: 0.0%;\n                }\n                .leaflet-container { font-size: 1rem; }\n            &lt;/style&gt;\n        \n&lt;/head&gt;\n&lt;body&gt;\n    \n    \n            &lt;div class=&quot;folium-map&quot; id=&quot;map_12ad83ac086510c82696f43d8f57f4b8&quot; &gt;&lt;/div&gt;\n        \n&lt;/body&gt;\n&lt;script&gt;\n    \n    \n            var map_12ad83ac086510c82696f43d8f57f4b8 = L.map(\n                &quot;map_12ad83ac086510c82696f43d8f57f4b8&quot;,\n                {\n                    center: [29.559684888503615, -95.0830971930759],\n                    crs: L.CRS.EPSG3857,\n                    zoom: 10,\n                    zoomControl: true,\n                    preferCanvas: false,\n                }\n            );\n\n            \n\n        \n    \n            var tile_layer_4622937169cc0529b7db1a77dde42281 = L.tileLayer(\n                &quot;https://{s}.tile.openstreetmap.org/{z}/{x}/{y}.png&quot;,\n                {&quot;attribution&quot;: &quot;Data by \\u0026copy; \\u003ca target=\\&quot;_blank\\&quot; href=\\&quot;http://openstreetmap.org\\&quot;\\u003eOpenStreetMap\\u003c/a\\u003e, under \\u003ca target=\\&quot;_blank\\&quot; href=\\&quot;http://www.openstreetmap.org/copyright\\&quot;\\u003eODbL\\u003c/a\\u003e.&quot;, &quot;detectRetina&quot;: false, &quot;maxNativeZoom&quot;: 18, &quot;maxZoom&quot;: 18, &quot;minZoom&quot;: 0, &quot;noWrap&quot;: false, &quot;opacity&quot;: 1, &quot;subdomains&quot;: &quot;abc&quot;, &quot;tms&quot;: false}\n            ).addTo(map_12ad83ac086510c82696f43d8f57f4b8);\n        \n    \n            var circle_d7a79977b7af119af15def2e3116730d = L.circle(\n                [29.559684888503615, -95.0830971930759],\n                {&quot;bubblingMouseEvents&quot;: true, &quot;color&quot;: &quot;#d35400&quot;, &quot;dashArray&quot;: null, &quot;dashOffset&quot;: null, &quot;fill&quot;: true, &quot;fillColor&quot;: &quot;#d35400&quot;, &quot;fillOpacity&quot;: 0.2, &quot;fillRule&quot;: &quot;evenodd&quot;, &quot;lineCap&quot;: &quot;round&quot;, &quot;lineJoin&quot;: &quot;round&quot;, &quot;opacity&quot;: 1.0, &quot;radius&quot;: 1000, &quot;stroke&quot;: true, &quot;weight&quot;: 3}\n            ).addTo(map_12ad83ac086510c82696f43d8f57f4b8);\n        \n    \n        var popup_beb6e7e6b4df17acae1e9cdb3cf8e6e5 = L.popup({&quot;maxWidth&quot;: &quot;100%&quot;});\n\n        \n            \n                var html_c5942ea91a9b0ffac5431be675801c94 = $(`&lt;div id=&quot;html_c5942ea91a9b0ffac5431be675801c94&quot; style=&quot;width: 100.0%; height: 100.0%;&quot;&gt;NASA Johnson Space Center&lt;/div&gt;`)[0];\n                popup_beb6e7e6b4df17acae1e9cdb3cf8e6e5.setContent(html_c5942ea91a9b0ffac5431be675801c94);\n            \n        \n\n        circle_d7a79977b7af119af15def2e3116730d.bindPopup(popup_beb6e7e6b4df17acae1e9cdb3cf8e6e5)\n        ;\n\n        \n    \n    \n            var marker_037f1a4034ad706e31517924e6ac13b8 = L.marker(\n                [29.559684888503615, -95.0830971930759],\n                {}\n            ).addTo(map_12ad83ac086510c82696f43d8f57f4b8);\n        \n    \n            var div_icon_1e351654d6946428982c346ca2309e68 = L.divIcon({&quot;className&quot;: &quot;empty&quot;, &quot;html&quot;: &quot;\\u003cdiv style=\\&quot;font-size: 12; color:#d35400;\\&quot;\\u003e\\u003cb\\u003eNASA JSC\\u003c/b\\u003e\\u003c/div\\u003e&quot;, &quot;iconAnchor&quot;: [0, 0], &quot;iconSize&quot;: [20, 20]});\n            marker_037f1a4034ad706e31517924e6ac13b8.setIcon(div_icon_1e351654d6946428982c346ca2309e68);\n        \n&lt;/script&gt;\n&lt;/html&gt;\" style=\"position:absolute;width:100%;height:100%;left:0;top:0;border:none !important;\" allowfullscreen webkitallowfullscreen mozallowfullscreen></iframe></div></div>"
          },
          "metadata": {}
        }
      ],
      "execution_count": null,
      "metadata": {
        "noteable": {},
        "ExecuteTime": {
          "start_time": "2023-07-03T11:17:23.323666+00:00",
          "end_time": "2023-07-03T11:17:23.499030+00:00"
        }
      },
      "id": "d28c7c37"
    },
    {
      "cell_type": "markdown",
      "source": [
        "and you should find a small yellow circle near the city of Houston and you can zoom-in to see a larger circle. \n"
      ],
      "metadata": {},
      "id": "4064f8b8"
    },
    {
      "cell_type": "markdown",
      "source": [
        "Now, let's add a circle for each launch site in data frame `launch_sites`\n"
      ],
      "metadata": {},
      "id": "5fe3a5ed"
    },
    {
      "cell_type": "markdown",
      "source": [
        "_TODO:_  Create and add `folium.Circle` and `folium.Marker` for each launch site on the site map\n"
      ],
      "metadata": {},
      "id": "687f3579"
    },
    {
      "cell_type": "markdown",
      "source": [
        "An example of folium.Circle:\n"
      ],
      "metadata": {},
      "id": "946bc1a4"
    },
    {
      "cell_type": "markdown",
      "source": [
        "`folium.Circle(coordinate, radius=1000, color='#000000', fill=True).add_child(folium.Popup(...))`\n"
      ],
      "metadata": {},
      "id": "ad84dd77"
    },
    {
      "cell_type": "markdown",
      "source": [
        "An example of folium.Marker:\n"
      ],
      "metadata": {},
      "id": "2f2dc36f"
    },
    {
      "cell_type": "markdown",
      "source": [
        "`folium.map.Marker(coordinate, icon=DivIcon(icon_size=(20,20),icon_anchor=(0,0), html='<div style=\"font-size: 12; color:#d35400;\"><b>%s</b></div>' % 'label', ))`\n"
      ],
      "metadata": {},
      "id": "b3be1648"
    },
    {
      "cell_type": "code",
      "source": [
        "# Initial the map\n",
        "site_map = folium.Map(location=nasa_coordinate, zoom_start=5)\n",
        "# For each launch site, add a Circle object based on its coordinate (Lat, Long) values. In addition, add Launch site name as a popup label\n",
        "\n",
        "# INSERTED CODE BELOW\n",
        "# Assuming launch_sites_df is the DataFrame containing the launch site data\n",
        "for index, site in launch_sites_df.iterrows():\n",
        "    # Create a Circle object with the site's coordinates\n",
        "    circle = folium.Circle(location=[site['Lat'], site['Long']],\n",
        "                           radius=1000,  # define the circle size\n",
        "                           color='#d35400',  # define the circle color\n",
        "                           fill=True,\n",
        "                           fill_color='#d35400',\n",
        "                           fill_opacity=0.4)\n",
        "    # Add a Popup object with the site's name\n",
        "    popup = folium.Popup(site['Launch Site'], max_width=300)\n",
        "    # Add the Popup to the Circle\n",
        "    circle.add_child(popup)\n",
        "    # Add the Circle to the map\n",
        "    site_map.add_child(circle)\n",
        "\n",
        "# Display the map\n",
        "site_map\n",
        "\n",
        "\n"
      ],
      "outputs": [
        {
          "output_type": "execute_result",
          "execution_count": null,
          "data": {
            "text/html": "<div style=\"width:100%;\"><div style=\"position:relative;width:100%;height:0;padding-bottom:60%;\"><span style=\"color:#565656\">Make this Notebook Trusted to load map: File -> Trust Notebook</span><iframe srcdoc=\"&lt;!DOCTYPE html&gt;\n&lt;html&gt;\n&lt;head&gt;\n    \n    &lt;meta http-equiv=&quot;content-type&quot; content=&quot;text/html; charset=UTF-8&quot; /&gt;\n    \n        &lt;script&gt;\n            L_NO_TOUCH = false;\n            L_DISABLE_3D = false;\n        &lt;/script&gt;\n    \n    &lt;style&gt;html, body {width: 100%;height: 100%;margin: 0;padding: 0;}&lt;/style&gt;\n    &lt;style&gt;#map {position:absolute;top:0;bottom:0;right:0;left:0;}&lt;/style&gt;\n    &lt;script src=&quot;https://cdn.jsdelivr.net/npm/leaflet@1.9.3/dist/leaflet.js&quot;&gt;&lt;/script&gt;\n    &lt;script src=&quot;https://code.jquery.com/jquery-1.12.4.min.js&quot;&gt;&lt;/script&gt;\n    &lt;script src=&quot;https://cdn.jsdelivr.net/npm/bootstrap@5.2.2/dist/js/bootstrap.bundle.min.js&quot;&gt;&lt;/script&gt;\n    &lt;script src=&quot;https://cdnjs.cloudflare.com/ajax/libs/Leaflet.awesome-markers/2.0.2/leaflet.awesome-markers.js&quot;&gt;&lt;/script&gt;\n    &lt;link rel=&quot;stylesheet&quot; href=&quot;https://cdn.jsdelivr.net/npm/leaflet@1.9.3/dist/leaflet.css&quot;/&gt;\n    &lt;link rel=&quot;stylesheet&quot; href=&quot;https://cdn.jsdelivr.net/npm/bootstrap@5.2.2/dist/css/bootstrap.min.css&quot;/&gt;\n    &lt;link rel=&quot;stylesheet&quot; href=&quot;https://netdna.bootstrapcdn.com/bootstrap/3.0.0/css/bootstrap.min.css&quot;/&gt;\n    &lt;link rel=&quot;stylesheet&quot; href=&quot;https://cdn.jsdelivr.net/npm/@fortawesome/fontawesome-free@6.2.0/css/all.min.css&quot;/&gt;\n    &lt;link rel=&quot;stylesheet&quot; href=&quot;https://cdnjs.cloudflare.com/ajax/libs/Leaflet.awesome-markers/2.0.2/leaflet.awesome-markers.css&quot;/&gt;\n    &lt;link rel=&quot;stylesheet&quot; href=&quot;https://cdn.jsdelivr.net/gh/python-visualization/folium/folium/templates/leaflet.awesome.rotate.min.css&quot;/&gt;\n    \n            &lt;meta name=&quot;viewport&quot; content=&quot;width=device-width,\n                initial-scale=1.0, maximum-scale=1.0, user-scalable=no&quot; /&gt;\n            &lt;style&gt;\n                #map_f9a8da82c837b903412b6c84e6decb30 {\n                    position: relative;\n                    width: 100.0%;\n                    height: 100.0%;\n                    left: 0.0%;\n                    top: 0.0%;\n                }\n                .leaflet-container { font-size: 1rem; }\n            &lt;/style&gt;\n        \n&lt;/head&gt;\n&lt;body&gt;\n    \n    \n            &lt;div class=&quot;folium-map&quot; id=&quot;map_f9a8da82c837b903412b6c84e6decb30&quot; &gt;&lt;/div&gt;\n        \n&lt;/body&gt;\n&lt;script&gt;\n    \n    \n            var map_f9a8da82c837b903412b6c84e6decb30 = L.map(\n                &quot;map_f9a8da82c837b903412b6c84e6decb30&quot;,\n                {\n                    center: [29.559684888503615, -95.0830971930759],\n                    crs: L.CRS.EPSG3857,\n                    zoom: 5,\n                    zoomControl: true,\n                    preferCanvas: false,\n                }\n            );\n\n            \n\n        \n    \n            var tile_layer_6f1766957711a42940766aa4afae338a = L.tileLayer(\n                &quot;https://{s}.tile.openstreetmap.org/{z}/{x}/{y}.png&quot;,\n                {&quot;attribution&quot;: &quot;Data by \\u0026copy; \\u003ca target=\\&quot;_blank\\&quot; href=\\&quot;http://openstreetmap.org\\&quot;\\u003eOpenStreetMap\\u003c/a\\u003e, under \\u003ca target=\\&quot;_blank\\&quot; href=\\&quot;http://www.openstreetmap.org/copyright\\&quot;\\u003eODbL\\u003c/a\\u003e.&quot;, &quot;detectRetina&quot;: false, &quot;maxNativeZoom&quot;: 18, &quot;maxZoom&quot;: 18, &quot;minZoom&quot;: 0, &quot;noWrap&quot;: false, &quot;opacity&quot;: 1, &quot;subdomains&quot;: &quot;abc&quot;, &quot;tms&quot;: false}\n            ).addTo(map_f9a8da82c837b903412b6c84e6decb30);\n        \n    \n            var circle_33c3498c513c19c6f8c7a11c9f6bb4a7 = L.circle(\n                [28.56230197, -80.57735648],\n                {&quot;bubblingMouseEvents&quot;: true, &quot;color&quot;: &quot;#d35400&quot;, &quot;dashArray&quot;: null, &quot;dashOffset&quot;: null, &quot;fill&quot;: true, &quot;fillColor&quot;: &quot;#d35400&quot;, &quot;fillOpacity&quot;: 0.4, &quot;fillRule&quot;: &quot;evenodd&quot;, &quot;lineCap&quot;: &quot;round&quot;, &quot;lineJoin&quot;: &quot;round&quot;, &quot;opacity&quot;: 1.0, &quot;radius&quot;: 1000, &quot;stroke&quot;: true, &quot;weight&quot;: 3}\n            ).addTo(map_f9a8da82c837b903412b6c84e6decb30);\n        \n    \n        var popup_86514b6473e57b31d7f34ae08ce0370a = L.popup({&quot;maxWidth&quot;: 300});\n\n        \n            \n                var html_3c91ff083d79107dfcd60c06de14e2f2 = $(`&lt;div id=&quot;html_3c91ff083d79107dfcd60c06de14e2f2&quot; style=&quot;width: 100.0%; height: 100.0%;&quot;&gt;CCAFS LC-40&lt;/div&gt;`)[0];\n                popup_86514b6473e57b31d7f34ae08ce0370a.setContent(html_3c91ff083d79107dfcd60c06de14e2f2);\n            \n        \n\n        circle_33c3498c513c19c6f8c7a11c9f6bb4a7.bindPopup(popup_86514b6473e57b31d7f34ae08ce0370a)\n        ;\n\n        \n    \n    \n            var circle_416aba08c5064575a30e931c41f1ef7c = L.circle(\n                [28.56319718, -80.57682003],\n                {&quot;bubblingMouseEvents&quot;: true, &quot;color&quot;: &quot;#d35400&quot;, &quot;dashArray&quot;: null, &quot;dashOffset&quot;: null, &quot;fill&quot;: true, &quot;fillColor&quot;: &quot;#d35400&quot;, &quot;fillOpacity&quot;: 0.4, &quot;fillRule&quot;: &quot;evenodd&quot;, &quot;lineCap&quot;: &quot;round&quot;, &quot;lineJoin&quot;: &quot;round&quot;, &quot;opacity&quot;: 1.0, &quot;radius&quot;: 1000, &quot;stroke&quot;: true, &quot;weight&quot;: 3}\n            ).addTo(map_f9a8da82c837b903412b6c84e6decb30);\n        \n    \n        var popup_7319dcb91c0d99998bf7f792253e7677 = L.popup({&quot;maxWidth&quot;: 300});\n\n        \n            \n                var html_0337173dc172c0b8c9383a8c3d1de56d = $(`&lt;div id=&quot;html_0337173dc172c0b8c9383a8c3d1de56d&quot; style=&quot;width: 100.0%; height: 100.0%;&quot;&gt;CCAFS SLC-40&lt;/div&gt;`)[0];\n                popup_7319dcb91c0d99998bf7f792253e7677.setContent(html_0337173dc172c0b8c9383a8c3d1de56d);\n            \n        \n\n        circle_416aba08c5064575a30e931c41f1ef7c.bindPopup(popup_7319dcb91c0d99998bf7f792253e7677)\n        ;\n\n        \n    \n    \n            var circle_f5973ae64faa45df80a8eb05f0c2642b = L.circle(\n                [28.57325457, -80.64689529],\n                {&quot;bubblingMouseEvents&quot;: true, &quot;color&quot;: &quot;#d35400&quot;, &quot;dashArray&quot;: null, &quot;dashOffset&quot;: null, &quot;fill&quot;: true, &quot;fillColor&quot;: &quot;#d35400&quot;, &quot;fillOpacity&quot;: 0.4, &quot;fillRule&quot;: &quot;evenodd&quot;, &quot;lineCap&quot;: &quot;round&quot;, &quot;lineJoin&quot;: &quot;round&quot;, &quot;opacity&quot;: 1.0, &quot;radius&quot;: 1000, &quot;stroke&quot;: true, &quot;weight&quot;: 3}\n            ).addTo(map_f9a8da82c837b903412b6c84e6decb30);\n        \n    \n        var popup_d3ce8abe2719b30b07ea4483dbeae275 = L.popup({&quot;maxWidth&quot;: 300});\n\n        \n            \n                var html_225f0168e2e75212ebef6b6f543931a5 = $(`&lt;div id=&quot;html_225f0168e2e75212ebef6b6f543931a5&quot; style=&quot;width: 100.0%; height: 100.0%;&quot;&gt;KSC LC-39A&lt;/div&gt;`)[0];\n                popup_d3ce8abe2719b30b07ea4483dbeae275.setContent(html_225f0168e2e75212ebef6b6f543931a5);\n            \n        \n\n        circle_f5973ae64faa45df80a8eb05f0c2642b.bindPopup(popup_d3ce8abe2719b30b07ea4483dbeae275)\n        ;\n\n        \n    \n    \n            var circle_49b14ed525fcc450480a701581428501 = L.circle(\n                [34.63283416, -120.6107455],\n                {&quot;bubblingMouseEvents&quot;: true, &quot;color&quot;: &quot;#d35400&quot;, &quot;dashArray&quot;: null, &quot;dashOffset&quot;: null, &quot;fill&quot;: true, &quot;fillColor&quot;: &quot;#d35400&quot;, &quot;fillOpacity&quot;: 0.4, &quot;fillRule&quot;: &quot;evenodd&quot;, &quot;lineCap&quot;: &quot;round&quot;, &quot;lineJoin&quot;: &quot;round&quot;, &quot;opacity&quot;: 1.0, &quot;radius&quot;: 1000, &quot;stroke&quot;: true, &quot;weight&quot;: 3}\n            ).addTo(map_f9a8da82c837b903412b6c84e6decb30);\n        \n    \n        var popup_a646837238f612ef9c3d5f0ba7a541f6 = L.popup({&quot;maxWidth&quot;: 300});\n\n        \n            \n                var html_0af307e62da871f3e1ae96e3b25a1da7 = $(`&lt;div id=&quot;html_0af307e62da871f3e1ae96e3b25a1da7&quot; style=&quot;width: 100.0%; height: 100.0%;&quot;&gt;VAFB SLC-4E&lt;/div&gt;`)[0];\n                popup_a646837238f612ef9c3d5f0ba7a541f6.setContent(html_0af307e62da871f3e1ae96e3b25a1da7);\n            \n        \n\n        circle_49b14ed525fcc450480a701581428501.bindPopup(popup_a646837238f612ef9c3d5f0ba7a541f6)\n        ;\n\n        \n    \n&lt;/script&gt;\n&lt;/html&gt;\" style=\"position:absolute;width:100%;height:100%;left:0;top:0;border:none !important;\" allowfullscreen webkitallowfullscreen mozallowfullscreen></iframe></div></div>"
          },
          "metadata": {}
        }
      ],
      "execution_count": null,
      "metadata": {
        "noteable": {},
        "ExecuteTime": {
          "start_time": "2023-07-03T11:17:34.413408+00:00",
          "end_time": "2023-07-03T11:17:34.587326+00:00"
        }
      },
      "id": "4c12497a"
    },
    {
      "cell_type": "markdown",
      "source": [
        "The generated map with marked launch sites should look similar to the following:\n"
      ],
      "metadata": {},
      "id": "18154ad8"
    },
    {
      "cell_type": "markdown",
      "source": [
        "<center>\n",
        "    <img src=\"https://cf-courses-data.s3.us.cloud-object-storage.appdomain.cloud/IBM-DS0321EN-SkillsNetwork/labs/module_3/images/launch_site_markers.png\">\n",
        "</center>\n"
      ],
      "metadata": {},
      "id": "4eef4e58"
    },
    {
      "cell_type": "markdown",
      "source": [
        "Now, you can explore the map by zoom-in/out the marked areas\n",
        ", and try to answer the following questions:\n",
        "- Are all launch sites in proximity to the Equator line?\n",
        "- Are all launch sites in very close proximity to the coast?\n",
        "\n",
        "Also please try to explain your findings.\n"
      ],
      "metadata": {},
      "id": "7ea4be9d"
    },
    {
      "cell_type": "markdown",
      "source": [
        "# Task 2: Mark the success/failed launches for each site on the map\n"
      ],
      "metadata": {},
      "id": "71ecb31a"
    },
    {
      "cell_type": "markdown",
      "source": [
        "Next, let's try to enhance the map by adding the launch outcomes for each site, and see which sites have high success rates.\n",
        "Recall that data frame spacex_df has detailed launch records, and the `class` column indicates if this launch was successful or not\n"
      ],
      "metadata": {},
      "id": "d53f4dec"
    },
    {
      "cell_type": "code",
      "source": [
        "spacex_df.tail(10)"
      ],
      "outputs": [
        {
          "output_type": "display_data",
          "data": {
            "application/vnd.dataresource+json": {
              "schema": {
                "fields": [
                  {
                    "name": "index",
                    "type": "integer"
                  },
                  {
                    "name": "Launch Site",
                    "type": "string"
                  },
                  {
                    "name": "Lat",
                    "type": "number"
                  },
                  {
                    "name": "Long",
                    "type": "number"
                  },
                  {
                    "name": "class",
                    "type": "integer"
                  }
                ],
                "primaryKey": [
                  "index"
                ],
                "pandas_version": "1.4.0"
              },
              "data": [
                {
                  "index": 46,
                  "Launch Site": "KSC LC-39A",
                  "Lat": 28.57325457,
                  "Long": -80.64689529,
                  "class": 1
                },
                {
                  "index": 47,
                  "Launch Site": "KSC LC-39A",
                  "Lat": 28.57325457,
                  "Long": -80.64689529,
                  "class": 1
                },
                {
                  "index": 48,
                  "Launch Site": "KSC LC-39A",
                  "Lat": 28.57325457,
                  "Long": -80.64689529,
                  "class": 1
                },
                {
                  "index": 49,
                  "Launch Site": "CCAFS SLC-40",
                  "Lat": 28.56319718,
                  "Long": -80.57682003,
                  "class": 1
                },
                {
                  "index": 50,
                  "Launch Site": "CCAFS SLC-40",
                  "Lat": 28.56319718,
                  "Long": -80.57682003,
                  "class": 1
                },
                {
                  "index": 51,
                  "Launch Site": "CCAFS SLC-40",
                  "Lat": 28.56319718,
                  "Long": -80.57682003,
                  "class": 0
                },
                {
                  "index": 52,
                  "Launch Site": "CCAFS SLC-40",
                  "Lat": 28.56319718,
                  "Long": -80.57682003,
                  "class": 0
                },
                {
                  "index": 53,
                  "Launch Site": "CCAFS SLC-40",
                  "Lat": 28.56319718,
                  "Long": -80.57682003,
                  "class": 0
                },
                {
                  "index": 54,
                  "Launch Site": "CCAFS SLC-40",
                  "Lat": 28.56319718,
                  "Long": -80.57682003,
                  "class": 1
                },
                {
                  "index": 55,
                  "Launch Site": "CCAFS SLC-40",
                  "Lat": 28.56319718,
                  "Long": -80.57682003,
                  "class": 0
                }
              ],
              "datalink": {
                "display_id": "3cc625dc-9c0b-41e1-89ed-05c57d5ebba1"
              }
            }
          },
          "metadata": {
            "application/vnd.dataresource+json": {
              "datalink": {
                "dataframe_info": {
                  "default_index_used": true,
                  "orig_size_bytes": 400,
                  "orig_num_rows": 10,
                  "orig_num_cols": 4,
                  "truncated_string_columns": [],
                  "truncated_size_bytes": 400,
                  "truncated_num_rows": 10,
                  "truncated_num_cols": 4
                },
                "dx_settings": {
                  "NUM_PAST_SAMPLES_TRACKED": 3,
                  "ENABLE_DATALINK": true,
                  "DISPLAY_MODE": "simple",
                  "GENERATE_DEX_METADATA": false,
                  "STRINGIFY_INDEX_VALUES": false,
                  "ALLOW_NOTEABLE_ATTRS": true,
                  "DISPLAY_MAX_COLUMNS": 100,
                  "HTML_TABLE_SCHEMA": false,
                  "SAMPLING_FACTOR": 0.1,
                  "LOG_LEVEL": 30,
                  "ENABLE_ASSIGNMENT": true,
                  "FLATTEN_INDEX_VALUES": false,
                  "DEV_MODE": false,
                  "COLUMN_SAMPLING_METHOD": "outer",
                  "FLATTEN_COLUMN_VALUES": true,
                  "DISPLAY_MAX_ROWS": 50000,
                  "ROW_SAMPLING_METHOD": "random",
                  "RANDOM_STATE": 12648430,
                  "DB_LOCATION": ":memory:",
                  "STRINGIFY_COLUMN_VALUES": true,
                  "SAMPLING_METHOD": "random",
                  "MAX_STRING_LENGTH": 250,
                  "MAX_RENDER_SIZE_BYTES": 104857600,
                  "RESET_INDEX_VALUES": false
                },
                "display_id": "3cc625dc-9c0b-41e1-89ed-05c57d5ebba1",
                "applied_filters": [],
                "sample_history": [],
                "sampling_time": "2023-07-03T11:17:44.344271",
                "variable_name": "unk_dataframe_a4ea6fbbbaf0441f802a8437a4bfd2a3",
                "user_variable_name": null
              },
              "display_id": "3cc625dc-9c0b-41e1-89ed-05c57d5ebba1"
            }
          }
        }
      ],
      "execution_count": null,
      "metadata": {
        "noteable": {},
        "ExecuteTime": {
          "start_time": "2023-07-03T11:17:44.298698+00:00",
          "end_time": "2023-07-03T11:17:44.500482+00:00"
        },
        "datalink": {
          "803d7026-f288-48a2-86e1-18c6629601c5": {
            "dataframe_info": {
              "default_index_used": true,
              "orig_size_bytes": 400,
              "orig_num_rows": 10,
              "orig_num_cols": 4,
              "truncated_string_columns": [],
              "truncated_size_bytes": 400,
              "truncated_num_rows": 10,
              "truncated_num_cols": 4
            },
            "dx_settings": {
              "LOG_LEVEL": 30,
              "DEV_MODE": false,
              "DISPLAY_MAX_ROWS": 50000,
              "DISPLAY_MAX_COLUMNS": 100,
              "HTML_TABLE_SCHEMA": false,
              "MAX_RENDER_SIZE_BYTES": 104857600,
              "MAX_STRING_LENGTH": 250,
              "SAMPLING_FACTOR": 0.1,
              "DISPLAY_MODE": "simple",
              "SAMPLING_METHOD": "random",
              "COLUMN_SAMPLING_METHOD": "outer",
              "ROW_SAMPLING_METHOD": "random",
              "RANDOM_STATE": 12648430,
              "RESET_INDEX_VALUES": false,
              "FLATTEN_INDEX_VALUES": false,
              "FLATTEN_COLUMN_VALUES": true,
              "STRINGIFY_INDEX_VALUES": false,
              "STRINGIFY_COLUMN_VALUES": true,
              "ENABLE_DATALINK": true,
              "ENABLE_ASSIGNMENT": true,
              "NUM_PAST_SAMPLES_TRACKED": 3,
              "DB_LOCATION": ":memory:",
              "GENERATE_DEX_METADATA": false,
              "ALLOW_NOTEABLE_ATTRS": true
            },
            "display_id": "803d7026-f288-48a2-86e1-18c6629601c5",
            "applied_filters": [],
            "sample_history": [],
            "sampling_time": "2023-06-30T20:40:30.574723",
            "variable_name": "unk_dataframe_4a7ff871cecb4bb8bfbee4f50b630349",
            "user_variable_name": null
          },
          "72632590-cbe1-4af0-9d5b-e1a655231e52": {
            "dataframe_info": {
              "default_index_used": true,
              "orig_size_bytes": 400,
              "orig_num_rows": 10,
              "orig_num_cols": 4,
              "truncated_string_columns": [],
              "truncated_size_bytes": 400,
              "truncated_num_rows": 10,
              "truncated_num_cols": 4
            },
            "dx_settings": {
              "LOG_LEVEL": 30,
              "DEV_MODE": false,
              "DISPLAY_MAX_ROWS": 50000,
              "DISPLAY_MAX_COLUMNS": 100,
              "HTML_TABLE_SCHEMA": false,
              "MAX_RENDER_SIZE_BYTES": 104857600,
              "MAX_STRING_LENGTH": 250,
              "SAMPLING_FACTOR": 0.1,
              "DISPLAY_MODE": "simple",
              "SAMPLING_METHOD": "random",
              "COLUMN_SAMPLING_METHOD": "outer",
              "ROW_SAMPLING_METHOD": "random",
              "RANDOM_STATE": 12648430,
              "RESET_INDEX_VALUES": false,
              "FLATTEN_INDEX_VALUES": false,
              "FLATTEN_COLUMN_VALUES": true,
              "STRINGIFY_INDEX_VALUES": false,
              "STRINGIFY_COLUMN_VALUES": true,
              "ENABLE_DATALINK": true,
              "ENABLE_ASSIGNMENT": true,
              "NUM_PAST_SAMPLES_TRACKED": 3,
              "DB_LOCATION": ":memory:",
              "GENERATE_DEX_METADATA": false,
              "ALLOW_NOTEABLE_ATTRS": true
            },
            "display_id": "72632590-cbe1-4af0-9d5b-e1a655231e52",
            "applied_filters": [],
            "sample_history": [],
            "sampling_time": "2023-06-30T21:12:30.206027",
            "variable_name": "unk_dataframe_f183a02909124e1b95613f2c180cb77d",
            "user_variable_name": null
          },
          "dc2421ef-37ca-4efb-83f6-a33bfcfe16ae": {
            "dataframe_info": {
              "default_index_used": true,
              "orig_size_bytes": 400,
              "orig_num_rows": 10,
              "orig_num_cols": 4,
              "truncated_string_columns": [],
              "truncated_size_bytes": 400,
              "truncated_num_rows": 10,
              "truncated_num_cols": 4
            },
            "dx_settings": {
              "LOG_LEVEL": 30,
              "DEV_MODE": false,
              "DISPLAY_MAX_ROWS": 50000,
              "DISPLAY_MAX_COLUMNS": 100,
              "HTML_TABLE_SCHEMA": false,
              "MAX_RENDER_SIZE_BYTES": 104857600,
              "MAX_STRING_LENGTH": 250,
              "SAMPLING_FACTOR": 0.1,
              "DISPLAY_MODE": "simple",
              "SAMPLING_METHOD": "random",
              "COLUMN_SAMPLING_METHOD": "outer",
              "ROW_SAMPLING_METHOD": "random",
              "RANDOM_STATE": 12648430,
              "RESET_INDEX_VALUES": false,
              "FLATTEN_INDEX_VALUES": false,
              "FLATTEN_COLUMN_VALUES": true,
              "STRINGIFY_INDEX_VALUES": false,
              "STRINGIFY_COLUMN_VALUES": true,
              "ENABLE_DATALINK": true,
              "ENABLE_ASSIGNMENT": true,
              "NUM_PAST_SAMPLES_TRACKED": 3,
              "DB_LOCATION": ":memory:",
              "GENERATE_DEX_METADATA": false,
              "ALLOW_NOTEABLE_ATTRS": true
            },
            "display_id": "dc2421ef-37ca-4efb-83f6-a33bfcfe16ae",
            "applied_filters": [],
            "sample_history": [],
            "sampling_time": "2023-07-03T10:37:57.607557",
            "variable_name": "unk_dataframe_432386916e6449e8b8b28163f0988d5a",
            "user_variable_name": null
          },
          "3cc625dc-9c0b-41e1-89ed-05c57d5ebba1": {
            "dataframe_info": {
              "default_index_used": true,
              "orig_size_bytes": 400,
              "orig_num_rows": 10,
              "orig_num_cols": 4,
              "truncated_string_columns": [],
              "truncated_size_bytes": 400,
              "truncated_num_rows": 10,
              "truncated_num_cols": 4
            },
            "dx_settings": {
              "LOG_LEVEL": 30,
              "DEV_MODE": false,
              "DISPLAY_MAX_ROWS": 50000,
              "DISPLAY_MAX_COLUMNS": 100,
              "HTML_TABLE_SCHEMA": false,
              "MAX_RENDER_SIZE_BYTES": 104857600,
              "MAX_STRING_LENGTH": 250,
              "SAMPLING_FACTOR": 0.1,
              "DISPLAY_MODE": "simple",
              "SAMPLING_METHOD": "random",
              "COLUMN_SAMPLING_METHOD": "outer",
              "ROW_SAMPLING_METHOD": "random",
              "RANDOM_STATE": 12648430,
              "RESET_INDEX_VALUES": false,
              "FLATTEN_INDEX_VALUES": false,
              "FLATTEN_COLUMN_VALUES": true,
              "STRINGIFY_INDEX_VALUES": false,
              "STRINGIFY_COLUMN_VALUES": true,
              "ENABLE_DATALINK": true,
              "ENABLE_ASSIGNMENT": true,
              "NUM_PAST_SAMPLES_TRACKED": 3,
              "DB_LOCATION": ":memory:",
              "GENERATE_DEX_METADATA": false,
              "ALLOW_NOTEABLE_ATTRS": true
            },
            "display_id": "3cc625dc-9c0b-41e1-89ed-05c57d5ebba1",
            "applied_filters": [],
            "sample_history": [],
            "sampling_time": "2023-07-03T11:17:44.344271",
            "variable_name": "unk_dataframe_a4ea6fbbbaf0441f802a8437a4bfd2a3",
            "user_variable_name": null
          }
        }
      },
      "id": "94539a36"
    },
    {
      "cell_type": "markdown",
      "source": [
        "Next, let's create markers for all launch records. \n",
        "If a launch was successful `(class=1)`, then we use a green marker and if a launch was failed, we use a red marker `(class=0)`\n"
      ],
      "metadata": {},
      "id": "a3e3d777"
    },
    {
      "cell_type": "markdown",
      "source": [
        "Note that a launch only happens in one of the four launch sites, which means many launch records will have the exact same coordinate. Marker clusters can be a good way to simplify a map containing many markers having the same coordinate.\n"
      ],
      "metadata": {},
      "id": "d8846049"
    },
    {
      "cell_type": "markdown",
      "source": [
        "Let's first create a `MarkerCluster` object\n"
      ],
      "metadata": {},
      "id": "c2c2f911"
    },
    {
      "cell_type": "code",
      "source": [
        "marker_cluster = MarkerCluster()\n"
      ],
      "outputs": [],
      "execution_count": null,
      "metadata": {
        "id": "wP9PVUZ7Jfjt",
        "outputId": "6a3b8164-940c-4b93-9f3d-c655c4a0c683",
        "papermill": {
          "duration": 0.904519,
          "end_time": "2020-09-19T06:27:38.357041",
          "exception": false,
          "start_time": "2020-09-19T06:27:37.452522",
          "status": "completed"
        },
        "tags": [],
        "noteable": {},
        "ExecuteTime": {
          "start_time": "2023-07-03T11:17:48.851079+00:00",
          "end_time": "2023-07-03T11:17:49.007563+00:00"
        },
        "datalink": {
          "45083582-ee49-4585-b278-8b5d8b52125d": {
            "dataframe_info": {
              "default_index_used": true,
              "orig_size_bytes": 2688,
              "orig_num_rows": 56,
              "orig_num_cols": 5,
              "truncated_string_columns": [],
              "truncated_size_bytes": 2688,
              "truncated_num_rows": 56,
              "truncated_num_cols": 5
            },
            "dx_settings": {
              "LOG_LEVEL": 30,
              "DEV_MODE": false,
              "DISPLAY_MAX_ROWS": 50000,
              "DISPLAY_MAX_COLUMNS": 100,
              "HTML_TABLE_SCHEMA": false,
              "MAX_RENDER_SIZE_BYTES": 104857600,
              "MAX_STRING_LENGTH": 250,
              "SAMPLING_FACTOR": 0.1,
              "DISPLAY_MODE": "simple",
              "SAMPLING_METHOD": "random",
              "COLUMN_SAMPLING_METHOD": "outer",
              "ROW_SAMPLING_METHOD": "random",
              "RANDOM_STATE": 12648430,
              "RESET_INDEX_VALUES": false,
              "FLATTEN_INDEX_VALUES": false,
              "FLATTEN_COLUMN_VALUES": true,
              "STRINGIFY_INDEX_VALUES": false,
              "STRINGIFY_COLUMN_VALUES": true,
              "ENABLE_DATALINK": true,
              "ENABLE_ASSIGNMENT": true,
              "NUM_PAST_SAMPLES_TRACKED": 3,
              "DB_LOCATION": ":memory:",
              "GENERATE_DEX_METADATA": false,
              "ALLOW_NOTEABLE_ATTRS": true
            },
            "display_id": "45083582-ee49-4585-b278-8b5d8b52125d",
            "applied_filters": [],
            "sample_history": [],
            "sampling_time": "2023-06-30T21:05:41.288282",
            "variable_name": "spacex_df",
            "user_variable_name": "spacex_df"
          }
        }
      },
      "id": "e5e72359"
    },
    {
      "cell_type": "markdown",
      "source": [
        "_TODO:_ Create a new column in `launch_sites` dataframe called `marker_color` to store the marker colors based on the `class` value\n"
      ],
      "metadata": {},
      "id": "54d261a3"
    },
    {
      "cell_type": "code",
      "source": [
        "\n",
        "# Apply a function to check the value of `class` column\n",
        "# If class=1, marker_color value will be green\n",
        "# If class=0, marker_color value will be red\n",
        "\n",
        "# NEW CODE BELOW\n",
        "# Define a function that takes a row, checks the 'class' column, and returns a color\n",
        "def assign_marker_color(row):\n",
        "    if row['class'] == 1:\n",
        "        return 'green'\n",
        "    elif row['class'] == 0:\n",
        "        return 'red'\n",
        "\n",
        "# Apply the function to each row in the DataFrame\n",
        "spacex_df['marker_color'] = spacex_df.apply(assign_marker_color, axis=1)\n",
        "\n",
        "\n"
      ],
      "outputs": [],
      "execution_count": null,
      "metadata": {
        "noteable": {},
        "ExecuteTime": {
          "start_time": "2023-07-03T11:17:52.484101+00:00",
          "end_time": "2023-07-03T11:17:52.645102+00:00"
        }
      },
      "id": "4c1b36af"
    },
    {
      "cell_type": "code",
      "source": [
        "# Function to assign color to launch outcome\n",
        "def assign_marker_color(launch_outcome):\n",
        "    if launch_outcome == 1:\n",
        "        return 'green'\n",
        "    else:\n",
        "        return 'red'\n",
        "    \n",
        "spacex_df['marker_color'] = spacex_df['class'].apply(assign_marker_color)\n",
        "spacex_df"
      ],
      "outputs": [
        {
          "output_type": "display_data",
          "data": {
            "application/vnd.dataresource+json": {
              "schema": {
                "fields": [
                  {
                    "name": "index",
                    "type": "integer"
                  },
                  {
                    "name": "Launch Site",
                    "type": "string"
                  },
                  {
                    "name": "Lat",
                    "type": "number"
                  },
                  {
                    "name": "Long",
                    "type": "number"
                  },
                  {
                    "name": "class",
                    "type": "integer"
                  },
                  {
                    "name": "marker_color",
                    "type": "string"
                  }
                ],
                "primaryKey": [
                  "index"
                ],
                "pandas_version": "1.4.0"
              },
              "data": [
                {
                  "index": 0,
                  "Launch Site": "CCAFS LC-40",
                  "Lat": 28.56230197,
                  "Long": -80.57735648,
                  "class": 0,
                  "marker_color": "red"
                },
                {
                  "index": 1,
                  "Launch Site": "CCAFS LC-40",
                  "Lat": 28.56230197,
                  "Long": -80.57735648,
                  "class": 0,
                  "marker_color": "red"
                },
                {
                  "index": 2,
                  "Launch Site": "CCAFS LC-40",
                  "Lat": 28.56230197,
                  "Long": -80.57735648,
                  "class": 0,
                  "marker_color": "red"
                },
                {
                  "index": 3,
                  "Launch Site": "CCAFS LC-40",
                  "Lat": 28.56230197,
                  "Long": -80.57735648,
                  "class": 0,
                  "marker_color": "red"
                },
                {
                  "index": 4,
                  "Launch Site": "CCAFS LC-40",
                  "Lat": 28.56230197,
                  "Long": -80.57735648,
                  "class": 0,
                  "marker_color": "red"
                },
                {
                  "index": 5,
                  "Launch Site": "CCAFS LC-40",
                  "Lat": 28.56230197,
                  "Long": -80.57735648,
                  "class": 0,
                  "marker_color": "red"
                },
                {
                  "index": 6,
                  "Launch Site": "CCAFS LC-40",
                  "Lat": 28.56230197,
                  "Long": -80.57735648,
                  "class": 0,
                  "marker_color": "red"
                },
                {
                  "index": 7,
                  "Launch Site": "CCAFS LC-40",
                  "Lat": 28.56230197,
                  "Long": -80.57735648,
                  "class": 0,
                  "marker_color": "red"
                },
                {
                  "index": 8,
                  "Launch Site": "CCAFS LC-40",
                  "Lat": 28.56230197,
                  "Long": -80.57735648,
                  "class": 0,
                  "marker_color": "red"
                },
                {
                  "index": 9,
                  "Launch Site": "CCAFS LC-40",
                  "Lat": 28.56230197,
                  "Long": -80.57735648,
                  "class": 0,
                  "marker_color": "red"
                },
                {
                  "index": 10,
                  "Launch Site": "CCAFS LC-40",
                  "Lat": 28.56230197,
                  "Long": -80.57735648,
                  "class": 0,
                  "marker_color": "red"
                },
                {
                  "index": 11,
                  "Launch Site": "CCAFS LC-40",
                  "Lat": 28.56230197,
                  "Long": -80.57735648,
                  "class": 0,
                  "marker_color": "red"
                },
                {
                  "index": 12,
                  "Launch Site": "CCAFS LC-40",
                  "Lat": 28.56230197,
                  "Long": -80.57735648,
                  "class": 0,
                  "marker_color": "red"
                },
                {
                  "index": 13,
                  "Launch Site": "CCAFS LC-40",
                  "Lat": 28.56230197,
                  "Long": -80.57735648,
                  "class": 0,
                  "marker_color": "red"
                },
                {
                  "index": 14,
                  "Launch Site": "CCAFS LC-40",
                  "Lat": 28.56230197,
                  "Long": -80.57735648,
                  "class": 0,
                  "marker_color": "red"
                },
                {
                  "index": 15,
                  "Launch Site": "CCAFS LC-40",
                  "Lat": 28.56230197,
                  "Long": -80.57735648,
                  "class": 0,
                  "marker_color": "red"
                },
                {
                  "index": 16,
                  "Launch Site": "CCAFS LC-40",
                  "Lat": 28.56230197,
                  "Long": -80.57735648,
                  "class": 0,
                  "marker_color": "red"
                },
                {
                  "index": 17,
                  "Launch Site": "CCAFS LC-40",
                  "Lat": 28.56230197,
                  "Long": -80.57735648,
                  "class": 1,
                  "marker_color": "green"
                },
                {
                  "index": 18,
                  "Launch Site": "CCAFS LC-40",
                  "Lat": 28.56230197,
                  "Long": -80.57735648,
                  "class": 1,
                  "marker_color": "green"
                },
                {
                  "index": 19,
                  "Launch Site": "CCAFS LC-40",
                  "Lat": 28.56230197,
                  "Long": -80.57735648,
                  "class": 0,
                  "marker_color": "red"
                },
                {
                  "index": 20,
                  "Launch Site": "CCAFS LC-40",
                  "Lat": 28.56230197,
                  "Long": -80.57735648,
                  "class": 1,
                  "marker_color": "green"
                },
                {
                  "index": 21,
                  "Launch Site": "CCAFS LC-40",
                  "Lat": 28.56230197,
                  "Long": -80.57735648,
                  "class": 1,
                  "marker_color": "green"
                },
                {
                  "index": 22,
                  "Launch Site": "CCAFS LC-40",
                  "Lat": 28.56230197,
                  "Long": -80.57735648,
                  "class": 1,
                  "marker_color": "green"
                },
                {
                  "index": 23,
                  "Launch Site": "CCAFS LC-40",
                  "Lat": 28.56230197,
                  "Long": -80.57735648,
                  "class": 0,
                  "marker_color": "red"
                },
                {
                  "index": 24,
                  "Launch Site": "CCAFS LC-40",
                  "Lat": 28.56230197,
                  "Long": -80.57735648,
                  "class": 1,
                  "marker_color": "green"
                },
                {
                  "index": 25,
                  "Launch Site": "CCAFS LC-40",
                  "Lat": 28.56230197,
                  "Long": -80.57735648,
                  "class": 1,
                  "marker_color": "green"
                },
                {
                  "index": 26,
                  "Launch Site": "VAFB SLC-4E",
                  "Lat": 34.63283416,
                  "Long": -120.6107455,
                  "class": 0,
                  "marker_color": "red"
                },
                {
                  "index": 27,
                  "Launch Site": "VAFB SLC-4E",
                  "Lat": 34.63283416,
                  "Long": -120.6107455,
                  "class": 0,
                  "marker_color": "red"
                },
                {
                  "index": 28,
                  "Launch Site": "VAFB SLC-4E",
                  "Lat": 34.63283416,
                  "Long": -120.6107455,
                  "class": 1,
                  "marker_color": "green"
                },
                {
                  "index": 29,
                  "Launch Site": "VAFB SLC-4E",
                  "Lat": 34.63283416,
                  "Long": -120.6107455,
                  "class": 1,
                  "marker_color": "green"
                },
                {
                  "index": 30,
                  "Launch Site": "VAFB SLC-4E",
                  "Lat": 34.63283416,
                  "Long": -120.6107455,
                  "class": 1,
                  "marker_color": "green"
                },
                {
                  "index": 31,
                  "Launch Site": "VAFB SLC-4E",
                  "Lat": 34.63283416,
                  "Long": -120.6107455,
                  "class": 1,
                  "marker_color": "green"
                },
                {
                  "index": 32,
                  "Launch Site": "VAFB SLC-4E",
                  "Lat": 34.63283416,
                  "Long": -120.6107455,
                  "class": 0,
                  "marker_color": "red"
                },
                {
                  "index": 33,
                  "Launch Site": "VAFB SLC-4E",
                  "Lat": 34.63283416,
                  "Long": -120.6107455,
                  "class": 0,
                  "marker_color": "red"
                },
                {
                  "index": 34,
                  "Launch Site": "VAFB SLC-4E",
                  "Lat": 34.63283416,
                  "Long": -120.6107455,
                  "class": 0,
                  "marker_color": "red"
                },
                {
                  "index": 35,
                  "Launch Site": "VAFB SLC-4E",
                  "Lat": 34.63283416,
                  "Long": -120.6107455,
                  "class": 0,
                  "marker_color": "red"
                },
                {
                  "index": 36,
                  "Launch Site": "KSC LC-39A",
                  "Lat": 28.57325457,
                  "Long": -80.64689529,
                  "class": 1,
                  "marker_color": "green"
                },
                {
                  "index": 37,
                  "Launch Site": "KSC LC-39A",
                  "Lat": 28.57325457,
                  "Long": -80.64689529,
                  "class": 0,
                  "marker_color": "red"
                },
                {
                  "index": 38,
                  "Launch Site": "KSC LC-39A",
                  "Lat": 28.57325457,
                  "Long": -80.64689529,
                  "class": 1,
                  "marker_color": "green"
                },
                {
                  "index": 39,
                  "Launch Site": "KSC LC-39A",
                  "Lat": 28.57325457,
                  "Long": -80.64689529,
                  "class": 1,
                  "marker_color": "green"
                },
                {
                  "index": 40,
                  "Launch Site": "KSC LC-39A",
                  "Lat": 28.57325457,
                  "Long": -80.64689529,
                  "class": 0,
                  "marker_color": "red"
                },
                {
                  "index": 41,
                  "Launch Site": "KSC LC-39A",
                  "Lat": 28.57325457,
                  "Long": -80.64689529,
                  "class": 1,
                  "marker_color": "green"
                },
                {
                  "index": 42,
                  "Launch Site": "KSC LC-39A",
                  "Lat": 28.57325457,
                  "Long": -80.64689529,
                  "class": 1,
                  "marker_color": "green"
                },
                {
                  "index": 43,
                  "Launch Site": "KSC LC-39A",
                  "Lat": 28.57325457,
                  "Long": -80.64689529,
                  "class": 0,
                  "marker_color": "red"
                },
                {
                  "index": 44,
                  "Launch Site": "KSC LC-39A",
                  "Lat": 28.57325457,
                  "Long": -80.64689529,
                  "class": 1,
                  "marker_color": "green"
                },
                {
                  "index": 45,
                  "Launch Site": "KSC LC-39A",
                  "Lat": 28.57325457,
                  "Long": -80.64689529,
                  "class": 1,
                  "marker_color": "green"
                },
                {
                  "index": 46,
                  "Launch Site": "KSC LC-39A",
                  "Lat": 28.57325457,
                  "Long": -80.64689529,
                  "class": 1,
                  "marker_color": "green"
                },
                {
                  "index": 47,
                  "Launch Site": "KSC LC-39A",
                  "Lat": 28.57325457,
                  "Long": -80.64689529,
                  "class": 1,
                  "marker_color": "green"
                },
                {
                  "index": 48,
                  "Launch Site": "KSC LC-39A",
                  "Lat": 28.57325457,
                  "Long": -80.64689529,
                  "class": 1,
                  "marker_color": "green"
                },
                {
                  "index": 49,
                  "Launch Site": "CCAFS SLC-40",
                  "Lat": 28.56319718,
                  "Long": -80.57682003,
                  "class": 1,
                  "marker_color": "green"
                },
                {
                  "index": 50,
                  "Launch Site": "CCAFS SLC-40",
                  "Lat": 28.56319718,
                  "Long": -80.57682003,
                  "class": 1,
                  "marker_color": "green"
                },
                {
                  "index": 51,
                  "Launch Site": "CCAFS SLC-40",
                  "Lat": 28.56319718,
                  "Long": -80.57682003,
                  "class": 0,
                  "marker_color": "red"
                },
                {
                  "index": 52,
                  "Launch Site": "CCAFS SLC-40",
                  "Lat": 28.56319718,
                  "Long": -80.57682003,
                  "class": 0,
                  "marker_color": "red"
                },
                {
                  "index": 53,
                  "Launch Site": "CCAFS SLC-40",
                  "Lat": 28.56319718,
                  "Long": -80.57682003,
                  "class": 0,
                  "marker_color": "red"
                },
                {
                  "index": 54,
                  "Launch Site": "CCAFS SLC-40",
                  "Lat": 28.56319718,
                  "Long": -80.57682003,
                  "class": 1,
                  "marker_color": "green"
                },
                {
                  "index": 55,
                  "Launch Site": "CCAFS SLC-40",
                  "Lat": 28.56319718,
                  "Long": -80.57682003,
                  "class": 0,
                  "marker_color": "red"
                }
              ],
              "datalink": {
                "display_id": "403f7343-fdc9-4eb3-843f-f21e46c6becd"
              }
            }
          },
          "metadata": {
            "application/vnd.dataresource+json": {
              "datalink": {
                "dataframe_info": {
                  "default_index_used": true,
                  "orig_size_bytes": 2688,
                  "orig_num_rows": 56,
                  "orig_num_cols": 5,
                  "truncated_string_columns": [],
                  "truncated_size_bytes": 2688,
                  "truncated_num_rows": 56,
                  "truncated_num_cols": 5
                },
                "dx_settings": {
                  "NUM_PAST_SAMPLES_TRACKED": 3,
                  "ENABLE_DATALINK": true,
                  "DISPLAY_MODE": "simple",
                  "GENERATE_DEX_METADATA": false,
                  "STRINGIFY_INDEX_VALUES": false,
                  "ALLOW_NOTEABLE_ATTRS": true,
                  "DISPLAY_MAX_COLUMNS": 100,
                  "HTML_TABLE_SCHEMA": false,
                  "SAMPLING_FACTOR": 0.1,
                  "LOG_LEVEL": 30,
                  "ENABLE_ASSIGNMENT": true,
                  "FLATTEN_INDEX_VALUES": false,
                  "DEV_MODE": false,
                  "COLUMN_SAMPLING_METHOD": "outer",
                  "FLATTEN_COLUMN_VALUES": true,
                  "DISPLAY_MAX_ROWS": 50000,
                  "ROW_SAMPLING_METHOD": "random",
                  "RANDOM_STATE": 12648430,
                  "DB_LOCATION": ":memory:",
                  "STRINGIFY_COLUMN_VALUES": true,
                  "SAMPLING_METHOD": "random",
                  "MAX_STRING_LENGTH": 250,
                  "MAX_RENDER_SIZE_BYTES": 104857600,
                  "RESET_INDEX_VALUES": false
                },
                "display_id": "403f7343-fdc9-4eb3-843f-f21e46c6becd",
                "applied_filters": [],
                "sample_history": [],
                "sampling_time": "2023-07-03T11:18:06.646811",
                "variable_name": "spacex_df",
                "user_variable_name": "spacex_df"
              },
              "display_id": "403f7343-fdc9-4eb3-843f-f21e46c6becd"
            }
          }
        }
      ],
      "execution_count": null,
      "metadata": {
        "noteable": {},
        "ExecuteTime": {
          "start_time": "2023-07-03T11:18:06.596743+00:00",
          "end_time": "2023-07-03T11:18:06.804318+00:00"
        },
        "datalink": {
          "729a04d5-0545-439c-a97a-d95d52f996cc": {
            "dataframe_info": {
              "default_index_used": true,
              "orig_size_bytes": 480,
              "orig_num_rows": 10,
              "orig_num_cols": 5,
              "truncated_string_columns": [],
              "truncated_size_bytes": 480,
              "truncated_num_rows": 10,
              "truncated_num_cols": 5
            },
            "dx_settings": {
              "LOG_LEVEL": 30,
              "DEV_MODE": false,
              "DISPLAY_MAX_ROWS": 50000,
              "DISPLAY_MAX_COLUMNS": 100,
              "HTML_TABLE_SCHEMA": false,
              "MAX_RENDER_SIZE_BYTES": 104857600,
              "MAX_STRING_LENGTH": 250,
              "SAMPLING_FACTOR": 0.1,
              "DISPLAY_MODE": "simple",
              "SAMPLING_METHOD": "random",
              "COLUMN_SAMPLING_METHOD": "outer",
              "ROW_SAMPLING_METHOD": "random",
              "RANDOM_STATE": 12648430,
              "RESET_INDEX_VALUES": false,
              "FLATTEN_INDEX_VALUES": false,
              "FLATTEN_COLUMN_VALUES": true,
              "STRINGIFY_INDEX_VALUES": false,
              "STRINGIFY_COLUMN_VALUES": true,
              "ENABLE_DATALINK": true,
              "ENABLE_ASSIGNMENT": true,
              "NUM_PAST_SAMPLES_TRACKED": 3,
              "DB_LOCATION": ":memory:",
              "GENERATE_DEX_METADATA": false,
              "ALLOW_NOTEABLE_ATTRS": true
            },
            "display_id": "729a04d5-0545-439c-a97a-d95d52f996cc",
            "applied_filters": [],
            "sample_history": [],
            "sampling_time": "2023-06-30T20:55:35.783542",
            "variable_name": "unk_dataframe_9c46b705b13b4a4bb36861138c2aaf7d",
            "user_variable_name": null
          },
          "cb5fe6f6-c9c5-46fd-a42a-10b9075d3139": {
            "dataframe_info": {
              "default_index_used": true,
              "orig_size_bytes": 2688,
              "orig_num_rows": 56,
              "orig_num_cols": 5,
              "truncated_string_columns": [],
              "truncated_size_bytes": 2688,
              "truncated_num_rows": 56,
              "truncated_num_cols": 5
            },
            "dx_settings": {
              "LOG_LEVEL": 30,
              "DEV_MODE": false,
              "DISPLAY_MAX_ROWS": 50000,
              "DISPLAY_MAX_COLUMNS": 100,
              "HTML_TABLE_SCHEMA": false,
              "MAX_RENDER_SIZE_BYTES": 104857600,
              "MAX_STRING_LENGTH": 250,
              "SAMPLING_FACTOR": 0.1,
              "DISPLAY_MODE": "simple",
              "SAMPLING_METHOD": "random",
              "COLUMN_SAMPLING_METHOD": "outer",
              "ROW_SAMPLING_METHOD": "random",
              "RANDOM_STATE": 12648430,
              "RESET_INDEX_VALUES": false,
              "FLATTEN_INDEX_VALUES": false,
              "FLATTEN_COLUMN_VALUES": true,
              "STRINGIFY_INDEX_VALUES": false,
              "STRINGIFY_COLUMN_VALUES": true,
              "ENABLE_DATALINK": true,
              "ENABLE_ASSIGNMENT": true,
              "NUM_PAST_SAMPLES_TRACKED": 3,
              "DB_LOCATION": ":memory:",
              "GENERATE_DEX_METADATA": false,
              "ALLOW_NOTEABLE_ATTRS": true
            },
            "display_id": "cb5fe6f6-c9c5-46fd-a42a-10b9075d3139",
            "applied_filters": [],
            "sample_history": [],
            "sampling_time": "2023-06-30T21:06:26.296946",
            "variable_name": "spacex_df",
            "user_variable_name": "spacex_df"
          },
          "078c6a64-af02-4624-bc6b-529383238ae1": {
            "dataframe_info": {
              "default_index_used": true,
              "orig_size_bytes": 2688,
              "orig_num_rows": 56,
              "orig_num_cols": 5,
              "truncated_string_columns": [],
              "truncated_size_bytes": 2688,
              "truncated_num_rows": 56,
              "truncated_num_cols": 5
            },
            "dx_settings": {
              "LOG_LEVEL": 30,
              "DEV_MODE": false,
              "DISPLAY_MAX_ROWS": 50000,
              "DISPLAY_MAX_COLUMNS": 100,
              "HTML_TABLE_SCHEMA": false,
              "MAX_RENDER_SIZE_BYTES": 104857600,
              "MAX_STRING_LENGTH": 250,
              "SAMPLING_FACTOR": 0.1,
              "DISPLAY_MODE": "simple",
              "SAMPLING_METHOD": "random",
              "COLUMN_SAMPLING_METHOD": "outer",
              "ROW_SAMPLING_METHOD": "random",
              "RANDOM_STATE": 12648430,
              "RESET_INDEX_VALUES": false,
              "FLATTEN_INDEX_VALUES": false,
              "FLATTEN_COLUMN_VALUES": true,
              "STRINGIFY_INDEX_VALUES": false,
              "STRINGIFY_COLUMN_VALUES": true,
              "ENABLE_DATALINK": true,
              "ENABLE_ASSIGNMENT": true,
              "NUM_PAST_SAMPLES_TRACKED": 3,
              "DB_LOCATION": ":memory:",
              "GENERATE_DEX_METADATA": false,
              "ALLOW_NOTEABLE_ATTRS": true
            },
            "display_id": "078c6a64-af02-4624-bc6b-529383238ae1",
            "applied_filters": [],
            "sample_history": [],
            "sampling_time": "2023-06-30T21:12:49.537035",
            "variable_name": "spacex_df",
            "user_variable_name": "spacex_df"
          },
          "696f458d-a42f-4dc1-9776-a58d7ca14af9": {
            "dataframe_info": {
              "default_index_used": true,
              "orig_size_bytes": 2688,
              "orig_num_rows": 56,
              "orig_num_cols": 5,
              "truncated_string_columns": [],
              "truncated_size_bytes": 2688,
              "truncated_num_rows": 56,
              "truncated_num_cols": 5
            },
            "dx_settings": {
              "LOG_LEVEL": 30,
              "DEV_MODE": false,
              "DISPLAY_MAX_ROWS": 50000,
              "DISPLAY_MAX_COLUMNS": 100,
              "HTML_TABLE_SCHEMA": false,
              "MAX_RENDER_SIZE_BYTES": 104857600,
              "MAX_STRING_LENGTH": 250,
              "SAMPLING_FACTOR": 0.1,
              "DISPLAY_MODE": "simple",
              "SAMPLING_METHOD": "random",
              "COLUMN_SAMPLING_METHOD": "outer",
              "ROW_SAMPLING_METHOD": "random",
              "RANDOM_STATE": 12648430,
              "RESET_INDEX_VALUES": false,
              "FLATTEN_INDEX_VALUES": false,
              "FLATTEN_COLUMN_VALUES": true,
              "STRINGIFY_INDEX_VALUES": false,
              "STRINGIFY_COLUMN_VALUES": true,
              "ENABLE_DATALINK": true,
              "ENABLE_ASSIGNMENT": true,
              "NUM_PAST_SAMPLES_TRACKED": 3,
              "DB_LOCATION": ":memory:",
              "GENERATE_DEX_METADATA": false,
              "ALLOW_NOTEABLE_ATTRS": true
            },
            "display_id": "696f458d-a42f-4dc1-9776-a58d7ca14af9",
            "applied_filters": [],
            "sample_history": [],
            "sampling_time": "2023-07-03T10:38:11.377212",
            "variable_name": "spacex_df",
            "user_variable_name": "spacex_df"
          },
          "403f7343-fdc9-4eb3-843f-f21e46c6becd": {
            "dataframe_info": {
              "default_index_used": true,
              "orig_size_bytes": 2688,
              "orig_num_rows": 56,
              "orig_num_cols": 5,
              "truncated_string_columns": [],
              "truncated_size_bytes": 2688,
              "truncated_num_rows": 56,
              "truncated_num_cols": 5
            },
            "dx_settings": {
              "LOG_LEVEL": 30,
              "DEV_MODE": false,
              "DISPLAY_MAX_ROWS": 50000,
              "DISPLAY_MAX_COLUMNS": 100,
              "HTML_TABLE_SCHEMA": false,
              "MAX_RENDER_SIZE_BYTES": 104857600,
              "MAX_STRING_LENGTH": 250,
              "SAMPLING_FACTOR": 0.1,
              "DISPLAY_MODE": "simple",
              "SAMPLING_METHOD": "random",
              "COLUMN_SAMPLING_METHOD": "outer",
              "ROW_SAMPLING_METHOD": "random",
              "RANDOM_STATE": 12648430,
              "RESET_INDEX_VALUES": false,
              "FLATTEN_INDEX_VALUES": false,
              "FLATTEN_COLUMN_VALUES": true,
              "STRINGIFY_INDEX_VALUES": false,
              "STRINGIFY_COLUMN_VALUES": true,
              "ENABLE_DATALINK": true,
              "ENABLE_ASSIGNMENT": true,
              "NUM_PAST_SAMPLES_TRACKED": 3,
              "DB_LOCATION": ":memory:",
              "GENERATE_DEX_METADATA": false,
              "ALLOW_NOTEABLE_ATTRS": true
            },
            "display_id": "403f7343-fdc9-4eb3-843f-f21e46c6becd",
            "applied_filters": [],
            "sample_history": [],
            "sampling_time": "2023-07-03T11:18:06.646811",
            "variable_name": "spacex_df",
            "user_variable_name": "spacex_df"
          }
        }
      },
      "id": "27cd7cef"
    },
    {
      "cell_type": "markdown",
      "source": [
        "_TODO:_ For each launch result in `spacex_df` data frame, add a `folium.Marker` to `marker_cluster`\n"
      ],
      "metadata": {},
      "id": "e059ebe3"
    },
    {
      "cell_type": "code",
      "source": [
        "# Add marker_cluster to current site_map\n",
        "site_map.add_child(marker_cluster)\n",
        "\n",
        "# for each row in spacex_df data frame\n",
        "# create a Marker object with its coordinate\n",
        "# and customize the Marker's icon property to indicate if this launch was successed or failed, \n",
        "# e.g., icon=folium.Icon(color='white', icon_color=row['marker_color']\n",
        "for index, record in spacex_df.iterrows():\n",
        "    # TODO: Create and add a Marker cluster to the site map\n",
        "    marker = folium.Marker(\n",
        "        location=[record['Lat'], record['Long']],\n",
        "        # Customize the Marker's icon property to indicate if this launch was successful or failed\n",
        "        icon=folium.Icon(color='white', icon_color=record['marker_color'])\n",
        "    )\n",
        "    marker_cluster.add_child(marker)\n",
        "\n",
        "site_map\n"
      ],
      "outputs": [
        {
          "output_type": "execute_result",
          "execution_count": null,
          "data": {
            "text/html": "<div style=\"width:100%;\"><div style=\"position:relative;width:100%;height:0;padding-bottom:60%;\"><span style=\"color:#565656\">Make this Notebook Trusted to load map: File -> Trust Notebook</span><iframe srcdoc=\"&lt;!DOCTYPE html&gt;\n&lt;html&gt;\n&lt;head&gt;\n    \n    &lt;meta http-equiv=&quot;content-type&quot; content=&quot;text/html; charset=UTF-8&quot; /&gt;\n    \n        &lt;script&gt;\n            L_NO_TOUCH = false;\n            L_DISABLE_3D = false;\n        &lt;/script&gt;\n    \n    &lt;style&gt;html, body {width: 100%;height: 100%;margin: 0;padding: 0;}&lt;/style&gt;\n    &lt;style&gt;#map {position:absolute;top:0;bottom:0;right:0;left:0;}&lt;/style&gt;\n    &lt;script src=&quot;https://cdn.jsdelivr.net/npm/leaflet@1.9.3/dist/leaflet.js&quot;&gt;&lt;/script&gt;\n    &lt;script src=&quot;https://code.jquery.com/jquery-1.12.4.min.js&quot;&gt;&lt;/script&gt;\n    &lt;script src=&quot;https://cdn.jsdelivr.net/npm/bootstrap@5.2.2/dist/js/bootstrap.bundle.min.js&quot;&gt;&lt;/script&gt;\n    &lt;script src=&quot;https://cdnjs.cloudflare.com/ajax/libs/Leaflet.awesome-markers/2.0.2/leaflet.awesome-markers.js&quot;&gt;&lt;/script&gt;\n    &lt;link rel=&quot;stylesheet&quot; href=&quot;https://cdn.jsdelivr.net/npm/leaflet@1.9.3/dist/leaflet.css&quot;/&gt;\n    &lt;link rel=&quot;stylesheet&quot; href=&quot;https://cdn.jsdelivr.net/npm/bootstrap@5.2.2/dist/css/bootstrap.min.css&quot;/&gt;\n    &lt;link rel=&quot;stylesheet&quot; href=&quot;https://netdna.bootstrapcdn.com/bootstrap/3.0.0/css/bootstrap.min.css&quot;/&gt;\n    &lt;link rel=&quot;stylesheet&quot; href=&quot;https://cdn.jsdelivr.net/npm/@fortawesome/fontawesome-free@6.2.0/css/all.min.css&quot;/&gt;\n    &lt;link rel=&quot;stylesheet&quot; href=&quot;https://cdnjs.cloudflare.com/ajax/libs/Leaflet.awesome-markers/2.0.2/leaflet.awesome-markers.css&quot;/&gt;\n    &lt;link rel=&quot;stylesheet&quot; href=&quot;https://cdn.jsdelivr.net/gh/python-visualization/folium/folium/templates/leaflet.awesome.rotate.min.css&quot;/&gt;\n    \n            &lt;meta name=&quot;viewport&quot; content=&quot;width=device-width,\n                initial-scale=1.0, maximum-scale=1.0, user-scalable=no&quot; /&gt;\n            &lt;style&gt;\n                #map_f9a8da82c837b903412b6c84e6decb30 {\n                    position: relative;\n                    width: 100.0%;\n                    height: 100.0%;\n                    left: 0.0%;\n                    top: 0.0%;\n                }\n                .leaflet-container { font-size: 1rem; }\n            &lt;/style&gt;\n        \n    &lt;script src=&quot;https://cdnjs.cloudflare.com/ajax/libs/leaflet.markercluster/1.1.0/leaflet.markercluster.js&quot;&gt;&lt;/script&gt;\n    &lt;link rel=&quot;stylesheet&quot; href=&quot;https://cdnjs.cloudflare.com/ajax/libs/leaflet.markercluster/1.1.0/MarkerCluster.css&quot;/&gt;\n    &lt;link rel=&quot;stylesheet&quot; href=&quot;https://cdnjs.cloudflare.com/ajax/libs/leaflet.markercluster/1.1.0/MarkerCluster.Default.css&quot;/&gt;\n&lt;/head&gt;\n&lt;body&gt;\n    \n    \n            &lt;div class=&quot;folium-map&quot; id=&quot;map_f9a8da82c837b903412b6c84e6decb30&quot; &gt;&lt;/div&gt;\n        \n&lt;/body&gt;\n&lt;script&gt;\n    \n    \n            var map_f9a8da82c837b903412b6c84e6decb30 = L.map(\n                &quot;map_f9a8da82c837b903412b6c84e6decb30&quot;,\n                {\n                    center: [29.559684888503615, -95.0830971930759],\n                    crs: L.CRS.EPSG3857,\n                    zoom: 5,\n                    zoomControl: true,\n                    preferCanvas: false,\n                }\n            );\n\n            \n\n        \n    \n            var tile_layer_6f1766957711a42940766aa4afae338a = L.tileLayer(\n                &quot;https://{s}.tile.openstreetmap.org/{z}/{x}/{y}.png&quot;,\n                {&quot;attribution&quot;: &quot;Data by \\u0026copy; \\u003ca target=\\&quot;_blank\\&quot; href=\\&quot;http://openstreetmap.org\\&quot;\\u003eOpenStreetMap\\u003c/a\\u003e, under \\u003ca target=\\&quot;_blank\\&quot; href=\\&quot;http://www.openstreetmap.org/copyright\\&quot;\\u003eODbL\\u003c/a\\u003e.&quot;, &quot;detectRetina&quot;: false, &quot;maxNativeZoom&quot;: 18, &quot;maxZoom&quot;: 18, &quot;minZoom&quot;: 0, &quot;noWrap&quot;: false, &quot;opacity&quot;: 1, &quot;subdomains&quot;: &quot;abc&quot;, &quot;tms&quot;: false}\n            ).addTo(map_f9a8da82c837b903412b6c84e6decb30);\n        \n    \n            var circle_33c3498c513c19c6f8c7a11c9f6bb4a7 = L.circle(\n                [28.56230197, -80.57735648],\n                {&quot;bubblingMouseEvents&quot;: true, &quot;color&quot;: &quot;#d35400&quot;, &quot;dashArray&quot;: null, &quot;dashOffset&quot;: null, &quot;fill&quot;: true, &quot;fillColor&quot;: &quot;#d35400&quot;, &quot;fillOpacity&quot;: 0.4, &quot;fillRule&quot;: &quot;evenodd&quot;, &quot;lineCap&quot;: &quot;round&quot;, &quot;lineJoin&quot;: &quot;round&quot;, &quot;opacity&quot;: 1.0, &quot;radius&quot;: 1000, &quot;stroke&quot;: true, &quot;weight&quot;: 3}\n            ).addTo(map_f9a8da82c837b903412b6c84e6decb30);\n        \n    \n        var popup_86514b6473e57b31d7f34ae08ce0370a = L.popup({&quot;maxWidth&quot;: 300});\n\n        \n            \n                var html_3c91ff083d79107dfcd60c06de14e2f2 = $(`&lt;div id=&quot;html_3c91ff083d79107dfcd60c06de14e2f2&quot; style=&quot;width: 100.0%; height: 100.0%;&quot;&gt;CCAFS LC-40&lt;/div&gt;`)[0];\n                popup_86514b6473e57b31d7f34ae08ce0370a.setContent(html_3c91ff083d79107dfcd60c06de14e2f2);\n            \n        \n\n        circle_33c3498c513c19c6f8c7a11c9f6bb4a7.bindPopup(popup_86514b6473e57b31d7f34ae08ce0370a)\n        ;\n\n        \n    \n    \n            var circle_416aba08c5064575a30e931c41f1ef7c = L.circle(\n                [28.56319718, -80.57682003],\n                {&quot;bubblingMouseEvents&quot;: true, &quot;color&quot;: &quot;#d35400&quot;, &quot;dashArray&quot;: null, &quot;dashOffset&quot;: null, &quot;fill&quot;: true, &quot;fillColor&quot;: &quot;#d35400&quot;, &quot;fillOpacity&quot;: 0.4, &quot;fillRule&quot;: &quot;evenodd&quot;, &quot;lineCap&quot;: &quot;round&quot;, &quot;lineJoin&quot;: &quot;round&quot;, &quot;opacity&quot;: 1.0, &quot;radius&quot;: 1000, &quot;stroke&quot;: true, &quot;weight&quot;: 3}\n            ).addTo(map_f9a8da82c837b903412b6c84e6decb30);\n        \n    \n        var popup_7319dcb91c0d99998bf7f792253e7677 = L.popup({&quot;maxWidth&quot;: 300});\n\n        \n            \n                var html_0337173dc172c0b8c9383a8c3d1de56d = $(`&lt;div id=&quot;html_0337173dc172c0b8c9383a8c3d1de56d&quot; style=&quot;width: 100.0%; height: 100.0%;&quot;&gt;CCAFS SLC-40&lt;/div&gt;`)[0];\n                popup_7319dcb91c0d99998bf7f792253e7677.setContent(html_0337173dc172c0b8c9383a8c3d1de56d);\n            \n        \n\n        circle_416aba08c5064575a30e931c41f1ef7c.bindPopup(popup_7319dcb91c0d99998bf7f792253e7677)\n        ;\n\n        \n    \n    \n            var circle_f5973ae64faa45df80a8eb05f0c2642b = L.circle(\n                [28.57325457, -80.64689529],\n                {&quot;bubblingMouseEvents&quot;: true, &quot;color&quot;: &quot;#d35400&quot;, &quot;dashArray&quot;: null, &quot;dashOffset&quot;: null, &quot;fill&quot;: true, &quot;fillColor&quot;: &quot;#d35400&quot;, &quot;fillOpacity&quot;: 0.4, &quot;fillRule&quot;: &quot;evenodd&quot;, &quot;lineCap&quot;: &quot;round&quot;, &quot;lineJoin&quot;: &quot;round&quot;, &quot;opacity&quot;: 1.0, &quot;radius&quot;: 1000, &quot;stroke&quot;: true, &quot;weight&quot;: 3}\n            ).addTo(map_f9a8da82c837b903412b6c84e6decb30);\n        \n    \n        var popup_d3ce8abe2719b30b07ea4483dbeae275 = L.popup({&quot;maxWidth&quot;: 300});\n\n        \n            \n                var html_225f0168e2e75212ebef6b6f543931a5 = $(`&lt;div id=&quot;html_225f0168e2e75212ebef6b6f543931a5&quot; style=&quot;width: 100.0%; height: 100.0%;&quot;&gt;KSC LC-39A&lt;/div&gt;`)[0];\n                popup_d3ce8abe2719b30b07ea4483dbeae275.setContent(html_225f0168e2e75212ebef6b6f543931a5);\n            \n        \n\n        circle_f5973ae64faa45df80a8eb05f0c2642b.bindPopup(popup_d3ce8abe2719b30b07ea4483dbeae275)\n        ;\n\n        \n    \n    \n            var circle_49b14ed525fcc450480a701581428501 = L.circle(\n                [34.63283416, -120.6107455],\n                {&quot;bubblingMouseEvents&quot;: true, &quot;color&quot;: &quot;#d35400&quot;, &quot;dashArray&quot;: null, &quot;dashOffset&quot;: null, &quot;fill&quot;: true, &quot;fillColor&quot;: &quot;#d35400&quot;, &quot;fillOpacity&quot;: 0.4, &quot;fillRule&quot;: &quot;evenodd&quot;, &quot;lineCap&quot;: &quot;round&quot;, &quot;lineJoin&quot;: &quot;round&quot;, &quot;opacity&quot;: 1.0, &quot;radius&quot;: 1000, &quot;stroke&quot;: true, &quot;weight&quot;: 3}\n            ).addTo(map_f9a8da82c837b903412b6c84e6decb30);\n        \n    \n        var popup_a646837238f612ef9c3d5f0ba7a541f6 = L.popup({&quot;maxWidth&quot;: 300});\n\n        \n            \n                var html_0af307e62da871f3e1ae96e3b25a1da7 = $(`&lt;div id=&quot;html_0af307e62da871f3e1ae96e3b25a1da7&quot; style=&quot;width: 100.0%; height: 100.0%;&quot;&gt;VAFB SLC-4E&lt;/div&gt;`)[0];\n                popup_a646837238f612ef9c3d5f0ba7a541f6.setContent(html_0af307e62da871f3e1ae96e3b25a1da7);\n            \n        \n\n        circle_49b14ed525fcc450480a701581428501.bindPopup(popup_a646837238f612ef9c3d5f0ba7a541f6)\n        ;\n\n        \n    \n    \n            var marker_cluster_06441495b2f0c166c9b59bfd8ecd2723 = L.markerClusterGroup(\n                {}\n            );\n            map_f9a8da82c837b903412b6c84e6decb30.addLayer(marker_cluster_06441495b2f0c166c9b59bfd8ecd2723);\n        \n    \n            var marker_69f5c45534ef2dfa3e8b79196d3a301e = L.marker(\n                [28.56230197, -80.57735648],\n                {}\n            ).addTo(marker_cluster_06441495b2f0c166c9b59bfd8ecd2723);\n        \n    \n            var icon_f4d6c8882e5835015a7c22b3723bcc83 = L.AwesomeMarkers.icon(\n                {&quot;extraClasses&quot;: &quot;fa-rotate-0&quot;, &quot;icon&quot;: &quot;info-sign&quot;, &quot;iconColor&quot;: &quot;red&quot;, &quot;markerColor&quot;: &quot;white&quot;, &quot;prefix&quot;: &quot;glyphicon&quot;}\n            );\n            marker_69f5c45534ef2dfa3e8b79196d3a301e.setIcon(icon_f4d6c8882e5835015a7c22b3723bcc83);\n        \n    \n            var marker_5942e4e90c7cb03068ffd69ed19bb92c = L.marker(\n                [28.56230197, -80.57735648],\n                {}\n            ).addTo(marker_cluster_06441495b2f0c166c9b59bfd8ecd2723);\n        \n    \n            var icon_67514e3d820cfbe4938e011fd30fadec = L.AwesomeMarkers.icon(\n                {&quot;extraClasses&quot;: &quot;fa-rotate-0&quot;, &quot;icon&quot;: &quot;info-sign&quot;, &quot;iconColor&quot;: &quot;red&quot;, &quot;markerColor&quot;: &quot;white&quot;, &quot;prefix&quot;: &quot;glyphicon&quot;}\n            );\n            marker_5942e4e90c7cb03068ffd69ed19bb92c.setIcon(icon_67514e3d820cfbe4938e011fd30fadec);\n        \n    \n            var marker_4f4356b8d5016ac30e47bff14a4a4de3 = L.marker(\n                [28.56230197, -80.57735648],\n                {}\n            ).addTo(marker_cluster_06441495b2f0c166c9b59bfd8ecd2723);\n        \n    \n            var icon_5240995d621804d994d43827f092725b = L.AwesomeMarkers.icon(\n                {&quot;extraClasses&quot;: &quot;fa-rotate-0&quot;, &quot;icon&quot;: &quot;info-sign&quot;, &quot;iconColor&quot;: &quot;red&quot;, &quot;markerColor&quot;: &quot;white&quot;, &quot;prefix&quot;: &quot;glyphicon&quot;}\n            );\n            marker_4f4356b8d5016ac30e47bff14a4a4de3.setIcon(icon_5240995d621804d994d43827f092725b);\n        \n    \n            var marker_2af8a9a1ae0f77872dc72cd1b21ffc0e = L.marker(\n                [28.56230197, -80.57735648],\n                {}\n            ).addTo(marker_cluster_06441495b2f0c166c9b59bfd8ecd2723);\n        \n    \n            var icon_27c3d96405482f2b4306ab9649bd29cb = L.AwesomeMarkers.icon(\n                {&quot;extraClasses&quot;: &quot;fa-rotate-0&quot;, &quot;icon&quot;: &quot;info-sign&quot;, &quot;iconColor&quot;: &quot;red&quot;, &quot;markerColor&quot;: &quot;white&quot;, &quot;prefix&quot;: &quot;glyphicon&quot;}\n            );\n            marker_2af8a9a1ae0f77872dc72cd1b21ffc0e.setIcon(icon_27c3d96405482f2b4306ab9649bd29cb);\n        \n    \n            var marker_22fc2debb23c28c4c5065b7135c44bd0 = L.marker(\n                [28.56230197, -80.57735648],\n                {}\n            ).addTo(marker_cluster_06441495b2f0c166c9b59bfd8ecd2723);\n        \n    \n            var icon_908ea4b6485b40e75510824f8972f639 = L.AwesomeMarkers.icon(\n                {&quot;extraClasses&quot;: &quot;fa-rotate-0&quot;, &quot;icon&quot;: &quot;info-sign&quot;, &quot;iconColor&quot;: &quot;red&quot;, &quot;markerColor&quot;: &quot;white&quot;, &quot;prefix&quot;: &quot;glyphicon&quot;}\n            );\n            marker_22fc2debb23c28c4c5065b7135c44bd0.setIcon(icon_908ea4b6485b40e75510824f8972f639);\n        \n    \n            var marker_ac666c89c540a976e2df8dea0033c02d = L.marker(\n                [28.56230197, -80.57735648],\n                {}\n            ).addTo(marker_cluster_06441495b2f0c166c9b59bfd8ecd2723);\n        \n    \n            var icon_ab0f8418c7fc230116f773d44b081b9d = L.AwesomeMarkers.icon(\n                {&quot;extraClasses&quot;: &quot;fa-rotate-0&quot;, &quot;icon&quot;: &quot;info-sign&quot;, &quot;iconColor&quot;: &quot;red&quot;, &quot;markerColor&quot;: &quot;white&quot;, &quot;prefix&quot;: &quot;glyphicon&quot;}\n            );\n            marker_ac666c89c540a976e2df8dea0033c02d.setIcon(icon_ab0f8418c7fc230116f773d44b081b9d);\n        \n    \n            var marker_e19f1e061e8dc3fe41002db71e856239 = L.marker(\n                [28.56230197, -80.57735648],\n                {}\n            ).addTo(marker_cluster_06441495b2f0c166c9b59bfd8ecd2723);\n        \n    \n            var icon_b63f54cde43b5cdfba0ff1d4796a989f = L.AwesomeMarkers.icon(\n                {&quot;extraClasses&quot;: &quot;fa-rotate-0&quot;, &quot;icon&quot;: &quot;info-sign&quot;, &quot;iconColor&quot;: &quot;red&quot;, &quot;markerColor&quot;: &quot;white&quot;, &quot;prefix&quot;: &quot;glyphicon&quot;}\n            );\n            marker_e19f1e061e8dc3fe41002db71e856239.setIcon(icon_b63f54cde43b5cdfba0ff1d4796a989f);\n        \n    \n            var marker_0775ed7d9f1a72b85d647fcbb041fa0d = L.marker(\n                [28.56230197, -80.57735648],\n                {}\n            ).addTo(marker_cluster_06441495b2f0c166c9b59bfd8ecd2723);\n        \n    \n            var icon_92c712ee401e0f2b49be720d6f7d0a90 = L.AwesomeMarkers.icon(\n                {&quot;extraClasses&quot;: &quot;fa-rotate-0&quot;, &quot;icon&quot;: &quot;info-sign&quot;, &quot;iconColor&quot;: &quot;red&quot;, &quot;markerColor&quot;: &quot;white&quot;, &quot;prefix&quot;: &quot;glyphicon&quot;}\n            );\n            marker_0775ed7d9f1a72b85d647fcbb041fa0d.setIcon(icon_92c712ee401e0f2b49be720d6f7d0a90);\n        \n    \n            var marker_5aba08fed711abf33a73f713ee49c1ed = L.marker(\n                [28.56230197, -80.57735648],\n                {}\n            ).addTo(marker_cluster_06441495b2f0c166c9b59bfd8ecd2723);\n        \n    \n            var icon_f04fd4484e7f93149f6d77fae36a660d = L.AwesomeMarkers.icon(\n                {&quot;extraClasses&quot;: &quot;fa-rotate-0&quot;, &quot;icon&quot;: &quot;info-sign&quot;, &quot;iconColor&quot;: &quot;red&quot;, &quot;markerColor&quot;: &quot;white&quot;, &quot;prefix&quot;: &quot;glyphicon&quot;}\n            );\n            marker_5aba08fed711abf33a73f713ee49c1ed.setIcon(icon_f04fd4484e7f93149f6d77fae36a660d);\n        \n    \n            var marker_950242137d24211dbbc51085fc5cef51 = L.marker(\n                [28.56230197, -80.57735648],\n                {}\n            ).addTo(marker_cluster_06441495b2f0c166c9b59bfd8ecd2723);\n        \n    \n            var icon_0031d0eb68d68761259ff3a7a19c2f7b = L.AwesomeMarkers.icon(\n                {&quot;extraClasses&quot;: &quot;fa-rotate-0&quot;, &quot;icon&quot;: &quot;info-sign&quot;, &quot;iconColor&quot;: &quot;red&quot;, &quot;markerColor&quot;: &quot;white&quot;, &quot;prefix&quot;: &quot;glyphicon&quot;}\n            );\n            marker_950242137d24211dbbc51085fc5cef51.setIcon(icon_0031d0eb68d68761259ff3a7a19c2f7b);\n        \n    \n            var marker_7b96b92677bab790eb2dc31d1ad5f878 = L.marker(\n                [28.56230197, -80.57735648],\n                {}\n            ).addTo(marker_cluster_06441495b2f0c166c9b59bfd8ecd2723);\n        \n    \n            var icon_0f1892103f8d3cc261241c550878992e = L.AwesomeMarkers.icon(\n                {&quot;extraClasses&quot;: &quot;fa-rotate-0&quot;, &quot;icon&quot;: &quot;info-sign&quot;, &quot;iconColor&quot;: &quot;red&quot;, &quot;markerColor&quot;: &quot;white&quot;, &quot;prefix&quot;: &quot;glyphicon&quot;}\n            );\n            marker_7b96b92677bab790eb2dc31d1ad5f878.setIcon(icon_0f1892103f8d3cc261241c550878992e);\n        \n    \n            var marker_067086ce99c2344918ac63598d63b04e = L.marker(\n                [28.56230197, -80.57735648],\n                {}\n            ).addTo(marker_cluster_06441495b2f0c166c9b59bfd8ecd2723);\n        \n    \n            var icon_4e7d0b8aaa90eb2389c8a8e2a2fe2abf = L.AwesomeMarkers.icon(\n                {&quot;extraClasses&quot;: &quot;fa-rotate-0&quot;, &quot;icon&quot;: &quot;info-sign&quot;, &quot;iconColor&quot;: &quot;red&quot;, &quot;markerColor&quot;: &quot;white&quot;, &quot;prefix&quot;: &quot;glyphicon&quot;}\n            );\n            marker_067086ce99c2344918ac63598d63b04e.setIcon(icon_4e7d0b8aaa90eb2389c8a8e2a2fe2abf);\n        \n    \n            var marker_4e7562f5a71ffdeeecf32bda9327fd3f = L.marker(\n                [28.56230197, -80.57735648],\n                {}\n            ).addTo(marker_cluster_06441495b2f0c166c9b59bfd8ecd2723);\n        \n    \n            var icon_40d4d1fce3f2bb37a88cd888626d419a = L.AwesomeMarkers.icon(\n                {&quot;extraClasses&quot;: &quot;fa-rotate-0&quot;, &quot;icon&quot;: &quot;info-sign&quot;, &quot;iconColor&quot;: &quot;red&quot;, &quot;markerColor&quot;: &quot;white&quot;, &quot;prefix&quot;: &quot;glyphicon&quot;}\n            );\n            marker_4e7562f5a71ffdeeecf32bda9327fd3f.setIcon(icon_40d4d1fce3f2bb37a88cd888626d419a);\n        \n    \n            var marker_1ca089876b2e79f5e943ab4f7e0345ce = L.marker(\n                [28.56230197, -80.57735648],\n                {}\n            ).addTo(marker_cluster_06441495b2f0c166c9b59bfd8ecd2723);\n        \n    \n            var icon_c38851c3a71f1f35c7bb839609c0853e = L.AwesomeMarkers.icon(\n                {&quot;extraClasses&quot;: &quot;fa-rotate-0&quot;, &quot;icon&quot;: &quot;info-sign&quot;, &quot;iconColor&quot;: &quot;red&quot;, &quot;markerColor&quot;: &quot;white&quot;, &quot;prefix&quot;: &quot;glyphicon&quot;}\n            );\n            marker_1ca089876b2e79f5e943ab4f7e0345ce.setIcon(icon_c38851c3a71f1f35c7bb839609c0853e);\n        \n    \n            var marker_f7b78853376c462b91765259fded97ee = L.marker(\n                [28.56230197, -80.57735648],\n                {}\n            ).addTo(marker_cluster_06441495b2f0c166c9b59bfd8ecd2723);\n        \n    \n            var icon_6a2c84f6fd7056a1b8dcba245ae796bf = L.AwesomeMarkers.icon(\n                {&quot;extraClasses&quot;: &quot;fa-rotate-0&quot;, &quot;icon&quot;: &quot;info-sign&quot;, &quot;iconColor&quot;: &quot;red&quot;, &quot;markerColor&quot;: &quot;white&quot;, &quot;prefix&quot;: &quot;glyphicon&quot;}\n            );\n            marker_f7b78853376c462b91765259fded97ee.setIcon(icon_6a2c84f6fd7056a1b8dcba245ae796bf);\n        \n    \n            var marker_4f850c802337a60ddfb3767da4c44f5a = L.marker(\n                [28.56230197, -80.57735648],\n                {}\n            ).addTo(marker_cluster_06441495b2f0c166c9b59bfd8ecd2723);\n        \n    \n            var icon_55aafa4abc56166ec88a0cd4031ec5ca = L.AwesomeMarkers.icon(\n                {&quot;extraClasses&quot;: &quot;fa-rotate-0&quot;, &quot;icon&quot;: &quot;info-sign&quot;, &quot;iconColor&quot;: &quot;red&quot;, &quot;markerColor&quot;: &quot;white&quot;, &quot;prefix&quot;: &quot;glyphicon&quot;}\n            );\n            marker_4f850c802337a60ddfb3767da4c44f5a.setIcon(icon_55aafa4abc56166ec88a0cd4031ec5ca);\n        \n    \n            var marker_b734e09d94a0b71b193c819dca045153 = L.marker(\n                [28.56230197, -80.57735648],\n                {}\n            ).addTo(marker_cluster_06441495b2f0c166c9b59bfd8ecd2723);\n        \n    \n            var icon_b9fc6bce44749eb024b4f6fb087ed613 = L.AwesomeMarkers.icon(\n                {&quot;extraClasses&quot;: &quot;fa-rotate-0&quot;, &quot;icon&quot;: &quot;info-sign&quot;, &quot;iconColor&quot;: &quot;red&quot;, &quot;markerColor&quot;: &quot;white&quot;, &quot;prefix&quot;: &quot;glyphicon&quot;}\n            );\n            marker_b734e09d94a0b71b193c819dca045153.setIcon(icon_b9fc6bce44749eb024b4f6fb087ed613);\n        \n    \n            var marker_4ed958c0026fe9ae9a9a4b95e1ddd843 = L.marker(\n                [28.56230197, -80.57735648],\n                {}\n            ).addTo(marker_cluster_06441495b2f0c166c9b59bfd8ecd2723);\n        \n    \n            var icon_15bcafdc8c42ffe05a861d1fd9b4d1fc = L.AwesomeMarkers.icon(\n                {&quot;extraClasses&quot;: &quot;fa-rotate-0&quot;, &quot;icon&quot;: &quot;info-sign&quot;, &quot;iconColor&quot;: &quot;green&quot;, &quot;markerColor&quot;: &quot;white&quot;, &quot;prefix&quot;: &quot;glyphicon&quot;}\n            );\n            marker_4ed958c0026fe9ae9a9a4b95e1ddd843.setIcon(icon_15bcafdc8c42ffe05a861d1fd9b4d1fc);\n        \n    \n            var marker_87acb62939ec1e2ab451f536cc861cfa = L.marker(\n                [28.56230197, -80.57735648],\n                {}\n            ).addTo(marker_cluster_06441495b2f0c166c9b59bfd8ecd2723);\n        \n    \n            var icon_1f264bc8eda0b53c9ce86462a26676d2 = L.AwesomeMarkers.icon(\n                {&quot;extraClasses&quot;: &quot;fa-rotate-0&quot;, &quot;icon&quot;: &quot;info-sign&quot;, &quot;iconColor&quot;: &quot;green&quot;, &quot;markerColor&quot;: &quot;white&quot;, &quot;prefix&quot;: &quot;glyphicon&quot;}\n            );\n            marker_87acb62939ec1e2ab451f536cc861cfa.setIcon(icon_1f264bc8eda0b53c9ce86462a26676d2);\n        \n    \n            var marker_0848e4a07faa688fb2b9eaa7729750cb = L.marker(\n                [28.56230197, -80.57735648],\n                {}\n            ).addTo(marker_cluster_06441495b2f0c166c9b59bfd8ecd2723);\n        \n    \n            var icon_8c6c1ac23faf4d1e6dac3eed3a9f0831 = L.AwesomeMarkers.icon(\n                {&quot;extraClasses&quot;: &quot;fa-rotate-0&quot;, &quot;icon&quot;: &quot;info-sign&quot;, &quot;iconColor&quot;: &quot;red&quot;, &quot;markerColor&quot;: &quot;white&quot;, &quot;prefix&quot;: &quot;glyphicon&quot;}\n            );\n            marker_0848e4a07faa688fb2b9eaa7729750cb.setIcon(icon_8c6c1ac23faf4d1e6dac3eed3a9f0831);\n        \n    \n            var marker_d6ba257b8884a4f93c6a782fd0e66d0a = L.marker(\n                [28.56230197, -80.57735648],\n                {}\n            ).addTo(marker_cluster_06441495b2f0c166c9b59bfd8ecd2723);\n        \n    \n            var icon_1ef27a1d5d80991685be11c71a461757 = L.AwesomeMarkers.icon(\n                {&quot;extraClasses&quot;: &quot;fa-rotate-0&quot;, &quot;icon&quot;: &quot;info-sign&quot;, &quot;iconColor&quot;: &quot;green&quot;, &quot;markerColor&quot;: &quot;white&quot;, &quot;prefix&quot;: &quot;glyphicon&quot;}\n            );\n            marker_d6ba257b8884a4f93c6a782fd0e66d0a.setIcon(icon_1ef27a1d5d80991685be11c71a461757);\n        \n    \n            var marker_0cd51b034c1bf1a93cd440eda9edda36 = L.marker(\n                [28.56230197, -80.57735648],\n                {}\n            ).addTo(marker_cluster_06441495b2f0c166c9b59bfd8ecd2723);\n        \n    \n            var icon_419e8936578f316fcb80b5b3d71cfab9 = L.AwesomeMarkers.icon(\n                {&quot;extraClasses&quot;: &quot;fa-rotate-0&quot;, &quot;icon&quot;: &quot;info-sign&quot;, &quot;iconColor&quot;: &quot;green&quot;, &quot;markerColor&quot;: &quot;white&quot;, &quot;prefix&quot;: &quot;glyphicon&quot;}\n            );\n            marker_0cd51b034c1bf1a93cd440eda9edda36.setIcon(icon_419e8936578f316fcb80b5b3d71cfab9);\n        \n    \n            var marker_970f4567d9c000863023722223833c43 = L.marker(\n                [28.56230197, -80.57735648],\n                {}\n            ).addTo(marker_cluster_06441495b2f0c166c9b59bfd8ecd2723);\n        \n    \n            var icon_3424c7fc821a60b68d40a8c5948390e5 = L.AwesomeMarkers.icon(\n                {&quot;extraClasses&quot;: &quot;fa-rotate-0&quot;, &quot;icon&quot;: &quot;info-sign&quot;, &quot;iconColor&quot;: &quot;green&quot;, &quot;markerColor&quot;: &quot;white&quot;, &quot;prefix&quot;: &quot;glyphicon&quot;}\n            );\n            marker_970f4567d9c000863023722223833c43.setIcon(icon_3424c7fc821a60b68d40a8c5948390e5);\n        \n    \n            var marker_ee2845df4227cc2f9ff0f12846b23687 = L.marker(\n                [28.56230197, -80.57735648],\n                {}\n            ).addTo(marker_cluster_06441495b2f0c166c9b59bfd8ecd2723);\n        \n    \n            var icon_07a89560a9502cc8e15f628934f4a642 = L.AwesomeMarkers.icon(\n                {&quot;extraClasses&quot;: &quot;fa-rotate-0&quot;, &quot;icon&quot;: &quot;info-sign&quot;, &quot;iconColor&quot;: &quot;red&quot;, &quot;markerColor&quot;: &quot;white&quot;, &quot;prefix&quot;: &quot;glyphicon&quot;}\n            );\n            marker_ee2845df4227cc2f9ff0f12846b23687.setIcon(icon_07a89560a9502cc8e15f628934f4a642);\n        \n    \n            var marker_508be03ca06a87361dacb414fd0e4114 = L.marker(\n                [28.56230197, -80.57735648],\n                {}\n            ).addTo(marker_cluster_06441495b2f0c166c9b59bfd8ecd2723);\n        \n    \n            var icon_06778875a8e032091a62061bffa32dc9 = L.AwesomeMarkers.icon(\n                {&quot;extraClasses&quot;: &quot;fa-rotate-0&quot;, &quot;icon&quot;: &quot;info-sign&quot;, &quot;iconColor&quot;: &quot;green&quot;, &quot;markerColor&quot;: &quot;white&quot;, &quot;prefix&quot;: &quot;glyphicon&quot;}\n            );\n            marker_508be03ca06a87361dacb414fd0e4114.setIcon(icon_06778875a8e032091a62061bffa32dc9);\n        \n    \n            var marker_bd2a11e23b8882fd712f86dadc215784 = L.marker(\n                [28.56230197, -80.57735648],\n                {}\n            ).addTo(marker_cluster_06441495b2f0c166c9b59bfd8ecd2723);\n        \n    \n            var icon_dd87a787f2a66e598251dfab46d976e1 = L.AwesomeMarkers.icon(\n                {&quot;extraClasses&quot;: &quot;fa-rotate-0&quot;, &quot;icon&quot;: &quot;info-sign&quot;, &quot;iconColor&quot;: &quot;green&quot;, &quot;markerColor&quot;: &quot;white&quot;, &quot;prefix&quot;: &quot;glyphicon&quot;}\n            );\n            marker_bd2a11e23b8882fd712f86dadc215784.setIcon(icon_dd87a787f2a66e598251dfab46d976e1);\n        \n    \n            var marker_353c4371f5de3aafe43ea0918a84748a = L.marker(\n                [34.63283416, -120.6107455],\n                {}\n            ).addTo(marker_cluster_06441495b2f0c166c9b59bfd8ecd2723);\n        \n    \n            var icon_aca5426902891ea09dba2b831b93b0d5 = L.AwesomeMarkers.icon(\n                {&quot;extraClasses&quot;: &quot;fa-rotate-0&quot;, &quot;icon&quot;: &quot;info-sign&quot;, &quot;iconColor&quot;: &quot;red&quot;, &quot;markerColor&quot;: &quot;white&quot;, &quot;prefix&quot;: &quot;glyphicon&quot;}\n            );\n            marker_353c4371f5de3aafe43ea0918a84748a.setIcon(icon_aca5426902891ea09dba2b831b93b0d5);\n        \n    \n            var marker_be424e488dd9725366253c4ca58728f6 = L.marker(\n                [34.63283416, -120.6107455],\n                {}\n            ).addTo(marker_cluster_06441495b2f0c166c9b59bfd8ecd2723);\n        \n    \n            var icon_d5e3a4d803e3138e642a7b623e4a7f95 = L.AwesomeMarkers.icon(\n                {&quot;extraClasses&quot;: &quot;fa-rotate-0&quot;, &quot;icon&quot;: &quot;info-sign&quot;, &quot;iconColor&quot;: &quot;red&quot;, &quot;markerColor&quot;: &quot;white&quot;, &quot;prefix&quot;: &quot;glyphicon&quot;}\n            );\n            marker_be424e488dd9725366253c4ca58728f6.setIcon(icon_d5e3a4d803e3138e642a7b623e4a7f95);\n        \n    \n            var marker_66e339331def1e257b97a1ac10899365 = L.marker(\n                [34.63283416, -120.6107455],\n                {}\n            ).addTo(marker_cluster_06441495b2f0c166c9b59bfd8ecd2723);\n        \n    \n            var icon_11a3a3385bf9d0b4dc37d47a3fc8995b = L.AwesomeMarkers.icon(\n                {&quot;extraClasses&quot;: &quot;fa-rotate-0&quot;, &quot;icon&quot;: &quot;info-sign&quot;, &quot;iconColor&quot;: &quot;green&quot;, &quot;markerColor&quot;: &quot;white&quot;, &quot;prefix&quot;: &quot;glyphicon&quot;}\n            );\n            marker_66e339331def1e257b97a1ac10899365.setIcon(icon_11a3a3385bf9d0b4dc37d47a3fc8995b);\n        \n    \n            var marker_12f12f44115aa4a9ac1057a9ee6f0ab3 = L.marker(\n                [34.63283416, -120.6107455],\n                {}\n            ).addTo(marker_cluster_06441495b2f0c166c9b59bfd8ecd2723);\n        \n    \n            var icon_794ef436edac113a7fc9615afdfdc048 = L.AwesomeMarkers.icon(\n                {&quot;extraClasses&quot;: &quot;fa-rotate-0&quot;, &quot;icon&quot;: &quot;info-sign&quot;, &quot;iconColor&quot;: &quot;green&quot;, &quot;markerColor&quot;: &quot;white&quot;, &quot;prefix&quot;: &quot;glyphicon&quot;}\n            );\n            marker_12f12f44115aa4a9ac1057a9ee6f0ab3.setIcon(icon_794ef436edac113a7fc9615afdfdc048);\n        \n    \n            var marker_d6796103fbb97b1875d584ad84f6d911 = L.marker(\n                [34.63283416, -120.6107455],\n                {}\n            ).addTo(marker_cluster_06441495b2f0c166c9b59bfd8ecd2723);\n        \n    \n            var icon_3e5c6b748783641f0c5bc0a6060e7119 = L.AwesomeMarkers.icon(\n                {&quot;extraClasses&quot;: &quot;fa-rotate-0&quot;, &quot;icon&quot;: &quot;info-sign&quot;, &quot;iconColor&quot;: &quot;green&quot;, &quot;markerColor&quot;: &quot;white&quot;, &quot;prefix&quot;: &quot;glyphicon&quot;}\n            );\n            marker_d6796103fbb97b1875d584ad84f6d911.setIcon(icon_3e5c6b748783641f0c5bc0a6060e7119);\n        \n    \n            var marker_2ee5e6f1750ec003224a43a307fe56ab = L.marker(\n                [34.63283416, -120.6107455],\n                {}\n            ).addTo(marker_cluster_06441495b2f0c166c9b59bfd8ecd2723);\n        \n    \n            var icon_be6cab3c89935e72e1b721318b04b671 = L.AwesomeMarkers.icon(\n                {&quot;extraClasses&quot;: &quot;fa-rotate-0&quot;, &quot;icon&quot;: &quot;info-sign&quot;, &quot;iconColor&quot;: &quot;green&quot;, &quot;markerColor&quot;: &quot;white&quot;, &quot;prefix&quot;: &quot;glyphicon&quot;}\n            );\n            marker_2ee5e6f1750ec003224a43a307fe56ab.setIcon(icon_be6cab3c89935e72e1b721318b04b671);\n        \n    \n            var marker_c6c7968affee0815c25e60238a98119d = L.marker(\n                [34.63283416, -120.6107455],\n                {}\n            ).addTo(marker_cluster_06441495b2f0c166c9b59bfd8ecd2723);\n        \n    \n            var icon_b960a23be16d0f4708fe02cac746b0f6 = L.AwesomeMarkers.icon(\n                {&quot;extraClasses&quot;: &quot;fa-rotate-0&quot;, &quot;icon&quot;: &quot;info-sign&quot;, &quot;iconColor&quot;: &quot;red&quot;, &quot;markerColor&quot;: &quot;white&quot;, &quot;prefix&quot;: &quot;glyphicon&quot;}\n            );\n            marker_c6c7968affee0815c25e60238a98119d.setIcon(icon_b960a23be16d0f4708fe02cac746b0f6);\n        \n    \n            var marker_8136913369fbbab7b0fd49bf47270201 = L.marker(\n                [34.63283416, -120.6107455],\n                {}\n            ).addTo(marker_cluster_06441495b2f0c166c9b59bfd8ecd2723);\n        \n    \n            var icon_4cfddd59c2f612638ab1a17a4d6b2055 = L.AwesomeMarkers.icon(\n                {&quot;extraClasses&quot;: &quot;fa-rotate-0&quot;, &quot;icon&quot;: &quot;info-sign&quot;, &quot;iconColor&quot;: &quot;red&quot;, &quot;markerColor&quot;: &quot;white&quot;, &quot;prefix&quot;: &quot;glyphicon&quot;}\n            );\n            marker_8136913369fbbab7b0fd49bf47270201.setIcon(icon_4cfddd59c2f612638ab1a17a4d6b2055);\n        \n    \n            var marker_a1d4496d34c9355c3dafc777953ac84e = L.marker(\n                [34.63283416, -120.6107455],\n                {}\n            ).addTo(marker_cluster_06441495b2f0c166c9b59bfd8ecd2723);\n        \n    \n            var icon_ef7b623244afe8602dcdf1130a17b598 = L.AwesomeMarkers.icon(\n                {&quot;extraClasses&quot;: &quot;fa-rotate-0&quot;, &quot;icon&quot;: &quot;info-sign&quot;, &quot;iconColor&quot;: &quot;red&quot;, &quot;markerColor&quot;: &quot;white&quot;, &quot;prefix&quot;: &quot;glyphicon&quot;}\n            );\n            marker_a1d4496d34c9355c3dafc777953ac84e.setIcon(icon_ef7b623244afe8602dcdf1130a17b598);\n        \n    \n            var marker_1b7eb75cb99aa603add8a5a5694610cc = L.marker(\n                [34.63283416, -120.6107455],\n                {}\n            ).addTo(marker_cluster_06441495b2f0c166c9b59bfd8ecd2723);\n        \n    \n            var icon_c236f433eb9f621b3b200d8b697fbe97 = L.AwesomeMarkers.icon(\n                {&quot;extraClasses&quot;: &quot;fa-rotate-0&quot;, &quot;icon&quot;: &quot;info-sign&quot;, &quot;iconColor&quot;: &quot;red&quot;, &quot;markerColor&quot;: &quot;white&quot;, &quot;prefix&quot;: &quot;glyphicon&quot;}\n            );\n            marker_1b7eb75cb99aa603add8a5a5694610cc.setIcon(icon_c236f433eb9f621b3b200d8b697fbe97);\n        \n    \n            var marker_0453bf2baccf3bf41ce47e147d568e3c = L.marker(\n                [28.57325457, -80.64689529],\n                {}\n            ).addTo(marker_cluster_06441495b2f0c166c9b59bfd8ecd2723);\n        \n    \n            var icon_85b05f83ec189b9ad5360ffb51ba9646 = L.AwesomeMarkers.icon(\n                {&quot;extraClasses&quot;: &quot;fa-rotate-0&quot;, &quot;icon&quot;: &quot;info-sign&quot;, &quot;iconColor&quot;: &quot;green&quot;, &quot;markerColor&quot;: &quot;white&quot;, &quot;prefix&quot;: &quot;glyphicon&quot;}\n            );\n            marker_0453bf2baccf3bf41ce47e147d568e3c.setIcon(icon_85b05f83ec189b9ad5360ffb51ba9646);\n        \n    \n            var marker_757b447ada0f5947050cff46dd32a6db = L.marker(\n                [28.57325457, -80.64689529],\n                {}\n            ).addTo(marker_cluster_06441495b2f0c166c9b59bfd8ecd2723);\n        \n    \n            var icon_72c829fb81bb4a459e2477bdb15baace = L.AwesomeMarkers.icon(\n                {&quot;extraClasses&quot;: &quot;fa-rotate-0&quot;, &quot;icon&quot;: &quot;info-sign&quot;, &quot;iconColor&quot;: &quot;red&quot;, &quot;markerColor&quot;: &quot;white&quot;, &quot;prefix&quot;: &quot;glyphicon&quot;}\n            );\n            marker_757b447ada0f5947050cff46dd32a6db.setIcon(icon_72c829fb81bb4a459e2477bdb15baace);\n        \n    \n            var marker_2d5c671ca2b2c6d272ff962855463f48 = L.marker(\n                [28.57325457, -80.64689529],\n                {}\n            ).addTo(marker_cluster_06441495b2f0c166c9b59bfd8ecd2723);\n        \n    \n            var icon_0a65a053ab62fda39a84f9a9413714c1 = L.AwesomeMarkers.icon(\n                {&quot;extraClasses&quot;: &quot;fa-rotate-0&quot;, &quot;icon&quot;: &quot;info-sign&quot;, &quot;iconColor&quot;: &quot;green&quot;, &quot;markerColor&quot;: &quot;white&quot;, &quot;prefix&quot;: &quot;glyphicon&quot;}\n            );\n            marker_2d5c671ca2b2c6d272ff962855463f48.setIcon(icon_0a65a053ab62fda39a84f9a9413714c1);\n        \n    \n            var marker_603eb1d914c69031f4c5140e26f58526 = L.marker(\n                [28.57325457, -80.64689529],\n                {}\n            ).addTo(marker_cluster_06441495b2f0c166c9b59bfd8ecd2723);\n        \n    \n            var icon_accc92e84255d716b38cb4392b9fabbd = L.AwesomeMarkers.icon(\n                {&quot;extraClasses&quot;: &quot;fa-rotate-0&quot;, &quot;icon&quot;: &quot;info-sign&quot;, &quot;iconColor&quot;: &quot;green&quot;, &quot;markerColor&quot;: &quot;white&quot;, &quot;prefix&quot;: &quot;glyphicon&quot;}\n            );\n            marker_603eb1d914c69031f4c5140e26f58526.setIcon(icon_accc92e84255d716b38cb4392b9fabbd);\n        \n    \n            var marker_63ced1b8a791f69f1bf2eef0a110596a = L.marker(\n                [28.57325457, -80.64689529],\n                {}\n            ).addTo(marker_cluster_06441495b2f0c166c9b59bfd8ecd2723);\n        \n    \n            var icon_e8bc920153a27b56e5b1b5161763ad7e = L.AwesomeMarkers.icon(\n                {&quot;extraClasses&quot;: &quot;fa-rotate-0&quot;, &quot;icon&quot;: &quot;info-sign&quot;, &quot;iconColor&quot;: &quot;red&quot;, &quot;markerColor&quot;: &quot;white&quot;, &quot;prefix&quot;: &quot;glyphicon&quot;}\n            );\n            marker_63ced1b8a791f69f1bf2eef0a110596a.setIcon(icon_e8bc920153a27b56e5b1b5161763ad7e);\n        \n    \n            var marker_0b137fee40b6abe1277c09547af13052 = L.marker(\n                [28.57325457, -80.64689529],\n                {}\n            ).addTo(marker_cluster_06441495b2f0c166c9b59bfd8ecd2723);\n        \n    \n            var icon_58243ae8ed732a26e37cc40067fbb753 = L.AwesomeMarkers.icon(\n                {&quot;extraClasses&quot;: &quot;fa-rotate-0&quot;, &quot;icon&quot;: &quot;info-sign&quot;, &quot;iconColor&quot;: &quot;green&quot;, &quot;markerColor&quot;: &quot;white&quot;, &quot;prefix&quot;: &quot;glyphicon&quot;}\n            );\n            marker_0b137fee40b6abe1277c09547af13052.setIcon(icon_58243ae8ed732a26e37cc40067fbb753);\n        \n    \n            var marker_70493514f7eff53296b094811a94da1d = L.marker(\n                [28.57325457, -80.64689529],\n                {}\n            ).addTo(marker_cluster_06441495b2f0c166c9b59bfd8ecd2723);\n        \n    \n            var icon_4465c5b96ecd00efd0993dbcb3a08a96 = L.AwesomeMarkers.icon(\n                {&quot;extraClasses&quot;: &quot;fa-rotate-0&quot;, &quot;icon&quot;: &quot;info-sign&quot;, &quot;iconColor&quot;: &quot;green&quot;, &quot;markerColor&quot;: &quot;white&quot;, &quot;prefix&quot;: &quot;glyphicon&quot;}\n            );\n            marker_70493514f7eff53296b094811a94da1d.setIcon(icon_4465c5b96ecd00efd0993dbcb3a08a96);\n        \n    \n            var marker_b3413deab7c061b90237d65152ac8c55 = L.marker(\n                [28.57325457, -80.64689529],\n                {}\n            ).addTo(marker_cluster_06441495b2f0c166c9b59bfd8ecd2723);\n        \n    \n            var icon_a729ff3fb959f7f6a66618aa5f9fb883 = L.AwesomeMarkers.icon(\n                {&quot;extraClasses&quot;: &quot;fa-rotate-0&quot;, &quot;icon&quot;: &quot;info-sign&quot;, &quot;iconColor&quot;: &quot;red&quot;, &quot;markerColor&quot;: &quot;white&quot;, &quot;prefix&quot;: &quot;glyphicon&quot;}\n            );\n            marker_b3413deab7c061b90237d65152ac8c55.setIcon(icon_a729ff3fb959f7f6a66618aa5f9fb883);\n        \n    \n            var marker_43420b8ff56d302ccc8e5b2a2e21e4b2 = L.marker(\n                [28.57325457, -80.64689529],\n                {}\n            ).addTo(marker_cluster_06441495b2f0c166c9b59bfd8ecd2723);\n        \n    \n            var icon_b79324db7bc6f40042a5d2d141200ddf = L.AwesomeMarkers.icon(\n                {&quot;extraClasses&quot;: &quot;fa-rotate-0&quot;, &quot;icon&quot;: &quot;info-sign&quot;, &quot;iconColor&quot;: &quot;green&quot;, &quot;markerColor&quot;: &quot;white&quot;, &quot;prefix&quot;: &quot;glyphicon&quot;}\n            );\n            marker_43420b8ff56d302ccc8e5b2a2e21e4b2.setIcon(icon_b79324db7bc6f40042a5d2d141200ddf);\n        \n    \n            var marker_79b40e9434d564003bd0dba4b33def88 = L.marker(\n                [28.57325457, -80.64689529],\n                {}\n            ).addTo(marker_cluster_06441495b2f0c166c9b59bfd8ecd2723);\n        \n    \n            var icon_93f35253e4d5525deaa92df8b30fef98 = L.AwesomeMarkers.icon(\n                {&quot;extraClasses&quot;: &quot;fa-rotate-0&quot;, &quot;icon&quot;: &quot;info-sign&quot;, &quot;iconColor&quot;: &quot;green&quot;, &quot;markerColor&quot;: &quot;white&quot;, &quot;prefix&quot;: &quot;glyphicon&quot;}\n            );\n            marker_79b40e9434d564003bd0dba4b33def88.setIcon(icon_93f35253e4d5525deaa92df8b30fef98);\n        \n    \n            var marker_882f09abdbd359bd9a665073c3e20b3a = L.marker(\n                [28.57325457, -80.64689529],\n                {}\n            ).addTo(marker_cluster_06441495b2f0c166c9b59bfd8ecd2723);\n        \n    \n            var icon_a1cd4474786c9a981165f1665dd7a6ae = L.AwesomeMarkers.icon(\n                {&quot;extraClasses&quot;: &quot;fa-rotate-0&quot;, &quot;icon&quot;: &quot;info-sign&quot;, &quot;iconColor&quot;: &quot;green&quot;, &quot;markerColor&quot;: &quot;white&quot;, &quot;prefix&quot;: &quot;glyphicon&quot;}\n            );\n            marker_882f09abdbd359bd9a665073c3e20b3a.setIcon(icon_a1cd4474786c9a981165f1665dd7a6ae);\n        \n    \n            var marker_2640c0245dd3d89c841a2a1949665d2c = L.marker(\n                [28.57325457, -80.64689529],\n                {}\n            ).addTo(marker_cluster_06441495b2f0c166c9b59bfd8ecd2723);\n        \n    \n            var icon_3625f1ed545dfbdf3143b1514aa89f34 = L.AwesomeMarkers.icon(\n                {&quot;extraClasses&quot;: &quot;fa-rotate-0&quot;, &quot;icon&quot;: &quot;info-sign&quot;, &quot;iconColor&quot;: &quot;green&quot;, &quot;markerColor&quot;: &quot;white&quot;, &quot;prefix&quot;: &quot;glyphicon&quot;}\n            );\n            marker_2640c0245dd3d89c841a2a1949665d2c.setIcon(icon_3625f1ed545dfbdf3143b1514aa89f34);\n        \n    \n            var marker_835a9ae4e300d487fc981bf158299600 = L.marker(\n                [28.57325457, -80.64689529],\n                {}\n            ).addTo(marker_cluster_06441495b2f0c166c9b59bfd8ecd2723);\n        \n    \n            var icon_383d79ed3fb25a02a889c05fc342fac5 = L.AwesomeMarkers.icon(\n                {&quot;extraClasses&quot;: &quot;fa-rotate-0&quot;, &quot;icon&quot;: &quot;info-sign&quot;, &quot;iconColor&quot;: &quot;green&quot;, &quot;markerColor&quot;: &quot;white&quot;, &quot;prefix&quot;: &quot;glyphicon&quot;}\n            );\n            marker_835a9ae4e300d487fc981bf158299600.setIcon(icon_383d79ed3fb25a02a889c05fc342fac5);\n        \n    \n            var marker_80fb11833856b1daa88fc17e15378916 = L.marker(\n                [28.56319718, -80.57682003],\n                {}\n            ).addTo(marker_cluster_06441495b2f0c166c9b59bfd8ecd2723);\n        \n    \n            var icon_b3d6653a769584ec23c98abe4f0506f5 = L.AwesomeMarkers.icon(\n                {&quot;extraClasses&quot;: &quot;fa-rotate-0&quot;, &quot;icon&quot;: &quot;info-sign&quot;, &quot;iconColor&quot;: &quot;green&quot;, &quot;markerColor&quot;: &quot;white&quot;, &quot;prefix&quot;: &quot;glyphicon&quot;}\n            );\n            marker_80fb11833856b1daa88fc17e15378916.setIcon(icon_b3d6653a769584ec23c98abe4f0506f5);\n        \n    \n            var marker_031344375e2b2c21624ff3771c17d2b4 = L.marker(\n                [28.56319718, -80.57682003],\n                {}\n            ).addTo(marker_cluster_06441495b2f0c166c9b59bfd8ecd2723);\n        \n    \n            var icon_e6453e7721cb7ce1f15472d29e611297 = L.AwesomeMarkers.icon(\n                {&quot;extraClasses&quot;: &quot;fa-rotate-0&quot;, &quot;icon&quot;: &quot;info-sign&quot;, &quot;iconColor&quot;: &quot;green&quot;, &quot;markerColor&quot;: &quot;white&quot;, &quot;prefix&quot;: &quot;glyphicon&quot;}\n            );\n            marker_031344375e2b2c21624ff3771c17d2b4.setIcon(icon_e6453e7721cb7ce1f15472d29e611297);\n        \n    \n            var marker_33c6ae05deed3f5b4725c583876f27e2 = L.marker(\n                [28.56319718, -80.57682003],\n                {}\n            ).addTo(marker_cluster_06441495b2f0c166c9b59bfd8ecd2723);\n        \n    \n            var icon_5227cc30f36747af646178a73b5047e2 = L.AwesomeMarkers.icon(\n                {&quot;extraClasses&quot;: &quot;fa-rotate-0&quot;, &quot;icon&quot;: &quot;info-sign&quot;, &quot;iconColor&quot;: &quot;red&quot;, &quot;markerColor&quot;: &quot;white&quot;, &quot;prefix&quot;: &quot;glyphicon&quot;}\n            );\n            marker_33c6ae05deed3f5b4725c583876f27e2.setIcon(icon_5227cc30f36747af646178a73b5047e2);\n        \n    \n            var marker_617d95850d415382706e551e8c1ed682 = L.marker(\n                [28.56319718, -80.57682003],\n                {}\n            ).addTo(marker_cluster_06441495b2f0c166c9b59bfd8ecd2723);\n        \n    \n            var icon_7c97c1129787168b3a5dbc08a3d4e93c = L.AwesomeMarkers.icon(\n                {&quot;extraClasses&quot;: &quot;fa-rotate-0&quot;, &quot;icon&quot;: &quot;info-sign&quot;, &quot;iconColor&quot;: &quot;red&quot;, &quot;markerColor&quot;: &quot;white&quot;, &quot;prefix&quot;: &quot;glyphicon&quot;}\n            );\n            marker_617d95850d415382706e551e8c1ed682.setIcon(icon_7c97c1129787168b3a5dbc08a3d4e93c);\n        \n    \n            var marker_f2dd50d6f06be98139df2bc3c3fd4440 = L.marker(\n                [28.56319718, -80.57682003],\n                {}\n            ).addTo(marker_cluster_06441495b2f0c166c9b59bfd8ecd2723);\n        \n    \n            var icon_ec8bba4c08e8ab2307eaf31e382d2cab = L.AwesomeMarkers.icon(\n                {&quot;extraClasses&quot;: &quot;fa-rotate-0&quot;, &quot;icon&quot;: &quot;info-sign&quot;, &quot;iconColor&quot;: &quot;red&quot;, &quot;markerColor&quot;: &quot;white&quot;, &quot;prefix&quot;: &quot;glyphicon&quot;}\n            );\n            marker_f2dd50d6f06be98139df2bc3c3fd4440.setIcon(icon_ec8bba4c08e8ab2307eaf31e382d2cab);\n        \n    \n            var marker_8d23cfe6d6516280d418f36f717c2d0b = L.marker(\n                [28.56319718, -80.57682003],\n                {}\n            ).addTo(marker_cluster_06441495b2f0c166c9b59bfd8ecd2723);\n        \n    \n            var icon_bd4477e1be77372f452ea50f5e910f39 = L.AwesomeMarkers.icon(\n                {&quot;extraClasses&quot;: &quot;fa-rotate-0&quot;, &quot;icon&quot;: &quot;info-sign&quot;, &quot;iconColor&quot;: &quot;green&quot;, &quot;markerColor&quot;: &quot;white&quot;, &quot;prefix&quot;: &quot;glyphicon&quot;}\n            );\n            marker_8d23cfe6d6516280d418f36f717c2d0b.setIcon(icon_bd4477e1be77372f452ea50f5e910f39);\n        \n    \n            var marker_24537dabd636dcdbd77c17052a189636 = L.marker(\n                [28.56319718, -80.57682003],\n                {}\n            ).addTo(marker_cluster_06441495b2f0c166c9b59bfd8ecd2723);\n        \n    \n            var icon_c47cf19cc45175173dd93f0a8bf98b5b = L.AwesomeMarkers.icon(\n                {&quot;extraClasses&quot;: &quot;fa-rotate-0&quot;, &quot;icon&quot;: &quot;info-sign&quot;, &quot;iconColor&quot;: &quot;red&quot;, &quot;markerColor&quot;: &quot;white&quot;, &quot;prefix&quot;: &quot;glyphicon&quot;}\n            );\n            marker_24537dabd636dcdbd77c17052a189636.setIcon(icon_c47cf19cc45175173dd93f0a8bf98b5b);\n        \n&lt;/script&gt;\n&lt;/html&gt;\" style=\"position:absolute;width:100%;height:100%;left:0;top:0;border:none !important;\" allowfullscreen webkitallowfullscreen mozallowfullscreen></iframe></div></div>"
          },
          "metadata": {}
        }
      ],
      "execution_count": null,
      "metadata": {
        "noteable": {},
        "ExecuteTime": {
          "start_time": "2023-07-03T11:18:11.934526+00:00",
          "end_time": "2023-07-03T11:18:12.174748+00:00"
        }
      },
      "id": "1bb5aa8e"
    },
    {
      "cell_type": "markdown",
      "source": [
        "Your updated map may look like the following screenshots:\n"
      ],
      "metadata": {},
      "id": "2beda884"
    },
    {
      "cell_type": "markdown",
      "source": [
        "<center>\n",
        "    <img src=\"https://cf-courses-data.s3.us.cloud-object-storage.appdomain.cloud/IBM-DS0321EN-SkillsNetwork/labs/module_3/images/launch_site_marker_cluster.png\">\n",
        "</center>\n"
      ],
      "metadata": {},
      "id": "b595bb0d"
    },
    {
      "cell_type": "markdown",
      "source": [
        "<center>\n",
        "    <img src=\"https://cf-courses-data.s3.us.cloud-object-storage.appdomain.cloud/IBM-DS0321EN-SkillsNetwork/labs/module_3/images/launch_site_marker_cluster_zoomed.png\">\n",
        "</center>\n"
      ],
      "metadata": {},
      "id": "7d62afd4"
    },
    {
      "cell_type": "markdown",
      "source": [
        "From the color-labeled markers in marker clusters, you should be able to easily identify which launch sites have relatively high success rates.\n"
      ],
      "metadata": {},
      "id": "8e33b743"
    },
    {
      "cell_type": "markdown",
      "source": [
        "# TASK 3: Calculate the distances between a launch site to its proximities\n"
      ],
      "metadata": {},
      "id": "13a82953"
    },
    {
      "cell_type": "markdown",
      "source": [
        "Next, we need to explore and analyze the proximities of launch sites.\n"
      ],
      "metadata": {},
      "id": "759fd087"
    },
    {
      "cell_type": "markdown",
      "source": [
        "Let's first add a `MousePosition` on the map to get coordinate for a mouse over a point on the map. As such, while you are exploring the map, you can easily find the coordinates of any points of interests (such as railway)\n"
      ],
      "metadata": {},
      "id": "629b71e6"
    },
    {
      "cell_type": "code",
      "source": [
        "# Add Mouse Position to get the coordinate (Lat, Long) for a mouse over on the map\n",
        "formatter = \"function(num) {return L.Util.formatNum(num, 5);};\"\n",
        "mouse_position = MousePosition(\n",
        "    position='topright',\n",
        "    separator=' Long: ',\n",
        "    empty_string='NaN',\n",
        "    lng_first=False,\n",
        "    num_digits=20,\n",
        "    prefix='Lat:',\n",
        "    lat_formatter=formatter,\n",
        "    lng_formatter=formatter,\n",
        ")\n",
        "\n",
        "site_map.add_child(mouse_position)\n",
        "site_map"
      ],
      "outputs": [
        {
          "output_type": "execute_result",
          "execution_count": null,
          "data": {
            "text/html": "<div style=\"width:100%;\"><div style=\"position:relative;width:100%;height:0;padding-bottom:60%;\"><span style=\"color:#565656\">Make this Notebook Trusted to load map: File -> Trust Notebook</span><iframe srcdoc=\"&lt;!DOCTYPE html&gt;\n&lt;html&gt;\n&lt;head&gt;\n    \n    &lt;meta http-equiv=&quot;content-type&quot; content=&quot;text/html; charset=UTF-8&quot; /&gt;\n    \n        &lt;script&gt;\n            L_NO_TOUCH = false;\n            L_DISABLE_3D = false;\n        &lt;/script&gt;\n    \n    &lt;style&gt;html, body {width: 100%;height: 100%;margin: 0;padding: 0;}&lt;/style&gt;\n    &lt;style&gt;#map {position:absolute;top:0;bottom:0;right:0;left:0;}&lt;/style&gt;\n    &lt;script src=&quot;https://cdn.jsdelivr.net/npm/leaflet@1.9.3/dist/leaflet.js&quot;&gt;&lt;/script&gt;\n    &lt;script src=&quot;https://code.jquery.com/jquery-1.12.4.min.js&quot;&gt;&lt;/script&gt;\n    &lt;script src=&quot;https://cdn.jsdelivr.net/npm/bootstrap@5.2.2/dist/js/bootstrap.bundle.min.js&quot;&gt;&lt;/script&gt;\n    &lt;script src=&quot;https://cdnjs.cloudflare.com/ajax/libs/Leaflet.awesome-markers/2.0.2/leaflet.awesome-markers.js&quot;&gt;&lt;/script&gt;\n    &lt;link rel=&quot;stylesheet&quot; href=&quot;https://cdn.jsdelivr.net/npm/leaflet@1.9.3/dist/leaflet.css&quot;/&gt;\n    &lt;link rel=&quot;stylesheet&quot; href=&quot;https://cdn.jsdelivr.net/npm/bootstrap@5.2.2/dist/css/bootstrap.min.css&quot;/&gt;\n    &lt;link rel=&quot;stylesheet&quot; href=&quot;https://netdna.bootstrapcdn.com/bootstrap/3.0.0/css/bootstrap.min.css&quot;/&gt;\n    &lt;link rel=&quot;stylesheet&quot; href=&quot;https://cdn.jsdelivr.net/npm/@fortawesome/fontawesome-free@6.2.0/css/all.min.css&quot;/&gt;\n    &lt;link rel=&quot;stylesheet&quot; href=&quot;https://cdnjs.cloudflare.com/ajax/libs/Leaflet.awesome-markers/2.0.2/leaflet.awesome-markers.css&quot;/&gt;\n    &lt;link rel=&quot;stylesheet&quot; href=&quot;https://cdn.jsdelivr.net/gh/python-visualization/folium/folium/templates/leaflet.awesome.rotate.min.css&quot;/&gt;\n    \n            &lt;meta name=&quot;viewport&quot; content=&quot;width=device-width,\n                initial-scale=1.0, maximum-scale=1.0, user-scalable=no&quot; /&gt;\n            &lt;style&gt;\n                #map_f9a8da82c837b903412b6c84e6decb30 {\n                    position: relative;\n                    width: 100.0%;\n                    height: 100.0%;\n                    left: 0.0%;\n                    top: 0.0%;\n                }\n                .leaflet-container { font-size: 1rem; }\n            &lt;/style&gt;\n        \n    &lt;script src=&quot;https://cdnjs.cloudflare.com/ajax/libs/leaflet.markercluster/1.1.0/leaflet.markercluster.js&quot;&gt;&lt;/script&gt;\n    &lt;link rel=&quot;stylesheet&quot; href=&quot;https://cdnjs.cloudflare.com/ajax/libs/leaflet.markercluster/1.1.0/MarkerCluster.css&quot;/&gt;\n    &lt;link rel=&quot;stylesheet&quot; href=&quot;https://cdnjs.cloudflare.com/ajax/libs/leaflet.markercluster/1.1.0/MarkerCluster.Default.css&quot;/&gt;\n    &lt;script src=&quot;https://cdn.jsdelivr.net/gh/ardhi/Leaflet.MousePosition/src/L.Control.MousePosition.min.js&quot;&gt;&lt;/script&gt;\n    &lt;link rel=&quot;stylesheet&quot; href=&quot;https://cdn.jsdelivr.net/gh/ardhi/Leaflet.MousePosition/src/L.Control.MousePosition.min.css&quot;/&gt;\n&lt;/head&gt;\n&lt;body&gt;\n    \n    \n            &lt;div class=&quot;folium-map&quot; id=&quot;map_f9a8da82c837b903412b6c84e6decb30&quot; &gt;&lt;/div&gt;\n        \n&lt;/body&gt;\n&lt;script&gt;\n    \n    \n            var map_f9a8da82c837b903412b6c84e6decb30 = L.map(\n                &quot;map_f9a8da82c837b903412b6c84e6decb30&quot;,\n                {\n                    center: [29.559684888503615, -95.0830971930759],\n                    crs: L.CRS.EPSG3857,\n                    zoom: 5,\n                    zoomControl: true,\n                    preferCanvas: false,\n                }\n            );\n\n            \n\n        \n    \n            var tile_layer_6f1766957711a42940766aa4afae338a = L.tileLayer(\n                &quot;https://{s}.tile.openstreetmap.org/{z}/{x}/{y}.png&quot;,\n                {&quot;attribution&quot;: &quot;Data by \\u0026copy; \\u003ca target=\\&quot;_blank\\&quot; href=\\&quot;http://openstreetmap.org\\&quot;\\u003eOpenStreetMap\\u003c/a\\u003e, under \\u003ca target=\\&quot;_blank\\&quot; href=\\&quot;http://www.openstreetmap.org/copyright\\&quot;\\u003eODbL\\u003c/a\\u003e.&quot;, &quot;detectRetina&quot;: false, &quot;maxNativeZoom&quot;: 18, &quot;maxZoom&quot;: 18, &quot;minZoom&quot;: 0, &quot;noWrap&quot;: false, &quot;opacity&quot;: 1, &quot;subdomains&quot;: &quot;abc&quot;, &quot;tms&quot;: false}\n            ).addTo(map_f9a8da82c837b903412b6c84e6decb30);\n        \n    \n            var circle_33c3498c513c19c6f8c7a11c9f6bb4a7 = L.circle(\n                [28.56230197, -80.57735648],\n                {&quot;bubblingMouseEvents&quot;: true, &quot;color&quot;: &quot;#d35400&quot;, &quot;dashArray&quot;: null, &quot;dashOffset&quot;: null, &quot;fill&quot;: true, &quot;fillColor&quot;: &quot;#d35400&quot;, &quot;fillOpacity&quot;: 0.4, &quot;fillRule&quot;: &quot;evenodd&quot;, &quot;lineCap&quot;: &quot;round&quot;, &quot;lineJoin&quot;: &quot;round&quot;, &quot;opacity&quot;: 1.0, &quot;radius&quot;: 1000, &quot;stroke&quot;: true, &quot;weight&quot;: 3}\n            ).addTo(map_f9a8da82c837b903412b6c84e6decb30);\n        \n    \n        var popup_86514b6473e57b31d7f34ae08ce0370a = L.popup({&quot;maxWidth&quot;: 300});\n\n        \n            \n                var html_3c91ff083d79107dfcd60c06de14e2f2 = $(`&lt;div id=&quot;html_3c91ff083d79107dfcd60c06de14e2f2&quot; style=&quot;width: 100.0%; height: 100.0%;&quot;&gt;CCAFS LC-40&lt;/div&gt;`)[0];\n                popup_86514b6473e57b31d7f34ae08ce0370a.setContent(html_3c91ff083d79107dfcd60c06de14e2f2);\n            \n        \n\n        circle_33c3498c513c19c6f8c7a11c9f6bb4a7.bindPopup(popup_86514b6473e57b31d7f34ae08ce0370a)\n        ;\n\n        \n    \n    \n            var circle_416aba08c5064575a30e931c41f1ef7c = L.circle(\n                [28.56319718, -80.57682003],\n                {&quot;bubblingMouseEvents&quot;: true, &quot;color&quot;: &quot;#d35400&quot;, &quot;dashArray&quot;: null, &quot;dashOffset&quot;: null, &quot;fill&quot;: true, &quot;fillColor&quot;: &quot;#d35400&quot;, &quot;fillOpacity&quot;: 0.4, &quot;fillRule&quot;: &quot;evenodd&quot;, &quot;lineCap&quot;: &quot;round&quot;, &quot;lineJoin&quot;: &quot;round&quot;, &quot;opacity&quot;: 1.0, &quot;radius&quot;: 1000, &quot;stroke&quot;: true, &quot;weight&quot;: 3}\n            ).addTo(map_f9a8da82c837b903412b6c84e6decb30);\n        \n    \n        var popup_7319dcb91c0d99998bf7f792253e7677 = L.popup({&quot;maxWidth&quot;: 300});\n\n        \n            \n                var html_0337173dc172c0b8c9383a8c3d1de56d = $(`&lt;div id=&quot;html_0337173dc172c0b8c9383a8c3d1de56d&quot; style=&quot;width: 100.0%; height: 100.0%;&quot;&gt;CCAFS SLC-40&lt;/div&gt;`)[0];\n                popup_7319dcb91c0d99998bf7f792253e7677.setContent(html_0337173dc172c0b8c9383a8c3d1de56d);\n            \n        \n\n        circle_416aba08c5064575a30e931c41f1ef7c.bindPopup(popup_7319dcb91c0d99998bf7f792253e7677)\n        ;\n\n        \n    \n    \n            var circle_f5973ae64faa45df80a8eb05f0c2642b = L.circle(\n                [28.57325457, -80.64689529],\n                {&quot;bubblingMouseEvents&quot;: true, &quot;color&quot;: &quot;#d35400&quot;, &quot;dashArray&quot;: null, &quot;dashOffset&quot;: null, &quot;fill&quot;: true, &quot;fillColor&quot;: &quot;#d35400&quot;, &quot;fillOpacity&quot;: 0.4, &quot;fillRule&quot;: &quot;evenodd&quot;, &quot;lineCap&quot;: &quot;round&quot;, &quot;lineJoin&quot;: &quot;round&quot;, &quot;opacity&quot;: 1.0, &quot;radius&quot;: 1000, &quot;stroke&quot;: true, &quot;weight&quot;: 3}\n            ).addTo(map_f9a8da82c837b903412b6c84e6decb30);\n        \n    \n        var popup_d3ce8abe2719b30b07ea4483dbeae275 = L.popup({&quot;maxWidth&quot;: 300});\n\n        \n            \n                var html_225f0168e2e75212ebef6b6f543931a5 = $(`&lt;div id=&quot;html_225f0168e2e75212ebef6b6f543931a5&quot; style=&quot;width: 100.0%; height: 100.0%;&quot;&gt;KSC LC-39A&lt;/div&gt;`)[0];\n                popup_d3ce8abe2719b30b07ea4483dbeae275.setContent(html_225f0168e2e75212ebef6b6f543931a5);\n            \n        \n\n        circle_f5973ae64faa45df80a8eb05f0c2642b.bindPopup(popup_d3ce8abe2719b30b07ea4483dbeae275)\n        ;\n\n        \n    \n    \n            var circle_49b14ed525fcc450480a701581428501 = L.circle(\n                [34.63283416, -120.6107455],\n                {&quot;bubblingMouseEvents&quot;: true, &quot;color&quot;: &quot;#d35400&quot;, &quot;dashArray&quot;: null, &quot;dashOffset&quot;: null, &quot;fill&quot;: true, &quot;fillColor&quot;: &quot;#d35400&quot;, &quot;fillOpacity&quot;: 0.4, &quot;fillRule&quot;: &quot;evenodd&quot;, &quot;lineCap&quot;: &quot;round&quot;, &quot;lineJoin&quot;: &quot;round&quot;, &quot;opacity&quot;: 1.0, &quot;radius&quot;: 1000, &quot;stroke&quot;: true, &quot;weight&quot;: 3}\n            ).addTo(map_f9a8da82c837b903412b6c84e6decb30);\n        \n    \n        var popup_a646837238f612ef9c3d5f0ba7a541f6 = L.popup({&quot;maxWidth&quot;: 300});\n\n        \n            \n                var html_0af307e62da871f3e1ae96e3b25a1da7 = $(`&lt;div id=&quot;html_0af307e62da871f3e1ae96e3b25a1da7&quot; style=&quot;width: 100.0%; height: 100.0%;&quot;&gt;VAFB SLC-4E&lt;/div&gt;`)[0];\n                popup_a646837238f612ef9c3d5f0ba7a541f6.setContent(html_0af307e62da871f3e1ae96e3b25a1da7);\n            \n        \n\n        circle_49b14ed525fcc450480a701581428501.bindPopup(popup_a646837238f612ef9c3d5f0ba7a541f6)\n        ;\n\n        \n    \n    \n            var marker_cluster_06441495b2f0c166c9b59bfd8ecd2723 = L.markerClusterGroup(\n                {}\n            );\n            map_f9a8da82c837b903412b6c84e6decb30.addLayer(marker_cluster_06441495b2f0c166c9b59bfd8ecd2723);\n        \n    \n            var marker_69f5c45534ef2dfa3e8b79196d3a301e = L.marker(\n                [28.56230197, -80.57735648],\n                {}\n            ).addTo(marker_cluster_06441495b2f0c166c9b59bfd8ecd2723);\n        \n    \n            var icon_f4d6c8882e5835015a7c22b3723bcc83 = L.AwesomeMarkers.icon(\n                {&quot;extraClasses&quot;: &quot;fa-rotate-0&quot;, &quot;icon&quot;: &quot;info-sign&quot;, &quot;iconColor&quot;: &quot;red&quot;, &quot;markerColor&quot;: &quot;white&quot;, &quot;prefix&quot;: &quot;glyphicon&quot;}\n            );\n            marker_69f5c45534ef2dfa3e8b79196d3a301e.setIcon(icon_f4d6c8882e5835015a7c22b3723bcc83);\n        \n    \n            var marker_5942e4e90c7cb03068ffd69ed19bb92c = L.marker(\n                [28.56230197, -80.57735648],\n                {}\n            ).addTo(marker_cluster_06441495b2f0c166c9b59bfd8ecd2723);\n        \n    \n            var icon_67514e3d820cfbe4938e011fd30fadec = L.AwesomeMarkers.icon(\n                {&quot;extraClasses&quot;: &quot;fa-rotate-0&quot;, &quot;icon&quot;: &quot;info-sign&quot;, &quot;iconColor&quot;: &quot;red&quot;, &quot;markerColor&quot;: &quot;white&quot;, &quot;prefix&quot;: &quot;glyphicon&quot;}\n            );\n            marker_5942e4e90c7cb03068ffd69ed19bb92c.setIcon(icon_67514e3d820cfbe4938e011fd30fadec);\n        \n    \n            var marker_4f4356b8d5016ac30e47bff14a4a4de3 = L.marker(\n                [28.56230197, -80.57735648],\n                {}\n            ).addTo(marker_cluster_06441495b2f0c166c9b59bfd8ecd2723);\n        \n    \n            var icon_5240995d621804d994d43827f092725b = L.AwesomeMarkers.icon(\n                {&quot;extraClasses&quot;: &quot;fa-rotate-0&quot;, &quot;icon&quot;: &quot;info-sign&quot;, &quot;iconColor&quot;: &quot;red&quot;, &quot;markerColor&quot;: &quot;white&quot;, &quot;prefix&quot;: &quot;glyphicon&quot;}\n            );\n            marker_4f4356b8d5016ac30e47bff14a4a4de3.setIcon(icon_5240995d621804d994d43827f092725b);\n        \n    \n            var marker_2af8a9a1ae0f77872dc72cd1b21ffc0e = L.marker(\n                [28.56230197, -80.57735648],\n                {}\n            ).addTo(marker_cluster_06441495b2f0c166c9b59bfd8ecd2723);\n        \n    \n            var icon_27c3d96405482f2b4306ab9649bd29cb = L.AwesomeMarkers.icon(\n                {&quot;extraClasses&quot;: &quot;fa-rotate-0&quot;, &quot;icon&quot;: &quot;info-sign&quot;, &quot;iconColor&quot;: &quot;red&quot;, &quot;markerColor&quot;: &quot;white&quot;, &quot;prefix&quot;: &quot;glyphicon&quot;}\n            );\n            marker_2af8a9a1ae0f77872dc72cd1b21ffc0e.setIcon(icon_27c3d96405482f2b4306ab9649bd29cb);\n        \n    \n            var marker_22fc2debb23c28c4c5065b7135c44bd0 = L.marker(\n                [28.56230197, -80.57735648],\n                {}\n            ).addTo(marker_cluster_06441495b2f0c166c9b59bfd8ecd2723);\n        \n    \n            var icon_908ea4b6485b40e75510824f8972f639 = L.AwesomeMarkers.icon(\n                {&quot;extraClasses&quot;: &quot;fa-rotate-0&quot;, &quot;icon&quot;: &quot;info-sign&quot;, &quot;iconColor&quot;: &quot;red&quot;, &quot;markerColor&quot;: &quot;white&quot;, &quot;prefix&quot;: &quot;glyphicon&quot;}\n            );\n            marker_22fc2debb23c28c4c5065b7135c44bd0.setIcon(icon_908ea4b6485b40e75510824f8972f639);\n        \n    \n            var marker_ac666c89c540a976e2df8dea0033c02d = L.marker(\n                [28.56230197, -80.57735648],\n                {}\n            ).addTo(marker_cluster_06441495b2f0c166c9b59bfd8ecd2723);\n        \n    \n            var icon_ab0f8418c7fc230116f773d44b081b9d = L.AwesomeMarkers.icon(\n                {&quot;extraClasses&quot;: &quot;fa-rotate-0&quot;, &quot;icon&quot;: &quot;info-sign&quot;, &quot;iconColor&quot;: &quot;red&quot;, &quot;markerColor&quot;: &quot;white&quot;, &quot;prefix&quot;: &quot;glyphicon&quot;}\n            );\n            marker_ac666c89c540a976e2df8dea0033c02d.setIcon(icon_ab0f8418c7fc230116f773d44b081b9d);\n        \n    \n            var marker_e19f1e061e8dc3fe41002db71e856239 = L.marker(\n                [28.56230197, -80.57735648],\n                {}\n            ).addTo(marker_cluster_06441495b2f0c166c9b59bfd8ecd2723);\n        \n    \n            var icon_b63f54cde43b5cdfba0ff1d4796a989f = L.AwesomeMarkers.icon(\n                {&quot;extraClasses&quot;: &quot;fa-rotate-0&quot;, &quot;icon&quot;: &quot;info-sign&quot;, &quot;iconColor&quot;: &quot;red&quot;, &quot;markerColor&quot;: &quot;white&quot;, &quot;prefix&quot;: &quot;glyphicon&quot;}\n            );\n            marker_e19f1e061e8dc3fe41002db71e856239.setIcon(icon_b63f54cde43b5cdfba0ff1d4796a989f);\n        \n    \n            var marker_0775ed7d9f1a72b85d647fcbb041fa0d = L.marker(\n                [28.56230197, -80.57735648],\n                {}\n            ).addTo(marker_cluster_06441495b2f0c166c9b59bfd8ecd2723);\n        \n    \n            var icon_92c712ee401e0f2b49be720d6f7d0a90 = L.AwesomeMarkers.icon(\n                {&quot;extraClasses&quot;: &quot;fa-rotate-0&quot;, &quot;icon&quot;: &quot;info-sign&quot;, &quot;iconColor&quot;: &quot;red&quot;, &quot;markerColor&quot;: &quot;white&quot;, &quot;prefix&quot;: &quot;glyphicon&quot;}\n            );\n            marker_0775ed7d9f1a72b85d647fcbb041fa0d.setIcon(icon_92c712ee401e0f2b49be720d6f7d0a90);\n        \n    \n            var marker_5aba08fed711abf33a73f713ee49c1ed = L.marker(\n                [28.56230197, -80.57735648],\n                {}\n            ).addTo(marker_cluster_06441495b2f0c166c9b59bfd8ecd2723);\n        \n    \n            var icon_f04fd4484e7f93149f6d77fae36a660d = L.AwesomeMarkers.icon(\n                {&quot;extraClasses&quot;: &quot;fa-rotate-0&quot;, &quot;icon&quot;: &quot;info-sign&quot;, &quot;iconColor&quot;: &quot;red&quot;, &quot;markerColor&quot;: &quot;white&quot;, &quot;prefix&quot;: &quot;glyphicon&quot;}\n            );\n            marker_5aba08fed711abf33a73f713ee49c1ed.setIcon(icon_f04fd4484e7f93149f6d77fae36a660d);\n        \n    \n            var marker_950242137d24211dbbc51085fc5cef51 = L.marker(\n                [28.56230197, -80.57735648],\n                {}\n            ).addTo(marker_cluster_06441495b2f0c166c9b59bfd8ecd2723);\n        \n    \n            var icon_0031d0eb68d68761259ff3a7a19c2f7b = L.AwesomeMarkers.icon(\n                {&quot;extraClasses&quot;: &quot;fa-rotate-0&quot;, &quot;icon&quot;: &quot;info-sign&quot;, &quot;iconColor&quot;: &quot;red&quot;, &quot;markerColor&quot;: &quot;white&quot;, &quot;prefix&quot;: &quot;glyphicon&quot;}\n            );\n            marker_950242137d24211dbbc51085fc5cef51.setIcon(icon_0031d0eb68d68761259ff3a7a19c2f7b);\n        \n    \n            var marker_7b96b92677bab790eb2dc31d1ad5f878 = L.marker(\n                [28.56230197, -80.57735648],\n                {}\n            ).addTo(marker_cluster_06441495b2f0c166c9b59bfd8ecd2723);\n        \n    \n            var icon_0f1892103f8d3cc261241c550878992e = L.AwesomeMarkers.icon(\n                {&quot;extraClasses&quot;: &quot;fa-rotate-0&quot;, &quot;icon&quot;: &quot;info-sign&quot;, &quot;iconColor&quot;: &quot;red&quot;, &quot;markerColor&quot;: &quot;white&quot;, &quot;prefix&quot;: &quot;glyphicon&quot;}\n            );\n            marker_7b96b92677bab790eb2dc31d1ad5f878.setIcon(icon_0f1892103f8d3cc261241c550878992e);\n        \n    \n            var marker_067086ce99c2344918ac63598d63b04e = L.marker(\n                [28.56230197, -80.57735648],\n                {}\n            ).addTo(marker_cluster_06441495b2f0c166c9b59bfd8ecd2723);\n        \n    \n            var icon_4e7d0b8aaa90eb2389c8a8e2a2fe2abf = L.AwesomeMarkers.icon(\n                {&quot;extraClasses&quot;: &quot;fa-rotate-0&quot;, &quot;icon&quot;: &quot;info-sign&quot;, &quot;iconColor&quot;: &quot;red&quot;, &quot;markerColor&quot;: &quot;white&quot;, &quot;prefix&quot;: &quot;glyphicon&quot;}\n            );\n            marker_067086ce99c2344918ac63598d63b04e.setIcon(icon_4e7d0b8aaa90eb2389c8a8e2a2fe2abf);\n        \n    \n            var marker_4e7562f5a71ffdeeecf32bda9327fd3f = L.marker(\n                [28.56230197, -80.57735648],\n                {}\n            ).addTo(marker_cluster_06441495b2f0c166c9b59bfd8ecd2723);\n        \n    \n            var icon_40d4d1fce3f2bb37a88cd888626d419a = L.AwesomeMarkers.icon(\n                {&quot;extraClasses&quot;: &quot;fa-rotate-0&quot;, &quot;icon&quot;: &quot;info-sign&quot;, &quot;iconColor&quot;: &quot;red&quot;, &quot;markerColor&quot;: &quot;white&quot;, &quot;prefix&quot;: &quot;glyphicon&quot;}\n            );\n            marker_4e7562f5a71ffdeeecf32bda9327fd3f.setIcon(icon_40d4d1fce3f2bb37a88cd888626d419a);\n        \n    \n            var marker_1ca089876b2e79f5e943ab4f7e0345ce = L.marker(\n                [28.56230197, -80.57735648],\n                {}\n            ).addTo(marker_cluster_06441495b2f0c166c9b59bfd8ecd2723);\n        \n    \n            var icon_c38851c3a71f1f35c7bb839609c0853e = L.AwesomeMarkers.icon(\n                {&quot;extraClasses&quot;: &quot;fa-rotate-0&quot;, &quot;icon&quot;: &quot;info-sign&quot;, &quot;iconColor&quot;: &quot;red&quot;, &quot;markerColor&quot;: &quot;white&quot;, &quot;prefix&quot;: &quot;glyphicon&quot;}\n            );\n            marker_1ca089876b2e79f5e943ab4f7e0345ce.setIcon(icon_c38851c3a71f1f35c7bb839609c0853e);\n        \n    \n            var marker_f7b78853376c462b91765259fded97ee = L.marker(\n                [28.56230197, -80.57735648],\n                {}\n            ).addTo(marker_cluster_06441495b2f0c166c9b59bfd8ecd2723);\n        \n    \n            var icon_6a2c84f6fd7056a1b8dcba245ae796bf = L.AwesomeMarkers.icon(\n                {&quot;extraClasses&quot;: &quot;fa-rotate-0&quot;, &quot;icon&quot;: &quot;info-sign&quot;, &quot;iconColor&quot;: &quot;red&quot;, &quot;markerColor&quot;: &quot;white&quot;, &quot;prefix&quot;: &quot;glyphicon&quot;}\n            );\n            marker_f7b78853376c462b91765259fded97ee.setIcon(icon_6a2c84f6fd7056a1b8dcba245ae796bf);\n        \n    \n            var marker_4f850c802337a60ddfb3767da4c44f5a = L.marker(\n                [28.56230197, -80.57735648],\n                {}\n            ).addTo(marker_cluster_06441495b2f0c166c9b59bfd8ecd2723);\n        \n    \n            var icon_55aafa4abc56166ec88a0cd4031ec5ca = L.AwesomeMarkers.icon(\n                {&quot;extraClasses&quot;: &quot;fa-rotate-0&quot;, &quot;icon&quot;: &quot;info-sign&quot;, &quot;iconColor&quot;: &quot;red&quot;, &quot;markerColor&quot;: &quot;white&quot;, &quot;prefix&quot;: &quot;glyphicon&quot;}\n            );\n            marker_4f850c802337a60ddfb3767da4c44f5a.setIcon(icon_55aafa4abc56166ec88a0cd4031ec5ca);\n        \n    \n            var marker_b734e09d94a0b71b193c819dca045153 = L.marker(\n                [28.56230197, -80.57735648],\n                {}\n            ).addTo(marker_cluster_06441495b2f0c166c9b59bfd8ecd2723);\n        \n    \n            var icon_b9fc6bce44749eb024b4f6fb087ed613 = L.AwesomeMarkers.icon(\n                {&quot;extraClasses&quot;: &quot;fa-rotate-0&quot;, &quot;icon&quot;: &quot;info-sign&quot;, &quot;iconColor&quot;: &quot;red&quot;, &quot;markerColor&quot;: &quot;white&quot;, &quot;prefix&quot;: &quot;glyphicon&quot;}\n            );\n            marker_b734e09d94a0b71b193c819dca045153.setIcon(icon_b9fc6bce44749eb024b4f6fb087ed613);\n        \n    \n            var marker_4ed958c0026fe9ae9a9a4b95e1ddd843 = L.marker(\n                [28.56230197, -80.57735648],\n                {}\n            ).addTo(marker_cluster_06441495b2f0c166c9b59bfd8ecd2723);\n        \n    \n            var icon_15bcafdc8c42ffe05a861d1fd9b4d1fc = L.AwesomeMarkers.icon(\n                {&quot;extraClasses&quot;: &quot;fa-rotate-0&quot;, &quot;icon&quot;: &quot;info-sign&quot;, &quot;iconColor&quot;: &quot;green&quot;, &quot;markerColor&quot;: &quot;white&quot;, &quot;prefix&quot;: &quot;glyphicon&quot;}\n            );\n            marker_4ed958c0026fe9ae9a9a4b95e1ddd843.setIcon(icon_15bcafdc8c42ffe05a861d1fd9b4d1fc);\n        \n    \n            var marker_87acb62939ec1e2ab451f536cc861cfa = L.marker(\n                [28.56230197, -80.57735648],\n                {}\n            ).addTo(marker_cluster_06441495b2f0c166c9b59bfd8ecd2723);\n        \n    \n            var icon_1f264bc8eda0b53c9ce86462a26676d2 = L.AwesomeMarkers.icon(\n                {&quot;extraClasses&quot;: &quot;fa-rotate-0&quot;, &quot;icon&quot;: &quot;info-sign&quot;, &quot;iconColor&quot;: &quot;green&quot;, &quot;markerColor&quot;: &quot;white&quot;, &quot;prefix&quot;: &quot;glyphicon&quot;}\n            );\n            marker_87acb62939ec1e2ab451f536cc861cfa.setIcon(icon_1f264bc8eda0b53c9ce86462a26676d2);\n        \n    \n            var marker_0848e4a07faa688fb2b9eaa7729750cb = L.marker(\n                [28.56230197, -80.57735648],\n                {}\n            ).addTo(marker_cluster_06441495b2f0c166c9b59bfd8ecd2723);\n        \n    \n            var icon_8c6c1ac23faf4d1e6dac3eed3a9f0831 = L.AwesomeMarkers.icon(\n                {&quot;extraClasses&quot;: &quot;fa-rotate-0&quot;, &quot;icon&quot;: &quot;info-sign&quot;, &quot;iconColor&quot;: &quot;red&quot;, &quot;markerColor&quot;: &quot;white&quot;, &quot;prefix&quot;: &quot;glyphicon&quot;}\n            );\n            marker_0848e4a07faa688fb2b9eaa7729750cb.setIcon(icon_8c6c1ac23faf4d1e6dac3eed3a9f0831);\n        \n    \n            var marker_d6ba257b8884a4f93c6a782fd0e66d0a = L.marker(\n                [28.56230197, -80.57735648],\n                {}\n            ).addTo(marker_cluster_06441495b2f0c166c9b59bfd8ecd2723);\n        \n    \n            var icon_1ef27a1d5d80991685be11c71a461757 = L.AwesomeMarkers.icon(\n                {&quot;extraClasses&quot;: &quot;fa-rotate-0&quot;, &quot;icon&quot;: &quot;info-sign&quot;, &quot;iconColor&quot;: &quot;green&quot;, &quot;markerColor&quot;: &quot;white&quot;, &quot;prefix&quot;: &quot;glyphicon&quot;}\n            );\n            marker_d6ba257b8884a4f93c6a782fd0e66d0a.setIcon(icon_1ef27a1d5d80991685be11c71a461757);\n        \n    \n            var marker_0cd51b034c1bf1a93cd440eda9edda36 = L.marker(\n                [28.56230197, -80.57735648],\n                {}\n            ).addTo(marker_cluster_06441495b2f0c166c9b59bfd8ecd2723);\n        \n    \n            var icon_419e8936578f316fcb80b5b3d71cfab9 = L.AwesomeMarkers.icon(\n                {&quot;extraClasses&quot;: &quot;fa-rotate-0&quot;, &quot;icon&quot;: &quot;info-sign&quot;, &quot;iconColor&quot;: &quot;green&quot;, &quot;markerColor&quot;: &quot;white&quot;, &quot;prefix&quot;: &quot;glyphicon&quot;}\n            );\n            marker_0cd51b034c1bf1a93cd440eda9edda36.setIcon(icon_419e8936578f316fcb80b5b3d71cfab9);\n        \n    \n            var marker_970f4567d9c000863023722223833c43 = L.marker(\n                [28.56230197, -80.57735648],\n                {}\n            ).addTo(marker_cluster_06441495b2f0c166c9b59bfd8ecd2723);\n        \n    \n            var icon_3424c7fc821a60b68d40a8c5948390e5 = L.AwesomeMarkers.icon(\n                {&quot;extraClasses&quot;: &quot;fa-rotate-0&quot;, &quot;icon&quot;: &quot;info-sign&quot;, &quot;iconColor&quot;: &quot;green&quot;, &quot;markerColor&quot;: &quot;white&quot;, &quot;prefix&quot;: &quot;glyphicon&quot;}\n            );\n            marker_970f4567d9c000863023722223833c43.setIcon(icon_3424c7fc821a60b68d40a8c5948390e5);\n        \n    \n            var marker_ee2845df4227cc2f9ff0f12846b23687 = L.marker(\n                [28.56230197, -80.57735648],\n                {}\n            ).addTo(marker_cluster_06441495b2f0c166c9b59bfd8ecd2723);\n        \n    \n            var icon_07a89560a9502cc8e15f628934f4a642 = L.AwesomeMarkers.icon(\n                {&quot;extraClasses&quot;: &quot;fa-rotate-0&quot;, &quot;icon&quot;: &quot;info-sign&quot;, &quot;iconColor&quot;: &quot;red&quot;, &quot;markerColor&quot;: &quot;white&quot;, &quot;prefix&quot;: &quot;glyphicon&quot;}\n            );\n            marker_ee2845df4227cc2f9ff0f12846b23687.setIcon(icon_07a89560a9502cc8e15f628934f4a642);\n        \n    \n            var marker_508be03ca06a87361dacb414fd0e4114 = L.marker(\n                [28.56230197, -80.57735648],\n                {}\n            ).addTo(marker_cluster_06441495b2f0c166c9b59bfd8ecd2723);\n        \n    \n            var icon_06778875a8e032091a62061bffa32dc9 = L.AwesomeMarkers.icon(\n                {&quot;extraClasses&quot;: &quot;fa-rotate-0&quot;, &quot;icon&quot;: &quot;info-sign&quot;, &quot;iconColor&quot;: &quot;green&quot;, &quot;markerColor&quot;: &quot;white&quot;, &quot;prefix&quot;: &quot;glyphicon&quot;}\n            );\n            marker_508be03ca06a87361dacb414fd0e4114.setIcon(icon_06778875a8e032091a62061bffa32dc9);\n        \n    \n            var marker_bd2a11e23b8882fd712f86dadc215784 = L.marker(\n                [28.56230197, -80.57735648],\n                {}\n            ).addTo(marker_cluster_06441495b2f0c166c9b59bfd8ecd2723);\n        \n    \n            var icon_dd87a787f2a66e598251dfab46d976e1 = L.AwesomeMarkers.icon(\n                {&quot;extraClasses&quot;: &quot;fa-rotate-0&quot;, &quot;icon&quot;: &quot;info-sign&quot;, &quot;iconColor&quot;: &quot;green&quot;, &quot;markerColor&quot;: &quot;white&quot;, &quot;prefix&quot;: &quot;glyphicon&quot;}\n            );\n            marker_bd2a11e23b8882fd712f86dadc215784.setIcon(icon_dd87a787f2a66e598251dfab46d976e1);\n        \n    \n            var marker_353c4371f5de3aafe43ea0918a84748a = L.marker(\n                [34.63283416, -120.6107455],\n                {}\n            ).addTo(marker_cluster_06441495b2f0c166c9b59bfd8ecd2723);\n        \n    \n            var icon_aca5426902891ea09dba2b831b93b0d5 = L.AwesomeMarkers.icon(\n                {&quot;extraClasses&quot;: &quot;fa-rotate-0&quot;, &quot;icon&quot;: &quot;info-sign&quot;, &quot;iconColor&quot;: &quot;red&quot;, &quot;markerColor&quot;: &quot;white&quot;, &quot;prefix&quot;: &quot;glyphicon&quot;}\n            );\n            marker_353c4371f5de3aafe43ea0918a84748a.setIcon(icon_aca5426902891ea09dba2b831b93b0d5);\n        \n    \n            var marker_be424e488dd9725366253c4ca58728f6 = L.marker(\n                [34.63283416, -120.6107455],\n                {}\n            ).addTo(marker_cluster_06441495b2f0c166c9b59bfd8ecd2723);\n        \n    \n            var icon_d5e3a4d803e3138e642a7b623e4a7f95 = L.AwesomeMarkers.icon(\n                {&quot;extraClasses&quot;: &quot;fa-rotate-0&quot;, &quot;icon&quot;: &quot;info-sign&quot;, &quot;iconColor&quot;: &quot;red&quot;, &quot;markerColor&quot;: &quot;white&quot;, &quot;prefix&quot;: &quot;glyphicon&quot;}\n            );\n            marker_be424e488dd9725366253c4ca58728f6.setIcon(icon_d5e3a4d803e3138e642a7b623e4a7f95);\n        \n    \n            var marker_66e339331def1e257b97a1ac10899365 = L.marker(\n                [34.63283416, -120.6107455],\n                {}\n            ).addTo(marker_cluster_06441495b2f0c166c9b59bfd8ecd2723);\n        \n    \n            var icon_11a3a3385bf9d0b4dc37d47a3fc8995b = L.AwesomeMarkers.icon(\n                {&quot;extraClasses&quot;: &quot;fa-rotate-0&quot;, &quot;icon&quot;: &quot;info-sign&quot;, &quot;iconColor&quot;: &quot;green&quot;, &quot;markerColor&quot;: &quot;white&quot;, &quot;prefix&quot;: &quot;glyphicon&quot;}\n            );\n            marker_66e339331def1e257b97a1ac10899365.setIcon(icon_11a3a3385bf9d0b4dc37d47a3fc8995b);\n        \n    \n            var marker_12f12f44115aa4a9ac1057a9ee6f0ab3 = L.marker(\n                [34.63283416, -120.6107455],\n                {}\n            ).addTo(marker_cluster_06441495b2f0c166c9b59bfd8ecd2723);\n        \n    \n            var icon_794ef436edac113a7fc9615afdfdc048 = L.AwesomeMarkers.icon(\n                {&quot;extraClasses&quot;: &quot;fa-rotate-0&quot;, &quot;icon&quot;: &quot;info-sign&quot;, &quot;iconColor&quot;: &quot;green&quot;, &quot;markerColor&quot;: &quot;white&quot;, &quot;prefix&quot;: &quot;glyphicon&quot;}\n            );\n            marker_12f12f44115aa4a9ac1057a9ee6f0ab3.setIcon(icon_794ef436edac113a7fc9615afdfdc048);\n        \n    \n            var marker_d6796103fbb97b1875d584ad84f6d911 = L.marker(\n                [34.63283416, -120.6107455],\n                {}\n            ).addTo(marker_cluster_06441495b2f0c166c9b59bfd8ecd2723);\n        \n    \n            var icon_3e5c6b748783641f0c5bc0a6060e7119 = L.AwesomeMarkers.icon(\n                {&quot;extraClasses&quot;: &quot;fa-rotate-0&quot;, &quot;icon&quot;: &quot;info-sign&quot;, &quot;iconColor&quot;: &quot;green&quot;, &quot;markerColor&quot;: &quot;white&quot;, &quot;prefix&quot;: &quot;glyphicon&quot;}\n            );\n            marker_d6796103fbb97b1875d584ad84f6d911.setIcon(icon_3e5c6b748783641f0c5bc0a6060e7119);\n        \n    \n            var marker_2ee5e6f1750ec003224a43a307fe56ab = L.marker(\n                [34.63283416, -120.6107455],\n                {}\n            ).addTo(marker_cluster_06441495b2f0c166c9b59bfd8ecd2723);\n        \n    \n            var icon_be6cab3c89935e72e1b721318b04b671 = L.AwesomeMarkers.icon(\n                {&quot;extraClasses&quot;: &quot;fa-rotate-0&quot;, &quot;icon&quot;: &quot;info-sign&quot;, &quot;iconColor&quot;: &quot;green&quot;, &quot;markerColor&quot;: &quot;white&quot;, &quot;prefix&quot;: &quot;glyphicon&quot;}\n            );\n            marker_2ee5e6f1750ec003224a43a307fe56ab.setIcon(icon_be6cab3c89935e72e1b721318b04b671);\n        \n    \n            var marker_c6c7968affee0815c25e60238a98119d = L.marker(\n                [34.63283416, -120.6107455],\n                {}\n            ).addTo(marker_cluster_06441495b2f0c166c9b59bfd8ecd2723);\n        \n    \n            var icon_b960a23be16d0f4708fe02cac746b0f6 = L.AwesomeMarkers.icon(\n                {&quot;extraClasses&quot;: &quot;fa-rotate-0&quot;, &quot;icon&quot;: &quot;info-sign&quot;, &quot;iconColor&quot;: &quot;red&quot;, &quot;markerColor&quot;: &quot;white&quot;, &quot;prefix&quot;: &quot;glyphicon&quot;}\n            );\n            marker_c6c7968affee0815c25e60238a98119d.setIcon(icon_b960a23be16d0f4708fe02cac746b0f6);\n        \n    \n            var marker_8136913369fbbab7b0fd49bf47270201 = L.marker(\n                [34.63283416, -120.6107455],\n                {}\n            ).addTo(marker_cluster_06441495b2f0c166c9b59bfd8ecd2723);\n        \n    \n            var icon_4cfddd59c2f612638ab1a17a4d6b2055 = L.AwesomeMarkers.icon(\n                {&quot;extraClasses&quot;: &quot;fa-rotate-0&quot;, &quot;icon&quot;: &quot;info-sign&quot;, &quot;iconColor&quot;: &quot;red&quot;, &quot;markerColor&quot;: &quot;white&quot;, &quot;prefix&quot;: &quot;glyphicon&quot;}\n            );\n            marker_8136913369fbbab7b0fd49bf47270201.setIcon(icon_4cfddd59c2f612638ab1a17a4d6b2055);\n        \n    \n            var marker_a1d4496d34c9355c3dafc777953ac84e = L.marker(\n                [34.63283416, -120.6107455],\n                {}\n            ).addTo(marker_cluster_06441495b2f0c166c9b59bfd8ecd2723);\n        \n    \n            var icon_ef7b623244afe8602dcdf1130a17b598 = L.AwesomeMarkers.icon(\n                {&quot;extraClasses&quot;: &quot;fa-rotate-0&quot;, &quot;icon&quot;: &quot;info-sign&quot;, &quot;iconColor&quot;: &quot;red&quot;, &quot;markerColor&quot;: &quot;white&quot;, &quot;prefix&quot;: &quot;glyphicon&quot;}\n            );\n            marker_a1d4496d34c9355c3dafc777953ac84e.setIcon(icon_ef7b623244afe8602dcdf1130a17b598);\n        \n    \n            var marker_1b7eb75cb99aa603add8a5a5694610cc = L.marker(\n                [34.63283416, -120.6107455],\n                {}\n            ).addTo(marker_cluster_06441495b2f0c166c9b59bfd8ecd2723);\n        \n    \n            var icon_c236f433eb9f621b3b200d8b697fbe97 = L.AwesomeMarkers.icon(\n                {&quot;extraClasses&quot;: &quot;fa-rotate-0&quot;, &quot;icon&quot;: &quot;info-sign&quot;, &quot;iconColor&quot;: &quot;red&quot;, &quot;markerColor&quot;: &quot;white&quot;, &quot;prefix&quot;: &quot;glyphicon&quot;}\n            );\n            marker_1b7eb75cb99aa603add8a5a5694610cc.setIcon(icon_c236f433eb9f621b3b200d8b697fbe97);\n        \n    \n            var marker_0453bf2baccf3bf41ce47e147d568e3c = L.marker(\n                [28.57325457, -80.64689529],\n                {}\n            ).addTo(marker_cluster_06441495b2f0c166c9b59bfd8ecd2723);\n        \n    \n            var icon_85b05f83ec189b9ad5360ffb51ba9646 = L.AwesomeMarkers.icon(\n                {&quot;extraClasses&quot;: &quot;fa-rotate-0&quot;, &quot;icon&quot;: &quot;info-sign&quot;, &quot;iconColor&quot;: &quot;green&quot;, &quot;markerColor&quot;: &quot;white&quot;, &quot;prefix&quot;: &quot;glyphicon&quot;}\n            );\n            marker_0453bf2baccf3bf41ce47e147d568e3c.setIcon(icon_85b05f83ec189b9ad5360ffb51ba9646);\n        \n    \n            var marker_757b447ada0f5947050cff46dd32a6db = L.marker(\n                [28.57325457, -80.64689529],\n                {}\n            ).addTo(marker_cluster_06441495b2f0c166c9b59bfd8ecd2723);\n        \n    \n            var icon_72c829fb81bb4a459e2477bdb15baace = L.AwesomeMarkers.icon(\n                {&quot;extraClasses&quot;: &quot;fa-rotate-0&quot;, &quot;icon&quot;: &quot;info-sign&quot;, &quot;iconColor&quot;: &quot;red&quot;, &quot;markerColor&quot;: &quot;white&quot;, &quot;prefix&quot;: &quot;glyphicon&quot;}\n            );\n            marker_757b447ada0f5947050cff46dd32a6db.setIcon(icon_72c829fb81bb4a459e2477bdb15baace);\n        \n    \n            var marker_2d5c671ca2b2c6d272ff962855463f48 = L.marker(\n                [28.57325457, -80.64689529],\n                {}\n            ).addTo(marker_cluster_06441495b2f0c166c9b59bfd8ecd2723);\n        \n    \n            var icon_0a65a053ab62fda39a84f9a9413714c1 = L.AwesomeMarkers.icon(\n                {&quot;extraClasses&quot;: &quot;fa-rotate-0&quot;, &quot;icon&quot;: &quot;info-sign&quot;, &quot;iconColor&quot;: &quot;green&quot;, &quot;markerColor&quot;: &quot;white&quot;, &quot;prefix&quot;: &quot;glyphicon&quot;}\n            );\n            marker_2d5c671ca2b2c6d272ff962855463f48.setIcon(icon_0a65a053ab62fda39a84f9a9413714c1);\n        \n    \n            var marker_603eb1d914c69031f4c5140e26f58526 = L.marker(\n                [28.57325457, -80.64689529],\n                {}\n            ).addTo(marker_cluster_06441495b2f0c166c9b59bfd8ecd2723);\n        \n    \n            var icon_accc92e84255d716b38cb4392b9fabbd = L.AwesomeMarkers.icon(\n                {&quot;extraClasses&quot;: &quot;fa-rotate-0&quot;, &quot;icon&quot;: &quot;info-sign&quot;, &quot;iconColor&quot;: &quot;green&quot;, &quot;markerColor&quot;: &quot;white&quot;, &quot;prefix&quot;: &quot;glyphicon&quot;}\n            );\n            marker_603eb1d914c69031f4c5140e26f58526.setIcon(icon_accc92e84255d716b38cb4392b9fabbd);\n        \n    \n            var marker_63ced1b8a791f69f1bf2eef0a110596a = L.marker(\n                [28.57325457, -80.64689529],\n                {}\n            ).addTo(marker_cluster_06441495b2f0c166c9b59bfd8ecd2723);\n        \n    \n            var icon_e8bc920153a27b56e5b1b5161763ad7e = L.AwesomeMarkers.icon(\n                {&quot;extraClasses&quot;: &quot;fa-rotate-0&quot;, &quot;icon&quot;: &quot;info-sign&quot;, &quot;iconColor&quot;: &quot;red&quot;, &quot;markerColor&quot;: &quot;white&quot;, &quot;prefix&quot;: &quot;glyphicon&quot;}\n            );\n            marker_63ced1b8a791f69f1bf2eef0a110596a.setIcon(icon_e8bc920153a27b56e5b1b5161763ad7e);\n        \n    \n            var marker_0b137fee40b6abe1277c09547af13052 = L.marker(\n                [28.57325457, -80.64689529],\n                {}\n            ).addTo(marker_cluster_06441495b2f0c166c9b59bfd8ecd2723);\n        \n    \n            var icon_58243ae8ed732a26e37cc40067fbb753 = L.AwesomeMarkers.icon(\n                {&quot;extraClasses&quot;: &quot;fa-rotate-0&quot;, &quot;icon&quot;: &quot;info-sign&quot;, &quot;iconColor&quot;: &quot;green&quot;, &quot;markerColor&quot;: &quot;white&quot;, &quot;prefix&quot;: &quot;glyphicon&quot;}\n            );\n            marker_0b137fee40b6abe1277c09547af13052.setIcon(icon_58243ae8ed732a26e37cc40067fbb753);\n        \n    \n            var marker_70493514f7eff53296b094811a94da1d = L.marker(\n                [28.57325457, -80.64689529],\n                {}\n            ).addTo(marker_cluster_06441495b2f0c166c9b59bfd8ecd2723);\n        \n    \n            var icon_4465c5b96ecd00efd0993dbcb3a08a96 = L.AwesomeMarkers.icon(\n                {&quot;extraClasses&quot;: &quot;fa-rotate-0&quot;, &quot;icon&quot;: &quot;info-sign&quot;, &quot;iconColor&quot;: &quot;green&quot;, &quot;markerColor&quot;: &quot;white&quot;, &quot;prefix&quot;: &quot;glyphicon&quot;}\n            );\n            marker_70493514f7eff53296b094811a94da1d.setIcon(icon_4465c5b96ecd00efd0993dbcb3a08a96);\n        \n    \n            var marker_b3413deab7c061b90237d65152ac8c55 = L.marker(\n                [28.57325457, -80.64689529],\n                {}\n            ).addTo(marker_cluster_06441495b2f0c166c9b59bfd8ecd2723);\n        \n    \n            var icon_a729ff3fb959f7f6a66618aa5f9fb883 = L.AwesomeMarkers.icon(\n                {&quot;extraClasses&quot;: &quot;fa-rotate-0&quot;, &quot;icon&quot;: &quot;info-sign&quot;, &quot;iconColor&quot;: &quot;red&quot;, &quot;markerColor&quot;: &quot;white&quot;, &quot;prefix&quot;: &quot;glyphicon&quot;}\n            );\n            marker_b3413deab7c061b90237d65152ac8c55.setIcon(icon_a729ff3fb959f7f6a66618aa5f9fb883);\n        \n    \n            var marker_43420b8ff56d302ccc8e5b2a2e21e4b2 = L.marker(\n                [28.57325457, -80.64689529],\n                {}\n            ).addTo(marker_cluster_06441495b2f0c166c9b59bfd8ecd2723);\n        \n    \n            var icon_b79324db7bc6f40042a5d2d141200ddf = L.AwesomeMarkers.icon(\n                {&quot;extraClasses&quot;: &quot;fa-rotate-0&quot;, &quot;icon&quot;: &quot;info-sign&quot;, &quot;iconColor&quot;: &quot;green&quot;, &quot;markerColor&quot;: &quot;white&quot;, &quot;prefix&quot;: &quot;glyphicon&quot;}\n            );\n            marker_43420b8ff56d302ccc8e5b2a2e21e4b2.setIcon(icon_b79324db7bc6f40042a5d2d141200ddf);\n        \n    \n            var marker_79b40e9434d564003bd0dba4b33def88 = L.marker(\n                [28.57325457, -80.64689529],\n                {}\n            ).addTo(marker_cluster_06441495b2f0c166c9b59bfd8ecd2723);\n        \n    \n            var icon_93f35253e4d5525deaa92df8b30fef98 = L.AwesomeMarkers.icon(\n                {&quot;extraClasses&quot;: &quot;fa-rotate-0&quot;, &quot;icon&quot;: &quot;info-sign&quot;, &quot;iconColor&quot;: &quot;green&quot;, &quot;markerColor&quot;: &quot;white&quot;, &quot;prefix&quot;: &quot;glyphicon&quot;}\n            );\n            marker_79b40e9434d564003bd0dba4b33def88.setIcon(icon_93f35253e4d5525deaa92df8b30fef98);\n        \n    \n            var marker_882f09abdbd359bd9a665073c3e20b3a = L.marker(\n                [28.57325457, -80.64689529],\n                {}\n            ).addTo(marker_cluster_06441495b2f0c166c9b59bfd8ecd2723);\n        \n    \n            var icon_a1cd4474786c9a981165f1665dd7a6ae = L.AwesomeMarkers.icon(\n                {&quot;extraClasses&quot;: &quot;fa-rotate-0&quot;, &quot;icon&quot;: &quot;info-sign&quot;, &quot;iconColor&quot;: &quot;green&quot;, &quot;markerColor&quot;: &quot;white&quot;, &quot;prefix&quot;: &quot;glyphicon&quot;}\n            );\n            marker_882f09abdbd359bd9a665073c3e20b3a.setIcon(icon_a1cd4474786c9a981165f1665dd7a6ae);\n        \n    \n            var marker_2640c0245dd3d89c841a2a1949665d2c = L.marker(\n                [28.57325457, -80.64689529],\n                {}\n            ).addTo(marker_cluster_06441495b2f0c166c9b59bfd8ecd2723);\n        \n    \n            var icon_3625f1ed545dfbdf3143b1514aa89f34 = L.AwesomeMarkers.icon(\n                {&quot;extraClasses&quot;: &quot;fa-rotate-0&quot;, &quot;icon&quot;: &quot;info-sign&quot;, &quot;iconColor&quot;: &quot;green&quot;, &quot;markerColor&quot;: &quot;white&quot;, &quot;prefix&quot;: &quot;glyphicon&quot;}\n            );\n            marker_2640c0245dd3d89c841a2a1949665d2c.setIcon(icon_3625f1ed545dfbdf3143b1514aa89f34);\n        \n    \n            var marker_835a9ae4e300d487fc981bf158299600 = L.marker(\n                [28.57325457, -80.64689529],\n                {}\n            ).addTo(marker_cluster_06441495b2f0c166c9b59bfd8ecd2723);\n        \n    \n            var icon_383d79ed3fb25a02a889c05fc342fac5 = L.AwesomeMarkers.icon(\n                {&quot;extraClasses&quot;: &quot;fa-rotate-0&quot;, &quot;icon&quot;: &quot;info-sign&quot;, &quot;iconColor&quot;: &quot;green&quot;, &quot;markerColor&quot;: &quot;white&quot;, &quot;prefix&quot;: &quot;glyphicon&quot;}\n            );\n            marker_835a9ae4e300d487fc981bf158299600.setIcon(icon_383d79ed3fb25a02a889c05fc342fac5);\n        \n    \n            var marker_80fb11833856b1daa88fc17e15378916 = L.marker(\n                [28.56319718, -80.57682003],\n                {}\n            ).addTo(marker_cluster_06441495b2f0c166c9b59bfd8ecd2723);\n        \n    \n            var icon_b3d6653a769584ec23c98abe4f0506f5 = L.AwesomeMarkers.icon(\n                {&quot;extraClasses&quot;: &quot;fa-rotate-0&quot;, &quot;icon&quot;: &quot;info-sign&quot;, &quot;iconColor&quot;: &quot;green&quot;, &quot;markerColor&quot;: &quot;white&quot;, &quot;prefix&quot;: &quot;glyphicon&quot;}\n            );\n            marker_80fb11833856b1daa88fc17e15378916.setIcon(icon_b3d6653a769584ec23c98abe4f0506f5);\n        \n    \n            var marker_031344375e2b2c21624ff3771c17d2b4 = L.marker(\n                [28.56319718, -80.57682003],\n                {}\n            ).addTo(marker_cluster_06441495b2f0c166c9b59bfd8ecd2723);\n        \n    \n            var icon_e6453e7721cb7ce1f15472d29e611297 = L.AwesomeMarkers.icon(\n                {&quot;extraClasses&quot;: &quot;fa-rotate-0&quot;, &quot;icon&quot;: &quot;info-sign&quot;, &quot;iconColor&quot;: &quot;green&quot;, &quot;markerColor&quot;: &quot;white&quot;, &quot;prefix&quot;: &quot;glyphicon&quot;}\n            );\n            marker_031344375e2b2c21624ff3771c17d2b4.setIcon(icon_e6453e7721cb7ce1f15472d29e611297);\n        \n    \n            var marker_33c6ae05deed3f5b4725c583876f27e2 = L.marker(\n                [28.56319718, -80.57682003],\n                {}\n            ).addTo(marker_cluster_06441495b2f0c166c9b59bfd8ecd2723);\n        \n    \n            var icon_5227cc30f36747af646178a73b5047e2 = L.AwesomeMarkers.icon(\n                {&quot;extraClasses&quot;: &quot;fa-rotate-0&quot;, &quot;icon&quot;: &quot;info-sign&quot;, &quot;iconColor&quot;: &quot;red&quot;, &quot;markerColor&quot;: &quot;white&quot;, &quot;prefix&quot;: &quot;glyphicon&quot;}\n            );\n            marker_33c6ae05deed3f5b4725c583876f27e2.setIcon(icon_5227cc30f36747af646178a73b5047e2);\n        \n    \n            var marker_617d95850d415382706e551e8c1ed682 = L.marker(\n                [28.56319718, -80.57682003],\n                {}\n            ).addTo(marker_cluster_06441495b2f0c166c9b59bfd8ecd2723);\n        \n    \n            var icon_7c97c1129787168b3a5dbc08a3d4e93c = L.AwesomeMarkers.icon(\n                {&quot;extraClasses&quot;: &quot;fa-rotate-0&quot;, &quot;icon&quot;: &quot;info-sign&quot;, &quot;iconColor&quot;: &quot;red&quot;, &quot;markerColor&quot;: &quot;white&quot;, &quot;prefix&quot;: &quot;glyphicon&quot;}\n            );\n            marker_617d95850d415382706e551e8c1ed682.setIcon(icon_7c97c1129787168b3a5dbc08a3d4e93c);\n        \n    \n            var marker_f2dd50d6f06be98139df2bc3c3fd4440 = L.marker(\n                [28.56319718, -80.57682003],\n                {}\n            ).addTo(marker_cluster_06441495b2f0c166c9b59bfd8ecd2723);\n        \n    \n            var icon_ec8bba4c08e8ab2307eaf31e382d2cab = L.AwesomeMarkers.icon(\n                {&quot;extraClasses&quot;: &quot;fa-rotate-0&quot;, &quot;icon&quot;: &quot;info-sign&quot;, &quot;iconColor&quot;: &quot;red&quot;, &quot;markerColor&quot;: &quot;white&quot;, &quot;prefix&quot;: &quot;glyphicon&quot;}\n            );\n            marker_f2dd50d6f06be98139df2bc3c3fd4440.setIcon(icon_ec8bba4c08e8ab2307eaf31e382d2cab);\n        \n    \n            var marker_8d23cfe6d6516280d418f36f717c2d0b = L.marker(\n                [28.56319718, -80.57682003],\n                {}\n            ).addTo(marker_cluster_06441495b2f0c166c9b59bfd8ecd2723);\n        \n    \n            var icon_bd4477e1be77372f452ea50f5e910f39 = L.AwesomeMarkers.icon(\n                {&quot;extraClasses&quot;: &quot;fa-rotate-0&quot;, &quot;icon&quot;: &quot;info-sign&quot;, &quot;iconColor&quot;: &quot;green&quot;, &quot;markerColor&quot;: &quot;white&quot;, &quot;prefix&quot;: &quot;glyphicon&quot;}\n            );\n            marker_8d23cfe6d6516280d418f36f717c2d0b.setIcon(icon_bd4477e1be77372f452ea50f5e910f39);\n        \n    \n            var marker_24537dabd636dcdbd77c17052a189636 = L.marker(\n                [28.56319718, -80.57682003],\n                {}\n            ).addTo(marker_cluster_06441495b2f0c166c9b59bfd8ecd2723);\n        \n    \n            var icon_c47cf19cc45175173dd93f0a8bf98b5b = L.AwesomeMarkers.icon(\n                {&quot;extraClasses&quot;: &quot;fa-rotate-0&quot;, &quot;icon&quot;: &quot;info-sign&quot;, &quot;iconColor&quot;: &quot;red&quot;, &quot;markerColor&quot;: &quot;white&quot;, &quot;prefix&quot;: &quot;glyphicon&quot;}\n            );\n            marker_24537dabd636dcdbd77c17052a189636.setIcon(icon_c47cf19cc45175173dd93f0a8bf98b5b);\n        \n    \n            var mouse_position_2ebf8ec9d60a8264c608a17836c4a419 = new L.Control.MousePosition(\n                {&quot;emptyString&quot;: &quot;NaN&quot;, &quot;lngFirst&quot;: false, &quot;numDigits&quot;: 20, &quot;position&quot;: &quot;topright&quot;, &quot;prefix&quot;: &quot;Lat:&quot;, &quot;separator&quot;: &quot; Long: &quot;}\n            );\n            mouse_position_2ebf8ec9d60a8264c608a17836c4a419.options[&quot;latFormatter&quot;] =\n                function(num) {return L.Util.formatNum(num, 5);};;\n            mouse_position_2ebf8ec9d60a8264c608a17836c4a419.options[&quot;lngFormatter&quot;] =\n                function(num) {return L.Util.formatNum(num, 5);};;\n            map_f9a8da82c837b903412b6c84e6decb30.addControl(mouse_position_2ebf8ec9d60a8264c608a17836c4a419);\n        \n&lt;/script&gt;\n&lt;/html&gt;\" style=\"position:absolute;width:100%;height:100%;left:0;top:0;border:none !important;\" allowfullscreen webkitallowfullscreen mozallowfullscreen></iframe></div></div>"
          },
          "metadata": {}
        }
      ],
      "execution_count": null,
      "metadata": {
        "noteable": {},
        "ExecuteTime": {
          "start_time": "2023-07-03T11:18:25.895272+00:00",
          "end_time": "2023-07-03T11:18:26.123848+00:00"
        }
      },
      "id": "10da1fe9"
    },
    {
      "cell_type": "markdown",
      "source": [
        "Now zoom in to a launch site and explore its proximity to see if you can easily find any railway, highway, coastline, etc. Move your mouse to these points and mark down their coordinates (shown on the top-left) in order to the distance to the launch site.\n"
      ],
      "metadata": {},
      "id": "0456fd0e"
    },
    {
      "cell_type": "markdown",
      "source": [
        "You can calculate the distance between two points on the map based on their `Lat` and `Long` values using the following method:\n"
      ],
      "metadata": {},
      "id": "33fae5f4"
    },
    {
      "cell_type": "code",
      "source": [
        "from math import sin, cos, sqrt, atan2, radians\n",
        "\n",
        "def calculate_distance(lat1, lon1, lat2, lon2):\n",
        "    # approximate radius of earth in km\n",
        "    R = 6373.0\n",
        "\n",
        "    lat1 = radians(lat1)\n",
        "    lon1 = radians(lon1)\n",
        "    lat2 = radians(lat2)\n",
        "    lon2 = radians(lon2)\n",
        "\n",
        "    dlon = lon2 - lon1\n",
        "    dlat = lat2 - lat1\n",
        "\n",
        "    a = sin(dlat / 2)**2 + cos(lat1) * cos(lat2) * sin(dlon / 2)**2\n",
        "    c = 2 * atan2(sqrt(a), sqrt(1 - a))\n",
        "\n",
        "    distance = R * c\n",
        "    return distance"
      ],
      "outputs": [],
      "execution_count": null,
      "metadata": {
        "noteable": {},
        "ExecuteTime": {
          "start_time": "2023-07-03T11:18:41.098833+00:00",
          "end_time": "2023-07-03T11:18:41.260025+00:00"
        }
      },
      "id": "b3311252"
    },
    {
      "cell_type": "markdown",
      "source": [
        "_TODO:_ Mark down a point on the closest coastline using MousePosition and calculate the distance between the coastline point and the launch site.\n"
      ],
      "metadata": {},
      "id": "3ff18013"
    },
    {
      "cell_type": "code",
      "source": [
        "# find coordinate of the closest coastline\n",
        "# e.g.,: Lat: 28.56367  Lon: -80.57163\n",
        "launch_site_lat=34.63289\n",
        "launch_site_lon=-120.61074\n",
        "coastline_lat=34.63597\n",
        "coastline_lon=-120.62508\n",
        "distance_coastline = calculate_distance(launch_site_lat, launch_site_lon, coastline_lat, coastline_lon)\n",
        "print(f\"The distance between the coastline point and the launch site is {distance_coastline} km\")"
      ],
      "outputs": [
        {
          "output_type": "stream",
          "name": "stdout",
          "text": [
            "The distance between the coastline point and the launch site is 1.3563654911984144 km\n"
          ]
        }
      ],
      "execution_count": null,
      "metadata": {
        "noteable": {},
        "ExecuteTime": {
          "start_time": "2023-07-03T11:43:07.361043+00:00",
          "end_time": "2023-07-03T11:43:07.518539+00:00"
        }
      },
      "id": "f8f26236"
    },
    {
      "cell_type": "markdown",
      "source": [
        "_TODO:_ After obtained its coordinate, create a `folium.Marker` to show the distance\n"
      ],
      "metadata": {},
      "id": "4dff95a5"
    },
    {
      "cell_type": "code",
      "source": [
        "# Create and add a folium.Marker on your selected closest coastline point on the map\n",
        "# marker = folium.Marker(\n",
        "#     location=[coastline_lat, coastline_lon],\n",
        "#     icon=folium.Icon(color=\"red\", icon=\"info-sign\"),\n",
        "#     popup=\"Coastline\",\n",
        "# )\n",
        "# Display the distance between coastline point and launch site using the icon property \n",
        "# for example\n",
        "marker = folium.Marker(\n",
        "   location=[coastline_lat, coastline_lon],\n",
        "   icon=folium.DivIcon(\n",
        "       icon_size=(100,100),\n",
        "       icon_anchor=(20,20),\n",
        "       html='<div style=\"font-size: 18; color:#d35400;\"><b>%s KM</b></div>' % \"{:10.2f}\".format(distance_coastline),\n",
        "       )\n",
        "   )\n",
        "marker.add_to(site_map)"
      ],
      "outputs": [
        {
          "output_type": "execute_result",
          "execution_count": null,
          "data": {
            "text/plain": "<folium.map.Marker at 0x7f9ff4e9d5b0>"
          },
          "metadata": {}
        }
      ],
      "execution_count": null,
      "metadata": {
        "noteable": {},
        "ExecuteTime": {
          "start_time": "2023-07-03T11:46:51.296745+00:00",
          "end_time": "2023-07-03T11:46:51.457587+00:00"
        }
      },
      "id": "5aa3bf00"
    },
    {
      "cell_type": "markdown",
      "source": [
        "_TODO:_ Draw a `PolyLine` between a launch site to the selected coastline point\n"
      ],
      "metadata": {},
      "id": "5657740d"
    },
    {
      "cell_type": "code",
      "source": [
        "# Create a `folium.PolyLine` object using the coastline coordinates and launch site coordinate\n",
        "# lines=folium.PolyLine(locations=coordinates, weight=1)\n",
        "\n",
        "lines = folium.PolyLine(locations=[[launch_site_lat, launch_site_lon], [coastline_lat, coastline_lon]], color=\"blue\")\n",
        "\n",
        "site_map.add_child(lines)"
      ],
      "outputs": [
        {
          "output_type": "execute_result",
          "execution_count": null,
          "data": {
            "text/html": "<div style=\"width:100%;\"><div style=\"position:relative;width:100%;height:0;padding-bottom:60%;\"><span style=\"color:#565656\">Make this Notebook Trusted to load map: File -> Trust Notebook</span><iframe srcdoc=\"&lt;!DOCTYPE html&gt;\n&lt;html&gt;\n&lt;head&gt;\n    \n    &lt;meta http-equiv=&quot;content-type&quot; content=&quot;text/html; charset=UTF-8&quot; /&gt;\n    \n        &lt;script&gt;\n            L_NO_TOUCH = false;\n            L_DISABLE_3D = false;\n        &lt;/script&gt;\n    \n    &lt;style&gt;html, body {width: 100%;height: 100%;margin: 0;padding: 0;}&lt;/style&gt;\n    &lt;style&gt;#map {position:absolute;top:0;bottom:0;right:0;left:0;}&lt;/style&gt;\n    &lt;script src=&quot;https://cdn.jsdelivr.net/npm/leaflet@1.9.3/dist/leaflet.js&quot;&gt;&lt;/script&gt;\n    &lt;script src=&quot;https://code.jquery.com/jquery-1.12.4.min.js&quot;&gt;&lt;/script&gt;\n    &lt;script src=&quot;https://cdn.jsdelivr.net/npm/bootstrap@5.2.2/dist/js/bootstrap.bundle.min.js&quot;&gt;&lt;/script&gt;\n    &lt;script src=&quot;https://cdnjs.cloudflare.com/ajax/libs/Leaflet.awesome-markers/2.0.2/leaflet.awesome-markers.js&quot;&gt;&lt;/script&gt;\n    &lt;link rel=&quot;stylesheet&quot; href=&quot;https://cdn.jsdelivr.net/npm/leaflet@1.9.3/dist/leaflet.css&quot;/&gt;\n    &lt;link rel=&quot;stylesheet&quot; href=&quot;https://cdn.jsdelivr.net/npm/bootstrap@5.2.2/dist/css/bootstrap.min.css&quot;/&gt;\n    &lt;link rel=&quot;stylesheet&quot; href=&quot;https://netdna.bootstrapcdn.com/bootstrap/3.0.0/css/bootstrap.min.css&quot;/&gt;\n    &lt;link rel=&quot;stylesheet&quot; href=&quot;https://cdn.jsdelivr.net/npm/@fortawesome/fontawesome-free@6.2.0/css/all.min.css&quot;/&gt;\n    &lt;link rel=&quot;stylesheet&quot; href=&quot;https://cdnjs.cloudflare.com/ajax/libs/Leaflet.awesome-markers/2.0.2/leaflet.awesome-markers.css&quot;/&gt;\n    &lt;link rel=&quot;stylesheet&quot; href=&quot;https://cdn.jsdelivr.net/gh/python-visualization/folium/folium/templates/leaflet.awesome.rotate.min.css&quot;/&gt;\n    \n            &lt;meta name=&quot;viewport&quot; content=&quot;width=device-width,\n                initial-scale=1.0, maximum-scale=1.0, user-scalable=no&quot; /&gt;\n            &lt;style&gt;\n                #map_f9a8da82c837b903412b6c84e6decb30 {\n                    position: relative;\n                    width: 100.0%;\n                    height: 100.0%;\n                    left: 0.0%;\n                    top: 0.0%;\n                }\n                .leaflet-container { font-size: 1rem; }\n            &lt;/style&gt;\n        \n    &lt;script src=&quot;https://cdnjs.cloudflare.com/ajax/libs/leaflet.markercluster/1.1.0/leaflet.markercluster.js&quot;&gt;&lt;/script&gt;\n    &lt;link rel=&quot;stylesheet&quot; href=&quot;https://cdnjs.cloudflare.com/ajax/libs/leaflet.markercluster/1.1.0/MarkerCluster.css&quot;/&gt;\n    &lt;link rel=&quot;stylesheet&quot; href=&quot;https://cdnjs.cloudflare.com/ajax/libs/leaflet.markercluster/1.1.0/MarkerCluster.Default.css&quot;/&gt;\n    &lt;script src=&quot;https://cdn.jsdelivr.net/gh/ardhi/Leaflet.MousePosition/src/L.Control.MousePosition.min.js&quot;&gt;&lt;/script&gt;\n    &lt;link rel=&quot;stylesheet&quot; href=&quot;https://cdn.jsdelivr.net/gh/ardhi/Leaflet.MousePosition/src/L.Control.MousePosition.min.css&quot;/&gt;\n&lt;/head&gt;\n&lt;body&gt;\n    \n    \n            &lt;div class=&quot;folium-map&quot; id=&quot;map_f9a8da82c837b903412b6c84e6decb30&quot; &gt;&lt;/div&gt;\n        \n&lt;/body&gt;\n&lt;script&gt;\n    \n    \n            var map_f9a8da82c837b903412b6c84e6decb30 = L.map(\n                &quot;map_f9a8da82c837b903412b6c84e6decb30&quot;,\n                {\n                    center: [29.559684888503615, -95.0830971930759],\n                    crs: L.CRS.EPSG3857,\n                    zoom: 5,\n                    zoomControl: true,\n                    preferCanvas: false,\n                }\n            );\n\n            \n\n        \n    \n            var tile_layer_6f1766957711a42940766aa4afae338a = L.tileLayer(\n                &quot;https://{s}.tile.openstreetmap.org/{z}/{x}/{y}.png&quot;,\n                {&quot;attribution&quot;: &quot;Data by \\u0026copy; \\u003ca target=\\&quot;_blank\\&quot; href=\\&quot;http://openstreetmap.org\\&quot;\\u003eOpenStreetMap\\u003c/a\\u003e, under \\u003ca target=\\&quot;_blank\\&quot; href=\\&quot;http://www.openstreetmap.org/copyright\\&quot;\\u003eODbL\\u003c/a\\u003e.&quot;, &quot;detectRetina&quot;: false, &quot;maxNativeZoom&quot;: 18, &quot;maxZoom&quot;: 18, &quot;minZoom&quot;: 0, &quot;noWrap&quot;: false, &quot;opacity&quot;: 1, &quot;subdomains&quot;: &quot;abc&quot;, &quot;tms&quot;: false}\n            ).addTo(map_f9a8da82c837b903412b6c84e6decb30);\n        \n    \n            var circle_33c3498c513c19c6f8c7a11c9f6bb4a7 = L.circle(\n                [28.56230197, -80.57735648],\n                {&quot;bubblingMouseEvents&quot;: true, &quot;color&quot;: &quot;#d35400&quot;, &quot;dashArray&quot;: null, &quot;dashOffset&quot;: null, &quot;fill&quot;: true, &quot;fillColor&quot;: &quot;#d35400&quot;, &quot;fillOpacity&quot;: 0.4, &quot;fillRule&quot;: &quot;evenodd&quot;, &quot;lineCap&quot;: &quot;round&quot;, &quot;lineJoin&quot;: &quot;round&quot;, &quot;opacity&quot;: 1.0, &quot;radius&quot;: 1000, &quot;stroke&quot;: true, &quot;weight&quot;: 3}\n            ).addTo(map_f9a8da82c837b903412b6c84e6decb30);\n        \n    \n        var popup_86514b6473e57b31d7f34ae08ce0370a = L.popup({&quot;maxWidth&quot;: 300});\n\n        \n            \n                var html_3c91ff083d79107dfcd60c06de14e2f2 = $(`&lt;div id=&quot;html_3c91ff083d79107dfcd60c06de14e2f2&quot; style=&quot;width: 100.0%; height: 100.0%;&quot;&gt;CCAFS LC-40&lt;/div&gt;`)[0];\n                popup_86514b6473e57b31d7f34ae08ce0370a.setContent(html_3c91ff083d79107dfcd60c06de14e2f2);\n            \n        \n\n        circle_33c3498c513c19c6f8c7a11c9f6bb4a7.bindPopup(popup_86514b6473e57b31d7f34ae08ce0370a)\n        ;\n\n        \n    \n    \n            var circle_416aba08c5064575a30e931c41f1ef7c = L.circle(\n                [28.56319718, -80.57682003],\n                {&quot;bubblingMouseEvents&quot;: true, &quot;color&quot;: &quot;#d35400&quot;, &quot;dashArray&quot;: null, &quot;dashOffset&quot;: null, &quot;fill&quot;: true, &quot;fillColor&quot;: &quot;#d35400&quot;, &quot;fillOpacity&quot;: 0.4, &quot;fillRule&quot;: &quot;evenodd&quot;, &quot;lineCap&quot;: &quot;round&quot;, &quot;lineJoin&quot;: &quot;round&quot;, &quot;opacity&quot;: 1.0, &quot;radius&quot;: 1000, &quot;stroke&quot;: true, &quot;weight&quot;: 3}\n            ).addTo(map_f9a8da82c837b903412b6c84e6decb30);\n        \n    \n        var popup_7319dcb91c0d99998bf7f792253e7677 = L.popup({&quot;maxWidth&quot;: 300});\n\n        \n            \n                var html_0337173dc172c0b8c9383a8c3d1de56d = $(`&lt;div id=&quot;html_0337173dc172c0b8c9383a8c3d1de56d&quot; style=&quot;width: 100.0%; height: 100.0%;&quot;&gt;CCAFS SLC-40&lt;/div&gt;`)[0];\n                popup_7319dcb91c0d99998bf7f792253e7677.setContent(html_0337173dc172c0b8c9383a8c3d1de56d);\n            \n        \n\n        circle_416aba08c5064575a30e931c41f1ef7c.bindPopup(popup_7319dcb91c0d99998bf7f792253e7677)\n        ;\n\n        \n    \n    \n            var circle_f5973ae64faa45df80a8eb05f0c2642b = L.circle(\n                [28.57325457, -80.64689529],\n                {&quot;bubblingMouseEvents&quot;: true, &quot;color&quot;: &quot;#d35400&quot;, &quot;dashArray&quot;: null, &quot;dashOffset&quot;: null, &quot;fill&quot;: true, &quot;fillColor&quot;: &quot;#d35400&quot;, &quot;fillOpacity&quot;: 0.4, &quot;fillRule&quot;: &quot;evenodd&quot;, &quot;lineCap&quot;: &quot;round&quot;, &quot;lineJoin&quot;: &quot;round&quot;, &quot;opacity&quot;: 1.0, &quot;radius&quot;: 1000, &quot;stroke&quot;: true, &quot;weight&quot;: 3}\n            ).addTo(map_f9a8da82c837b903412b6c84e6decb30);\n        \n    \n        var popup_d3ce8abe2719b30b07ea4483dbeae275 = L.popup({&quot;maxWidth&quot;: 300});\n\n        \n            \n                var html_225f0168e2e75212ebef6b6f543931a5 = $(`&lt;div id=&quot;html_225f0168e2e75212ebef6b6f543931a5&quot; style=&quot;width: 100.0%; height: 100.0%;&quot;&gt;KSC LC-39A&lt;/div&gt;`)[0];\n                popup_d3ce8abe2719b30b07ea4483dbeae275.setContent(html_225f0168e2e75212ebef6b6f543931a5);\n            \n        \n\n        circle_f5973ae64faa45df80a8eb05f0c2642b.bindPopup(popup_d3ce8abe2719b30b07ea4483dbeae275)\n        ;\n\n        \n    \n    \n            var circle_49b14ed525fcc450480a701581428501 = L.circle(\n                [34.63283416, -120.6107455],\n                {&quot;bubblingMouseEvents&quot;: true, &quot;color&quot;: &quot;#d35400&quot;, &quot;dashArray&quot;: null, &quot;dashOffset&quot;: null, &quot;fill&quot;: true, &quot;fillColor&quot;: &quot;#d35400&quot;, &quot;fillOpacity&quot;: 0.4, &quot;fillRule&quot;: &quot;evenodd&quot;, &quot;lineCap&quot;: &quot;round&quot;, &quot;lineJoin&quot;: &quot;round&quot;, &quot;opacity&quot;: 1.0, &quot;radius&quot;: 1000, &quot;stroke&quot;: true, &quot;weight&quot;: 3}\n            ).addTo(map_f9a8da82c837b903412b6c84e6decb30);\n        \n    \n        var popup_a646837238f612ef9c3d5f0ba7a541f6 = L.popup({&quot;maxWidth&quot;: 300});\n\n        \n            \n                var html_0af307e62da871f3e1ae96e3b25a1da7 = $(`&lt;div id=&quot;html_0af307e62da871f3e1ae96e3b25a1da7&quot; style=&quot;width: 100.0%; height: 100.0%;&quot;&gt;VAFB SLC-4E&lt;/div&gt;`)[0];\n                popup_a646837238f612ef9c3d5f0ba7a541f6.setContent(html_0af307e62da871f3e1ae96e3b25a1da7);\n            \n        \n\n        circle_49b14ed525fcc450480a701581428501.bindPopup(popup_a646837238f612ef9c3d5f0ba7a541f6)\n        ;\n\n        \n    \n    \n            var marker_cluster_06441495b2f0c166c9b59bfd8ecd2723 = L.markerClusterGroup(\n                {}\n            );\n            map_f9a8da82c837b903412b6c84e6decb30.addLayer(marker_cluster_06441495b2f0c166c9b59bfd8ecd2723);\n        \n    \n            var marker_69f5c45534ef2dfa3e8b79196d3a301e = L.marker(\n                [28.56230197, -80.57735648],\n                {}\n            ).addTo(marker_cluster_06441495b2f0c166c9b59bfd8ecd2723);\n        \n    \n            var icon_f4d6c8882e5835015a7c22b3723bcc83 = L.AwesomeMarkers.icon(\n                {&quot;extraClasses&quot;: &quot;fa-rotate-0&quot;, &quot;icon&quot;: &quot;info-sign&quot;, &quot;iconColor&quot;: &quot;red&quot;, &quot;markerColor&quot;: &quot;white&quot;, &quot;prefix&quot;: &quot;glyphicon&quot;}\n            );\n            marker_69f5c45534ef2dfa3e8b79196d3a301e.setIcon(icon_f4d6c8882e5835015a7c22b3723bcc83);\n        \n    \n            var marker_5942e4e90c7cb03068ffd69ed19bb92c = L.marker(\n                [28.56230197, -80.57735648],\n                {}\n            ).addTo(marker_cluster_06441495b2f0c166c9b59bfd8ecd2723);\n        \n    \n            var icon_67514e3d820cfbe4938e011fd30fadec = L.AwesomeMarkers.icon(\n                {&quot;extraClasses&quot;: &quot;fa-rotate-0&quot;, &quot;icon&quot;: &quot;info-sign&quot;, &quot;iconColor&quot;: &quot;red&quot;, &quot;markerColor&quot;: &quot;white&quot;, &quot;prefix&quot;: &quot;glyphicon&quot;}\n            );\n            marker_5942e4e90c7cb03068ffd69ed19bb92c.setIcon(icon_67514e3d820cfbe4938e011fd30fadec);\n        \n    \n            var marker_4f4356b8d5016ac30e47bff14a4a4de3 = L.marker(\n                [28.56230197, -80.57735648],\n                {}\n            ).addTo(marker_cluster_06441495b2f0c166c9b59bfd8ecd2723);\n        \n    \n            var icon_5240995d621804d994d43827f092725b = L.AwesomeMarkers.icon(\n                {&quot;extraClasses&quot;: &quot;fa-rotate-0&quot;, &quot;icon&quot;: &quot;info-sign&quot;, &quot;iconColor&quot;: &quot;red&quot;, &quot;markerColor&quot;: &quot;white&quot;, &quot;prefix&quot;: &quot;glyphicon&quot;}\n            );\n            marker_4f4356b8d5016ac30e47bff14a4a4de3.setIcon(icon_5240995d621804d994d43827f092725b);\n        \n    \n            var marker_2af8a9a1ae0f77872dc72cd1b21ffc0e = L.marker(\n                [28.56230197, -80.57735648],\n                {}\n            ).addTo(marker_cluster_06441495b2f0c166c9b59bfd8ecd2723);\n        \n    \n            var icon_27c3d96405482f2b4306ab9649bd29cb = L.AwesomeMarkers.icon(\n                {&quot;extraClasses&quot;: &quot;fa-rotate-0&quot;, &quot;icon&quot;: &quot;info-sign&quot;, &quot;iconColor&quot;: &quot;red&quot;, &quot;markerColor&quot;: &quot;white&quot;, &quot;prefix&quot;: &quot;glyphicon&quot;}\n            );\n            marker_2af8a9a1ae0f77872dc72cd1b21ffc0e.setIcon(icon_27c3d96405482f2b4306ab9649bd29cb);\n        \n    \n            var marker_22fc2debb23c28c4c5065b7135c44bd0 = L.marker(\n                [28.56230197, -80.57735648],\n                {}\n            ).addTo(marker_cluster_06441495b2f0c166c9b59bfd8ecd2723);\n        \n    \n            var icon_908ea4b6485b40e75510824f8972f639 = L.AwesomeMarkers.icon(\n                {&quot;extraClasses&quot;: &quot;fa-rotate-0&quot;, &quot;icon&quot;: &quot;info-sign&quot;, &quot;iconColor&quot;: &quot;red&quot;, &quot;markerColor&quot;: &quot;white&quot;, &quot;prefix&quot;: &quot;glyphicon&quot;}\n            );\n            marker_22fc2debb23c28c4c5065b7135c44bd0.setIcon(icon_908ea4b6485b40e75510824f8972f639);\n        \n    \n            var marker_ac666c89c540a976e2df8dea0033c02d = L.marker(\n                [28.56230197, -80.57735648],\n                {}\n            ).addTo(marker_cluster_06441495b2f0c166c9b59bfd8ecd2723);\n        \n    \n            var icon_ab0f8418c7fc230116f773d44b081b9d = L.AwesomeMarkers.icon(\n                {&quot;extraClasses&quot;: &quot;fa-rotate-0&quot;, &quot;icon&quot;: &quot;info-sign&quot;, &quot;iconColor&quot;: &quot;red&quot;, &quot;markerColor&quot;: &quot;white&quot;, &quot;prefix&quot;: &quot;glyphicon&quot;}\n            );\n            marker_ac666c89c540a976e2df8dea0033c02d.setIcon(icon_ab0f8418c7fc230116f773d44b081b9d);\n        \n    \n            var marker_e19f1e061e8dc3fe41002db71e856239 = L.marker(\n                [28.56230197, -80.57735648],\n                {}\n            ).addTo(marker_cluster_06441495b2f0c166c9b59bfd8ecd2723);\n        \n    \n            var icon_b63f54cde43b5cdfba0ff1d4796a989f = L.AwesomeMarkers.icon(\n                {&quot;extraClasses&quot;: &quot;fa-rotate-0&quot;, &quot;icon&quot;: &quot;info-sign&quot;, &quot;iconColor&quot;: &quot;red&quot;, &quot;markerColor&quot;: &quot;white&quot;, &quot;prefix&quot;: &quot;glyphicon&quot;}\n            );\n            marker_e19f1e061e8dc3fe41002db71e856239.setIcon(icon_b63f54cde43b5cdfba0ff1d4796a989f);\n        \n    \n            var marker_0775ed7d9f1a72b85d647fcbb041fa0d = L.marker(\n                [28.56230197, -80.57735648],\n                {}\n            ).addTo(marker_cluster_06441495b2f0c166c9b59bfd8ecd2723);\n        \n    \n            var icon_92c712ee401e0f2b49be720d6f7d0a90 = L.AwesomeMarkers.icon(\n                {&quot;extraClasses&quot;: &quot;fa-rotate-0&quot;, &quot;icon&quot;: &quot;info-sign&quot;, &quot;iconColor&quot;: &quot;red&quot;, &quot;markerColor&quot;: &quot;white&quot;, &quot;prefix&quot;: &quot;glyphicon&quot;}\n            );\n            marker_0775ed7d9f1a72b85d647fcbb041fa0d.setIcon(icon_92c712ee401e0f2b49be720d6f7d0a90);\n        \n    \n            var marker_5aba08fed711abf33a73f713ee49c1ed = L.marker(\n                [28.56230197, -80.57735648],\n                {}\n            ).addTo(marker_cluster_06441495b2f0c166c9b59bfd8ecd2723);\n        \n    \n            var icon_f04fd4484e7f93149f6d77fae36a660d = L.AwesomeMarkers.icon(\n                {&quot;extraClasses&quot;: &quot;fa-rotate-0&quot;, &quot;icon&quot;: &quot;info-sign&quot;, &quot;iconColor&quot;: &quot;red&quot;, &quot;markerColor&quot;: &quot;white&quot;, &quot;prefix&quot;: &quot;glyphicon&quot;}\n            );\n            marker_5aba08fed711abf33a73f713ee49c1ed.setIcon(icon_f04fd4484e7f93149f6d77fae36a660d);\n        \n    \n            var marker_950242137d24211dbbc51085fc5cef51 = L.marker(\n                [28.56230197, -80.57735648],\n                {}\n            ).addTo(marker_cluster_06441495b2f0c166c9b59bfd8ecd2723);\n        \n    \n            var icon_0031d0eb68d68761259ff3a7a19c2f7b = L.AwesomeMarkers.icon(\n                {&quot;extraClasses&quot;: &quot;fa-rotate-0&quot;, &quot;icon&quot;: &quot;info-sign&quot;, &quot;iconColor&quot;: &quot;red&quot;, &quot;markerColor&quot;: &quot;white&quot;, &quot;prefix&quot;: &quot;glyphicon&quot;}\n            );\n            marker_950242137d24211dbbc51085fc5cef51.setIcon(icon_0031d0eb68d68761259ff3a7a19c2f7b);\n        \n    \n            var marker_7b96b92677bab790eb2dc31d1ad5f878 = L.marker(\n                [28.56230197, -80.57735648],\n                {}\n            ).addTo(marker_cluster_06441495b2f0c166c9b59bfd8ecd2723);\n        \n    \n            var icon_0f1892103f8d3cc261241c550878992e = L.AwesomeMarkers.icon(\n                {&quot;extraClasses&quot;: &quot;fa-rotate-0&quot;, &quot;icon&quot;: &quot;info-sign&quot;, &quot;iconColor&quot;: &quot;red&quot;, &quot;markerColor&quot;: &quot;white&quot;, &quot;prefix&quot;: &quot;glyphicon&quot;}\n            );\n            marker_7b96b92677bab790eb2dc31d1ad5f878.setIcon(icon_0f1892103f8d3cc261241c550878992e);\n        \n    \n            var marker_067086ce99c2344918ac63598d63b04e = L.marker(\n                [28.56230197, -80.57735648],\n                {}\n            ).addTo(marker_cluster_06441495b2f0c166c9b59bfd8ecd2723);\n        \n    \n            var icon_4e7d0b8aaa90eb2389c8a8e2a2fe2abf = L.AwesomeMarkers.icon(\n                {&quot;extraClasses&quot;: &quot;fa-rotate-0&quot;, &quot;icon&quot;: &quot;info-sign&quot;, &quot;iconColor&quot;: &quot;red&quot;, &quot;markerColor&quot;: &quot;white&quot;, &quot;prefix&quot;: &quot;glyphicon&quot;}\n            );\n            marker_067086ce99c2344918ac63598d63b04e.setIcon(icon_4e7d0b8aaa90eb2389c8a8e2a2fe2abf);\n        \n    \n            var marker_4e7562f5a71ffdeeecf32bda9327fd3f = L.marker(\n                [28.56230197, -80.57735648],\n                {}\n            ).addTo(marker_cluster_06441495b2f0c166c9b59bfd8ecd2723);\n        \n    \n            var icon_40d4d1fce3f2bb37a88cd888626d419a = L.AwesomeMarkers.icon(\n                {&quot;extraClasses&quot;: &quot;fa-rotate-0&quot;, &quot;icon&quot;: &quot;info-sign&quot;, &quot;iconColor&quot;: &quot;red&quot;, &quot;markerColor&quot;: &quot;white&quot;, &quot;prefix&quot;: &quot;glyphicon&quot;}\n            );\n            marker_4e7562f5a71ffdeeecf32bda9327fd3f.setIcon(icon_40d4d1fce3f2bb37a88cd888626d419a);\n        \n    \n            var marker_1ca089876b2e79f5e943ab4f7e0345ce = L.marker(\n                [28.56230197, -80.57735648],\n                {}\n            ).addTo(marker_cluster_06441495b2f0c166c9b59bfd8ecd2723);\n        \n    \n            var icon_c38851c3a71f1f35c7bb839609c0853e = L.AwesomeMarkers.icon(\n                {&quot;extraClasses&quot;: &quot;fa-rotate-0&quot;, &quot;icon&quot;: &quot;info-sign&quot;, &quot;iconColor&quot;: &quot;red&quot;, &quot;markerColor&quot;: &quot;white&quot;, &quot;prefix&quot;: &quot;glyphicon&quot;}\n            );\n            marker_1ca089876b2e79f5e943ab4f7e0345ce.setIcon(icon_c38851c3a71f1f35c7bb839609c0853e);\n        \n    \n            var marker_f7b78853376c462b91765259fded97ee = L.marker(\n                [28.56230197, -80.57735648],\n                {}\n            ).addTo(marker_cluster_06441495b2f0c166c9b59bfd8ecd2723);\n        \n    \n            var icon_6a2c84f6fd7056a1b8dcba245ae796bf = L.AwesomeMarkers.icon(\n                {&quot;extraClasses&quot;: &quot;fa-rotate-0&quot;, &quot;icon&quot;: &quot;info-sign&quot;, &quot;iconColor&quot;: &quot;red&quot;, &quot;markerColor&quot;: &quot;white&quot;, &quot;prefix&quot;: &quot;glyphicon&quot;}\n            );\n            marker_f7b78853376c462b91765259fded97ee.setIcon(icon_6a2c84f6fd7056a1b8dcba245ae796bf);\n        \n    \n            var marker_4f850c802337a60ddfb3767da4c44f5a = L.marker(\n                [28.56230197, -80.57735648],\n                {}\n            ).addTo(marker_cluster_06441495b2f0c166c9b59bfd8ecd2723);\n        \n    \n            var icon_55aafa4abc56166ec88a0cd4031ec5ca = L.AwesomeMarkers.icon(\n                {&quot;extraClasses&quot;: &quot;fa-rotate-0&quot;, &quot;icon&quot;: &quot;info-sign&quot;, &quot;iconColor&quot;: &quot;red&quot;, &quot;markerColor&quot;: &quot;white&quot;, &quot;prefix&quot;: &quot;glyphicon&quot;}\n            );\n            marker_4f850c802337a60ddfb3767da4c44f5a.setIcon(icon_55aafa4abc56166ec88a0cd4031ec5ca);\n        \n    \n            var marker_b734e09d94a0b71b193c819dca045153 = L.marker(\n                [28.56230197, -80.57735648],\n                {}\n            ).addTo(marker_cluster_06441495b2f0c166c9b59bfd8ecd2723);\n        \n    \n            var icon_b9fc6bce44749eb024b4f6fb087ed613 = L.AwesomeMarkers.icon(\n                {&quot;extraClasses&quot;: &quot;fa-rotate-0&quot;, &quot;icon&quot;: &quot;info-sign&quot;, &quot;iconColor&quot;: &quot;red&quot;, &quot;markerColor&quot;: &quot;white&quot;, &quot;prefix&quot;: &quot;glyphicon&quot;}\n            );\n            marker_b734e09d94a0b71b193c819dca045153.setIcon(icon_b9fc6bce44749eb024b4f6fb087ed613);\n        \n    \n            var marker_4ed958c0026fe9ae9a9a4b95e1ddd843 = L.marker(\n                [28.56230197, -80.57735648],\n                {}\n            ).addTo(marker_cluster_06441495b2f0c166c9b59bfd8ecd2723);\n        \n    \n            var icon_15bcafdc8c42ffe05a861d1fd9b4d1fc = L.AwesomeMarkers.icon(\n                {&quot;extraClasses&quot;: &quot;fa-rotate-0&quot;, &quot;icon&quot;: &quot;info-sign&quot;, &quot;iconColor&quot;: &quot;green&quot;, &quot;markerColor&quot;: &quot;white&quot;, &quot;prefix&quot;: &quot;glyphicon&quot;}\n            );\n            marker_4ed958c0026fe9ae9a9a4b95e1ddd843.setIcon(icon_15bcafdc8c42ffe05a861d1fd9b4d1fc);\n        \n    \n            var marker_87acb62939ec1e2ab451f536cc861cfa = L.marker(\n                [28.56230197, -80.57735648],\n                {}\n            ).addTo(marker_cluster_06441495b2f0c166c9b59bfd8ecd2723);\n        \n    \n            var icon_1f264bc8eda0b53c9ce86462a26676d2 = L.AwesomeMarkers.icon(\n                {&quot;extraClasses&quot;: &quot;fa-rotate-0&quot;, &quot;icon&quot;: &quot;info-sign&quot;, &quot;iconColor&quot;: &quot;green&quot;, &quot;markerColor&quot;: &quot;white&quot;, &quot;prefix&quot;: &quot;glyphicon&quot;}\n            );\n            marker_87acb62939ec1e2ab451f536cc861cfa.setIcon(icon_1f264bc8eda0b53c9ce86462a26676d2);\n        \n    \n            var marker_0848e4a07faa688fb2b9eaa7729750cb = L.marker(\n                [28.56230197, -80.57735648],\n                {}\n            ).addTo(marker_cluster_06441495b2f0c166c9b59bfd8ecd2723);\n        \n    \n            var icon_8c6c1ac23faf4d1e6dac3eed3a9f0831 = L.AwesomeMarkers.icon(\n                {&quot;extraClasses&quot;: &quot;fa-rotate-0&quot;, &quot;icon&quot;: &quot;info-sign&quot;, &quot;iconColor&quot;: &quot;red&quot;, &quot;markerColor&quot;: &quot;white&quot;, &quot;prefix&quot;: &quot;glyphicon&quot;}\n            );\n            marker_0848e4a07faa688fb2b9eaa7729750cb.setIcon(icon_8c6c1ac23faf4d1e6dac3eed3a9f0831);\n        \n    \n            var marker_d6ba257b8884a4f93c6a782fd0e66d0a = L.marker(\n                [28.56230197, -80.57735648],\n                {}\n            ).addTo(marker_cluster_06441495b2f0c166c9b59bfd8ecd2723);\n        \n    \n            var icon_1ef27a1d5d80991685be11c71a461757 = L.AwesomeMarkers.icon(\n                {&quot;extraClasses&quot;: &quot;fa-rotate-0&quot;, &quot;icon&quot;: &quot;info-sign&quot;, &quot;iconColor&quot;: &quot;green&quot;, &quot;markerColor&quot;: &quot;white&quot;, &quot;prefix&quot;: &quot;glyphicon&quot;}\n            );\n            marker_d6ba257b8884a4f93c6a782fd0e66d0a.setIcon(icon_1ef27a1d5d80991685be11c71a461757);\n        \n    \n            var marker_0cd51b034c1bf1a93cd440eda9edda36 = L.marker(\n                [28.56230197, -80.57735648],\n                {}\n            ).addTo(marker_cluster_06441495b2f0c166c9b59bfd8ecd2723);\n        \n    \n            var icon_419e8936578f316fcb80b5b3d71cfab9 = L.AwesomeMarkers.icon(\n                {&quot;extraClasses&quot;: &quot;fa-rotate-0&quot;, &quot;icon&quot;: &quot;info-sign&quot;, &quot;iconColor&quot;: &quot;green&quot;, &quot;markerColor&quot;: &quot;white&quot;, &quot;prefix&quot;: &quot;glyphicon&quot;}\n            );\n            marker_0cd51b034c1bf1a93cd440eda9edda36.setIcon(icon_419e8936578f316fcb80b5b3d71cfab9);\n        \n    \n            var marker_970f4567d9c000863023722223833c43 = L.marker(\n                [28.56230197, -80.57735648],\n                {}\n            ).addTo(marker_cluster_06441495b2f0c166c9b59bfd8ecd2723);\n        \n    \n            var icon_3424c7fc821a60b68d40a8c5948390e5 = L.AwesomeMarkers.icon(\n                {&quot;extraClasses&quot;: &quot;fa-rotate-0&quot;, &quot;icon&quot;: &quot;info-sign&quot;, &quot;iconColor&quot;: &quot;green&quot;, &quot;markerColor&quot;: &quot;white&quot;, &quot;prefix&quot;: &quot;glyphicon&quot;}\n            );\n            marker_970f4567d9c000863023722223833c43.setIcon(icon_3424c7fc821a60b68d40a8c5948390e5);\n        \n    \n            var marker_ee2845df4227cc2f9ff0f12846b23687 = L.marker(\n                [28.56230197, -80.57735648],\n                {}\n            ).addTo(marker_cluster_06441495b2f0c166c9b59bfd8ecd2723);\n        \n    \n            var icon_07a89560a9502cc8e15f628934f4a642 = L.AwesomeMarkers.icon(\n                {&quot;extraClasses&quot;: &quot;fa-rotate-0&quot;, &quot;icon&quot;: &quot;info-sign&quot;, &quot;iconColor&quot;: &quot;red&quot;, &quot;markerColor&quot;: &quot;white&quot;, &quot;prefix&quot;: &quot;glyphicon&quot;}\n            );\n            marker_ee2845df4227cc2f9ff0f12846b23687.setIcon(icon_07a89560a9502cc8e15f628934f4a642);\n        \n    \n            var marker_508be03ca06a87361dacb414fd0e4114 = L.marker(\n                [28.56230197, -80.57735648],\n                {}\n            ).addTo(marker_cluster_06441495b2f0c166c9b59bfd8ecd2723);\n        \n    \n            var icon_06778875a8e032091a62061bffa32dc9 = L.AwesomeMarkers.icon(\n                {&quot;extraClasses&quot;: &quot;fa-rotate-0&quot;, &quot;icon&quot;: &quot;info-sign&quot;, &quot;iconColor&quot;: &quot;green&quot;, &quot;markerColor&quot;: &quot;white&quot;, &quot;prefix&quot;: &quot;glyphicon&quot;}\n            );\n            marker_508be03ca06a87361dacb414fd0e4114.setIcon(icon_06778875a8e032091a62061bffa32dc9);\n        \n    \n            var marker_bd2a11e23b8882fd712f86dadc215784 = L.marker(\n                [28.56230197, -80.57735648],\n                {}\n            ).addTo(marker_cluster_06441495b2f0c166c9b59bfd8ecd2723);\n        \n    \n            var icon_dd87a787f2a66e598251dfab46d976e1 = L.AwesomeMarkers.icon(\n                {&quot;extraClasses&quot;: &quot;fa-rotate-0&quot;, &quot;icon&quot;: &quot;info-sign&quot;, &quot;iconColor&quot;: &quot;green&quot;, &quot;markerColor&quot;: &quot;white&quot;, &quot;prefix&quot;: &quot;glyphicon&quot;}\n            );\n            marker_bd2a11e23b8882fd712f86dadc215784.setIcon(icon_dd87a787f2a66e598251dfab46d976e1);\n        \n    \n            var marker_353c4371f5de3aafe43ea0918a84748a = L.marker(\n                [34.63283416, -120.6107455],\n                {}\n            ).addTo(marker_cluster_06441495b2f0c166c9b59bfd8ecd2723);\n        \n    \n            var icon_aca5426902891ea09dba2b831b93b0d5 = L.AwesomeMarkers.icon(\n                {&quot;extraClasses&quot;: &quot;fa-rotate-0&quot;, &quot;icon&quot;: &quot;info-sign&quot;, &quot;iconColor&quot;: &quot;red&quot;, &quot;markerColor&quot;: &quot;white&quot;, &quot;prefix&quot;: &quot;glyphicon&quot;}\n            );\n            marker_353c4371f5de3aafe43ea0918a84748a.setIcon(icon_aca5426902891ea09dba2b831b93b0d5);\n        \n    \n            var marker_be424e488dd9725366253c4ca58728f6 = L.marker(\n                [34.63283416, -120.6107455],\n                {}\n            ).addTo(marker_cluster_06441495b2f0c166c9b59bfd8ecd2723);\n        \n    \n            var icon_d5e3a4d803e3138e642a7b623e4a7f95 = L.AwesomeMarkers.icon(\n                {&quot;extraClasses&quot;: &quot;fa-rotate-0&quot;, &quot;icon&quot;: &quot;info-sign&quot;, &quot;iconColor&quot;: &quot;red&quot;, &quot;markerColor&quot;: &quot;white&quot;, &quot;prefix&quot;: &quot;glyphicon&quot;}\n            );\n            marker_be424e488dd9725366253c4ca58728f6.setIcon(icon_d5e3a4d803e3138e642a7b623e4a7f95);\n        \n    \n            var marker_66e339331def1e257b97a1ac10899365 = L.marker(\n                [34.63283416, -120.6107455],\n                {}\n            ).addTo(marker_cluster_06441495b2f0c166c9b59bfd8ecd2723);\n        \n    \n            var icon_11a3a3385bf9d0b4dc37d47a3fc8995b = L.AwesomeMarkers.icon(\n                {&quot;extraClasses&quot;: &quot;fa-rotate-0&quot;, &quot;icon&quot;: &quot;info-sign&quot;, &quot;iconColor&quot;: &quot;green&quot;, &quot;markerColor&quot;: &quot;white&quot;, &quot;prefix&quot;: &quot;glyphicon&quot;}\n            );\n            marker_66e339331def1e257b97a1ac10899365.setIcon(icon_11a3a3385bf9d0b4dc37d47a3fc8995b);\n        \n    \n            var marker_12f12f44115aa4a9ac1057a9ee6f0ab3 = L.marker(\n                [34.63283416, -120.6107455],\n                {}\n            ).addTo(marker_cluster_06441495b2f0c166c9b59bfd8ecd2723);\n        \n    \n            var icon_794ef436edac113a7fc9615afdfdc048 = L.AwesomeMarkers.icon(\n                {&quot;extraClasses&quot;: &quot;fa-rotate-0&quot;, &quot;icon&quot;: &quot;info-sign&quot;, &quot;iconColor&quot;: &quot;green&quot;, &quot;markerColor&quot;: &quot;white&quot;, &quot;prefix&quot;: &quot;glyphicon&quot;}\n            );\n            marker_12f12f44115aa4a9ac1057a9ee6f0ab3.setIcon(icon_794ef436edac113a7fc9615afdfdc048);\n        \n    \n            var marker_d6796103fbb97b1875d584ad84f6d911 = L.marker(\n                [34.63283416, -120.6107455],\n                {}\n            ).addTo(marker_cluster_06441495b2f0c166c9b59bfd8ecd2723);\n        \n    \n            var icon_3e5c6b748783641f0c5bc0a6060e7119 = L.AwesomeMarkers.icon(\n                {&quot;extraClasses&quot;: &quot;fa-rotate-0&quot;, &quot;icon&quot;: &quot;info-sign&quot;, &quot;iconColor&quot;: &quot;green&quot;, &quot;markerColor&quot;: &quot;white&quot;, &quot;prefix&quot;: &quot;glyphicon&quot;}\n            );\n            marker_d6796103fbb97b1875d584ad84f6d911.setIcon(icon_3e5c6b748783641f0c5bc0a6060e7119);\n        \n    \n            var marker_2ee5e6f1750ec003224a43a307fe56ab = L.marker(\n                [34.63283416, -120.6107455],\n                {}\n            ).addTo(marker_cluster_06441495b2f0c166c9b59bfd8ecd2723);\n        \n    \n            var icon_be6cab3c89935e72e1b721318b04b671 = L.AwesomeMarkers.icon(\n                {&quot;extraClasses&quot;: &quot;fa-rotate-0&quot;, &quot;icon&quot;: &quot;info-sign&quot;, &quot;iconColor&quot;: &quot;green&quot;, &quot;markerColor&quot;: &quot;white&quot;, &quot;prefix&quot;: &quot;glyphicon&quot;}\n            );\n            marker_2ee5e6f1750ec003224a43a307fe56ab.setIcon(icon_be6cab3c89935e72e1b721318b04b671);\n        \n    \n            var marker_c6c7968affee0815c25e60238a98119d = L.marker(\n                [34.63283416, -120.6107455],\n                {}\n            ).addTo(marker_cluster_06441495b2f0c166c9b59bfd8ecd2723);\n        \n    \n            var icon_b960a23be16d0f4708fe02cac746b0f6 = L.AwesomeMarkers.icon(\n                {&quot;extraClasses&quot;: &quot;fa-rotate-0&quot;, &quot;icon&quot;: &quot;info-sign&quot;, &quot;iconColor&quot;: &quot;red&quot;, &quot;markerColor&quot;: &quot;white&quot;, &quot;prefix&quot;: &quot;glyphicon&quot;}\n            );\n            marker_c6c7968affee0815c25e60238a98119d.setIcon(icon_b960a23be16d0f4708fe02cac746b0f6);\n        \n    \n            var marker_8136913369fbbab7b0fd49bf47270201 = L.marker(\n                [34.63283416, -120.6107455],\n                {}\n            ).addTo(marker_cluster_06441495b2f0c166c9b59bfd8ecd2723);\n        \n    \n            var icon_4cfddd59c2f612638ab1a17a4d6b2055 = L.AwesomeMarkers.icon(\n                {&quot;extraClasses&quot;: &quot;fa-rotate-0&quot;, &quot;icon&quot;: &quot;info-sign&quot;, &quot;iconColor&quot;: &quot;red&quot;, &quot;markerColor&quot;: &quot;white&quot;, &quot;prefix&quot;: &quot;glyphicon&quot;}\n            );\n            marker_8136913369fbbab7b0fd49bf47270201.setIcon(icon_4cfddd59c2f612638ab1a17a4d6b2055);\n        \n    \n            var marker_a1d4496d34c9355c3dafc777953ac84e = L.marker(\n                [34.63283416, -120.6107455],\n                {}\n            ).addTo(marker_cluster_06441495b2f0c166c9b59bfd8ecd2723);\n        \n    \n            var icon_ef7b623244afe8602dcdf1130a17b598 = L.AwesomeMarkers.icon(\n                {&quot;extraClasses&quot;: &quot;fa-rotate-0&quot;, &quot;icon&quot;: &quot;info-sign&quot;, &quot;iconColor&quot;: &quot;red&quot;, &quot;markerColor&quot;: &quot;white&quot;, &quot;prefix&quot;: &quot;glyphicon&quot;}\n            );\n            marker_a1d4496d34c9355c3dafc777953ac84e.setIcon(icon_ef7b623244afe8602dcdf1130a17b598);\n        \n    \n            var marker_1b7eb75cb99aa603add8a5a5694610cc = L.marker(\n                [34.63283416, -120.6107455],\n                {}\n            ).addTo(marker_cluster_06441495b2f0c166c9b59bfd8ecd2723);\n        \n    \n            var icon_c236f433eb9f621b3b200d8b697fbe97 = L.AwesomeMarkers.icon(\n                {&quot;extraClasses&quot;: &quot;fa-rotate-0&quot;, &quot;icon&quot;: &quot;info-sign&quot;, &quot;iconColor&quot;: &quot;red&quot;, &quot;markerColor&quot;: &quot;white&quot;, &quot;prefix&quot;: &quot;glyphicon&quot;}\n            );\n            marker_1b7eb75cb99aa603add8a5a5694610cc.setIcon(icon_c236f433eb9f621b3b200d8b697fbe97);\n        \n    \n            var marker_0453bf2baccf3bf41ce47e147d568e3c = L.marker(\n                [28.57325457, -80.64689529],\n                {}\n            ).addTo(marker_cluster_06441495b2f0c166c9b59bfd8ecd2723);\n        \n    \n            var icon_85b05f83ec189b9ad5360ffb51ba9646 = L.AwesomeMarkers.icon(\n                {&quot;extraClasses&quot;: &quot;fa-rotate-0&quot;, &quot;icon&quot;: &quot;info-sign&quot;, &quot;iconColor&quot;: &quot;green&quot;, &quot;markerColor&quot;: &quot;white&quot;, &quot;prefix&quot;: &quot;glyphicon&quot;}\n            );\n            marker_0453bf2baccf3bf41ce47e147d568e3c.setIcon(icon_85b05f83ec189b9ad5360ffb51ba9646);\n        \n    \n            var marker_757b447ada0f5947050cff46dd32a6db = L.marker(\n                [28.57325457, -80.64689529],\n                {}\n            ).addTo(marker_cluster_06441495b2f0c166c9b59bfd8ecd2723);\n        \n    \n            var icon_72c829fb81bb4a459e2477bdb15baace = L.AwesomeMarkers.icon(\n                {&quot;extraClasses&quot;: &quot;fa-rotate-0&quot;, &quot;icon&quot;: &quot;info-sign&quot;, &quot;iconColor&quot;: &quot;red&quot;, &quot;markerColor&quot;: &quot;white&quot;, &quot;prefix&quot;: &quot;glyphicon&quot;}\n            );\n            marker_757b447ada0f5947050cff46dd32a6db.setIcon(icon_72c829fb81bb4a459e2477bdb15baace);\n        \n    \n            var marker_2d5c671ca2b2c6d272ff962855463f48 = L.marker(\n                [28.57325457, -80.64689529],\n                {}\n            ).addTo(marker_cluster_06441495b2f0c166c9b59bfd8ecd2723);\n        \n    \n            var icon_0a65a053ab62fda39a84f9a9413714c1 = L.AwesomeMarkers.icon(\n                {&quot;extraClasses&quot;: &quot;fa-rotate-0&quot;, &quot;icon&quot;: &quot;info-sign&quot;, &quot;iconColor&quot;: &quot;green&quot;, &quot;markerColor&quot;: &quot;white&quot;, &quot;prefix&quot;: &quot;glyphicon&quot;}\n            );\n            marker_2d5c671ca2b2c6d272ff962855463f48.setIcon(icon_0a65a053ab62fda39a84f9a9413714c1);\n        \n    \n            var marker_603eb1d914c69031f4c5140e26f58526 = L.marker(\n                [28.57325457, -80.64689529],\n                {}\n            ).addTo(marker_cluster_06441495b2f0c166c9b59bfd8ecd2723);\n        \n    \n            var icon_accc92e84255d716b38cb4392b9fabbd = L.AwesomeMarkers.icon(\n                {&quot;extraClasses&quot;: &quot;fa-rotate-0&quot;, &quot;icon&quot;: &quot;info-sign&quot;, &quot;iconColor&quot;: &quot;green&quot;, &quot;markerColor&quot;: &quot;white&quot;, &quot;prefix&quot;: &quot;glyphicon&quot;}\n            );\n            marker_603eb1d914c69031f4c5140e26f58526.setIcon(icon_accc92e84255d716b38cb4392b9fabbd);\n        \n    \n            var marker_63ced1b8a791f69f1bf2eef0a110596a = L.marker(\n                [28.57325457, -80.64689529],\n                {}\n            ).addTo(marker_cluster_06441495b2f0c166c9b59bfd8ecd2723);\n        \n    \n            var icon_e8bc920153a27b56e5b1b5161763ad7e = L.AwesomeMarkers.icon(\n                {&quot;extraClasses&quot;: &quot;fa-rotate-0&quot;, &quot;icon&quot;: &quot;info-sign&quot;, &quot;iconColor&quot;: &quot;red&quot;, &quot;markerColor&quot;: &quot;white&quot;, &quot;prefix&quot;: &quot;glyphicon&quot;}\n            );\n            marker_63ced1b8a791f69f1bf2eef0a110596a.setIcon(icon_e8bc920153a27b56e5b1b5161763ad7e);\n        \n    \n            var marker_0b137fee40b6abe1277c09547af13052 = L.marker(\n                [28.57325457, -80.64689529],\n                {}\n            ).addTo(marker_cluster_06441495b2f0c166c9b59bfd8ecd2723);\n        \n    \n            var icon_58243ae8ed732a26e37cc40067fbb753 = L.AwesomeMarkers.icon(\n                {&quot;extraClasses&quot;: &quot;fa-rotate-0&quot;, &quot;icon&quot;: &quot;info-sign&quot;, &quot;iconColor&quot;: &quot;green&quot;, &quot;markerColor&quot;: &quot;white&quot;, &quot;prefix&quot;: &quot;glyphicon&quot;}\n            );\n            marker_0b137fee40b6abe1277c09547af13052.setIcon(icon_58243ae8ed732a26e37cc40067fbb753);\n        \n    \n            var marker_70493514f7eff53296b094811a94da1d = L.marker(\n                [28.57325457, -80.64689529],\n                {}\n            ).addTo(marker_cluster_06441495b2f0c166c9b59bfd8ecd2723);\n        \n    \n            var icon_4465c5b96ecd00efd0993dbcb3a08a96 = L.AwesomeMarkers.icon(\n                {&quot;extraClasses&quot;: &quot;fa-rotate-0&quot;, &quot;icon&quot;: &quot;info-sign&quot;, &quot;iconColor&quot;: &quot;green&quot;, &quot;markerColor&quot;: &quot;white&quot;, &quot;prefix&quot;: &quot;glyphicon&quot;}\n            );\n            marker_70493514f7eff53296b094811a94da1d.setIcon(icon_4465c5b96ecd00efd0993dbcb3a08a96);\n        \n    \n            var marker_b3413deab7c061b90237d65152ac8c55 = L.marker(\n                [28.57325457, -80.64689529],\n                {}\n            ).addTo(marker_cluster_06441495b2f0c166c9b59bfd8ecd2723);\n        \n    \n            var icon_a729ff3fb959f7f6a66618aa5f9fb883 = L.AwesomeMarkers.icon(\n                {&quot;extraClasses&quot;: &quot;fa-rotate-0&quot;, &quot;icon&quot;: &quot;info-sign&quot;, &quot;iconColor&quot;: &quot;red&quot;, &quot;markerColor&quot;: &quot;white&quot;, &quot;prefix&quot;: &quot;glyphicon&quot;}\n            );\n            marker_b3413deab7c061b90237d65152ac8c55.setIcon(icon_a729ff3fb959f7f6a66618aa5f9fb883);\n        \n    \n            var marker_43420b8ff56d302ccc8e5b2a2e21e4b2 = L.marker(\n                [28.57325457, -80.64689529],\n                {}\n            ).addTo(marker_cluster_06441495b2f0c166c9b59bfd8ecd2723);\n        \n    \n            var icon_b79324db7bc6f40042a5d2d141200ddf = L.AwesomeMarkers.icon(\n                {&quot;extraClasses&quot;: &quot;fa-rotate-0&quot;, &quot;icon&quot;: &quot;info-sign&quot;, &quot;iconColor&quot;: &quot;green&quot;, &quot;markerColor&quot;: &quot;white&quot;, &quot;prefix&quot;: &quot;glyphicon&quot;}\n            );\n            marker_43420b8ff56d302ccc8e5b2a2e21e4b2.setIcon(icon_b79324db7bc6f40042a5d2d141200ddf);\n        \n    \n            var marker_79b40e9434d564003bd0dba4b33def88 = L.marker(\n                [28.57325457, -80.64689529],\n                {}\n            ).addTo(marker_cluster_06441495b2f0c166c9b59bfd8ecd2723);\n        \n    \n            var icon_93f35253e4d5525deaa92df8b30fef98 = L.AwesomeMarkers.icon(\n                {&quot;extraClasses&quot;: &quot;fa-rotate-0&quot;, &quot;icon&quot;: &quot;info-sign&quot;, &quot;iconColor&quot;: &quot;green&quot;, &quot;markerColor&quot;: &quot;white&quot;, &quot;prefix&quot;: &quot;glyphicon&quot;}\n            );\n            marker_79b40e9434d564003bd0dba4b33def88.setIcon(icon_93f35253e4d5525deaa92df8b30fef98);\n        \n    \n            var marker_882f09abdbd359bd9a665073c3e20b3a = L.marker(\n                [28.57325457, -80.64689529],\n                {}\n            ).addTo(marker_cluster_06441495b2f0c166c9b59bfd8ecd2723);\n        \n    \n            var icon_a1cd4474786c9a981165f1665dd7a6ae = L.AwesomeMarkers.icon(\n                {&quot;extraClasses&quot;: &quot;fa-rotate-0&quot;, &quot;icon&quot;: &quot;info-sign&quot;, &quot;iconColor&quot;: &quot;green&quot;, &quot;markerColor&quot;: &quot;white&quot;, &quot;prefix&quot;: &quot;glyphicon&quot;}\n            );\n            marker_882f09abdbd359bd9a665073c3e20b3a.setIcon(icon_a1cd4474786c9a981165f1665dd7a6ae);\n        \n    \n            var marker_2640c0245dd3d89c841a2a1949665d2c = L.marker(\n                [28.57325457, -80.64689529],\n                {}\n            ).addTo(marker_cluster_06441495b2f0c166c9b59bfd8ecd2723);\n        \n    \n            var icon_3625f1ed545dfbdf3143b1514aa89f34 = L.AwesomeMarkers.icon(\n                {&quot;extraClasses&quot;: &quot;fa-rotate-0&quot;, &quot;icon&quot;: &quot;info-sign&quot;, &quot;iconColor&quot;: &quot;green&quot;, &quot;markerColor&quot;: &quot;white&quot;, &quot;prefix&quot;: &quot;glyphicon&quot;}\n            );\n            marker_2640c0245dd3d89c841a2a1949665d2c.setIcon(icon_3625f1ed545dfbdf3143b1514aa89f34);\n        \n    \n            var marker_835a9ae4e300d487fc981bf158299600 = L.marker(\n                [28.57325457, -80.64689529],\n                {}\n            ).addTo(marker_cluster_06441495b2f0c166c9b59bfd8ecd2723);\n        \n    \n            var icon_383d79ed3fb25a02a889c05fc342fac5 = L.AwesomeMarkers.icon(\n                {&quot;extraClasses&quot;: &quot;fa-rotate-0&quot;, &quot;icon&quot;: &quot;info-sign&quot;, &quot;iconColor&quot;: &quot;green&quot;, &quot;markerColor&quot;: &quot;white&quot;, &quot;prefix&quot;: &quot;glyphicon&quot;}\n            );\n            marker_835a9ae4e300d487fc981bf158299600.setIcon(icon_383d79ed3fb25a02a889c05fc342fac5);\n        \n    \n            var marker_80fb11833856b1daa88fc17e15378916 = L.marker(\n                [28.56319718, -80.57682003],\n                {}\n            ).addTo(marker_cluster_06441495b2f0c166c9b59bfd8ecd2723);\n        \n    \n            var icon_b3d6653a769584ec23c98abe4f0506f5 = L.AwesomeMarkers.icon(\n                {&quot;extraClasses&quot;: &quot;fa-rotate-0&quot;, &quot;icon&quot;: &quot;info-sign&quot;, &quot;iconColor&quot;: &quot;green&quot;, &quot;markerColor&quot;: &quot;white&quot;, &quot;prefix&quot;: &quot;glyphicon&quot;}\n            );\n            marker_80fb11833856b1daa88fc17e15378916.setIcon(icon_b3d6653a769584ec23c98abe4f0506f5);\n        \n    \n            var marker_031344375e2b2c21624ff3771c17d2b4 = L.marker(\n                [28.56319718, -80.57682003],\n                {}\n            ).addTo(marker_cluster_06441495b2f0c166c9b59bfd8ecd2723);\n        \n    \n            var icon_e6453e7721cb7ce1f15472d29e611297 = L.AwesomeMarkers.icon(\n                {&quot;extraClasses&quot;: &quot;fa-rotate-0&quot;, &quot;icon&quot;: &quot;info-sign&quot;, &quot;iconColor&quot;: &quot;green&quot;, &quot;markerColor&quot;: &quot;white&quot;, &quot;prefix&quot;: &quot;glyphicon&quot;}\n            );\n            marker_031344375e2b2c21624ff3771c17d2b4.setIcon(icon_e6453e7721cb7ce1f15472d29e611297);\n        \n    \n            var marker_33c6ae05deed3f5b4725c583876f27e2 = L.marker(\n                [28.56319718, -80.57682003],\n                {}\n            ).addTo(marker_cluster_06441495b2f0c166c9b59bfd8ecd2723);\n        \n    \n            var icon_5227cc30f36747af646178a73b5047e2 = L.AwesomeMarkers.icon(\n                {&quot;extraClasses&quot;: &quot;fa-rotate-0&quot;, &quot;icon&quot;: &quot;info-sign&quot;, &quot;iconColor&quot;: &quot;red&quot;, &quot;markerColor&quot;: &quot;white&quot;, &quot;prefix&quot;: &quot;glyphicon&quot;}\n            );\n            marker_33c6ae05deed3f5b4725c583876f27e2.setIcon(icon_5227cc30f36747af646178a73b5047e2);\n        \n    \n            var marker_617d95850d415382706e551e8c1ed682 = L.marker(\n                [28.56319718, -80.57682003],\n                {}\n            ).addTo(marker_cluster_06441495b2f0c166c9b59bfd8ecd2723);\n        \n    \n            var icon_7c97c1129787168b3a5dbc08a3d4e93c = L.AwesomeMarkers.icon(\n                {&quot;extraClasses&quot;: &quot;fa-rotate-0&quot;, &quot;icon&quot;: &quot;info-sign&quot;, &quot;iconColor&quot;: &quot;red&quot;, &quot;markerColor&quot;: &quot;white&quot;, &quot;prefix&quot;: &quot;glyphicon&quot;}\n            );\n            marker_617d95850d415382706e551e8c1ed682.setIcon(icon_7c97c1129787168b3a5dbc08a3d4e93c);\n        \n    \n            var marker_f2dd50d6f06be98139df2bc3c3fd4440 = L.marker(\n                [28.56319718, -80.57682003],\n                {}\n            ).addTo(marker_cluster_06441495b2f0c166c9b59bfd8ecd2723);\n        \n    \n            var icon_ec8bba4c08e8ab2307eaf31e382d2cab = L.AwesomeMarkers.icon(\n                {&quot;extraClasses&quot;: &quot;fa-rotate-0&quot;, &quot;icon&quot;: &quot;info-sign&quot;, &quot;iconColor&quot;: &quot;red&quot;, &quot;markerColor&quot;: &quot;white&quot;, &quot;prefix&quot;: &quot;glyphicon&quot;}\n            );\n            marker_f2dd50d6f06be98139df2bc3c3fd4440.setIcon(icon_ec8bba4c08e8ab2307eaf31e382d2cab);\n        \n    \n            var marker_8d23cfe6d6516280d418f36f717c2d0b = L.marker(\n                [28.56319718, -80.57682003],\n                {}\n            ).addTo(marker_cluster_06441495b2f0c166c9b59bfd8ecd2723);\n        \n    \n            var icon_bd4477e1be77372f452ea50f5e910f39 = L.AwesomeMarkers.icon(\n                {&quot;extraClasses&quot;: &quot;fa-rotate-0&quot;, &quot;icon&quot;: &quot;info-sign&quot;, &quot;iconColor&quot;: &quot;green&quot;, &quot;markerColor&quot;: &quot;white&quot;, &quot;prefix&quot;: &quot;glyphicon&quot;}\n            );\n            marker_8d23cfe6d6516280d418f36f717c2d0b.setIcon(icon_bd4477e1be77372f452ea50f5e910f39);\n        \n    \n            var marker_24537dabd636dcdbd77c17052a189636 = L.marker(\n                [28.56319718, -80.57682003],\n                {}\n            ).addTo(marker_cluster_06441495b2f0c166c9b59bfd8ecd2723);\n        \n    \n            var icon_c47cf19cc45175173dd93f0a8bf98b5b = L.AwesomeMarkers.icon(\n                {&quot;extraClasses&quot;: &quot;fa-rotate-0&quot;, &quot;icon&quot;: &quot;info-sign&quot;, &quot;iconColor&quot;: &quot;red&quot;, &quot;markerColor&quot;: &quot;white&quot;, &quot;prefix&quot;: &quot;glyphicon&quot;}\n            );\n            marker_24537dabd636dcdbd77c17052a189636.setIcon(icon_c47cf19cc45175173dd93f0a8bf98b5b);\n        \n    \n            var mouse_position_2ebf8ec9d60a8264c608a17836c4a419 = new L.Control.MousePosition(\n                {&quot;emptyString&quot;: &quot;NaN&quot;, &quot;lngFirst&quot;: false, &quot;numDigits&quot;: 20, &quot;position&quot;: &quot;topright&quot;, &quot;prefix&quot;: &quot;Lat:&quot;, &quot;separator&quot;: &quot; Long: &quot;}\n            );\n            mouse_position_2ebf8ec9d60a8264c608a17836c4a419.options[&quot;latFormatter&quot;] =\n                function(num) {return L.Util.formatNum(num, 5);};;\n            mouse_position_2ebf8ec9d60a8264c608a17836c4a419.options[&quot;lngFormatter&quot;] =\n                function(num) {return L.Util.formatNum(num, 5);};;\n            map_f9a8da82c837b903412b6c84e6decb30.addControl(mouse_position_2ebf8ec9d60a8264c608a17836c4a419);\n        \n    \n            var poly_line_2ed93077f0d6f5b55e1ba1c2b5bee7fb = L.polyline(\n                [[34.63289, -120.61074], [34.63597, -120.62508]],\n                {&quot;bubblingMouseEvents&quot;: true, &quot;color&quot;: &quot;blue&quot;, &quot;dashArray&quot;: null, &quot;dashOffset&quot;: null, &quot;fill&quot;: false, &quot;fillColor&quot;: &quot;blue&quot;, &quot;fillOpacity&quot;: 0.2, &quot;fillRule&quot;: &quot;evenodd&quot;, &quot;lineCap&quot;: &quot;round&quot;, &quot;lineJoin&quot;: &quot;round&quot;, &quot;noClip&quot;: false, &quot;opacity&quot;: 1.0, &quot;smoothFactor&quot;: 1.0, &quot;stroke&quot;: true, &quot;weight&quot;: 3}\n            ).addTo(map_f9a8da82c837b903412b6c84e6decb30);\n        \n    \n            var poly_line_da38aacc664455503d1abe09e998412c = L.polyline(\n                [[34.63289, -120.61074], [34.63597, -120.62508]],\n                {&quot;bubblingMouseEvents&quot;: true, &quot;color&quot;: &quot;blue&quot;, &quot;dashArray&quot;: null, &quot;dashOffset&quot;: null, &quot;fill&quot;: false, &quot;fillColor&quot;: &quot;blue&quot;, &quot;fillOpacity&quot;: 0.2, &quot;fillRule&quot;: &quot;evenodd&quot;, &quot;lineCap&quot;: &quot;round&quot;, &quot;lineJoin&quot;: &quot;round&quot;, &quot;noClip&quot;: false, &quot;opacity&quot;: 1.0, &quot;smoothFactor&quot;: 1.0, &quot;stroke&quot;: true, &quot;weight&quot;: 3}\n            ).addTo(map_f9a8da82c837b903412b6c84e6decb30);\n        \n    \n            var poly_line_eb94e914cc73ffb9c6a807afe3e0d4cf = L.polyline(\n                [[34.63289, -120.61074], [34.63597, -120.62508]],\n                {&quot;bubblingMouseEvents&quot;: true, &quot;color&quot;: &quot;blue&quot;, &quot;dashArray&quot;: null, &quot;dashOffset&quot;: null, &quot;fill&quot;: false, &quot;fillColor&quot;: &quot;blue&quot;, &quot;fillOpacity&quot;: 0.2, &quot;fillRule&quot;: &quot;evenodd&quot;, &quot;lineCap&quot;: &quot;round&quot;, &quot;lineJoin&quot;: &quot;round&quot;, &quot;noClip&quot;: false, &quot;opacity&quot;: 1.0, &quot;smoothFactor&quot;: 1.0, &quot;stroke&quot;: true, &quot;weight&quot;: 3}\n            ).addTo(map_f9a8da82c837b903412b6c84e6decb30);\n        \n    \n            var poly_line_8d6d7e2d70daec8aa3780d73e313400e = L.polyline(\n                [[34.63289, -120.61074], [34.63597, -120.62508]],\n                {&quot;bubblingMouseEvents&quot;: true, &quot;color&quot;: &quot;blue&quot;, &quot;dashArray&quot;: null, &quot;dashOffset&quot;: null, &quot;fill&quot;: false, &quot;fillColor&quot;: &quot;blue&quot;, &quot;fillOpacity&quot;: 0.2, &quot;fillRule&quot;: &quot;evenodd&quot;, &quot;lineCap&quot;: &quot;round&quot;, &quot;lineJoin&quot;: &quot;round&quot;, &quot;noClip&quot;: false, &quot;opacity&quot;: 1.0, &quot;smoothFactor&quot;: 1.0, &quot;stroke&quot;: true, &quot;weight&quot;: 3}\n            ).addTo(map_f9a8da82c837b903412b6c84e6decb30);\n        \n    \n            var poly_line_d39538fb015365b8279bd699b92fe84b = L.polyline(\n                [[34.63289, -120.61074], [34.63597, -120.62508]],\n                {&quot;bubblingMouseEvents&quot;: true, &quot;color&quot;: &quot;blue&quot;, &quot;dashArray&quot;: null, &quot;dashOffset&quot;: null, &quot;fill&quot;: false, &quot;fillColor&quot;: &quot;blue&quot;, &quot;fillOpacity&quot;: 0.2, &quot;fillRule&quot;: &quot;evenodd&quot;, &quot;lineCap&quot;: &quot;round&quot;, &quot;lineJoin&quot;: &quot;round&quot;, &quot;noClip&quot;: false, &quot;opacity&quot;: 1.0, &quot;smoothFactor&quot;: 1.0, &quot;stroke&quot;: true, &quot;weight&quot;: 3}\n            ).addTo(map_f9a8da82c837b903412b6c84e6decb30);\n        \n    \n            var poly_line_d6430753b06640ccd3e96e6dce52796f = L.polyline(\n                [[34.63289, -120.61074], [34.63597, -120.62508]],\n                {&quot;bubblingMouseEvents&quot;: true, &quot;color&quot;: &quot;blue&quot;, &quot;dashArray&quot;: null, &quot;dashOffset&quot;: null, &quot;fill&quot;: false, &quot;fillColor&quot;: &quot;blue&quot;, &quot;fillOpacity&quot;: 0.2, &quot;fillRule&quot;: &quot;evenodd&quot;, &quot;lineCap&quot;: &quot;round&quot;, &quot;lineJoin&quot;: &quot;round&quot;, &quot;noClip&quot;: false, &quot;opacity&quot;: 1.0, &quot;smoothFactor&quot;: 1.0, &quot;stroke&quot;: true, &quot;weight&quot;: 3}\n            ).addTo(map_f9a8da82c837b903412b6c84e6decb30);\n        \n    \n            var poly_line_6967a69b5dba906d9f0e03c4da93d193 = L.polyline(\n                [[34.63289, -120.61074], [34.63597, -120.62508]],\n                {&quot;bubblingMouseEvents&quot;: true, &quot;color&quot;: &quot;blue&quot;, &quot;dashArray&quot;: null, &quot;dashOffset&quot;: null, &quot;fill&quot;: false, &quot;fillColor&quot;: &quot;blue&quot;, &quot;fillOpacity&quot;: 0.2, &quot;fillRule&quot;: &quot;evenodd&quot;, &quot;lineCap&quot;: &quot;round&quot;, &quot;lineJoin&quot;: &quot;round&quot;, &quot;noClip&quot;: false, &quot;opacity&quot;: 1.0, &quot;smoothFactor&quot;: 1.0, &quot;stroke&quot;: true, &quot;weight&quot;: 3}\n            ).addTo(map_f9a8da82c837b903412b6c84e6decb30);\n        \n    \n            var marker_a1c418d7a162973229c3a1ad9e0ca8e1 = L.marker(\n                [34.63597, -120.62508],\n                {}\n            ).addTo(map_f9a8da82c837b903412b6c84e6decb30);\n        \n    \n            var div_icon_2ae56d30c918534bb389711dec5c632c = L.divIcon({&quot;className&quot;: &quot;empty&quot;, &quot;html&quot;: &quot;\\u003cdiv style=\\&quot;font-size: 18; color:#d35400;\\&quot;\\u003e\\u003cb\\u003e      1.36 KM\\u003c/b\\u003e\\u003c/div\\u003e&quot;, &quot;iconAnchor&quot;: [20, 20], &quot;iconSize&quot;: [100, 100]});\n            marker_a1c418d7a162973229c3a1ad9e0ca8e1.setIcon(div_icon_2ae56d30c918534bb389711dec5c632c);\n        \n    \n            var poly_line_6e86ca354f2117fb5dfdb04be380423b = L.polyline(\n                [[34.63289, -120.61074], [34.63597, -120.62508]],\n                {&quot;bubblingMouseEvents&quot;: true, &quot;color&quot;: &quot;blue&quot;, &quot;dashArray&quot;: null, &quot;dashOffset&quot;: null, &quot;fill&quot;: false, &quot;fillColor&quot;: &quot;blue&quot;, &quot;fillOpacity&quot;: 0.2, &quot;fillRule&quot;: &quot;evenodd&quot;, &quot;lineCap&quot;: &quot;round&quot;, &quot;lineJoin&quot;: &quot;round&quot;, &quot;noClip&quot;: false, &quot;opacity&quot;: 1.0, &quot;smoothFactor&quot;: 1.0, &quot;stroke&quot;: true, &quot;weight&quot;: 3}\n            ).addTo(map_f9a8da82c837b903412b6c84e6decb30);\n        \n&lt;/script&gt;\n&lt;/html&gt;\" style=\"position:absolute;width:100%;height:100%;left:0;top:0;border:none !important;\" allowfullscreen webkitallowfullscreen mozallowfullscreen></iframe></div></div>"
          },
          "metadata": {}
        }
      ],
      "execution_count": null,
      "metadata": {
        "noteable": {},
        "ExecuteTime": {
          "start_time": "2023-07-03T11:46:56.017590+00:00",
          "end_time": "2023-07-03T11:46:56.254359+00:00"
        }
      },
      "id": "f4e21092"
    },
    {
      "cell_type": "markdown",
      "source": [
        "Your updated map with distance line should look like the following screenshot:\n"
      ],
      "metadata": {},
      "id": "0b3cd5c1"
    },
    {
      "cell_type": "markdown",
      "source": [
        "<center>\n",
        "    <img src=\"https://cf-courses-data.s3.us.cloud-object-storage.appdomain.cloud/IBM-DS0321EN-SkillsNetwork/labs/module_3/images/launch_site_marker_distance.png\">\n",
        "</center>\n"
      ],
      "metadata": {},
      "id": "a83a773d"
    },
    {
      "cell_type": "markdown",
      "source": [
        "_TODO:_ Similarly, you can draw a line betwee a launch site to its closest city, railway, highway, etc. You need to use `MousePosition` to find the their coordinates on the map first\n"
      ],
      "metadata": {},
      "id": "2d0f3ed8"
    },
    {
      "cell_type": "markdown",
      "source": [
        "A railway map symbol may look like this:\n"
      ],
      "metadata": {},
      "id": "24b4d762"
    },
    {
      "cell_type": "markdown",
      "source": [
        "<center>\n",
        "    <img src=\"https://cf-courses-data.s3.us.cloud-object-storage.appdomain.cloud/IBM-DS0321EN-SkillsNetwork/labs/module_3/images/railway.png\">\n",
        "</center>\n"
      ],
      "metadata": {},
      "id": "c7c0b47d"
    },
    {
      "cell_type": "markdown",
      "source": [
        "A highway map symbol may look like this:\n"
      ],
      "metadata": {},
      "id": "062dac43"
    },
    {
      "cell_type": "markdown",
      "source": [
        "<center>\n",
        "    <img src=\"https://cf-courses-data.s3.us.cloud-object-storage.appdomain.cloud/IBM-DS0321EN-SkillsNetwork/labs/module_3/images/highway.png\">\n",
        "</center>\n"
      ],
      "metadata": {},
      "id": "a58279ed"
    },
    {
      "cell_type": "markdown",
      "source": [
        "A city map symbol may look like this:\n"
      ],
      "metadata": {},
      "id": "5fbf0527"
    },
    {
      "cell_type": "markdown",
      "source": [
        "<center>\n",
        "    <img src=\"https://cf-courses-data.s3.us.cloud-object-storage.appdomain.cloud/IBM-DS0321EN-SkillsNetwork/labs/module_3/images/city.png\">\n",
        "</center>\n"
      ],
      "metadata": {},
      "id": "6134fd40"
    },
    {
      "cell_type": "code",
      "source": [
        "# Create a marker with distance to a closest city, railway, highway, etc.\n",
        "# Draw a line between the marker to the launch site\n"
      ],
      "outputs": [],
      "execution_count": null,
      "metadata": {},
      "id": "bd35a263"
    },
    {
      "cell_type": "code",
      "source": [],
      "outputs": [],
      "execution_count": null,
      "metadata": {},
      "id": "4153422f"
    },
    {
      "cell_type": "code",
      "source": [],
      "outputs": [],
      "execution_count": null,
      "metadata": {},
      "id": "5a02041c"
    },
    {
      "cell_type": "markdown",
      "source": [
        "After you plot distance lines to the proximities, you can answer the following questions easily:\n",
        "- Are launch sites in close proximity to railways?\n",
        "- Are launch sites in close proximity to highways?\n",
        "- Are launch sites in close proximity to coastline?\n",
        "- Do launch sites keep certain distance away from cities?\n",
        "\n",
        "Also please try to explain your findings.\n"
      ],
      "metadata": {},
      "id": "5cd9ee60"
    },
    {
      "cell_type": "markdown",
      "source": [
        "# Next Steps:\n",
        "\n",
        "Now you have discovered many interesting insights related to the launch sites' location using folium, in a very interactive way. Next, you will need to build a dashboard using Ploty Dash on detailed launch records.\n"
      ],
      "metadata": {},
      "id": "a8a4b226"
    },
    {
      "cell_type": "markdown",
      "source": [
        "## Authors\n"
      ],
      "metadata": {},
      "id": "accb92f4"
    },
    {
      "cell_type": "markdown",
      "source": [
        "[Yan Luo](https://www.linkedin.com/in/yan-luo-96288783/?utm_medium=Exinfluencer&utm_source=Exinfluencer&utm_content=000026UJ&utm_term=10006555&utm_id=NA-SkillsNetwork-Channel-SkillsNetworkCoursesIBMDS0321ENSkillsNetwork865-2023-01-01)\n"
      ],
      "metadata": {},
      "id": "b395b811"
    },
    {
      "cell_type": "markdown",
      "source": [
        "### Other Contributors\n"
      ],
      "metadata": {},
      "id": "97ee5963"
    },
    {
      "cell_type": "markdown",
      "source": [
        "Joseph Santarcangelo\n"
      ],
      "metadata": {},
      "id": "5fdd9730"
    },
    {
      "cell_type": "markdown",
      "source": [
        "## Change Log\n"
      ],
      "metadata": {},
      "id": "722c1db2"
    },
    {
      "cell_type": "markdown",
      "source": [
        "|Date (YYYY-MM-DD)|Version|Changed By|Change Description|\n",
        "|-|-|-|-|\n",
        "|2021-05-26|1.0|Yan|Created the initial version|\n"
      ],
      "metadata": {},
      "id": "a1779f93"
    },
    {
      "cell_type": "markdown",
      "source": [
        "Copyright © 2021 IBM Corporation. All rights reserved.\n"
      ],
      "metadata": {},
      "id": "139a3281"
    }
  ],
  "metadata": {
    "kernelspec": {
      "display_name": "Python",
      "language": "python",
      "name": "conda-env-python-py"
    },
    "language_info": {
      "name": ""
    },
    "noteable": {
      "last_delta_id": "f1c88eee-31a3-401c-8e2b-0a892e078924"
    },
    "nteract": {
      "version": "noteable@2.9.0"
    }
  },
  "nbformat": 4,
  "nbformat_minor": 5
}